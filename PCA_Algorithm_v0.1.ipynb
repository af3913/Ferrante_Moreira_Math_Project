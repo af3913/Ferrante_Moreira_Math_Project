{
 "cells": [
  {
   "cell_type": "markdown",
   "metadata": {},
   "source": [
    "### Principal Component Analysis (PCA)"
   ]
  },
  {
   "cell_type": "markdown",
   "metadata": {},
   "source": [
    "Principal component analysis is a tool used for dimensionality reduction. The premise is simple to take data of higher dimensions, and reduce to a \n",
    "\n",
    "lower dimension. Often times, in higher dimsional data, it isn't possible to create visual representations of relationships between variables. Through applying PCA, \n",
    "\n",
    "it then becomes possible to reduce the dimensions of the data and display variable relationships. "
   ]
  },
  {
   "cell_type": "markdown",
   "metadata": {},
   "source": [
    "The proceding section will work through the steps of how a PCA algortithm works using a toy dataset."
   ]
  },
  {
   "cell_type": "code",
   "execution_count": 1,
   "metadata": {},
   "outputs": [],
   "source": [
    "import numpy as np\n",
    "import pandas as pd\n",
    "import matplotlib.pyplot as plt\n",
    "\n",
    "%matplotlib inline"
   ]
  },
  {
   "cell_type": "markdown",
   "metadata": {},
   "source": [
    "First, we will begin by creating a random distribution of data in a higher dimensional shape (10 variables)"
   ]
  },
  {
   "cell_type": "code",
   "execution_count": 4,
   "metadata": {},
   "outputs": [],
   "source": [
    "data = np.random.randint(1, 10, 1000).reshape(100, 10)"
   ]
  },
  {
   "cell_type": "markdown",
   "metadata": {},
   "source": [
    "The first step in PCA implementation is to find the mean of each variable and then subtract the mean from each \n",
    "\n",
    "respective row. For example, you find the mean of the first variable by taking the mean of all the values in the \n",
    "\n",
    "first column, then subtract the values in the first row (axis=0) by the mean of this first variable. By subtrcating \n",
    "\n",
    "the means from each of the dimensions, we will then be left with a dataset that has a mean of zero and is considered \n",
    "\n",
    "\"centered.\""
   ]
  },
  {
   "cell_type": "code",
   "execution_count": 7,
   "metadata": {},
   "outputs": [],
   "source": [
    "data_centered = data - np.mean(data, axis = 0)"
   ]
  },
  {
   "cell_type": "markdown",
   "metadata": {},
   "source": [
    "    Construct the covariance "
   ]
  },
  {
   "cell_type": "code",
   "execution_count": 20,
   "metadata": {},
   "outputs": [],
   "source": [
    "centered_cov = np.cov(data_centered, rowvar=False)"
   ]
  },
  {
   "cell_type": "markdown",
   "metadata": {},
   "source": [
    "Find the eigen values and eigen vectors"
   ]
  },
  {
   "cell_type": "code",
   "execution_count": 21,
   "metadata": {},
   "outputs": [],
   "source": [
    "eig_vals, eig_vects = np.linalg.eigh(centered_cov)"
   ]
  },
  {
   "cell_type": "markdown",
   "metadata": {},
   "source": [
    "Take the eigenvalues and eigenvectors and sort them in descending order"
   ]
  },
  {
   "cell_type": "code",
   "execution_count": 35,
   "metadata": {},
   "outputs": [
    {
     "data": {
      "text/plain": [
       "array([[-0.13681833,  0.29076488,  0.2203389 ,  0.08973262,  0.58801874,\n",
       "        -0.63592035,  0.13692102, -0.18891979, -0.08292673,  0.16929187],\n",
       "       [-0.30409404, -0.02068562, -0.01619849,  0.01508206, -0.64565462,\n",
       "        -0.46783494, -0.01737866, -0.37635635, -0.26158964, -0.24595606],\n",
       "       [ 0.04642914,  0.51665179, -0.37851968, -0.36393469,  0.20301298,\n",
       "         0.09657462, -0.45148731, -0.11859064, -0.21092428, -0.37716727],\n",
       "       [-0.24043737, -0.08084623,  0.21420734,  0.65102965,  0.11119173,\n",
       "         0.05737915, -0.62533824,  0.08533289,  0.05889352, -0.22017116],\n",
       "       [-0.37548571,  0.1255536 ,  0.2141905 , -0.39776926, -0.09109803,\n",
       "        -0.09001316, -0.13454833,  0.05056989,  0.77323862, -0.06472299],\n",
       "       [-0.26118512,  0.53344622,  0.08107843,  0.16953274, -0.2128658 ,\n",
       "         0.39540288, -0.01182455, -0.27278929, -0.06376146,  0.57587132],\n",
       "       [ 0.04864628,  0.44338743, -0.38022087,  0.34037862, -0.22962867,\n",
       "        -0.26899751,  0.19049799,  0.59230465,  0.16535327, -0.03272066],\n",
       "       [-0.13858752, -0.35136172, -0.68019004,  0.01720274,  0.08987144,\n",
       "        -0.19588875, -0.28537731, -0.15761585,  0.17393915,  0.45977923],\n",
       "       [-0.47927854, -0.04751114, -0.31576092,  0.2192902 ,  0.25356747,\n",
       "         0.29586194,  0.49891897, -0.23359644,  0.10891049, -0.39123132],\n",
       "       [-0.60692149, -0.13758398,  0.05141797, -0.29022243,  0.07122396,\n",
       "         0.03747799, -0.03419071,  0.54232243, -0.45311698,  0.13700006]])"
      ]
     },
     "execution_count": 35,
     "metadata": {},
     "output_type": "execute_result"
    }
   ],
   "source": [
    "index = np.argsort(eig_vals)[::-1]\n",
    "\n",
    "sorted_evals = eig_vals[index]\n",
    "\n",
    "sorted_evecs = eig_vects[:, index]"
   ]
  },
  {
   "cell_type": "markdown",
   "metadata": {},
   "source": [
    "Determine the amount of components you would like to return from the sorted eigenvalue matrix"
   ]
  },
  {
   "cell_type": "code",
   "execution_count": 38,
   "metadata": {},
   "outputs": [],
   "source": [
    "components = 3\n",
    "\n",
    "eigvect_subset = sorted_evecs[:, 0:components]"
   ]
  },
  {
   "cell_type": "markdown",
   "metadata": {},
   "source": [
    "Return the reduce form by matrix multiplying the transpose of the eigenvector subset and transpose of the normalized dataset \n",
    "\n",
    "then transpose the product"
   ]
  },
  {
   "cell_type": "code",
   "execution_count": 43,
   "metadata": {},
   "outputs": [
    {
     "data": {
      "text/plain": [
       "(100, 3)"
      ]
     },
     "execution_count": 43,
     "metadata": {},
     "output_type": "execute_result"
    }
   ],
   "source": [
    "data_pca = (eigvect_subset.T @ data_centered.T).T\n",
    "\n",
    "data_pca.shape"
   ]
  }
 ],
 "metadata": {
  "interpreter": {
   "hash": "167380c844cb8dab65f7a2242fcdd292fd16a45a4bab8a9de8ac74aeee39fadd"
  },
  "kernelspec": {
   "display_name": "Python 3.9.6 64-bit",
   "language": "python",
   "name": "python3"
  },
  "language_info": {
   "codemirror_mode": {
    "name": "ipython",
    "version": 3
   },
   "file_extension": ".py",
   "mimetype": "text/x-python",
   "name": "python",
   "nbconvert_exporter": "python",
   "pygments_lexer": "ipython3",
   "version": "3.9.6"
  },
  "orig_nbformat": 4
 },
 "nbformat": 4,
 "nbformat_minor": 2
}
