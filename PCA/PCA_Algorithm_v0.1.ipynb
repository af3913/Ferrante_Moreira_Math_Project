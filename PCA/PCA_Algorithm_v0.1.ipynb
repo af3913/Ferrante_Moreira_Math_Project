{
 "cells": [
  {
   "cell_type": "markdown",
   "metadata": {},
   "source": [
    "### Principal Component Analysis (PCA)"
   ]
  },
  {
   "cell_type": "markdown",
   "metadata": {},
   "source": [
    "Principal component analysis is a tool used for dimensionality reduction. The premise is simple to take data of higher dimensions, and reduce to a \n",
    "\n",
    "lower dimension. Often times, in higher dimsional data, it isn't possible to create visual representations of relationships between variables. Through applying PCA, \n",
    "\n",
    "it then becomes possible to reduce the dimensions of the data and display variable relationships. "
   ]
  },
  {
   "cell_type": "markdown",
   "metadata": {},
   "source": [
    "The proceding section will work through the steps of how a PCA algortithm works using a toy dataset."
   ]
  },
  {
   "cell_type": "code",
   "execution_count": 2,
   "metadata": {},
   "outputs": [],
   "source": [
    "import numpy as np\n",
    "import pandas as pd\n",
    "import matplotlib.pyplot as plt\n",
    "\n",
    "%matplotlib inline"
   ]
  },
  {
   "cell_type": "markdown",
   "metadata": {},
   "source": [
    "First, we will begin by creating a random distribution of data in a higher dimensional shape (10 variables)"
   ]
  },
  {
   "cell_type": "code",
   "execution_count": 3,
   "metadata": {},
   "outputs": [],
   "source": [
    "data = np.random.randint(1, 10, 1000).reshape(100, 10)"
   ]
  },
  {
   "cell_type": "markdown",
   "metadata": {},
   "source": [
    "The first step in PCA implementation is to find the mean of each variable and then subtract the mean from each \n",
    "\n",
    "respective row. For example, you find the mean of the first variable by taking the mean of all the values in the \n",
    "\n",
    "first column, then subtract the values in the first row (axis=0) by the mean of this first variable. By subtracting \n",
    "\n",
    "the means from each of the dimensions, we will then be left with a dataset that has a mean of zero and is considered \n",
    "\n",
    "\"centered.\""
   ]
  },
  {
   "cell_type": "code",
   "execution_count": 46,
   "metadata": {},
   "outputs": [],
   "source": [
    "data_centered = data - np.mean(data, axis = 0)"
   ]
  },
  {
   "cell_type": "markdown",
   "metadata": {},
   "source": [
    "Construct the covariance "
   ]
  },
  {
   "cell_type": "code",
   "execution_count": 48,
   "metadata": {},
   "outputs": [],
   "source": [
    "data_centered_cov = np.cov(data_centered, rowvar=False)"
   ]
  },
  {
   "cell_type": "markdown",
   "metadata": {},
   "source": [
    "Find the eigen values and eigen vectors"
   ]
  },
  {
   "cell_type": "code",
   "execution_count": 51,
   "metadata": {},
   "outputs": [],
   "source": [
    "eigen_values, eigen_vectors = np.linalg.eigh(data_centered_cov)"
   ]
  },
  {
   "cell_type": "markdown",
   "metadata": {},
   "source": [
    "Take the eigenvalues and eigenvectors and sort them in descending order"
   ]
  },
  {
   "cell_type": "code",
   "execution_count": 55,
   "metadata": {},
   "outputs": [],
   "source": [
    "index = np.argsort(eigen_values)[::-1]\n",
    "\n",
    "sorted_values = eigen_values[index]\n",
    "\n",
    "sorted_vectors = eigen_vectors[:, index]"
   ]
  },
  {
   "cell_type": "markdown",
   "metadata": {},
   "source": [
    "Determine the amount of components you would like to return from the sorted eigenvalue matrix"
   ]
  },
  {
   "cell_type": "code",
   "execution_count": 54,
   "metadata": {},
   "outputs": [],
   "source": [
    "components = 3\n",
    "\n",
    "eigvect_subset = sorted_vectors[:, 0:components]"
   ]
  },
  {
   "cell_type": "markdown",
   "metadata": {},
   "source": [
    "Return the reduce form by matrix multiplying the transpose of the eigenvector subset and transpose of the normalized dataset, \n",
    "\n",
    "then transpose the product"
   ]
  },
  {
   "cell_type": "code",
   "execution_count": 56,
   "metadata": {},
   "outputs": [
    {
     "data": {
      "text/plain": [
       "(100, 3)"
      ]
     },
     "execution_count": 56,
     "metadata": {},
     "output_type": "execute_result"
    }
   ],
   "source": [
    "data_pca = (eigvect_subset.T @ data_centered.T).T\n",
    "\n",
    "data_pca.shape"
   ]
  },
  {
   "cell_type": "code",
   "execution_count": 57,
   "metadata": {},
   "outputs": [],
   "source": [
    "def principal_component_analysis(data, components):\n",
    "    \"\"\"\n",
    "    Takes a higher dimension dataset and uses PCA to reduce \n",
    "    the data to the desired numnber of dimensions\n",
    "    \n",
    "    Parameters\n",
    "    ----------\n",
    "    data : np.array(ndim=n, size=m)\n",
    "        observations that were generated \n",
    "        by a model or data provided\n",
    "    components : int\n",
    "        number of desired components the \n",
    "        given data will be reduced to \n",
    "    \n",
    "    Returns\n",
    "    -------\n",
    "    PCA_data : np.array(ndim=n, size=components)\n",
    "        the dataset with reduced dimensions\n",
    "    \"\"\"\n",
    "    data_centered = data - np.mean(data, axis=0)\n",
    "\n",
    "    data_centered_cov = np.cov(data_centered, rowvar=False)\n",
    "\n",
    "    eigen_values, eigen_vectors = np.linalg.eigh(data_centered_cov)\n",
    "\n",
    "    index = np.argsort(eigen_values)[::-1]\n",
    "    sorted_values = eigen_values[index]\n",
    "    sorted_vectors = eigen_vectors[:, index]\n",
    "\n",
    "    vector_subset = sorted_vectors[:, 0:components]\n",
    "\n",
    "    PCA_data = (vector_subset.T @ data_centered.T).T\n",
    "\n",
    "    return PCA_data"
   ]
  },
  {
   "cell_type": "code",
   "execution_count": 58,
   "metadata": {},
   "outputs": [
    {
     "data": {
      "text/plain": [
       "(10, 3)"
      ]
     },
     "execution_count": 58,
     "metadata": {},
     "output_type": "execute_result"
    }
   ],
   "source": [
    "# test \n",
    "\n",
    "data1 = np.random.randint(1, 10, 50).reshape(10, 5)\n",
    "\n",
    "ex1 = principal_component_analysis(data1, 3)\n",
    "\n",
    "ex1.shape"
   ]
  },
  {
   "cell_type": "markdown",
   "metadata": {},
   "source": [
    "Building a function that will allow us to count the min necessary amount of components that explain 95% variance "
   ]
  },
  {
   "cell_type": "code",
   "execution_count": 143,
   "metadata": {},
   "outputs": [],
   "source": [
    "total_values = sum(eigen_values)\n",
    "\n",
    "explained_var = [(i/total_values) for i in sorted(eigen_values,\n",
    "reverse=True)]\n",
    "\n",
    "sum_explained = np.cumsum(explained_var)\n",
    "\n",
    "from bisect import bisect_left\n",
    "\n",
    "def min_components(list, desired_var):\n",
    "    \"\"\"\n",
    "    \n",
    "    \"\"\"\n",
    "    pos = bisect_left(list, desired_var)\n",
    "    if pos == 0:\n",
    "        return list[0]\n",
    "    if pos == len(list):\n",
    "        return list[-1]\n",
    "    before = list[pos - 1]\n",
    "    after = list[pos]\n",
    "    if after - desired_var < desired_var - before:\n",
    "        return after \n",
    "    else:\n",
    "        return before"
   ]
  },
  {
   "cell_type": "code",
   "execution_count": 144,
   "metadata": {},
   "outputs": [
    {
     "data": {
      "text/plain": [
       "0.9437310313837237"
      ]
     },
     "execution_count": 144,
     "metadata": {},
     "output_type": "execute_result"
    }
   ],
   "source": [
    "# works in giving me the number closest to the desired var parameter, \n",
    "# however, I want this and then the corresponding element index \n",
    "# from sum_explained\n",
    "\n",
    "min_components(sum_explained, .95)\n"
   ]
  },
  {
   "cell_type": "code",
   "execution_count": 67,
   "metadata": {},
   "outputs": [
    {
     "data": {
      "image/png": "[encoded data removed]",
      "text/plain": [
       "<Figure size 432x288 with 1 Axes>"
      ]
     },
     "metadata": {
      "needs_background": "light"
     },
     "output_type": "display_data"
    }
   ],
   "source": [
    "plt.step(range(0, len(sum_explained)), sum_explained,\n",
    "where='mid', label=\"Explained Variance\")\n",
    "plt.ylabel(\"Explained Variance\")\n",
    "plt.xlabel(\"Prinicpal Components\")\n",
    "plt.tight_layout()\n",
    "plt.show()"
   ]
  }
 ],
 "metadata": {
  "interpreter": {
   "hash": "167380c844cb8dab65f7a2242fcdd292fd16a45a4bab8a9de8ac74aeee39fadd"
  },
  "kernelspec": {
   "display_name": "Python 3.9.6 64-bit",
   "language": "python",
   "name": "python3"
  },
  "language_info": {
   "codemirror_mode": {
    "name": "ipython",
    "version": 3
   },
   "file_extension": ".py",
   "mimetype": "text/x-python",
   "name": "python",
   "nbconvert_exporter": "python",
   "pygments_lexer": "ipython3",
   "version": "3.9.6"
  },
  "orig_nbformat": 4
 },
 "nbformat": 4,
 "nbformat_minor": 2
}
