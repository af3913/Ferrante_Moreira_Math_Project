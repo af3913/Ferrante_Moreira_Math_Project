{
 "cells": [
  {
   "cell_type": "markdown",
   "metadata": {},
   "source": [
    "This notebook was prepared by: \n",
    "\n",
    "Alex Ferrante (af3913@nyu.edu)\n",
    "\n",
    "Vinicius Moreira (vgm236@nyu.edu)\n",
    "\n",
    "Graduate School of Arts and Science (GSAS) at New York University (NYU)\n",
    "\n",
    "December 2021"
   ]
  },
  {
   "cell_type": "markdown",
   "metadata": {
    "tags": []
   },
   "source": [
    "### Principal Component Analysis (PCA)"
   ]
  },
  {
   "cell_type": "code",
   "execution_count": 1,
   "metadata": {},
   "outputs": [],
   "source": [
    "#Import all packages\n",
    "from bisect import bisect_left\n",
    "from IPython.display import Image\n",
    "import numpy as np\n",
    "import pandas as pd\n",
    "import matplotlib.pyplot as plt\n",
    "import matplotlib.image as mpimg \n",
    "import matplotlib.pyplot as plt\n",
    "import numpy as np\n",
    "from sklearn.decomposition import PCA\n",
    "from ipywidgets import interact, FloatSlider\n",
    "\n",
    "import random\n",
    "random.seed(10)\n",
    "\n",
    "%matplotlib inline"
   ]
  },
  {
   "cell_type": "markdown",
   "metadata": {
    "tags": []
   },
   "source": [
    "#### 1. What is a PCA?"
   ]
  },
  {
   "cell_type": "markdown",
   "metadata": {},
   "source": [
    "Principal component analysis is an unsupervised algorithm, based on feature correlation, used for dimensionality reduction. The premise is simple to take data of higher dimensions, and reduce to a lower dimension. \n",
    "\n",
    "Often times, in higher dimensional data, it isn't possible to create visual representations of relationships between variables. Through applying PCA, it then becomes possible to reduce the dimensions of the data and display variable relationships. This tool also allows easier visualization and noise filtering, among other applications.\n",
    "\n",
    "In other words, it allows us to drop the \"least important\" variables and retain the most important parts. In addition, each new variable (the components) will be orthogonal/independent from each other, allowing them to ensure one of the main assumptions of a linear regression."
   ]
  },
  {
   "cell_type": "markdown",
   "metadata": {},
   "source": [
    "The PCA must be used when three conditions apply:\n",
    "\n",
    "- Reduce the number of variables\n",
    "- Ensure that each variable is independent of one another\n",
    "- Assume that the interpretation of the independent variables is less important"
   ]
  },
  {
   "cell_type": "markdown",
   "metadata": {},
   "source": [
    "#### 2. How does a PCA work?"
   ]
  },
  {
   "cell_type": "markdown",
   "metadata": {},
   "source": [
    "a. Calculate a matrix that summarizes how the variables are related one another (the covariance matrix).\n",
    "\n",
    "b. Then separate it between direction (eigenvectors) and magnitude (eigenvalues)\n",
    "\n",
    "c. By projecting the data into a smaller space, we reduce dimension, but keep the original variables in our model"
   ]
  },
  {
   "cell_type": "markdown",
   "metadata": {},
   "source": [
    "Mathematically, the first principal component is the direction in space along which projections have the largest variance. The second principal component is the direction which maximizes variance among all directions orthogonal to the first. The kth component is the variance-maximizing direction orthogonal to the previous k-1 components.\n",
    "\n",
    "Once we have the principal components, we need do determine how many features to keep versus how many to drop. The most common methods are:\n",
    "\n",
    "- Arbitrarily select how many dimensions to keep.\n",
    "- Calculate the proportion of variance explained. One might also choose the proportion of variance explained by each component."
   ]
  },
  {
   "cell_type": "markdown",
   "metadata": {},
   "source": [
    "#### 3. Visual representation: Regression vs. PCA"
   ]
  },
  {
   "cell_type": "markdown",
   "metadata": {},
   "source": [
    "A regression is a straight line that best fits the data, and a PCA is a orthogonal transformation to form the principal components (or linear combinations of the variables\n",
    "\n",
    "The image below illustrates the difference:"
   ]
  },
  {
   "cell_type": "code",
   "execution_count": 2,
   "metadata": {},
   "outputs": [
    {
     "data": {
      "image/jpeg": "[encoded data removed]",
      "text/plain": [
       "<IPython.core.display.Image object>"
      ]
     },
     "execution_count": 2,
     "metadata": {
      "image/jpeg": {
       "height": 400,
       "width": 400
      }
     },
     "output_type": "execute_result"
    }
   ],
   "source": [
    "Image(filename=\"image_reg_pca.jpg\", width=400, height=400)"
   ]
  },
  {
   "cell_type": "markdown",
   "metadata": {},
   "source": [
    "#### 4. Theoretical example, step by step"
   ]
  },
  {
   "cell_type": "markdown",
   "metadata": {},
   "source": [
    "The next section will work through the steps of how a PCA algorithm works using a toy dataset."
   ]
  },
  {
   "cell_type": "markdown",
   "metadata": {},
   "source": [
    "First, we will begin by creating a random distribution of data in a higher dimensional shape (we arbitrarily, for the sake of example, choose 10 variables)."
   ]
  },
  {
   "cell_type": "code",
   "execution_count": 3,
   "metadata": {},
   "outputs": [
    {
     "data": {
      "text/html": [
       "<div>\n",
       "<style scoped>\n",
       "    .dataframe tbody tr th:only-of-type {\n",
       "        vertical-align: middle;\n",
       "    }\n",
       "\n",
       "    .dataframe tbody tr th {\n",
       "        vertical-align: top;\n",
       "    }\n",
       "\n",
       "    .dataframe thead th {\n",
       "        text-align: right;\n",
       "    }\n",
       "</style>\n",
       "<table border=\"1\" class=\"dataframe\">\n",
       "  <thead>\n",
       "    <tr style=\"text-align: right;\">\n",
       "      <th></th>\n",
       "      <th>ID1</th>\n",
       "      <th>ID2</th>\n",
       "      <th>ID3</th>\n",
       "      <th>ID4</th>\n",
       "      <th>ID5</th>\n",
       "      <th>ID6</th>\n",
       "      <th>ID7</th>\n",
       "      <th>ID8</th>\n",
       "      <th>ID9</th>\n",
       "      <th>ID10</th>\n",
       "    </tr>\n",
       "  </thead>\n",
       "  <tbody>\n",
       "    <tr>\n",
       "      <th>0</th>\n",
       "      <td>6</td>\n",
       "      <td>6</td>\n",
       "      <td>8</td>\n",
       "      <td>1</td>\n",
       "      <td>8</td>\n",
       "      <td>8</td>\n",
       "      <td>1</td>\n",
       "      <td>8</td>\n",
       "      <td>2</td>\n",
       "      <td>1</td>\n",
       "    </tr>\n",
       "    <tr>\n",
       "      <th>1</th>\n",
       "      <td>9</td>\n",
       "      <td>9</td>\n",
       "      <td>9</td>\n",
       "      <td>5</td>\n",
       "      <td>9</td>\n",
       "      <td>1</td>\n",
       "      <td>7</td>\n",
       "      <td>6</td>\n",
       "      <td>6</td>\n",
       "      <td>1</td>\n",
       "    </tr>\n",
       "    <tr>\n",
       "      <th>2</th>\n",
       "      <td>7</td>\n",
       "      <td>1</td>\n",
       "      <td>9</td>\n",
       "      <td>5</td>\n",
       "      <td>3</td>\n",
       "      <td>2</td>\n",
       "      <td>1</td>\n",
       "      <td>9</td>\n",
       "      <td>4</td>\n",
       "      <td>5</td>\n",
       "    </tr>\n",
       "    <tr>\n",
       "      <th>3</th>\n",
       "      <td>7</td>\n",
       "      <td>1</td>\n",
       "      <td>9</td>\n",
       "      <td>7</td>\n",
       "      <td>8</td>\n",
       "      <td>6</td>\n",
       "      <td>4</td>\n",
       "      <td>4</td>\n",
       "      <td>9</td>\n",
       "      <td>7</td>\n",
       "    </tr>\n",
       "    <tr>\n",
       "      <th>4</th>\n",
       "      <td>8</td>\n",
       "      <td>2</td>\n",
       "      <td>2</td>\n",
       "      <td>3</td>\n",
       "      <td>5</td>\n",
       "      <td>2</td>\n",
       "      <td>4</td>\n",
       "      <td>9</td>\n",
       "      <td>8</td>\n",
       "      <td>8</td>\n",
       "    </tr>\n",
       "  </tbody>\n",
       "</table>\n",
       "</div>"
      ],
      "text/plain": [
       "   ID1  ID2  ID3  ID4  ID5  ID6  ID7  ID8  ID9  ID10\n",
       "0    6    6    8    1    8    8    1    8    2     1\n",
       "1    9    9    9    5    9    1    7    6    6     1\n",
       "2    7    1    9    5    3    2    1    9    4     5\n",
       "3    7    1    9    7    8    6    4    4    9     7\n",
       "4    8    2    2    3    5    2    4    9    8     8"
      ]
     },
     "execution_count": 3,
     "metadata": {},
     "output_type": "execute_result"
    }
   ],
   "source": [
    "#We will use this data as numpy array (from 1 to 10)\n",
    "data = np.random.randint(1, 10, 1000).reshape(100, 10)\n",
    "\n",
    "#To make it easier to visualize, let's put into a dataframe\n",
    "data_frame = pd.DataFrame(data, columns = ['ID1','ID2','ID3','ID4','ID5','ID6','ID7','ID8','ID9','ID10'])\n",
    "data_frame.head()"
   ]
  },
  {
   "cell_type": "markdown",
   "metadata": {},
   "source": [
    "The first step in PCA implementation is to find the mean of each variable and then subtract the mean from each respective row. \n",
    "\n",
    "For example, you find the mean of the first variable by taking the mean of all the values in the first column, then subtract the values in the first row (axis=0) by the mean of this \n",
    "first variable. \n",
    "\n",
    "By subtracting the means from each of the dimensions, we will then be left with a dataset that has a mean of zero and is considered \"centered.\"\n",
    "\n",
    "This is the normalization of our variables."
   ]
  },
  {
   "cell_type": "code",
   "execution_count": 4,
   "metadata": {},
   "outputs": [
    {
     "data": {
      "text/html": [
       "<div>\n",
       "<style scoped>\n",
       "    .dataframe tbody tr th:only-of-type {\n",
       "        vertical-align: middle;\n",
       "    }\n",
       "\n",
       "    .dataframe tbody tr th {\n",
       "        vertical-align: top;\n",
       "    }\n",
       "\n",
       "    .dataframe thead th {\n",
       "        text-align: right;\n",
       "    }\n",
       "</style>\n",
       "<table border=\"1\" class=\"dataframe\">\n",
       "  <thead>\n",
       "    <tr style=\"text-align: right;\">\n",
       "      <th></th>\n",
       "      <th>ID1</th>\n",
       "      <th>ID2</th>\n",
       "      <th>ID3</th>\n",
       "      <th>ID4</th>\n",
       "      <th>ID5</th>\n",
       "      <th>ID6</th>\n",
       "      <th>ID7</th>\n",
       "      <th>ID8</th>\n",
       "      <th>ID9</th>\n",
       "      <th>ID10</th>\n",
       "    </tr>\n",
       "  </thead>\n",
       "  <tbody>\n",
       "    <tr>\n",
       "      <th>0</th>\n",
       "      <td>0.49</td>\n",
       "      <td>1.35</td>\n",
       "      <td>3.1</td>\n",
       "      <td>-4.05</td>\n",
       "      <td>2.84</td>\n",
       "      <td>2.93</td>\n",
       "      <td>-3.78</td>\n",
       "      <td>2.95</td>\n",
       "      <td>-3.16</td>\n",
       "      <td>-3.79</td>\n",
       "    </tr>\n",
       "    <tr>\n",
       "      <th>1</th>\n",
       "      <td>3.49</td>\n",
       "      <td>4.35</td>\n",
       "      <td>4.1</td>\n",
       "      <td>-0.05</td>\n",
       "      <td>3.84</td>\n",
       "      <td>-4.07</td>\n",
       "      <td>2.22</td>\n",
       "      <td>0.95</td>\n",
       "      <td>0.84</td>\n",
       "      <td>-3.79</td>\n",
       "    </tr>\n",
       "    <tr>\n",
       "      <th>2</th>\n",
       "      <td>1.49</td>\n",
       "      <td>-3.65</td>\n",
       "      <td>4.1</td>\n",
       "      <td>-0.05</td>\n",
       "      <td>-2.16</td>\n",
       "      <td>-3.07</td>\n",
       "      <td>-3.78</td>\n",
       "      <td>3.95</td>\n",
       "      <td>-1.16</td>\n",
       "      <td>0.21</td>\n",
       "    </tr>\n",
       "    <tr>\n",
       "      <th>3</th>\n",
       "      <td>1.49</td>\n",
       "      <td>-3.65</td>\n",
       "      <td>4.1</td>\n",
       "      <td>1.95</td>\n",
       "      <td>2.84</td>\n",
       "      <td>0.93</td>\n",
       "      <td>-0.78</td>\n",
       "      <td>-1.05</td>\n",
       "      <td>3.84</td>\n",
       "      <td>2.21</td>\n",
       "    </tr>\n",
       "    <tr>\n",
       "      <th>4</th>\n",
       "      <td>2.49</td>\n",
       "      <td>-2.65</td>\n",
       "      <td>-2.9</td>\n",
       "      <td>-2.05</td>\n",
       "      <td>-0.16</td>\n",
       "      <td>-3.07</td>\n",
       "      <td>-0.78</td>\n",
       "      <td>3.95</td>\n",
       "      <td>2.84</td>\n",
       "      <td>3.21</td>\n",
       "    </tr>\n",
       "  </tbody>\n",
       "</table>\n",
       "</div>"
      ],
      "text/plain": [
       "    ID1   ID2  ID3   ID4   ID5   ID6   ID7   ID8   ID9  ID10\n",
       "0  0.49  1.35  3.1 -4.05  2.84  2.93 -3.78  2.95 -3.16 -3.79\n",
       "1  3.49  4.35  4.1 -0.05  3.84 -4.07  2.22  0.95  0.84 -3.79\n",
       "2  1.49 -3.65  4.1 -0.05 -2.16 -3.07 -3.78  3.95 -1.16  0.21\n",
       "3  1.49 -3.65  4.1  1.95  2.84  0.93 -0.78 -1.05  3.84  2.21\n",
       "4  2.49 -2.65 -2.9 -2.05 -0.16 -3.07 -0.78  3.95  2.84  3.21"
      ]
     },
     "execution_count": 4,
     "metadata": {},
     "output_type": "execute_result"
    }
   ],
   "source": [
    "#This is the formula to center the data around the mean\n",
    "data_centered = data - np.mean(data, axis = 0)\n",
    "\n",
    "#Again, to make it easier to visualize, let's put into a dataframe\n",
    "centered_frame = pd.DataFrame(data_centered, columns = ['ID1','ID2','ID3','ID4','ID5','ID6','ID7','ID8','ID9','ID10'])\n",
    "centered_frame.head()"
   ]
  },
  {
   "cell_type": "markdown",
   "metadata": {},
   "source": [
    "Construct the covariance matrix."
   ]
  },
  {
   "cell_type": "code",
   "execution_count": 5,
   "metadata": {},
   "outputs": [
    {
     "data": {
      "text/html": [
       "<div>\n",
       "<style scoped>\n",
       "    .dataframe tbody tr th:only-of-type {\n",
       "        vertical-align: middle;\n",
       "    }\n",
       "\n",
       "    .dataframe tbody tr th {\n",
       "        vertical-align: top;\n",
       "    }\n",
       "\n",
       "    .dataframe thead th {\n",
       "        text-align: right;\n",
       "    }\n",
       "</style>\n",
       "<table border=\"1\" class=\"dataframe\">\n",
       "  <thead>\n",
       "    <tr style=\"text-align: right;\">\n",
       "      <th></th>\n",
       "      <th>ID1</th>\n",
       "      <th>ID2</th>\n",
       "      <th>ID3</th>\n",
       "      <th>ID4</th>\n",
       "      <th>ID5</th>\n",
       "      <th>ID6</th>\n",
       "      <th>ID7</th>\n",
       "      <th>ID8</th>\n",
       "      <th>ID9</th>\n",
       "      <th>ID10</th>\n",
       "    </tr>\n",
       "  </thead>\n",
       "  <tbody>\n",
       "    <tr>\n",
       "      <th>0</th>\n",
       "      <td>4.898889</td>\n",
       "      <td>-0.546970</td>\n",
       "      <td>0.304040</td>\n",
       "      <td>0.317677</td>\n",
       "      <td>-0.042020</td>\n",
       "      <td>-0.460303</td>\n",
       "      <td>-0.250303</td>\n",
       "      <td>0.822727</td>\n",
       "      <td>-0.769293</td>\n",
       "      <td>0.764747</td>\n",
       "    </tr>\n",
       "    <tr>\n",
       "      <th>1</th>\n",
       "      <td>-0.546970</td>\n",
       "      <td>6.714646</td>\n",
       "      <td>1.207071</td>\n",
       "      <td>-0.739899</td>\n",
       "      <td>-0.236364</td>\n",
       "      <td>0.479293</td>\n",
       "      <td>-0.279798</td>\n",
       "      <td>0.391414</td>\n",
       "      <td>0.086869</td>\n",
       "      <td>0.127778</td>\n",
       "    </tr>\n",
       "    <tr>\n",
       "      <th>2</th>\n",
       "      <td>0.304040</td>\n",
       "      <td>1.207071</td>\n",
       "      <td>6.858586</td>\n",
       "      <td>0.934343</td>\n",
       "      <td>0.642424</td>\n",
       "      <td>-0.104040</td>\n",
       "      <td>0.462626</td>\n",
       "      <td>0.166667</td>\n",
       "      <td>1.218182</td>\n",
       "      <td>-0.586869</td>\n",
       "    </tr>\n",
       "    <tr>\n",
       "      <th>3</th>\n",
       "      <td>0.317677</td>\n",
       "      <td>-0.739899</td>\n",
       "      <td>0.934343</td>\n",
       "      <td>6.654040</td>\n",
       "      <td>-0.149495</td>\n",
       "      <td>-0.498485</td>\n",
       "      <td>1.344444</td>\n",
       "      <td>-0.578283</td>\n",
       "      <td>0.264646</td>\n",
       "      <td>0.212626</td>\n",
       "    </tr>\n",
       "    <tr>\n",
       "      <th>4</th>\n",
       "      <td>-0.042020</td>\n",
       "      <td>-0.236364</td>\n",
       "      <td>0.642424</td>\n",
       "      <td>-0.149495</td>\n",
       "      <td>6.277172</td>\n",
       "      <td>0.241212</td>\n",
       "      <td>0.692121</td>\n",
       "      <td>-0.109091</td>\n",
       "      <td>-0.783434</td>\n",
       "      <td>0.145051</td>\n",
       "    </tr>\n",
       "  </tbody>\n",
       "</table>\n",
       "</div>"
      ],
      "text/plain": [
       "        ID1       ID2       ID3       ID4       ID5       ID6       ID7  \\\n",
       "0  4.898889 -0.546970  0.304040  0.317677 -0.042020 -0.460303 -0.250303   \n",
       "1 -0.546970  6.714646  1.207071 -0.739899 -0.236364  0.479293 -0.279798   \n",
       "2  0.304040  1.207071  6.858586  0.934343  0.642424 -0.104040  0.462626   \n",
       "3  0.317677 -0.739899  0.934343  6.654040 -0.149495 -0.498485  1.344444   \n",
       "4 -0.042020 -0.236364  0.642424 -0.149495  6.277172  0.241212  0.692121   \n",
       "\n",
       "        ID8       ID9      ID10  \n",
       "0  0.822727 -0.769293  0.764747  \n",
       "1  0.391414  0.086869  0.127778  \n",
       "2  0.166667  1.218182 -0.586869  \n",
       "3 -0.578283  0.264646  0.212626  \n",
       "4 -0.109091 -0.783434  0.145051  "
      ]
     },
     "execution_count": 5,
     "metadata": {},
     "output_type": "execute_result"
    }
   ],
   "source": [
    "#This is the formula to construct the covariance matrix\n",
    "data_centered_cov = np.cov(data_centered, rowvar=False)\n",
    "\n",
    "#Once more time, to make it easier to visualize, let's put into a dataframe\n",
    "cov_frame = pd.DataFrame(data_centered_cov, columns = ['ID1','ID2','ID3','ID4','ID5','ID6','ID7','ID8','ID9','ID10'])\n",
    "cov_frame.head()"
   ]
  },
  {
   "cell_type": "markdown",
   "metadata": {},
   "source": [
    "Find the eigenvalues and eigenvectors."
   ]
  },
  {
   "cell_type": "code",
   "execution_count": 6,
   "metadata": {},
   "outputs": [
    {
     "data": {
      "text/html": [
       "<div>\n",
       "<style scoped>\n",
       "    .dataframe tbody tr th:only-of-type {\n",
       "        vertical-align: middle;\n",
       "    }\n",
       "\n",
       "    .dataframe tbody tr th {\n",
       "        vertical-align: top;\n",
       "    }\n",
       "\n",
       "    .dataframe thead th {\n",
       "        text-align: right;\n",
       "    }\n",
       "</style>\n",
       "<table border=\"1\" class=\"dataframe\">\n",
       "  <thead>\n",
       "    <tr style=\"text-align: right;\">\n",
       "      <th></th>\n",
       "      <th>ID1</th>\n",
       "      <th>ID2</th>\n",
       "      <th>ID3</th>\n",
       "      <th>ID4</th>\n",
       "      <th>ID5</th>\n",
       "      <th>ID6</th>\n",
       "      <th>ID7</th>\n",
       "      <th>ID8</th>\n",
       "      <th>ID9</th>\n",
       "      <th>ID10</th>\n",
       "    </tr>\n",
       "  </thead>\n",
       "  <tbody>\n",
       "    <tr>\n",
       "      <th>0</th>\n",
       "      <td>0.584745</td>\n",
       "      <td>0.538052</td>\n",
       "      <td>0.331682</td>\n",
       "      <td>0.278359</td>\n",
       "      <td>0.222591</td>\n",
       "      <td>-0.105407</td>\n",
       "      <td>-0.206936</td>\n",
       "      <td>0.244602</td>\n",
       "      <td>-0.128410</td>\n",
       "      <td>0.035741</td>\n",
       "    </tr>\n",
       "    <tr>\n",
       "      <th>1</th>\n",
       "      <td>0.304769</td>\n",
       "      <td>-0.154793</td>\n",
       "      <td>0.445958</td>\n",
       "      <td>-0.384382</td>\n",
       "      <td>-0.255182</td>\n",
       "      <td>0.321034</td>\n",
       "      <td>-0.204487</td>\n",
       "      <td>-0.476054</td>\n",
       "      <td>-0.270672</td>\n",
       "      <td>-0.163221</td>\n",
       "    </tr>\n",
       "    <tr>\n",
       "      <th>2</th>\n",
       "      <td>-0.442773</td>\n",
       "      <td>0.254157</td>\n",
       "      <td>0.073137</td>\n",
       "      <td>0.395465</td>\n",
       "      <td>0.149694</td>\n",
       "      <td>-0.039610</td>\n",
       "      <td>-0.255089</td>\n",
       "      <td>-0.585455</td>\n",
       "      <td>-0.233087</td>\n",
       "      <td>0.302456</td>\n",
       "    </tr>\n",
       "    <tr>\n",
       "      <th>3</th>\n",
       "      <td>0.125398</td>\n",
       "      <td>-0.506019</td>\n",
       "      <td>0.332166</td>\n",
       "      <td>-0.162069</td>\n",
       "      <td>0.410871</td>\n",
       "      <td>-0.393086</td>\n",
       "      <td>0.015790</td>\n",
       "      <td>-0.020773</td>\n",
       "      <td>0.069951</td>\n",
       "      <td>0.512556</td>\n",
       "    </tr>\n",
       "    <tr>\n",
       "      <th>4</th>\n",
       "      <td>0.256333</td>\n",
       "      <td>-0.315510</td>\n",
       "      <td>-0.174236</td>\n",
       "      <td>0.394770</td>\n",
       "      <td>-0.571075</td>\n",
       "      <td>-0.299596</td>\n",
       "      <td>-0.443989</td>\n",
       "      <td>-0.042039</td>\n",
       "      <td>0.164933</td>\n",
       "      <td>0.081023</td>\n",
       "    </tr>\n",
       "  </tbody>\n",
       "</table>\n",
       "</div>"
      ],
      "text/plain": [
       "        ID1       ID2       ID3       ID4       ID5       ID6       ID7  \\\n",
       "0  0.584745  0.538052  0.331682  0.278359  0.222591 -0.105407 -0.206936   \n",
       "1  0.304769 -0.154793  0.445958 -0.384382 -0.255182  0.321034 -0.204487   \n",
       "2 -0.442773  0.254157  0.073137  0.395465  0.149694 -0.039610 -0.255089   \n",
       "3  0.125398 -0.506019  0.332166 -0.162069  0.410871 -0.393086  0.015790   \n",
       "4  0.256333 -0.315510 -0.174236  0.394770 -0.571075 -0.299596 -0.443989   \n",
       "\n",
       "        ID8       ID9      ID10  \n",
       "0  0.244602 -0.128410  0.035741  \n",
       "1 -0.476054 -0.270672 -0.163221  \n",
       "2 -0.585455 -0.233087  0.302456  \n",
       "3 -0.020773  0.069951  0.512556  \n",
       "4 -0.042039  0.164933  0.081023  "
      ]
     },
     "execution_count": 6,
     "metadata": {},
     "output_type": "execute_result"
    }
   ],
   "source": [
    "#This is the formula to extract the eigenvectors and eigenvalues\n",
    "eigen_values1, eigen_vectors1 = np.linalg.eigh(data_centered_cov)\n",
    "\n",
    "#See how the eigenvectors look like in a dataframe\n",
    "vectors_frame = pd.DataFrame(eigen_vectors1, columns = ['ID1','ID2','ID3','ID4','ID5','ID6','ID7','ID8','ID9','ID10'])\n",
    "vectors_frame.head()"
   ]
  },
  {
   "cell_type": "code",
   "execution_count": 7,
   "metadata": {},
   "outputs": [
    {
     "data": {
      "text/html": [
       "<div>\n",
       "<style scoped>\n",
       "    .dataframe tbody tr th:only-of-type {\n",
       "        vertical-align: middle;\n",
       "    }\n",
       "\n",
       "    .dataframe tbody tr th {\n",
       "        vertical-align: top;\n",
       "    }\n",
       "\n",
       "    .dataframe thead th {\n",
       "        text-align: right;\n",
       "    }\n",
       "</style>\n",
       "<table border=\"1\" class=\"dataframe\">\n",
       "  <thead>\n",
       "    <tr style=\"text-align: right;\">\n",
       "      <th></th>\n",
       "      <th>eigenvalues</th>\n",
       "    </tr>\n",
       "  </thead>\n",
       "  <tbody>\n",
       "    <tr>\n",
       "      <th>ID1</th>\n",
       "      <td>3.379864</td>\n",
       "    </tr>\n",
       "    <tr>\n",
       "      <th>ID2</th>\n",
       "      <td>4.349649</td>\n",
       "    </tr>\n",
       "    <tr>\n",
       "      <th>ID3</th>\n",
       "      <td>5.750685</td>\n",
       "    </tr>\n",
       "    <tr>\n",
       "      <th>ID4</th>\n",
       "      <td>5.917742</td>\n",
       "    </tr>\n",
       "    <tr>\n",
       "      <th>ID5</th>\n",
       "      <td>6.347181</td>\n",
       "    </tr>\n",
       "    <tr>\n",
       "      <th>ID6</th>\n",
       "      <td>6.722828</td>\n",
       "    </tr>\n",
       "    <tr>\n",
       "      <th>ID7</th>\n",
       "      <td>7.772747</td>\n",
       "    </tr>\n",
       "    <tr>\n",
       "      <th>ID8</th>\n",
       "      <td>8.562679</td>\n",
       "    </tr>\n",
       "    <tr>\n",
       "      <th>ID9</th>\n",
       "      <td>8.863310</td>\n",
       "    </tr>\n",
       "    <tr>\n",
       "      <th>ID10</th>\n",
       "      <td>9.660387</td>\n",
       "    </tr>\n",
       "  </tbody>\n",
       "</table>\n",
       "</div>"
      ],
      "text/plain": [
       "      eigenvalues\n",
       "ID1      3.379864\n",
       "ID2      4.349649\n",
       "ID3      5.750685\n",
       "ID4      5.917742\n",
       "ID5      6.347181\n",
       "ID6      6.722828\n",
       "ID7      7.772747\n",
       "ID8      8.562679\n",
       "ID9      8.863310\n",
       "ID10     9.660387"
      ]
     },
     "execution_count": 7,
     "metadata": {},
     "output_type": "execute_result"
    }
   ],
   "source": [
    "#See how the eigenvalues look like in a dataframe\n",
    "values_frame = pd.DataFrame(eigen_values1, index=['ID1','ID2','ID3','ID4','ID5','ID6','ID7','ID8','ID9','ID10'], columns = ['eigenvalues'])\n",
    "values_frame"
   ]
  },
  {
   "cell_type": "markdown",
   "metadata": {},
   "source": [
    "Now, take the eigenvalues and eigenvectors and sort them in descending order."
   ]
  },
  {
   "cell_type": "code",
   "execution_count": 8,
   "metadata": {},
   "outputs": [],
   "source": [
    "index = np.argsort(eigen_values1)[::-1]\n",
    "\n",
    "sorted_values = eigen_values1[index]\n",
    "\n",
    "sorted_vectors = eigen_vectors1[:, index]"
   ]
  },
  {
   "cell_type": "markdown",
   "metadata": {},
   "source": [
    "Note that these eigenvectors are independent of one another (very low cross-correlation). Thus every principal components are perpendicular to one another (orthogonal)."
   ]
  },
  {
   "cell_type": "code",
   "execution_count": 9,
   "metadata": {},
   "outputs": [
    {
     "data": {
      "text/html": [
       "<div>\n",
       "<style scoped>\n",
       "    .dataframe tbody tr th:only-of-type {\n",
       "        vertical-align: middle;\n",
       "    }\n",
       "\n",
       "    .dataframe tbody tr th {\n",
       "        vertical-align: top;\n",
       "    }\n",
       "\n",
       "    .dataframe thead th {\n",
       "        text-align: right;\n",
       "    }\n",
       "</style>\n",
       "<table border=\"1\" class=\"dataframe\">\n",
       "  <thead>\n",
       "    <tr style=\"text-align: right;\">\n",
       "      <th></th>\n",
       "      <th>0</th>\n",
       "      <th>1</th>\n",
       "      <th>2</th>\n",
       "      <th>3</th>\n",
       "      <th>4</th>\n",
       "      <th>5</th>\n",
       "      <th>6</th>\n",
       "      <th>7</th>\n",
       "      <th>8</th>\n",
       "      <th>9</th>\n",
       "    </tr>\n",
       "  </thead>\n",
       "  <tbody>\n",
       "    <tr>\n",
       "      <th>0</th>\n",
       "      <td>1.000000</td>\n",
       "      <td>0.167730</td>\n",
       "      <td>0.091209</td>\n",
       "      <td>0.153735</td>\n",
       "      <td>0.178157</td>\n",
       "      <td>0.015947</td>\n",
       "      <td>0.054872</td>\n",
       "      <td>-0.003001</td>\n",
       "      <td>-0.027084</td>\n",
       "      <td>-0.096072</td>\n",
       "    </tr>\n",
       "    <tr>\n",
       "      <th>1</th>\n",
       "      <td>0.167730</td>\n",
       "      <td>1.000000</td>\n",
       "      <td>-0.167332</td>\n",
       "      <td>-0.282043</td>\n",
       "      <td>-0.326846</td>\n",
       "      <td>-0.029257</td>\n",
       "      <td>-0.100669</td>\n",
       "      <td>0.005505</td>\n",
       "      <td>0.049688</td>\n",
       "      <td>0.176253</td>\n",
       "    </tr>\n",
       "    <tr>\n",
       "      <th>2</th>\n",
       "      <td>0.091209</td>\n",
       "      <td>-0.167332</td>\n",
       "      <td>1.000000</td>\n",
       "      <td>-0.153370</td>\n",
       "      <td>-0.177733</td>\n",
       "      <td>-0.015909</td>\n",
       "      <td>-0.054742</td>\n",
       "      <td>0.002994</td>\n",
       "      <td>0.027019</td>\n",
       "      <td>0.095843</td>\n",
       "    </tr>\n",
       "    <tr>\n",
       "      <th>3</th>\n",
       "      <td>0.153735</td>\n",
       "      <td>-0.282043</td>\n",
       "      <td>-0.153370</td>\n",
       "      <td>1.000000</td>\n",
       "      <td>-0.299575</td>\n",
       "      <td>-0.026816</td>\n",
       "      <td>-0.092269</td>\n",
       "      <td>0.005046</td>\n",
       "      <td>0.045542</td>\n",
       "      <td>0.161547</td>\n",
       "    </tr>\n",
       "    <tr>\n",
       "      <th>4</th>\n",
       "      <td>0.178157</td>\n",
       "      <td>-0.326846</td>\n",
       "      <td>-0.177733</td>\n",
       "      <td>-0.299575</td>\n",
       "      <td>1.000000</td>\n",
       "      <td>-0.031075</td>\n",
       "      <td>-0.106926</td>\n",
       "      <td>0.005848</td>\n",
       "      <td>0.052776</td>\n",
       "      <td>0.187209</td>\n",
       "    </tr>\n",
       "    <tr>\n",
       "      <th>5</th>\n",
       "      <td>0.015947</td>\n",
       "      <td>-0.029257</td>\n",
       "      <td>-0.015909</td>\n",
       "      <td>-0.026816</td>\n",
       "      <td>-0.031075</td>\n",
       "      <td>1.000000</td>\n",
       "      <td>-0.009571</td>\n",
       "      <td>0.000523</td>\n",
       "      <td>0.004724</td>\n",
       "      <td>0.016757</td>\n",
       "    </tr>\n",
       "    <tr>\n",
       "      <th>6</th>\n",
       "      <td>0.054872</td>\n",
       "      <td>-0.100669</td>\n",
       "      <td>-0.054742</td>\n",
       "      <td>-0.092269</td>\n",
       "      <td>-0.106926</td>\n",
       "      <td>-0.009571</td>\n",
       "      <td>1.000000</td>\n",
       "      <td>0.001801</td>\n",
       "      <td>0.016255</td>\n",
       "      <td>0.057660</td>\n",
       "    </tr>\n",
       "    <tr>\n",
       "      <th>7</th>\n",
       "      <td>-0.003001</td>\n",
       "      <td>0.005505</td>\n",
       "      <td>0.002994</td>\n",
       "      <td>0.005046</td>\n",
       "      <td>0.005848</td>\n",
       "      <td>0.000523</td>\n",
       "      <td>0.001801</td>\n",
       "      <td>1.000000</td>\n",
       "      <td>-0.000889</td>\n",
       "      <td>-0.003153</td>\n",
       "    </tr>\n",
       "    <tr>\n",
       "      <th>8</th>\n",
       "      <td>-0.027084</td>\n",
       "      <td>0.049688</td>\n",
       "      <td>0.027019</td>\n",
       "      <td>0.045542</td>\n",
       "      <td>0.052776</td>\n",
       "      <td>0.004724</td>\n",
       "      <td>0.016255</td>\n",
       "      <td>-0.000889</td>\n",
       "      <td>1.000000</td>\n",
       "      <td>-0.028460</td>\n",
       "    </tr>\n",
       "    <tr>\n",
       "      <th>9</th>\n",
       "      <td>-0.096072</td>\n",
       "      <td>0.176253</td>\n",
       "      <td>0.095843</td>\n",
       "      <td>0.161547</td>\n",
       "      <td>0.187209</td>\n",
       "      <td>0.016757</td>\n",
       "      <td>0.057660</td>\n",
       "      <td>-0.003153</td>\n",
       "      <td>-0.028460</td>\n",
       "      <td>1.000000</td>\n",
       "    </tr>\n",
       "  </tbody>\n",
       "</table>\n",
       "</div>"
      ],
      "text/plain": [
       "          0         1         2         3         4         5         6  \\\n",
       "0  1.000000  0.167730  0.091209  0.153735  0.178157  0.015947  0.054872   \n",
       "1  0.167730  1.000000 -0.167332 -0.282043 -0.326846 -0.029257 -0.100669   \n",
       "2  0.091209 -0.167332  1.000000 -0.153370 -0.177733 -0.015909 -0.054742   \n",
       "3  0.153735 -0.282043 -0.153370  1.000000 -0.299575 -0.026816 -0.092269   \n",
       "4  0.178157 -0.326846 -0.177733 -0.299575  1.000000 -0.031075 -0.106926   \n",
       "5  0.015947 -0.029257 -0.015909 -0.026816 -0.031075  1.000000 -0.009571   \n",
       "6  0.054872 -0.100669 -0.054742 -0.092269 -0.106926 -0.009571  1.000000   \n",
       "7 -0.003001  0.005505  0.002994  0.005046  0.005848  0.000523  0.001801   \n",
       "8 -0.027084  0.049688  0.027019  0.045542  0.052776  0.004724  0.016255   \n",
       "9 -0.096072  0.176253  0.095843  0.161547  0.187209  0.016757  0.057660   \n",
       "\n",
       "          7         8         9  \n",
       "0 -0.003001 -0.027084 -0.096072  \n",
       "1  0.005505  0.049688  0.176253  \n",
       "2  0.002994  0.027019  0.095843  \n",
       "3  0.005046  0.045542  0.161547  \n",
       "4  0.005848  0.052776  0.187209  \n",
       "5  0.000523  0.004724  0.016757  \n",
       "6  0.001801  0.016255  0.057660  \n",
       "7  1.000000 -0.000889 -0.003153  \n",
       "8 -0.000889  1.000000 -0.028460  \n",
       "9 -0.003153 -0.028460  1.000000  "
      ]
     },
     "execution_count": 9,
     "metadata": {},
     "output_type": "execute_result"
    }
   ],
   "source": [
    "df = pd.DataFrame(sorted_vectors)\n",
    "#Pairwise correlation\n",
    "df.corr(method ='pearson')"
   ]
  },
  {
   "cell_type": "markdown",
   "metadata": {},
   "source": [
    "Determine the amount of components you would like to return from the sorted eigenvalue matrix (we will discuss this later)"
   ]
  },
  {
   "cell_type": "code",
   "execution_count": 10,
   "metadata": {},
   "outputs": [
    {
     "data": {
      "text/html": [
       "<div>\n",
       "<style scoped>\n",
       "    .dataframe tbody tr th:only-of-type {\n",
       "        vertical-align: middle;\n",
       "    }\n",
       "\n",
       "    .dataframe tbody tr th {\n",
       "        vertical-align: top;\n",
       "    }\n",
       "\n",
       "    .dataframe thead th {\n",
       "        text-align: right;\n",
       "    }\n",
       "</style>\n",
       "<table border=\"1\" class=\"dataframe\">\n",
       "  <thead>\n",
       "    <tr style=\"text-align: right;\">\n",
       "      <th></th>\n",
       "      <th>ID1</th>\n",
       "      <th>ID2</th>\n",
       "      <th>ID3</th>\n",
       "    </tr>\n",
       "  </thead>\n",
       "  <tbody>\n",
       "    <tr>\n",
       "      <th>0</th>\n",
       "      <td>0.035741</td>\n",
       "      <td>-0.128410</td>\n",
       "      <td>0.244602</td>\n",
       "    </tr>\n",
       "    <tr>\n",
       "      <th>1</th>\n",
       "      <td>-0.163221</td>\n",
       "      <td>-0.270672</td>\n",
       "      <td>-0.476054</td>\n",
       "    </tr>\n",
       "    <tr>\n",
       "      <th>2</th>\n",
       "      <td>0.302456</td>\n",
       "      <td>-0.233087</td>\n",
       "      <td>-0.585455</td>\n",
       "    </tr>\n",
       "    <tr>\n",
       "      <th>3</th>\n",
       "      <td>0.512556</td>\n",
       "      <td>0.069951</td>\n",
       "      <td>-0.020773</td>\n",
       "    </tr>\n",
       "    <tr>\n",
       "      <th>4</th>\n",
       "      <td>0.081023</td>\n",
       "      <td>0.164933</td>\n",
       "      <td>-0.042039</td>\n",
       "    </tr>\n",
       "  </tbody>\n",
       "</table>\n",
       "</div>"
      ],
      "text/plain": [
       "        ID1       ID2       ID3\n",
       "0  0.035741 -0.128410  0.244602\n",
       "1 -0.163221 -0.270672 -0.476054\n",
       "2  0.302456 -0.233087 -0.585455\n",
       "3  0.512556  0.069951 -0.020773\n",
       "4  0.081023  0.164933 -0.042039"
      ]
     },
     "execution_count": 10,
     "metadata": {},
     "output_type": "execute_result"
    }
   ],
   "source": [
    "#We arbitrarily select 3 components, but you can change that\n",
    "components = 3\n",
    "\n",
    "#Sort the eigenvectors\n",
    "eigvect_subset = sorted_vectors[:, 0:components]\n",
    "\n",
    "#See how the subset look like in a dataframe\n",
    "subset_frame = pd.DataFrame(eigvect_subset, columns=['ID1','ID2','ID3'])\n",
    "subset_frame.head()"
   ]
  },
  {
   "cell_type": "markdown",
   "metadata": {},
   "source": [
    "Return the reduce form by matrix multiplying the transpose of the eigenvector subset and transpose of the normalized dataset. Then, transpose the product. See that the shape matches (length of data series, number of principal components)"
   ]
  },
  {
   "cell_type": "code",
   "execution_count": 11,
   "metadata": {},
   "outputs": [
    {
     "data": {
      "text/plain": [
       "(100, 3)"
      ]
     },
     "execution_count": 11,
     "metadata": {},
     "output_type": "execute_result"
    }
   ],
   "source": [
    "data_pca = (eigvect_subset.T @ data_centered.T).T\n",
    "#Check if the dimension reduction happened from 10 to 3\n",
    "data_pca.shape"
   ]
  },
  {
   "cell_type": "markdown",
   "metadata": {},
   "source": [
    "Finally, we build a function that summarizes the steps we did above to extract the principal components."
   ]
  },
  {
   "cell_type": "code",
   "execution_count": 12,
   "metadata": {},
   "outputs": [],
   "source": [
    "#Summary function\n",
    "def principal_component_analysis(data, components):\n",
    "    \"\"\"\n",
    "    Takes a higher dimension dataset and uses PCA to reduce \n",
    "    the data to the desired numnber of dimensions\n",
    "    \n",
    "    Parameters\n",
    "    ----------\n",
    "    data : np.array(ndim=n, size=m)\n",
    "        observations that were generated \n",
    "        by a model or data provided\n",
    "    components : int\n",
    "        number of desired components the \n",
    "        given data will be reduced to \n",
    "    \n",
    "    Returns\n",
    "    -------\n",
    "    PCA_data : np.array(ndim=n, size=components)\n",
    "        the dataset with reduced dimensions\n",
    "    \"\"\"\n",
    "    #Centering the data\n",
    "    data_centered = data - np.mean(data, axis=0)\n",
    "    \n",
    "    #Get covariance matrix\n",
    "    data_centered_cov = np.cov(data_centered, rowvar=False)\n",
    "    \n",
    "    #Get eigenvalues and eigenvectors\n",
    "    eigen_values, eigen_vectors = np.linalg.eigh(data_centered_cov)\n",
    "\n",
    "    index = np.argsort(eigen_values)[::-1]\n",
    "    sorted_values = eigen_values[index]\n",
    "    sorted_vectors = eigen_vectors[:, index]\n",
    "\n",
    "    vector_subset = sorted_vectors[:, 0:components]\n",
    "\n",
    "    PCA_data = (vector_subset.T @ data_centered.T).T #similar to .transform in the PCA package\n",
    "\n",
    "    return PCA_data"
   ]
  },
  {
   "cell_type": "markdown",
   "metadata": {},
   "source": [
    "#### 5. Testing our new function, on a new theoretical example"
   ]
  },
  {
   "cell_type": "markdown",
   "metadata": {},
   "source": [
    "At this step, we test whether our function is indeed reducing the dimensions. The transformed data should have 5 principal components from a dataset that had 8 columns and 10 values for each of those columns."
   ]
  },
  {
   "cell_type": "code",
   "execution_count": 13,
   "metadata": {},
   "outputs": [
    {
     "data": {
      "text/html": [
       "<div>\n",
       "<style scoped>\n",
       "    .dataframe tbody tr th:only-of-type {\n",
       "        vertical-align: middle;\n",
       "    }\n",
       "\n",
       "    .dataframe tbody tr th {\n",
       "        vertical-align: top;\n",
       "    }\n",
       "\n",
       "    .dataframe thead th {\n",
       "        text-align: right;\n",
       "    }\n",
       "</style>\n",
       "<table border=\"1\" class=\"dataframe\">\n",
       "  <thead>\n",
       "    <tr style=\"text-align: right;\">\n",
       "      <th></th>\n",
       "      <th>Data1</th>\n",
       "      <th>Data2</th>\n",
       "      <th>Data3</th>\n",
       "      <th>Data4</th>\n",
       "      <th>Data5</th>\n",
       "      <th>Data6</th>\n",
       "      <th>Data7</th>\n",
       "      <th>Data8</th>\n",
       "    </tr>\n",
       "  </thead>\n",
       "  <tbody>\n",
       "    <tr>\n",
       "      <th>0</th>\n",
       "      <td>6</td>\n",
       "      <td>2</td>\n",
       "      <td>7</td>\n",
       "      <td>6</td>\n",
       "      <td>5</td>\n",
       "      <td>1</td>\n",
       "      <td>1</td>\n",
       "      <td>2</td>\n",
       "    </tr>\n",
       "    <tr>\n",
       "      <th>1</th>\n",
       "      <td>4</td>\n",
       "      <td>1</td>\n",
       "      <td>2</td>\n",
       "      <td>4</td>\n",
       "      <td>4</td>\n",
       "      <td>1</td>\n",
       "      <td>3</td>\n",
       "      <td>5</td>\n",
       "    </tr>\n",
       "    <tr>\n",
       "      <th>2</th>\n",
       "      <td>3</td>\n",
       "      <td>3</td>\n",
       "      <td>4</td>\n",
       "      <td>3</td>\n",
       "      <td>1</td>\n",
       "      <td>2</td>\n",
       "      <td>4</td>\n",
       "      <td>7</td>\n",
       "    </tr>\n",
       "    <tr>\n",
       "      <th>3</th>\n",
       "      <td>8</td>\n",
       "      <td>3</td>\n",
       "      <td>9</td>\n",
       "      <td>1</td>\n",
       "      <td>4</td>\n",
       "      <td>4</td>\n",
       "      <td>9</td>\n",
       "      <td>9</td>\n",
       "    </tr>\n",
       "    <tr>\n",
       "      <th>4</th>\n",
       "      <td>1</td>\n",
       "      <td>6</td>\n",
       "      <td>8</td>\n",
       "      <td>1</td>\n",
       "      <td>7</td>\n",
       "      <td>6</td>\n",
       "      <td>5</td>\n",
       "      <td>8</td>\n",
       "    </tr>\n",
       "    <tr>\n",
       "      <th>5</th>\n",
       "      <td>9</td>\n",
       "      <td>1</td>\n",
       "      <td>1</td>\n",
       "      <td>8</td>\n",
       "      <td>6</td>\n",
       "      <td>7</td>\n",
       "      <td>7</td>\n",
       "      <td>3</td>\n",
       "    </tr>\n",
       "    <tr>\n",
       "      <th>6</th>\n",
       "      <td>1</td>\n",
       "      <td>7</td>\n",
       "      <td>5</td>\n",
       "      <td>3</td>\n",
       "      <td>6</td>\n",
       "      <td>8</td>\n",
       "      <td>8</td>\n",
       "      <td>1</td>\n",
       "    </tr>\n",
       "    <tr>\n",
       "      <th>7</th>\n",
       "      <td>9</td>\n",
       "      <td>1</td>\n",
       "      <td>8</td>\n",
       "      <td>2</td>\n",
       "      <td>6</td>\n",
       "      <td>4</td>\n",
       "      <td>3</td>\n",
       "      <td>5</td>\n",
       "    </tr>\n",
       "    <tr>\n",
       "      <th>8</th>\n",
       "      <td>4</td>\n",
       "      <td>1</td>\n",
       "      <td>2</td>\n",
       "      <td>6</td>\n",
       "      <td>8</td>\n",
       "      <td>8</td>\n",
       "      <td>3</td>\n",
       "      <td>4</td>\n",
       "    </tr>\n",
       "    <tr>\n",
       "      <th>9</th>\n",
       "      <td>3</td>\n",
       "      <td>4</td>\n",
       "      <td>3</td>\n",
       "      <td>8</td>\n",
       "      <td>6</td>\n",
       "      <td>7</td>\n",
       "      <td>8</td>\n",
       "      <td>9</td>\n",
       "    </tr>\n",
       "  </tbody>\n",
       "</table>\n",
       "</div>"
      ],
      "text/plain": [
       "   Data1  Data2  Data3  Data4  Data5  Data6  Data7  Data8\n",
       "0      6      2      7      6      5      1      1      2\n",
       "1      4      1      2      4      4      1      3      5\n",
       "2      3      3      4      3      1      2      4      7\n",
       "3      8      3      9      1      4      4      9      9\n",
       "4      1      6      8      1      7      6      5      8\n",
       "5      9      1      1      8      6      7      7      3\n",
       "6      1      7      5      3      6      8      8      1\n",
       "7      9      1      8      2      6      4      3      5\n",
       "8      4      1      2      6      8      8      3      4\n",
       "9      3      4      3      8      6      7      8      9"
      ]
     },
     "execution_count": 13,
     "metadata": {},
     "output_type": "execute_result"
    }
   ],
   "source": [
    "# Test: Creating the new data set \n",
    "data1 = np.random.randint(1, 10, 80).reshape(10, 8)\n",
    "\n",
    "#As we did above, see how the new data set look like in a dataframe\n",
    "data1_frame = pd.DataFrame(data1, columns=['Data1','Data2','Data3','Data4','Data5','Data6','Data7','Data8'])\n",
    "data1_frame"
   ]
  },
  {
   "cell_type": "markdown",
   "metadata": {},
   "source": [
    "Once we have the data, we parse our summary function to our new data set."
   ]
  },
  {
   "cell_type": "code",
   "execution_count": 14,
   "metadata": {},
   "outputs": [
    {
     "data": {
      "text/html": [
       "<div>\n",
       "<style scoped>\n",
       "    .dataframe tbody tr th:only-of-type {\n",
       "        vertical-align: middle;\n",
       "    }\n",
       "\n",
       "    .dataframe tbody tr th {\n",
       "        vertical-align: top;\n",
       "    }\n",
       "\n",
       "    .dataframe thead th {\n",
       "        text-align: right;\n",
       "    }\n",
       "</style>\n",
       "<table border=\"1\" class=\"dataframe\">\n",
       "  <thead>\n",
       "    <tr style=\"text-align: right;\">\n",
       "      <th></th>\n",
       "      <th>ID1</th>\n",
       "      <th>ID2</th>\n",
       "      <th>ID3</th>\n",
       "      <th>ID4</th>\n",
       "      <th>ID5</th>\n",
       "    </tr>\n",
       "  </thead>\n",
       "  <tbody>\n",
       "    <tr>\n",
       "      <th>0</th>\n",
       "      <td>-2.312888</td>\n",
       "      <td>5.132937</td>\n",
       "      <td>-2.859787</td>\n",
       "      <td>-2.045487</td>\n",
       "      <td>0.170792</td>\n",
       "    </tr>\n",
       "    <tr>\n",
       "      <th>1</th>\n",
       "      <td>-2.131436</td>\n",
       "      <td>3.050919</td>\n",
       "      <td>-2.687384</td>\n",
       "      <td>2.939661</td>\n",
       "      <td>0.465643</td>\n",
       "    </tr>\n",
       "    <tr>\n",
       "      <th>2</th>\n",
       "      <td>1.717524</td>\n",
       "      <td>2.305410</td>\n",
       "      <td>-2.441009</td>\n",
       "      <td>4.155601</td>\n",
       "      <td>1.531631</td>\n",
       "    </tr>\n",
       "    <tr>\n",
       "      <th>3</th>\n",
       "      <td>5.868967</td>\n",
       "      <td>2.142716</td>\n",
       "      <td>5.274795</td>\n",
       "      <td>0.137818</td>\n",
       "      <td>1.177238</td>\n",
       "    </tr>\n",
       "    <tr>\n",
       "      <th>4</th>\n",
       "      <td>6.184786</td>\n",
       "      <td>-2.443148</td>\n",
       "      <td>-1.957254</td>\n",
       "      <td>-0.804389</td>\n",
       "      <td>-2.568683</td>\n",
       "    </tr>\n",
       "    <tr>\n",
       "      <th>5</th>\n",
       "      <td>-6.592003</td>\n",
       "      <td>-1.462084</td>\n",
       "      <td>4.073087</td>\n",
       "      <td>-0.478827</td>\n",
       "      <td>1.578609</td>\n",
       "    </tr>\n",
       "    <tr>\n",
       "      <th>6</th>\n",
       "      <td>1.531338</td>\n",
       "      <td>-6.155742</td>\n",
       "      <td>-2.805364</td>\n",
       "      <td>-3.421581</td>\n",
       "      <td>3.230494</td>\n",
       "    </tr>\n",
       "    <tr>\n",
       "      <th>7</th>\n",
       "      <td>0.716760</td>\n",
       "      <td>4.882581</td>\n",
       "      <td>2.042384</td>\n",
       "      <td>-3.223712</td>\n",
       "      <td>-1.290754</td>\n",
       "    </tr>\n",
       "    <tr>\n",
       "      <th>8</th>\n",
       "      <td>-4.556632</td>\n",
       "      <td>-2.435817</td>\n",
       "      <td>-0.789245</td>\n",
       "      <td>-0.998995</td>\n",
       "      <td>-2.975005</td>\n",
       "    </tr>\n",
       "    <tr>\n",
       "      <th>9</th>\n",
       "      <td>-0.426417</td>\n",
       "      <td>-5.017771</td>\n",
       "      <td>2.149778</td>\n",
       "      <td>3.739910</td>\n",
       "      <td>-1.319966</td>\n",
       "    </tr>\n",
       "  </tbody>\n",
       "</table>\n",
       "</div>"
      ],
      "text/plain": [
       "        ID1       ID2       ID3       ID4       ID5\n",
       "0 -2.312888  5.132937 -2.859787 -2.045487  0.170792\n",
       "1 -2.131436  3.050919 -2.687384  2.939661  0.465643\n",
       "2  1.717524  2.305410 -2.441009  4.155601  1.531631\n",
       "3  5.868967  2.142716  5.274795  0.137818  1.177238\n",
       "4  6.184786 -2.443148 -1.957254 -0.804389 -2.568683\n",
       "5 -6.592003 -1.462084  4.073087 -0.478827  1.578609\n",
       "6  1.531338 -6.155742 -2.805364 -3.421581  3.230494\n",
       "7  0.716760  4.882581  2.042384 -3.223712 -1.290754\n",
       "8 -4.556632 -2.435817 -0.789245 -0.998995 -2.975005\n",
       "9 -0.426417 -5.017771  2.149778  3.739910 -1.319966"
      ]
     },
     "execution_count": 14,
     "metadata": {},
     "output_type": "execute_result"
    }
   ],
   "source": [
    "ex1 = principal_component_analysis(data1, 5)\n",
    "\n",
    "ex1_frame = pd.DataFrame(ex1, columns=['ID1','ID2','ID3','ID4','ID5'])\n",
    "ex1_frame"
   ]
  },
  {
   "cell_type": "markdown",
   "metadata": {},
   "source": [
    "We now build a function that will return the minimum necessary amount of components needed to explain 95% variance in a given model. \n",
    "\n",
    "In this case, 95% variance (convention) is an arbitrary selection and the parameter in the function can be altered to any desired level of variance."
   ]
  },
  {
   "cell_type": "code",
   "execution_count": 15,
   "metadata": {},
   "outputs": [
    {
     "name": "stdout",
     "output_type": "stream",
     "text": [
      "Number of components necessary to explain aproximately 95% of the variance is: 5\n"
     ]
    }
   ],
   "source": [
    "def number_components(data_set, desired_var):\n",
    "    \"\"\"\n",
    "    Uses the cumulative sum array of explained variance \n",
    "    to interpret how many components are required to meet\n",
    "    a desired level of modeling variance \n",
    "    \n",
    "    Parameters\n",
    "    ----------\n",
    "    data : np.array(ndim=n, size=m)\n",
    "        observations that were generated \n",
    "        by a model or data provided\n",
    "        \n",
    "    desired_var : int\n",
    "        the desired variance level which you would \n",
    "        like to have your model explain  \n",
    "    \n",
    "    Returns\n",
    "    -------\n",
    "    pos : int\n",
    "        Number of principal components necessary to achieve desired_var\n",
    "    \"\"\"\n",
    "    \n",
    "    #Centering the data\n",
    "    data_centered = data_set - np.mean(data_set, axis=0)\n",
    "    \n",
    "    #Get covariance matrix\n",
    "    data_centered_cov = np.cov(data_centered, rowvar=False)    \n",
    "    \n",
    "    #Get the eigenvalues and eigenvectors\n",
    "    eigen_values, eigen_vectors = np.linalg.eigh(data_centered_cov)\n",
    "    \n",
    "    #Sum the eigenvalues\n",
    "    total_values = sum(eigen_values)\n",
    "    \n",
    "    #Then use them to see how much they will explain of the variance\n",
    "    explained_var = [(i/total_values) for i in sorted(eigen_values, reverse=True)]\n",
    "    \n",
    "    #This function sees how they cumulatively explain the variance\n",
    "    sum_explained = np.cumsum(explained_var)\n",
    "    \n",
    "    #Find the number of principal components to achieve the desired_var\n",
    "    pos = bisect_left(sum_explained, desired_var)\n",
    "    \n",
    "    return pos+1\n",
    "\n",
    "print(f\"Number of components necessary to explain aproximately 95% of the variance is: {number_components(data1, .95)}\")"
   ]
  },
  {
   "cell_type": "markdown",
   "metadata": {},
   "source": [
    "Now, let's show graphically how each principal component contributes to explaining the variance.\n",
    "\n",
    "Note that the function below is a replica of the above, but ending on the \"sum_explained\" step."
   ]
  },
  {
   "cell_type": "code",
   "execution_count": 16,
   "metadata": {},
   "outputs": [
    {
     "data": {
      "text/html": [
       "<div>\n",
       "<style scoped>\n",
       "    .dataframe tbody tr th:only-of-type {\n",
       "        vertical-align: middle;\n",
       "    }\n",
       "\n",
       "    .dataframe tbody tr th {\n",
       "        vertical-align: top;\n",
       "    }\n",
       "\n",
       "    .dataframe thead th {\n",
       "        text-align: right;\n",
       "    }\n",
       "</style>\n",
       "<table border=\"1\" class=\"dataframe\">\n",
       "  <thead>\n",
       "    <tr style=\"text-align: right;\">\n",
       "      <th></th>\n",
       "      <th>explained_variance</th>\n",
       "    </tr>\n",
       "  </thead>\n",
       "  <tbody>\n",
       "    <tr>\n",
       "      <th>ID1</th>\n",
       "      <td>0.298606</td>\n",
       "    </tr>\n",
       "    <tr>\n",
       "      <th>ID2</th>\n",
       "      <td>0.584930</td>\n",
       "    </tr>\n",
       "    <tr>\n",
       "      <th>ID3</th>\n",
       "      <td>0.754735</td>\n",
       "    </tr>\n",
       "    <tr>\n",
       "      <th>ID4</th>\n",
       "      <td>0.887771</td>\n",
       "    </tr>\n",
       "    <tr>\n",
       "      <th>ID5</th>\n",
       "      <td>0.957661</td>\n",
       "    </tr>\n",
       "    <tr>\n",
       "      <th>ID6</th>\n",
       "      <td>0.991248</td>\n",
       "    </tr>\n",
       "    <tr>\n",
       "      <th>ID7</th>\n",
       "      <td>0.998545</td>\n",
       "    </tr>\n",
       "    <tr>\n",
       "      <th>ID8</th>\n",
       "      <td>1.000000</td>\n",
       "    </tr>\n",
       "  </tbody>\n",
       "</table>\n",
       "</div>"
      ],
      "text/plain": [
       "     explained_variance\n",
       "ID1            0.298606\n",
       "ID2            0.584930\n",
       "ID3            0.754735\n",
       "ID4            0.887771\n",
       "ID5            0.957661\n",
       "ID6            0.991248\n",
       "ID7            0.998545\n",
       "ID8            1.000000"
      ]
     },
     "execution_count": 16,
     "metadata": {},
     "output_type": "execute_result"
    }
   ],
   "source": [
    "def explained_variance(data_set):\n",
    "    \"\"\"\n",
    "    Find the cumulative sum array of explained variance \n",
    "    \n",
    "    Parameters\n",
    "    ----------\n",
    "    data : np.array(ndim=n, size=m)\n",
    "        observations that were generated \n",
    "        by a model or data provided\n",
    "    \n",
    "    Returns\n",
    "    -------\n",
    "    sum_explained : np.array\n",
    "        Percentage of the variance explained (how each component cumulatively explain the variance)\n",
    "    \"\"\"\n",
    "    \n",
    "    #Centering the data\n",
    "    data_centered = data_set - np.mean(data_set, axis=0)\n",
    "    \n",
    "    #Get covariance matrix\n",
    "    data_centered_cov = np.cov(data_centered, rowvar=False)    \n",
    "    \n",
    "    #Get the eigenvalues and eigenvectors\n",
    "    eigen_values, eigen_vectors = np.linalg.eigh(data_centered_cov)\n",
    "    \n",
    "    #Sum the eigenvalues\n",
    "    total_values = sum(eigen_values)\n",
    "    \n",
    "    #Then use them to see how much they will explain of the variance\n",
    "    explained_var = [(i/total_values) for i in sorted(eigen_values, reverse=True)]\n",
    "    \n",
    "    #This function sees how they cumulatively explain the variance\n",
    "    sum_explained = np.cumsum(explained_var)\n",
    "    \n",
    "    return sum_explained\n",
    "\n",
    "sum_explained2 = explained_variance(data1)\n",
    "\n",
    "#See how the explained variance look like in a dataframe\n",
    "index_components=['ID1','ID2','ID3','ID4','ID5','ID6','ID7','ID8']\n",
    "explained_frame = pd.DataFrame(sum_explained2, index_components, columns = ['explained_variance'])\n",
    "explained_frame"
   ]
  },
  {
   "cell_type": "markdown",
   "metadata": {},
   "source": [
    "Visually, the logic is the following:"
   ]
  },
  {
   "cell_type": "code",
   "execution_count": 17,
   "metadata": {},
   "outputs": [
    {
     "data": {
      "image/png": "[encoded data removed]",
      "text/plain": [
       "<Figure size 432x288 with 1 Axes>"
      ]
     },
     "metadata": {
      "needs_background": "light"
     },
     "output_type": "display_data"
    }
   ],
   "source": [
    "#Cumulative explanation of the variance for the addition of each principal component\n",
    "plt.step(index_components, explained_frame,\n",
    "where='pre', label=\"Explained Variance\")\n",
    "\n",
    "#Name labels and titles\n",
    "plt.ylabel(\"Explained Variance\")\n",
    "plt.xlabel(\"Principal Components\")\n",
    "plt.title(\"How each Principal Component explains the Variance\")\n",
    "\n",
    "#Add vertical line to show where the principal component analysis is close to reach 95% of the explained variance\n",
    "id_annotation = 'ID5'\n",
    "plt.axvline(x=id_annotation, linestyle='dashed', color='black', linewidth=1)\n",
    "plt.annotate(\"Number of IDs to 95% var.\", xy=[id_annotation, .5], horizontalalignment='right')\n",
    "\n",
    "#Show chart\n",
    "plt.tight_layout()\n",
    "plt.show()"
   ]
  },
  {
   "cell_type": "markdown",
   "metadata": {},
   "source": [
    "We can see that, at the margin, each step explains less of the variance. \n",
    "\n",
    "For example, the addition of the first component explains about 15% of the variance. The addition of the last component adds only about 5%-points of explanation of the variance.\n",
    "\n",
    "Note that the function below is a replica of the others, but ending on the \"explained_var\" step. In this case, we don't use a step chart as a line makes easier to see the marginal change."
   ]
  },
  {
   "cell_type": "code",
   "execution_count": 18,
   "metadata": {},
   "outputs": [
    {
     "data": {
      "image/png": "[encoded data removed]",
      "text/plain": [
       "<Figure size 432x288 with 1 Axes>"
      ]
     },
     "metadata": {
      "needs_background": "light"
     },
     "output_type": "display_data"
    }
   ],
   "source": [
    "def marginal_variance(data_set):\n",
    "    \"\"\"\n",
    "    Find the cumulative sum array of explained variance \n",
    "    \n",
    "    Parameters\n",
    "    ----------\n",
    "    data : np.array(ndim=n, size=m)\n",
    "        observations that were generated \n",
    "        by a model or data provided\n",
    "    \n",
    "    Returns\n",
    "    -------\n",
    "    explained_var : list\n",
    "        Percentage of the variance explained at the margin (how each component explain the variance)\n",
    "    \"\"\"\n",
    "    \n",
    "    #Centering the data\n",
    "    data_centered = data_set - np.mean(data_set, axis=0)\n",
    "    \n",
    "    #Get covariance matrix\n",
    "    data_centered_cov = np.cov(data_centered, rowvar=False)    \n",
    "    \n",
    "    #Get the eigenvalues and eigenvectors\n",
    "    eigen_values, eigen_vectors = np.linalg.eigh(data_centered_cov)\n",
    "    \n",
    "    #Sum the eigenvalues\n",
    "    total_values = sum(eigen_values)\n",
    "    \n",
    "    #Then use them to see how much they will explain of the variance\n",
    "    explained_var = [(i/total_values) for i in sorted(eigen_values, reverse=True)]\n",
    "    \n",
    "    return explained_var\n",
    "\n",
    "#Marginal explanation of variance\n",
    "explained_var2 = marginal_variance(data1)\n",
    "\n",
    "#Charting how the marginal explanation evolves by each principal component\n",
    "plt.plot(index_components, explained_var2, label=\"Marginal Explained Variance\")\n",
    "\n",
    "#Name labels and titles\n",
    "plt.ylabel(\"Marginal Explained Variance\")\n",
    "plt.xlabel(\"Principal Components\")\n",
    "plt.title(\"Marginal increase of explained variance by each component\")\n",
    "\n",
    "#Show chart\n",
    "plt.tight_layout()\n",
    "plt.show()"
   ]
  },
  {
   "cell_type": "markdown",
   "metadata": {
    "tags": []
   },
   "source": [
    "#### 6. Application: Image recognition"
   ]
  },
  {
   "cell_type": "markdown",
   "metadata": {},
   "source": [
    "Let's test the ability of our function, given a set of principal components, of replicating the QuantEcon logo.\n",
    "\n",
    "First, we will download the packages and get the image from the web."
   ]
  },
  {
   "cell_type": "code",
   "execution_count": 19,
   "metadata": {},
   "outputs": [
    {
     "name": "stdout",
     "output_type": "stream",
     "text": [
      "(163, 310, 4)\n"
     ]
    },
    {
     "data": {
      "text/plain": [
       "<matplotlib.image.AxesImage at 0x7f229bac46d0>"
      ]
     },
     "execution_count": 19,
     "metadata": {},
     "output_type": "execute_result"
    },
    {
     "data": {
      "image/png": "[encoded data removed]",
      "text/plain": [
       "<Figure size 432x288 with 1 Axes>"
      ]
     },
     "metadata": {
      "needs_background": "light"
     },
     "output_type": "display_data"
    }
   ],
   "source": [
    "img = mpimg.imread('quantecon')\n",
    "print(img.shape)\n",
    "plt.imshow(img)"
   ]
  },
  {
   "cell_type": "markdown",
   "metadata": {},
   "source": [
    "Our image is in the form of 163 rows each containing 310 pixels which have 4 channels (RGB). We have to resize the image so that it is in the format required for PCA input. As 310*4=1240, we resize the image to (163, 1240)."
   ]
  },
  {
   "cell_type": "markdown",
   "metadata": {},
   "source": [
    "Let's use a package to see how it fits the original image of the QuantEcon logo, to see if our function works as well as the package's."
   ]
  },
  {
   "cell_type": "code",
   "execution_count": 20,
   "metadata": {},
   "outputs": [
    {
     "data": {
      "application/vnd.jupyter.widget-view+json": {
       "model_id": "5ebed8f4ba9b4f7cb6632160fc36c8cd",
       "version_major": 2,
       "version_minor": 0
      },
      "text/plain": [
       "interactive(children=(FloatSlider(value=6.0, description='Factors', max=32.0, min=1.0, step=1.0), Output()), _…"
      ]
     },
     "metadata": {},
     "output_type": "display_data"
    },
    {
     "data": {
      "text/plain": [
       "<function __main__.image_recognition(Factors)>"
      ]
     },
     "execution_count": 20,
     "metadata": {},
     "output_type": "execute_result"
    }
   ],
   "source": [
    "#Define the image to be used\n",
    "image = img\n",
    "\n",
    "#Create a function to add to the interaction tool\n",
    "def image_recognition(Factors):\n",
    "    \"\"\"\n",
    "    Reconstruct an image using a PCA\n",
    "    Use the PCA package from sklearn as a function to fit into a slider\n",
    "    \n",
    "    Parameters\n",
    "    ----------\n",
    "    Factors : int\n",
    "        Number of principal components you want to use\n",
    "    \n",
    "    Returns\n",
    "    -------\n",
    "    plot : module\n",
    "        Plot reconstructing the image\n",
    "    \"\"\"    \n",
    "    \n",
    "    #Reshape image\n",
    "    img_r = np.reshape(image, (163, 310*4)) \n",
    "    \n",
    "    #Define the model using the PCA package and the number of Principal Components (\"Factors\")\n",
    "    pca = PCA(int(Factors)).fit(img_r) \n",
    "    \n",
    "    #Apply eigenvectors to dataset\n",
    "    img_transformed = pca.transform(img_r) \n",
    "    \n",
    "    #Reconstruct the image\n",
    "    temp = pca.inverse_transform(img_transformed)\n",
    "    \n",
    "    #Reshape it back\n",
    "    temp = np.reshape(temp, (163, 310 , 4)) \n",
    "    \n",
    "    #Build the plot\n",
    "    plt.imshow(temp)\n",
    "\n",
    "#Use slider to interact and see how many components you need to reconstruct it \n",
    "interact(image_recognition, Factors=FloatSlider(value=6, min=1, max=32, step=1))"
   ]
  },
  {
   "cell_type": "markdown",
   "metadata": {},
   "source": [
    "Let's use our algorithm (function of principal component analysis) to see how it fits the original image of the QuantEcon logo."
   ]
  },
  {
   "cell_type": "code",
   "execution_count": 21,
   "metadata": {},
   "outputs": [
    {
     "data": {
      "application/vnd.jupyter.widget-view+json": {
       "model_id": "ce2b37c7915a4679bc669113bfeb46d0",
       "version_major": 2,
       "version_minor": 0
      },
      "text/plain": [
       "interactive(children=(FloatSlider(value=6.0, description='Factors', max=32.0, min=1.0, step=1.0), Output()), _…"
      ]
     },
     "metadata": {},
     "output_type": "display_data"
    },
    {
     "data": {
      "text/plain": [
       "<function __main__.image_recognition_va(Factors)>"
      ]
     },
     "execution_count": 21,
     "metadata": {},
     "output_type": "execute_result"
    }
   ],
   "source": [
    "#Define the image to be used\n",
    "image = img\n",
    "\n",
    "def image_recognition_va(Factors):\n",
    "    \"\"\"\n",
    "    Reconstruct an image using our own algorithm\n",
    "    Use it as a function to fit into a slider\n",
    "    \n",
    "    Parameters\n",
    "    ----------\n",
    "    Factors : int\n",
    "        Number of principal components you want to use\n",
    "    \n",
    "    Returns\n",
    "    -------\n",
    "    plot : module\n",
    "        Plot reconstructing the image\n",
    "    \"\"\"   \n",
    "\n",
    "    #Reshape image (as above)\n",
    "    img_r_va = np.reshape(img, (163, 310*4)) \n",
    "\n",
    "    #This step covers three parts (similar to transform in the sklearn package): \n",
    "    #Define the model using the PCA package and the number of Principal Components (\"Factors\")   \n",
    "    #Apply eigenvectors to dataset\n",
    "    pca_transform_va = principal_component_analysis(img_r_va, int(Factors))\n",
    "\n",
    "    #These additional steps are needed to transform the principal components back into the image \n",
    "    #Reconstruct the image using the inverse_transform package (just matrix multiplications)\n",
    "    temp_va = pca_transform_va.inverse_transform(img_r_va)\n",
    "\n",
    "    #Reshape it back\n",
    "    temp_va = np.reshape(temp_va, (163, 310 , 4)) \n",
    "    \n",
    "    #Build the plot\n",
    "    plt.imshow(temp_va)\n",
    "\n",
    "interact(\n",
    "    image_recognition_va, \n",
    "    Factors=FloatSlider(value=6, min=1, max=32, step=1),\n",
    ")"
   ]
  },
  {
   "cell_type": "code",
   "execution_count": 22,
   "metadata": {},
   "outputs": [
    {
     "ename": "NameError",
     "evalue": "name 'self' is not defined",
     "output_type": "error",
     "traceback": [
      "\u001b[0;31m---------------------------------------------------------------------------\u001b[0m",
      "\u001b[0;31mNameError\u001b[0m                                 Traceback (most recent call last)",
      "\u001b[0;32m/tmp/ipykernel_411/2875626111.py\u001b[0m in \u001b[0;36m<module>\u001b[0;34m\u001b[0m\n\u001b[1;32m      7\u001b[0m \u001b[0;31m#temp_va = pca_transform_va.inverse_transform(img_r_va)\u001b[0m\u001b[0;34m\u001b[0m\u001b[0;34m\u001b[0m\u001b[0m\n\u001b[1;32m      8\u001b[0m \u001b[0;34m\u001b[0m\u001b[0m\n\u001b[0;32m----> 9\u001b[0;31m \u001b[0mtemp_va\u001b[0m\u001b[0;34m=\u001b[0m\u001b[0mnp\u001b[0m\u001b[0;34m.\u001b[0m\u001b[0mdot\u001b[0m\u001b[0;34m(\u001b[0m\u001b[0mpca_transform_va\u001b[0m\u001b[0;34m,\u001b[0m\u001b[0mnp\u001b[0m\u001b[0;34m.\u001b[0m\u001b[0msqrt\u001b[0m\u001b[0;34m(\u001b[0m\u001b[0mself\u001b[0m\u001b[0;34m.\u001b[0m\u001b[0mexplained_variance_\u001b[0m\u001b[0;34m[\u001b[0m\u001b[0;34m:\u001b[0m\u001b[0;34m,\u001b[0m \u001b[0mnp\u001b[0m\u001b[0;34m.\u001b[0m\u001b[0mnewaxis\u001b[0m\u001b[0;34m]\u001b[0m\u001b[0;34m)\u001b[0m \u001b[0;34m*\u001b[0m \u001b[0mpca_transform_va\u001b[0m\u001b[0;34m.\u001b[0m\u001b[0mT\u001b[0m\u001b[0;34m,\u001b[0m\u001b[0;34m)\u001b[0m \u001b[0;34m+\u001b[0m \u001b[0mnp\u001b[0m\u001b[0;34m.\u001b[0m\u001b[0mmean\u001b[0m\u001b[0;34m(\u001b[0m\u001b[0mpca_transform_va\u001b[0m\u001b[0;34m)\u001b[0m\u001b[0;34m\u001b[0m\u001b[0;34m\u001b[0m\u001b[0m\n\u001b[0m\u001b[1;32m     10\u001b[0m \u001b[0;34m\u001b[0m\u001b[0m\n\u001b[1;32m     11\u001b[0m \u001b[0mtemp_va\u001b[0m \u001b[0;34m=\u001b[0m \u001b[0mnp\u001b[0m\u001b[0;34m.\u001b[0m\u001b[0mreshape\u001b[0m\u001b[0;34m(\u001b[0m\u001b[0mtemp_va\u001b[0m\u001b[0;34m,\u001b[0m \u001b[0;34m(\u001b[0m\u001b[0;36m163\u001b[0m\u001b[0;34m,\u001b[0m \u001b[0;36m310\u001b[0m \u001b[0;34m,\u001b[0m \u001b[0;36m4\u001b[0m\u001b[0;34m)\u001b[0m\u001b[0;34m)\u001b[0m\u001b[0;34m\u001b[0m\u001b[0;34m\u001b[0m\u001b[0m\n",
      "\u001b[0;31mNameError\u001b[0m: name 'self' is not defined"
     ]
    }
   ],
   "source": [
    "#Find out how to inverse transform\n",
    "\n",
    "img_r_va = np.reshape(img, (163, 310*4)) \n",
    "\n",
    "pca_transform_va = principal_component_analysis(img_r_va, 6)\n",
    "\n",
    "#temp_va = pca_transform_va.inverse_transform(img_r_va)\n",
    "\n",
    "temp_va=np.dot(pca_transform_va,np.sqrt(self.explained_variance_[:, np.newaxis]) * pca_transform_va.T,) + np.mean(pca_transform_va)\n",
    "\n",
    "temp_va = np.reshape(temp_va, (163, 310 , 4)) \n",
    "\n",
    "plt.imshow(temp_va)\n",
    "\n"
   ]
  },
  {
   "cell_type": "code",
   "execution_count": null,
   "metadata": {},
   "outputs": [],
   "source": [
    "\n",
    "img_r = np.reshape(image, (163, 310*4)) \n",
    "    \n",
    "pca = PCA(6).fit(img_r) \n",
    "    \n",
    "img_transformed = pca.transform(img_r) \n",
    "\n",
    "temp = pca.inverse_transform(img_transformed)\n",
    "    \n",
    "temp = np.reshape(temp, (163, 310 , 4)) \n",
    "    \n",
    "plt.imshow(temp)"
   ]
  },
  {
   "cell_type": "markdown",
   "metadata": {},
   "source": [
    "Ask Chase to see if can help to debug last part. Problem: cannot adapt the inverse transformation part.\n",
    "\n",
    "https://github.com/scikit-learn/scikit-learn/blob/0d378913be6d7e485b792ea36e9268be31ed52d0/sklearn/decomposition/_base.py#L156"
   ]
  },
  {
   "cell_type": "markdown",
   "metadata": {
    "tags": []
   },
   "source": [
    "#### 7. References"
   ]
  },
  {
   "cell_type": "markdown",
   "metadata": {},
   "source": [
    "1. Towards Science: A One-Stop Shop for Principal Component Analysis (https://towardsdatascience.com/a-one-stop-shop-for-principal-component-analysis-5582fb7e0a9c).\n",
    "\n",
    "2. In Depth: Principal Component Analysis (https://jakevdp.github.io/PythonDataScienceHandbook/05.09-principal-component-analysis.html).\n",
    "\n",
    "3. Advanced Data Analysis from an Elementary Point of View (https://www.stat.cmu.edu/~cshalizi/uADA/15/lectures/17.pdf).\n",
    "\n",
    "4. Applications of Principal Component Analysis (PCA) (https://iq.opengenus.org/applications-of-pca/).\n",
    "\n",
    "5. SciKit Learn package (https://github.com/scikit-learn/scikit-learn/blob/0d378913be6d7e485b792ea36e9268be31ed52d0/sklearn/decomposition/_base.py#L156)"
   ]
  }
 ],
 "metadata": {
  "interpreter": {
   "hash": "167380c844cb8dab65f7a2242fcdd292fd16a45a4bab8a9de8ac74aeee39fadd"
  },
  "kernelspec": {
   "display_name": "Python 3 (ipykernel)",
   "language": "python",
   "name": "python3"
  },
  "language_info": {
   "codemirror_mode": {
    "name": "ipython",
    "version": 3
   },
   "file_extension": ".py",
   "mimetype": "text/x-python",
   "name": "python",
   "nbconvert_exporter": "python",
   "pygments_lexer": "ipython3",
   "version": "3.9.7"
  }
 },
 "nbformat": 4,
 "nbformat_minor": 4
}
