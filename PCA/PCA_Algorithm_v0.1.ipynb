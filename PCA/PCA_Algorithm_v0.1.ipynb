{
 "cells": [
  {
   "cell_type": "markdown",
   "metadata": {},
   "source": [
    "This notebook was prepared by: \n",
    "\n",
    "Alex Ferrante (af3913@nyu.edu)\n",
    "\n",
    "Vinicius Moreira (vgm236@nyu.edu)\n",
    "\n",
    "Graduate School of Arts and Science (GSAS) at New York University (NYU)\n",
    "\n",
    "December 2021"
   ]
  },
  {
   "cell_type": "markdown",
   "metadata": {
    "tags": []
   },
   "source": [
    "### Principal Component Analysis (PCA)"
   ]
  },
  {
   "cell_type": "code",
   "execution_count": 1,
   "metadata": {},
   "outputs": [],
   "source": [
    "#Import all packages\n",
    "from bisect import bisect_left\n",
    "from IPython.display import Image\n",
    "import numpy as np\n",
    "import pandas as pd\n",
    "import matplotlib.pyplot as plt\n",
    "import matplotlib.image as mpimg \n",
    "from sklearn.decomposition import PCA\n",
    "from ipywidgets import interact, FloatSlider\n",
    "\n",
    "import random\n",
    "random.seed(10)\n",
    "\n",
    "%matplotlib inline"
   ]
  },
  {
   "cell_type": "markdown",
   "metadata": {
    "tags": []
   },
   "source": [
    "#### 1. What is a PCA?"
   ]
  },
  {
   "cell_type": "markdown",
   "metadata": {},
   "source": [
    "Principal component analysis is an unsupervised algorithm, based on feature correlation, used for dimensionality reduction. The premise is simple to take data of higher dimensions, and reduce to a lower dimension. \n",
    "\n",
    "Often times, in higher dimensional data, it isn't possible to create visual representations of relationships between variables. Through applying PCA, it then becomes possible to reduce the dimensions of the data and display variable relationships. This tool also allows easier visualization and noise filtering, among other applications.\n",
    "\n",
    "In other words, it allows us to drop the \"least important\" variables and retain the most important parts. In addition, each new variable (the components) will be orthogonal/independent from each other, allowing them to ensure one of the main assumptions of a linear regression."
   ]
  },
  {
   "cell_type": "markdown",
   "metadata": {},
   "source": [
    "The PCA must be used when three conditions apply:\n",
    "\n",
    "- Reduce the number of variables\n",
    "- Ensure that each variable is independent of one another\n",
    "- Assume that the interpretation of the independent variables is less important"
   ]
  },
  {
   "cell_type": "markdown",
   "metadata": {},
   "source": [
    "#### 2. How does a PCA work?"
   ]
  },
  {
   "cell_type": "markdown",
   "metadata": {},
   "source": [
    "a. Calculate a matrix that summarizes how the variables are related one another (the covariance matrix).\n",
    "\n",
    "b. Then separate it between direction (eigenvectors) and magnitude (eigenvalues)\n",
    "\n",
    "c. By projecting the data into a smaller space, we reduce dimension, but keep the original variables in our model"
   ]
  },
  {
   "cell_type": "markdown",
   "metadata": {},
   "source": [
    "Mathematically, the first principal component is the direction in space along which projections have the largest variance. The second principal component is the direction which maximizes variance among all directions orthogonal to the first. The kth component is the variance-maximizing direction orthogonal to the previous k-1 components.\n",
    "\n",
    "Once we have the principal components, we need do determine how many features to keep versus how many to drop. The most common methods are:\n",
    "\n",
    "- Arbitrarily select how many dimensions to keep.\n",
    "- Calculate the proportion of variance explained. One might also choose the proportion of variance explained by each component."
   ]
  },
  {
   "cell_type": "markdown",
   "metadata": {},
   "source": [
    "#### 3. Visual representation: Regression vs. PCA"
   ]
  },
  {
   "cell_type": "markdown",
   "metadata": {},
   "source": [
    "A regression is a straight line that best fits the data, and a PCA is a orthogonal transformation to form the principal components (or linear combinations of the variables\n",
    "\n",
    "The image below illustrates the difference:"
   ]
  },
  {
   "cell_type": "code",
   "execution_count": 2,
   "metadata": {},
   "outputs": [
    {
     "data": {
      "image/jpeg": "[encoded data removed]",
      "text/plain": [
       "<IPython.core.display.Image object>"
      ]
     },
     "execution_count": 2,
     "metadata": {
      "image/jpeg": {
       "height": 400,
       "width": 400
      }
     },
     "output_type": "execute_result"
    }
   ],
   "source": [
    "Image(filename=\"image_reg_pca.jpg\", width=400, height=400)"
   ]
  },
  {
   "cell_type": "markdown",
   "metadata": {},
   "source": [
    "#### 4. Theoretical example, step by step"
   ]
  },
  {
   "cell_type": "markdown",
   "metadata": {},
   "source": [
    "The next section will work through the steps of how a PCA algorithm works using a toy dataset."
   ]
  },
  {
   "cell_type": "markdown",
   "metadata": {},
   "source": [
    "First, we will begin by creating a random distribution of data in a higher dimensional shape (we arbitrarily, for the sake of example, choose 10 variables)."
   ]
  },
  {
   "cell_type": "code",
   "execution_count": 3,
   "metadata": {},
   "outputs": [
    {
     "data": {
      "text/html": [
       "<div>\n",
       "<style scoped>\n",
       "    .dataframe tbody tr th:only-of-type {\n",
       "        vertical-align: middle;\n",
       "    }\n",
       "\n",
       "    .dataframe tbody tr th {\n",
       "        vertical-align: top;\n",
       "    }\n",
       "\n",
       "    .dataframe thead th {\n",
       "        text-align: right;\n",
       "    }\n",
       "</style>\n",
       "<table border=\"1\" class=\"dataframe\">\n",
       "  <thead>\n",
       "    <tr style=\"text-align: right;\">\n",
       "      <th></th>\n",
       "      <th>Data1</th>\n",
       "      <th>Data2</th>\n",
       "      <th>Data3</th>\n",
       "      <th>Data4</th>\n",
       "      <th>Data5</th>\n",
       "      <th>Data6</th>\n",
       "      <th>Data7</th>\n",
       "      <th>Data8</th>\n",
       "      <th>Data9</th>\n",
       "      <th>Data10</th>\n",
       "    </tr>\n",
       "  </thead>\n",
       "  <tbody>\n",
       "    <tr>\n",
       "      <th>0</th>\n",
       "      <td>2</td>\n",
       "      <td>2</td>\n",
       "      <td>4</td>\n",
       "      <td>8</td>\n",
       "      <td>4</td>\n",
       "      <td>8</td>\n",
       "      <td>5</td>\n",
       "      <td>1</td>\n",
       "      <td>4</td>\n",
       "      <td>6</td>\n",
       "    </tr>\n",
       "    <tr>\n",
       "      <th>1</th>\n",
       "      <td>3</td>\n",
       "      <td>2</td>\n",
       "      <td>7</td>\n",
       "      <td>7</td>\n",
       "      <td>6</td>\n",
       "      <td>6</td>\n",
       "      <td>9</td>\n",
       "      <td>8</td>\n",
       "      <td>8</td>\n",
       "      <td>4</td>\n",
       "    </tr>\n",
       "    <tr>\n",
       "      <th>2</th>\n",
       "      <td>7</td>\n",
       "      <td>7</td>\n",
       "      <td>1</td>\n",
       "      <td>2</td>\n",
       "      <td>5</td>\n",
       "      <td>1</td>\n",
       "      <td>1</td>\n",
       "      <td>2</td>\n",
       "      <td>3</td>\n",
       "      <td>7</td>\n",
       "    </tr>\n",
       "    <tr>\n",
       "      <th>3</th>\n",
       "      <td>3</td>\n",
       "      <td>1</td>\n",
       "      <td>8</td>\n",
       "      <td>5</td>\n",
       "      <td>2</td>\n",
       "      <td>7</td>\n",
       "      <td>6</td>\n",
       "      <td>2</td>\n",
       "      <td>6</td>\n",
       "      <td>8</td>\n",
       "    </tr>\n",
       "    <tr>\n",
       "      <th>4</th>\n",
       "      <td>8</td>\n",
       "      <td>3</td>\n",
       "      <td>8</td>\n",
       "      <td>7</td>\n",
       "      <td>5</td>\n",
       "      <td>6</td>\n",
       "      <td>7</td>\n",
       "      <td>1</td>\n",
       "      <td>4</td>\n",
       "      <td>6</td>\n",
       "    </tr>\n",
       "  </tbody>\n",
       "</table>\n",
       "</div>"
      ],
      "text/plain": [
       "   Data1  Data2  Data3  Data4  Data5  Data6  Data7  Data8  Data9  Data10\n",
       "0      2      2      4      8      4      8      5      1      4       6\n",
       "1      3      2      7      7      6      6      9      8      8       4\n",
       "2      7      7      1      2      5      1      1      2      3       7\n",
       "3      3      1      8      5      2      7      6      2      6       8\n",
       "4      8      3      8      7      5      6      7      1      4       6"
      ]
     },
     "execution_count": 3,
     "metadata": {},
     "output_type": "execute_result"
    }
   ],
   "source": [
    "#We will use this data as numpy array (from 1 to 10)\n",
    "data = np.random.randint(1, 10, 1000).reshape(100, 10)\n",
    "\n",
    "#To make it easier to visualize, let's put into a dataframe\n",
    "data_frame = pd.DataFrame(data, columns = ['Data1','Data2','Data3','Data4','Data5','Data6','Data7','Data8','Data9','Data10'])\n",
    "data_frame.head()"
   ]
  },
  {
   "cell_type": "markdown",
   "metadata": {},
   "source": [
    "The first step in PCA implementation is to find the mean of each variable and then subtract the mean from each respective row. \n",
    "\n",
    "For example, you find the mean of the first variable by taking the mean of all the values in the first column, then subtract the values in the first row (axis=0) by the mean of this \n",
    "first variable. \n",
    "\n",
    "By subtracting the means from each of the dimensions, we will then be left with a dataset that has a mean of zero and is considered \"centered.\"\n",
    "\n",
    "This is the normalization of our variables."
   ]
  },
  {
   "cell_type": "code",
   "execution_count": 4,
   "metadata": {},
   "outputs": [
    {
     "data": {
      "text/html": [
       "<div>\n",
       "<style scoped>\n",
       "    .dataframe tbody tr th:only-of-type {\n",
       "        vertical-align: middle;\n",
       "    }\n",
       "\n",
       "    .dataframe tbody tr th {\n",
       "        vertical-align: top;\n",
       "    }\n",
       "\n",
       "    .dataframe thead th {\n",
       "        text-align: right;\n",
       "    }\n",
       "</style>\n",
       "<table border=\"1\" class=\"dataframe\">\n",
       "  <thead>\n",
       "    <tr style=\"text-align: right;\">\n",
       "      <th></th>\n",
       "      <th>Data1</th>\n",
       "      <th>Data2</th>\n",
       "      <th>Data3</th>\n",
       "      <th>Data4</th>\n",
       "      <th>Data5</th>\n",
       "      <th>Data6</th>\n",
       "      <th>Data7</th>\n",
       "      <th>Data8</th>\n",
       "      <th>Data9</th>\n",
       "      <th>Data10</th>\n",
       "    </tr>\n",
       "  </thead>\n",
       "  <tbody>\n",
       "    <tr>\n",
       "      <th>0</th>\n",
       "      <td>-2.78</td>\n",
       "      <td>-2.76</td>\n",
       "      <td>-0.76</td>\n",
       "      <td>2.42</td>\n",
       "      <td>-0.81</td>\n",
       "      <td>3.35</td>\n",
       "      <td>0.46</td>\n",
       "      <td>-3.71</td>\n",
       "      <td>-1.75</td>\n",
       "      <td>1.08</td>\n",
       "    </tr>\n",
       "    <tr>\n",
       "      <th>1</th>\n",
       "      <td>-1.78</td>\n",
       "      <td>-2.76</td>\n",
       "      <td>2.24</td>\n",
       "      <td>1.42</td>\n",
       "      <td>1.19</td>\n",
       "      <td>1.35</td>\n",
       "      <td>4.46</td>\n",
       "      <td>3.29</td>\n",
       "      <td>2.25</td>\n",
       "      <td>-0.92</td>\n",
       "    </tr>\n",
       "    <tr>\n",
       "      <th>2</th>\n",
       "      <td>2.22</td>\n",
       "      <td>2.24</td>\n",
       "      <td>-3.76</td>\n",
       "      <td>-3.58</td>\n",
       "      <td>0.19</td>\n",
       "      <td>-3.65</td>\n",
       "      <td>-3.54</td>\n",
       "      <td>-2.71</td>\n",
       "      <td>-2.75</td>\n",
       "      <td>2.08</td>\n",
       "    </tr>\n",
       "    <tr>\n",
       "      <th>3</th>\n",
       "      <td>-1.78</td>\n",
       "      <td>-3.76</td>\n",
       "      <td>3.24</td>\n",
       "      <td>-0.58</td>\n",
       "      <td>-2.81</td>\n",
       "      <td>2.35</td>\n",
       "      <td>1.46</td>\n",
       "      <td>-2.71</td>\n",
       "      <td>0.25</td>\n",
       "      <td>3.08</td>\n",
       "    </tr>\n",
       "    <tr>\n",
       "      <th>4</th>\n",
       "      <td>3.22</td>\n",
       "      <td>-1.76</td>\n",
       "      <td>3.24</td>\n",
       "      <td>1.42</td>\n",
       "      <td>0.19</td>\n",
       "      <td>1.35</td>\n",
       "      <td>2.46</td>\n",
       "      <td>-3.71</td>\n",
       "      <td>-1.75</td>\n",
       "      <td>1.08</td>\n",
       "    </tr>\n",
       "  </tbody>\n",
       "</table>\n",
       "</div>"
      ],
      "text/plain": [
       "   Data1  Data2  Data3  Data4  Data5  Data6  Data7  Data8  Data9  Data10\n",
       "0  -2.78  -2.76  -0.76   2.42  -0.81   3.35   0.46  -3.71  -1.75    1.08\n",
       "1  -1.78  -2.76   2.24   1.42   1.19   1.35   4.46   3.29   2.25   -0.92\n",
       "2   2.22   2.24  -3.76  -3.58   0.19  -3.65  -3.54  -2.71  -2.75    2.08\n",
       "3  -1.78  -3.76   3.24  -0.58  -2.81   2.35   1.46  -2.71   0.25    3.08\n",
       "4   3.22  -1.76   3.24   1.42   0.19   1.35   2.46  -3.71  -1.75    1.08"
      ]
     },
     "execution_count": 4,
     "metadata": {},
     "output_type": "execute_result"
    }
   ],
   "source": [
    "#This is the formula to center the data around the mean\n",
    "data_centered = data - np.mean(data, axis = 0)\n",
    "\n",
    "#Again, to make it easier to visualize, let's put into a dataframe\n",
    "centered_frame = pd.DataFrame(data_centered, columns = ['Data1','Data2','Data3','Data4','Data5','Data6','Data7','Data8','Data9','Data10'])\n",
    "centered_frame.head()"
   ]
  },
  {
   "cell_type": "markdown",
   "metadata": {},
   "source": [
    "Construct the covariance matrix."
   ]
  },
  {
   "cell_type": "code",
   "execution_count": 5,
   "metadata": {},
   "outputs": [
    {
     "data": {
      "text/html": [
       "<div>\n",
       "<style scoped>\n",
       "    .dataframe tbody tr th:only-of-type {\n",
       "        vertical-align: middle;\n",
       "    }\n",
       "\n",
       "    .dataframe tbody tr th {\n",
       "        vertical-align: top;\n",
       "    }\n",
       "\n",
       "    .dataframe thead th {\n",
       "        text-align: right;\n",
       "    }\n",
       "</style>\n",
       "<table border=\"1\" class=\"dataframe\">\n",
       "  <thead>\n",
       "    <tr style=\"text-align: right;\">\n",
       "      <th></th>\n",
       "      <th>Data1</th>\n",
       "      <th>Data2</th>\n",
       "      <th>Data3</th>\n",
       "      <th>Data4</th>\n",
       "      <th>Data5</th>\n",
       "      <th>Data6</th>\n",
       "      <th>Data7</th>\n",
       "      <th>Data8</th>\n",
       "      <th>Data9</th>\n",
       "      <th>Data10</th>\n",
       "    </tr>\n",
       "  </thead>\n",
       "  <tbody>\n",
       "    <tr>\n",
       "      <th>0</th>\n",
       "      <td>6.759192</td>\n",
       "      <td>1.370909</td>\n",
       "      <td>-0.659394</td>\n",
       "      <td>-1.638788</td>\n",
       "      <td>0.594141</td>\n",
       "      <td>-0.522222</td>\n",
       "      <td>-0.708283</td>\n",
       "      <td>-0.902828</td>\n",
       "      <td>-0.267677</td>\n",
       "      <td>0.103434</td>\n",
       "    </tr>\n",
       "    <tr>\n",
       "      <th>1</th>\n",
       "      <td>1.370909</td>\n",
       "      <td>6.911515</td>\n",
       "      <td>0.184242</td>\n",
       "      <td>-1.243232</td>\n",
       "      <td>0.297374</td>\n",
       "      <td>-1.216162</td>\n",
       "      <td>-0.293333</td>\n",
       "      <td>-0.302626</td>\n",
       "      <td>0.666667</td>\n",
       "      <td>0.556364</td>\n",
       "    </tr>\n",
       "    <tr>\n",
       "      <th>2</th>\n",
       "      <td>-0.659394</td>\n",
       "      <td>0.184242</td>\n",
       "      <td>5.760000</td>\n",
       "      <td>0.948687</td>\n",
       "      <td>0.226667</td>\n",
       "      <td>-0.256566</td>\n",
       "      <td>-0.323636</td>\n",
       "      <td>-0.009697</td>\n",
       "      <td>-0.646465</td>\n",
       "      <td>-0.797172</td>\n",
       "    </tr>\n",
       "    <tr>\n",
       "      <th>3</th>\n",
       "      <td>-1.638788</td>\n",
       "      <td>-1.243232</td>\n",
       "      <td>0.948687</td>\n",
       "      <td>5.781414</td>\n",
       "      <td>-0.727071</td>\n",
       "      <td>0.548485</td>\n",
       "      <td>0.451313</td>\n",
       "      <td>0.614343</td>\n",
       "      <td>0.722222</td>\n",
       "      <td>-0.094545</td>\n",
       "    </tr>\n",
       "    <tr>\n",
       "      <th>4</th>\n",
       "      <td>0.594141</td>\n",
       "      <td>0.297374</td>\n",
       "      <td>0.226667</td>\n",
       "      <td>-0.727071</td>\n",
       "      <td>6.256465</td>\n",
       "      <td>-0.733838</td>\n",
       "      <td>-0.078182</td>\n",
       "      <td>0.186768</td>\n",
       "      <td>-0.684343</td>\n",
       "      <td>-0.671919</td>\n",
       "    </tr>\n",
       "  </tbody>\n",
       "</table>\n",
       "</div>"
      ],
      "text/plain": [
       "      Data1     Data2     Data3     Data4     Data5     Data6     Data7  \\\n",
       "0  6.759192  1.370909 -0.659394 -1.638788  0.594141 -0.522222 -0.708283   \n",
       "1  1.370909  6.911515  0.184242 -1.243232  0.297374 -1.216162 -0.293333   \n",
       "2 -0.659394  0.184242  5.760000  0.948687  0.226667 -0.256566 -0.323636   \n",
       "3 -1.638788 -1.243232  0.948687  5.781414 -0.727071  0.548485  0.451313   \n",
       "4  0.594141  0.297374  0.226667 -0.727071  6.256465 -0.733838 -0.078182   \n",
       "\n",
       "      Data8     Data9    Data10  \n",
       "0 -0.902828 -0.267677  0.103434  \n",
       "1 -0.302626  0.666667  0.556364  \n",
       "2 -0.009697 -0.646465 -0.797172  \n",
       "3  0.614343  0.722222 -0.094545  \n",
       "4  0.186768 -0.684343 -0.671919  "
      ]
     },
     "execution_count": 5,
     "metadata": {},
     "output_type": "execute_result"
    }
   ],
   "source": [
    "#This is the formula to construct the covariance matrix\n",
    "data_centered_cov = np.cov(data_centered, rowvar=False)\n",
    "\n",
    "#Once more time, to make it easier to visualize, let's put into a dataframe\n",
    "cov_frame = pd.DataFrame(data_centered_cov, columns = ['Data1','Data2','Data3','Data4','Data5','Data6','Data7','Data8','Data9','Data10'])\n",
    "cov_frame.head()"
   ]
  },
  {
   "cell_type": "markdown",
   "metadata": {},
   "source": [
    "Find the eigenvalues and eigenvectors."
   ]
  },
  {
   "cell_type": "code",
   "execution_count": 6,
   "metadata": {},
   "outputs": [
    {
     "data": {
      "text/html": [
       "<div>\n",
       "<style scoped>\n",
       "    .dataframe tbody tr th:only-of-type {\n",
       "        vertical-align: middle;\n",
       "    }\n",
       "\n",
       "    .dataframe tbody tr th {\n",
       "        vertical-align: top;\n",
       "    }\n",
       "\n",
       "    .dataframe thead th {\n",
       "        text-align: right;\n",
       "    }\n",
       "</style>\n",
       "<table border=\"1\" class=\"dataframe\">\n",
       "  <thead>\n",
       "    <tr style=\"text-align: right;\">\n",
       "      <th></th>\n",
       "      <th>Data1</th>\n",
       "      <th>Data2</th>\n",
       "      <th>Data3</th>\n",
       "      <th>Data4</th>\n",
       "      <th>Data5</th>\n",
       "      <th>Data6</th>\n",
       "      <th>Data7</th>\n",
       "      <th>Data8</th>\n",
       "      <th>Data9</th>\n",
       "      <th>Data10</th>\n",
       "    </tr>\n",
       "  </thead>\n",
       "  <tbody>\n",
       "    <tr>\n",
       "      <th>0</th>\n",
       "      <td>-0.099865</td>\n",
       "      <td>-0.417904</td>\n",
       "      <td>-0.316704</td>\n",
       "      <td>-0.497682</td>\n",
       "      <td>-0.300775</td>\n",
       "      <td>0.236088</td>\n",
       "      <td>0.137059</td>\n",
       "      <td>-0.175295</td>\n",
       "      <td>0.184141</td>\n",
       "      <td>-0.487616</td>\n",
       "    </tr>\n",
       "    <tr>\n",
       "      <th>1</th>\n",
       "      <td>0.434505</td>\n",
       "      <td>0.033235</td>\n",
       "      <td>0.237554</td>\n",
       "      <td>-0.037679</td>\n",
       "      <td>0.173573</td>\n",
       "      <td>-0.595583</td>\n",
       "      <td>0.330092</td>\n",
       "      <td>-0.023333</td>\n",
       "      <td>0.286278</td>\n",
       "      <td>-0.419454</td>\n",
       "    </tr>\n",
       "    <tr>\n",
       "      <th>2</th>\n",
       "      <td>-0.416908</td>\n",
       "      <td>0.168559</td>\n",
       "      <td>-0.009312</td>\n",
       "      <td>-0.631897</td>\n",
       "      <td>0.209613</td>\n",
       "      <td>-0.413190</td>\n",
       "      <td>0.009434</td>\n",
       "      <td>0.210930</td>\n",
       "      <td>-0.369695</td>\n",
       "      <td>0.049778</td>\n",
       "    </tr>\n",
       "    <tr>\n",
       "      <th>3</th>\n",
       "      <td>0.470589</td>\n",
       "      <td>-0.440151</td>\n",
       "      <td>-0.520005</td>\n",
       "      <td>-0.069141</td>\n",
       "      <td>0.001285</td>\n",
       "      <td>-0.289490</td>\n",
       "      <td>-0.096807</td>\n",
       "      <td>0.186904</td>\n",
       "      <td>-0.116469</td>\n",
       "      <td>0.409819</td>\n",
       "    </tr>\n",
       "    <tr>\n",
       "      <th>4</th>\n",
       "      <td>0.106577</td>\n",
       "      <td>0.217912</td>\n",
       "      <td>-0.467407</td>\n",
       "      <td>0.123745</td>\n",
       "      <td>0.575765</td>\n",
       "      <td>0.315209</td>\n",
       "      <td>0.397188</td>\n",
       "      <td>0.008224</td>\n",
       "      <td>-0.261744</td>\n",
       "      <td>-0.223999</td>\n",
       "    </tr>\n",
       "  </tbody>\n",
       "</table>\n",
       "</div>"
      ],
      "text/plain": [
       "      Data1     Data2     Data3     Data4     Data5     Data6     Data7  \\\n",
       "0 -0.099865 -0.417904 -0.316704 -0.497682 -0.300775  0.236088  0.137059   \n",
       "1  0.434505  0.033235  0.237554 -0.037679  0.173573 -0.595583  0.330092   \n",
       "2 -0.416908  0.168559 -0.009312 -0.631897  0.209613 -0.413190  0.009434   \n",
       "3  0.470589 -0.440151 -0.520005 -0.069141  0.001285 -0.289490 -0.096807   \n",
       "4  0.106577  0.217912 -0.467407  0.123745  0.575765  0.315209  0.397188   \n",
       "\n",
       "      Data8     Data9    Data10  \n",
       "0 -0.175295  0.184141 -0.487616  \n",
       "1 -0.023333  0.286278 -0.419454  \n",
       "2  0.210930 -0.369695  0.049778  \n",
       "3  0.186904 -0.116469  0.409819  \n",
       "4  0.008224 -0.261744 -0.223999  "
      ]
     },
     "execution_count": 6,
     "metadata": {},
     "output_type": "execute_result"
    }
   ],
   "source": [
    "#This is the formula to extract the eigenvectors and eigenvalues\n",
    "eigen_values1, eigen_vectors1 = np.linalg.eigh(data_centered_cov)\n",
    "\n",
    "#See how the eigenvectors look like in a dataframe\n",
    "vectors_frame = pd.DataFrame(eigen_vectors1, columns = ['Data1','Data2','Data3','Data4','Data5','Data6','Data7','Data8','Data9','Data10'])\n",
    "vectors_frame.head()"
   ]
  },
  {
   "cell_type": "code",
   "execution_count": 7,
   "metadata": {},
   "outputs": [
    {
     "data": {
      "text/html": [
       "<div>\n",
       "<style scoped>\n",
       "    .dataframe tbody tr th:only-of-type {\n",
       "        vertical-align: middle;\n",
       "    }\n",
       "\n",
       "    .dataframe tbody tr th {\n",
       "        vertical-align: top;\n",
       "    }\n",
       "\n",
       "    .dataframe thead th {\n",
       "        text-align: right;\n",
       "    }\n",
       "</style>\n",
       "<table border=\"1\" class=\"dataframe\">\n",
       "  <thead>\n",
       "    <tr style=\"text-align: right;\">\n",
       "      <th></th>\n",
       "      <th>eigenvalues</th>\n",
       "    </tr>\n",
       "  </thead>\n",
       "  <tbody>\n",
       "    <tr>\n",
       "      <th>Data1</th>\n",
       "      <td>3.485446</td>\n",
       "    </tr>\n",
       "    <tr>\n",
       "      <th>Data2</th>\n",
       "      <td>4.201231</td>\n",
       "    </tr>\n",
       "    <tr>\n",
       "      <th>Data3</th>\n",
       "      <td>4.775923</td>\n",
       "    </tr>\n",
       "    <tr>\n",
       "      <th>Data4</th>\n",
       "      <td>5.209729</td>\n",
       "    </tr>\n",
       "    <tr>\n",
       "      <th>Data5</th>\n",
       "      <td>5.962987</td>\n",
       "    </tr>\n",
       "    <tr>\n",
       "      <th>Data6</th>\n",
       "      <td>6.631681</td>\n",
       "    </tr>\n",
       "    <tr>\n",
       "      <th>Data7</th>\n",
       "      <td>6.987158</td>\n",
       "    </tr>\n",
       "    <tr>\n",
       "      <th>Data8</th>\n",
       "      <td>7.678416</td>\n",
       "    </tr>\n",
       "    <tr>\n",
       "      <th>Data9</th>\n",
       "      <td>8.707873</td>\n",
       "    </tr>\n",
       "    <tr>\n",
       "      <th>Data10</th>\n",
       "      <td>11.144202</td>\n",
       "    </tr>\n",
       "  </tbody>\n",
       "</table>\n",
       "</div>"
      ],
      "text/plain": [
       "        eigenvalues\n",
       "Data1      3.485446\n",
       "Data2      4.201231\n",
       "Data3      4.775923\n",
       "Data4      5.209729\n",
       "Data5      5.962987\n",
       "Data6      6.631681\n",
       "Data7      6.987158\n",
       "Data8      7.678416\n",
       "Data9      8.707873\n",
       "Data10    11.144202"
      ]
     },
     "execution_count": 7,
     "metadata": {},
     "output_type": "execute_result"
    }
   ],
   "source": [
    "#See how the eigenvalues look like in a dataframe\n",
    "values_frame = pd.DataFrame(eigen_values1, index=['Data1','Data2','Data3','Data4','Data5','Data6','Data7','Data8','Data9','Data10'], columns = ['eigenvalues'])\n",
    "values_frame"
   ]
  },
  {
   "cell_type": "markdown",
   "metadata": {},
   "source": [
    "Now, take the eigenvalues and eigenvectors and sort them in descending order."
   ]
  },
  {
   "cell_type": "code",
   "execution_count": 8,
   "metadata": {},
   "outputs": [],
   "source": [
    "index = np.argsort(eigen_values1)[::-1]\n",
    "\n",
    "sorted_values = eigen_values1[index]\n",
    "\n",
    "sorted_vectors = eigen_vectors1[:, index]"
   ]
  },
  {
   "cell_type": "markdown",
   "metadata": {},
   "source": [
    "Note that these eigenvectors are independent of one another (very low cross-correlation). Thus every principal components are perpendicular to one another (orthogonal)."
   ]
  },
  {
   "cell_type": "code",
   "execution_count": 22,
   "metadata": {},
   "outputs": [
    {
     "data": {
      "text/html": [
       "<div>\n",
       "<style scoped>\n",
       "    .dataframe tbody tr th:only-of-type {\n",
       "        vertical-align: middle;\n",
       "    }\n",
       "\n",
       "    .dataframe tbody tr th {\n",
       "        vertical-align: top;\n",
       "    }\n",
       "\n",
       "    .dataframe thead th {\n",
       "        text-align: right;\n",
       "    }\n",
       "</style>\n",
       "<table border=\"1\" class=\"dataframe\">\n",
       "  <thead>\n",
       "    <tr style=\"text-align: right;\">\n",
       "      <th></th>\n",
       "      <th>ID1</th>\n",
       "      <th>ID2</th>\n",
       "      <th>ID3</th>\n",
       "      <th>ID4</th>\n",
       "      <th>ID5</th>\n",
       "      <th>ID6</th>\n",
       "      <th>ID7</th>\n",
       "      <th>ID8</th>\n",
       "      <th>ID9</th>\n",
       "      <th>ID10</th>\n",
       "    </tr>\n",
       "  </thead>\n",
       "  <tbody>\n",
       "    <tr>\n",
       "      <th>ID1</th>\n",
       "      <td>1.000000</td>\n",
       "      <td>-0.058001</td>\n",
       "      <td>0.023475</td>\n",
       "      <td>-0.084829</td>\n",
       "      <td>0.038759</td>\n",
       "      <td>-0.070329</td>\n",
       "      <td>0.083604</td>\n",
       "      <td>0.068983</td>\n",
       "      <td>0.022378</td>\n",
       "      <td>0.001685</td>\n",
       "    </tr>\n",
       "    <tr>\n",
       "      <th>ID2</th>\n",
       "      <td>-0.058001</td>\n",
       "      <td>1.000000</td>\n",
       "      <td>0.053908</td>\n",
       "      <td>-0.194801</td>\n",
       "      <td>0.089006</td>\n",
       "      <td>-0.161504</td>\n",
       "      <td>0.191988</td>\n",
       "      <td>0.158412</td>\n",
       "      <td>0.051388</td>\n",
       "      <td>0.003869</td>\n",
       "    </tr>\n",
       "    <tr>\n",
       "      <th>ID3</th>\n",
       "      <td>0.023475</td>\n",
       "      <td>0.053908</td>\n",
       "      <td>1.000000</td>\n",
       "      <td>0.078843</td>\n",
       "      <td>-0.036024</td>\n",
       "      <td>0.065366</td>\n",
       "      <td>-0.077704</td>\n",
       "      <td>-0.064115</td>\n",
       "      <td>-0.020798</td>\n",
       "      <td>-0.001566</td>\n",
       "    </tr>\n",
       "    <tr>\n",
       "      <th>ID4</th>\n",
       "      <td>-0.084829</td>\n",
       "      <td>-0.194801</td>\n",
       "      <td>0.078843</td>\n",
       "      <td>1.000000</td>\n",
       "      <td>0.130175</td>\n",
       "      <td>-0.236205</td>\n",
       "      <td>0.280790</td>\n",
       "      <td>0.231684</td>\n",
       "      <td>0.075156</td>\n",
       "      <td>0.005659</td>\n",
       "    </tr>\n",
       "    <tr>\n",
       "      <th>ID5</th>\n",
       "      <td>0.038759</td>\n",
       "      <td>0.089006</td>\n",
       "      <td>-0.036024</td>\n",
       "      <td>0.130175</td>\n",
       "      <td>1.000000</td>\n",
       "      <td>0.107924</td>\n",
       "      <td>-0.128295</td>\n",
       "      <td>-0.105858</td>\n",
       "      <td>-0.034340</td>\n",
       "      <td>-0.002585</td>\n",
       "    </tr>\n",
       "    <tr>\n",
       "      <th>ID6</th>\n",
       "      <td>-0.070329</td>\n",
       "      <td>-0.161504</td>\n",
       "      <td>0.065366</td>\n",
       "      <td>-0.236205</td>\n",
       "      <td>0.107924</td>\n",
       "      <td>1.000000</td>\n",
       "      <td>0.232795</td>\n",
       "      <td>0.192083</td>\n",
       "      <td>0.062310</td>\n",
       "      <td>0.004691</td>\n",
       "    </tr>\n",
       "    <tr>\n",
       "      <th>ID7</th>\n",
       "      <td>0.083604</td>\n",
       "      <td>0.191988</td>\n",
       "      <td>-0.077704</td>\n",
       "      <td>0.280790</td>\n",
       "      <td>-0.128295</td>\n",
       "      <td>0.232795</td>\n",
       "      <td>1.000000</td>\n",
       "      <td>-0.228339</td>\n",
       "      <td>-0.074071</td>\n",
       "      <td>-0.005577</td>\n",
       "    </tr>\n",
       "    <tr>\n",
       "      <th>ID8</th>\n",
       "      <td>0.068983</td>\n",
       "      <td>0.158412</td>\n",
       "      <td>-0.064115</td>\n",
       "      <td>0.231684</td>\n",
       "      <td>-0.105858</td>\n",
       "      <td>0.192083</td>\n",
       "      <td>-0.228339</td>\n",
       "      <td>1.000000</td>\n",
       "      <td>-0.061117</td>\n",
       "      <td>-0.004602</td>\n",
       "    </tr>\n",
       "    <tr>\n",
       "      <th>ID9</th>\n",
       "      <td>0.022378</td>\n",
       "      <td>0.051388</td>\n",
       "      <td>-0.020798</td>\n",
       "      <td>0.075156</td>\n",
       "      <td>-0.034340</td>\n",
       "      <td>0.062310</td>\n",
       "      <td>-0.074071</td>\n",
       "      <td>-0.061117</td>\n",
       "      <td>1.000000</td>\n",
       "      <td>-0.001493</td>\n",
       "    </tr>\n",
       "    <tr>\n",
       "      <th>ID10</th>\n",
       "      <td>0.001685</td>\n",
       "      <td>0.003869</td>\n",
       "      <td>-0.001566</td>\n",
       "      <td>0.005659</td>\n",
       "      <td>-0.002585</td>\n",
       "      <td>0.004691</td>\n",
       "      <td>-0.005577</td>\n",
       "      <td>-0.004602</td>\n",
       "      <td>-0.001493</td>\n",
       "      <td>1.000000</td>\n",
       "    </tr>\n",
       "  </tbody>\n",
       "</table>\n",
       "</div>"
      ],
      "text/plain": [
       "           ID1       ID2       ID3       ID4       ID5       ID6       ID7  \\\n",
       "ID1   1.000000 -0.058001  0.023475 -0.084829  0.038759 -0.070329  0.083604   \n",
       "ID2  -0.058001  1.000000  0.053908 -0.194801  0.089006 -0.161504  0.191988   \n",
       "ID3   0.023475  0.053908  1.000000  0.078843 -0.036024  0.065366 -0.077704   \n",
       "ID4  -0.084829 -0.194801  0.078843  1.000000  0.130175 -0.236205  0.280790   \n",
       "ID5   0.038759  0.089006 -0.036024  0.130175  1.000000  0.107924 -0.128295   \n",
       "ID6  -0.070329 -0.161504  0.065366 -0.236205  0.107924  1.000000  0.232795   \n",
       "ID7   0.083604  0.191988 -0.077704  0.280790 -0.128295  0.232795  1.000000   \n",
       "ID8   0.068983  0.158412 -0.064115  0.231684 -0.105858  0.192083 -0.228339   \n",
       "ID9   0.022378  0.051388 -0.020798  0.075156 -0.034340  0.062310 -0.074071   \n",
       "ID10  0.001685  0.003869 -0.001566  0.005659 -0.002585  0.004691 -0.005577   \n",
       "\n",
       "           ID8       ID9      ID10  \n",
       "ID1   0.068983  0.022378  0.001685  \n",
       "ID2   0.158412  0.051388  0.003869  \n",
       "ID3  -0.064115 -0.020798 -0.001566  \n",
       "ID4   0.231684  0.075156  0.005659  \n",
       "ID5  -0.105858 -0.034340 -0.002585  \n",
       "ID6   0.192083  0.062310  0.004691  \n",
       "ID7  -0.228339 -0.074071 -0.005577  \n",
       "ID8   1.000000 -0.061117 -0.004602  \n",
       "ID9  -0.061117  1.000000 -0.001493  \n",
       "ID10 -0.004602 -0.001493  1.000000  "
      ]
     },
     "execution_count": 22,
     "metadata": {},
     "output_type": "execute_result"
    }
   ],
   "source": [
    "df = pd.DataFrame(sorted_vectors, columns = ['ID1','ID2','ID3','ID4','ID5','ID6','ID7','ID8','ID9','ID10'])\n",
    "#Pairwise correlation\n",
    "df.corr(method ='pearson')"
   ]
  },
  {
   "cell_type": "markdown",
   "metadata": {},
   "source": [
    "Determine the amount of components you would like to return from the sorted eigenvalue matrix (we will discuss this later)"
   ]
  },
  {
   "cell_type": "code",
   "execution_count": 10,
   "metadata": {},
   "outputs": [
    {
     "data": {
      "text/html": [
       "<div>\n",
       "<style scoped>\n",
       "    .dataframe tbody tr th:only-of-type {\n",
       "        vertical-align: middle;\n",
       "    }\n",
       "\n",
       "    .dataframe tbody tr th {\n",
       "        vertical-align: top;\n",
       "    }\n",
       "\n",
       "    .dataframe thead th {\n",
       "        text-align: right;\n",
       "    }\n",
       "</style>\n",
       "<table border=\"1\" class=\"dataframe\">\n",
       "  <thead>\n",
       "    <tr style=\"text-align: right;\">\n",
       "      <th></th>\n",
       "      <th>ID1</th>\n",
       "      <th>ID2</th>\n",
       "      <th>ID3</th>\n",
       "    </tr>\n",
       "  </thead>\n",
       "  <tbody>\n",
       "    <tr>\n",
       "      <th>0</th>\n",
       "      <td>-0.487616</td>\n",
       "      <td>0.184141</td>\n",
       "      <td>-0.175295</td>\n",
       "    </tr>\n",
       "    <tr>\n",
       "      <th>1</th>\n",
       "      <td>-0.419454</td>\n",
       "      <td>0.286278</td>\n",
       "      <td>-0.023333</td>\n",
       "    </tr>\n",
       "    <tr>\n",
       "      <th>2</th>\n",
       "      <td>0.049778</td>\n",
       "      <td>-0.369695</td>\n",
       "      <td>0.210930</td>\n",
       "    </tr>\n",
       "    <tr>\n",
       "      <th>3</th>\n",
       "      <td>0.409819</td>\n",
       "      <td>-0.116469</td>\n",
       "      <td>0.186904</td>\n",
       "    </tr>\n",
       "    <tr>\n",
       "      <th>4</th>\n",
       "      <td>-0.223999</td>\n",
       "      <td>-0.261744</td>\n",
       "      <td>0.008224</td>\n",
       "    </tr>\n",
       "  </tbody>\n",
       "</table>\n",
       "</div>"
      ],
      "text/plain": [
       "        ID1       ID2       ID3\n",
       "0 -0.487616  0.184141 -0.175295\n",
       "1 -0.419454  0.286278 -0.023333\n",
       "2  0.049778 -0.369695  0.210930\n",
       "3  0.409819 -0.116469  0.186904\n",
       "4 -0.223999 -0.261744  0.008224"
      ]
     },
     "execution_count": 10,
     "metadata": {},
     "output_type": "execute_result"
    }
   ],
   "source": [
    "#We arbitrarily select 3 components, but you can change that\n",
    "components = 3\n",
    "\n",
    "#Sort the eigenvectors\n",
    "eigvect_subset = sorted_vectors[:, 0:components]\n",
    "\n",
    "#See how the subset look like in a dataframe\n",
    "subset_frame = pd.DataFrame(eigvect_subset, columns=['ID1','ID2','ID3'])\n",
    "subset_frame.head()"
   ]
  },
  {
   "cell_type": "markdown",
   "metadata": {},
   "source": [
    "Return the reduce form by matrix multiplying the transpose of the eigenvector subset and transpose of the normalized dataset. Then, transpose the product. See that the shape matches (length of data series, number of principal components)"
   ]
  },
  {
   "cell_type": "code",
   "execution_count": 11,
   "metadata": {},
   "outputs": [
    {
     "data": {
      "text/plain": [
       "(100, 3)"
      ]
     },
     "execution_count": 11,
     "metadata": {},
     "output_type": "execute_result"
    }
   ],
   "source": [
    "data_pca = (eigvect_subset.T @ data_centered.T).T\n",
    "#Check if the dimension reduction happened from 10 to 3\n",
    "data_pca.shape"
   ]
  },
  {
   "cell_type": "markdown",
   "metadata": {},
   "source": [
    "Finally, we build a function that summarizes the steps we did above to extract the principal components."
   ]
  },
  {
   "cell_type": "code",
   "execution_count": 12,
   "metadata": {},
   "outputs": [],
   "source": [
    "#Summary function\n",
    "def principal_component_analysis(data, components):\n",
    "    \"\"\"\n",
    "    Takes a higher dimension dataset and uses PCA to reduce \n",
    "    the data to the desired numnber of dimensions\n",
    "    \n",
    "    Parameters\n",
    "    ----------\n",
    "    data : np.array(ndim=n, size=m)\n",
    "        observations that were generated \n",
    "        by a model or data provided\n",
    "    components : int\n",
    "        number of desired components the \n",
    "        given data will be reduced to \n",
    "    \n",
    "    Returns\n",
    "    -------\n",
    "    PCA_data : np.array(ndim=n, size=components)\n",
    "        the dataset with reduced dimensions\n",
    "    \"\"\"\n",
    "    #Centering the data\n",
    "    data_centered = data - np.mean(data, axis=0)\n",
    "    \n",
    "    #Get covariance matrix\n",
    "    data_centered_cov = np.cov(data_centered, rowvar=False)\n",
    "    \n",
    "    #Get eigenvalues and eigenvectors\n",
    "    eigen_values, eigen_vectors = np.linalg.eigh(data_centered_cov)\n",
    "\n",
    "    index = np.argsort(eigen_values)[::-1]\n",
    "    sorted_values = eigen_values[index]\n",
    "    sorted_vectors = eigen_vectors[:, index]\n",
    "\n",
    "    vector_subset = sorted_vectors[:, 0:components]\n",
    "\n",
    "    PCA_data = (vector_subset.T @ data_centered.T).T #similar to .transform in the PCA package\n",
    "\n",
    "    return PCA_data"
   ]
  },
  {
   "cell_type": "markdown",
   "metadata": {},
   "source": [
    "#### 5. Testing our new function, on a new theoretical example"
   ]
  },
  {
   "cell_type": "markdown",
   "metadata": {},
   "source": [
    "At this step, we test whether our function is indeed reducing the dimensions. The transformed data should have 5 principal components from a dataset that had 8 columns and 10 values for each of those columns."
   ]
  },
  {
   "cell_type": "code",
   "execution_count": 13,
   "metadata": {},
   "outputs": [
    {
     "data": {
      "text/html": [
       "<div>\n",
       "<style scoped>\n",
       "    .dataframe tbody tr th:only-of-type {\n",
       "        vertical-align: middle;\n",
       "    }\n",
       "\n",
       "    .dataframe tbody tr th {\n",
       "        vertical-align: top;\n",
       "    }\n",
       "\n",
       "    .dataframe thead th {\n",
       "        text-align: right;\n",
       "    }\n",
       "</style>\n",
       "<table border=\"1\" class=\"dataframe\">\n",
       "  <thead>\n",
       "    <tr style=\"text-align: right;\">\n",
       "      <th></th>\n",
       "      <th>Data1</th>\n",
       "      <th>Data2</th>\n",
       "      <th>Data3</th>\n",
       "      <th>Data4</th>\n",
       "      <th>Data5</th>\n",
       "      <th>Data6</th>\n",
       "      <th>Data7</th>\n",
       "      <th>Data8</th>\n",
       "    </tr>\n",
       "  </thead>\n",
       "  <tbody>\n",
       "    <tr>\n",
       "      <th>0</th>\n",
       "      <td>4</td>\n",
       "      <td>9</td>\n",
       "      <td>4</td>\n",
       "      <td>8</td>\n",
       "      <td>8</td>\n",
       "      <td>4</td>\n",
       "      <td>9</td>\n",
       "      <td>8</td>\n",
       "    </tr>\n",
       "    <tr>\n",
       "      <th>1</th>\n",
       "      <td>6</td>\n",
       "      <td>5</td>\n",
       "      <td>1</td>\n",
       "      <td>8</td>\n",
       "      <td>4</td>\n",
       "      <td>3</td>\n",
       "      <td>9</td>\n",
       "      <td>9</td>\n",
       "    </tr>\n",
       "    <tr>\n",
       "      <th>2</th>\n",
       "      <td>6</td>\n",
       "      <td>6</td>\n",
       "      <td>9</td>\n",
       "      <td>6</td>\n",
       "      <td>1</td>\n",
       "      <td>3</td>\n",
       "      <td>2</td>\n",
       "      <td>8</td>\n",
       "    </tr>\n",
       "    <tr>\n",
       "      <th>3</th>\n",
       "      <td>2</td>\n",
       "      <td>7</td>\n",
       "      <td>8</td>\n",
       "      <td>7</td>\n",
       "      <td>6</td>\n",
       "      <td>1</td>\n",
       "      <td>7</td>\n",
       "      <td>4</td>\n",
       "    </tr>\n",
       "    <tr>\n",
       "      <th>4</th>\n",
       "      <td>8</td>\n",
       "      <td>8</td>\n",
       "      <td>1</td>\n",
       "      <td>9</td>\n",
       "      <td>3</td>\n",
       "      <td>9</td>\n",
       "      <td>4</td>\n",
       "      <td>3</td>\n",
       "    </tr>\n",
       "    <tr>\n",
       "      <th>5</th>\n",
       "      <td>1</td>\n",
       "      <td>8</td>\n",
       "      <td>5</td>\n",
       "      <td>8</td>\n",
       "      <td>4</td>\n",
       "      <td>1</td>\n",
       "      <td>4</td>\n",
       "      <td>3</td>\n",
       "    </tr>\n",
       "    <tr>\n",
       "      <th>6</th>\n",
       "      <td>3</td>\n",
       "      <td>4</td>\n",
       "      <td>2</td>\n",
       "      <td>3</td>\n",
       "      <td>8</td>\n",
       "      <td>2</td>\n",
       "      <td>1</td>\n",
       "      <td>8</td>\n",
       "    </tr>\n",
       "    <tr>\n",
       "      <th>7</th>\n",
       "      <td>2</td>\n",
       "      <td>8</td>\n",
       "      <td>2</td>\n",
       "      <td>3</td>\n",
       "      <td>9</td>\n",
       "      <td>5</td>\n",
       "      <td>9</td>\n",
       "      <td>8</td>\n",
       "    </tr>\n",
       "    <tr>\n",
       "      <th>8</th>\n",
       "      <td>4</td>\n",
       "      <td>9</td>\n",
       "      <td>4</td>\n",
       "      <td>4</td>\n",
       "      <td>6</td>\n",
       "      <td>1</td>\n",
       "      <td>7</td>\n",
       "      <td>6</td>\n",
       "    </tr>\n",
       "    <tr>\n",
       "      <th>9</th>\n",
       "      <td>2</td>\n",
       "      <td>9</td>\n",
       "      <td>4</td>\n",
       "      <td>8</td>\n",
       "      <td>5</td>\n",
       "      <td>1</td>\n",
       "      <td>9</td>\n",
       "      <td>8</td>\n",
       "    </tr>\n",
       "  </tbody>\n",
       "</table>\n",
       "</div>"
      ],
      "text/plain": [
       "   Data1  Data2  Data3  Data4  Data5  Data6  Data7  Data8\n",
       "0      4      9      4      8      8      4      9      8\n",
       "1      6      5      1      8      4      3      9      9\n",
       "2      6      6      9      6      1      3      2      8\n",
       "3      2      7      8      7      6      1      7      4\n",
       "4      8      8      1      9      3      9      4      3\n",
       "5      1      8      5      8      4      1      4      3\n",
       "6      3      4      2      3      8      2      1      8\n",
       "7      2      8      2      3      9      5      9      8\n",
       "8      4      9      4      4      6      1      7      6\n",
       "9      2      9      4      8      5      1      9      8"
      ]
     },
     "execution_count": 13,
     "metadata": {},
     "output_type": "execute_result"
    }
   ],
   "source": [
    "# Test: Creating the new data set \n",
    "data1 = np.random.randint(1, 10, 80).reshape(10, 8)\n",
    "\n",
    "#As we did above, see how the new data set look like in a dataframe\n",
    "data1_frame = pd.DataFrame(data1, columns=['Data1','Data2','Data3','Data4','Data5','Data6','Data7','Data8'])\n",
    "data1_frame"
   ]
  },
  {
   "cell_type": "markdown",
   "metadata": {},
   "source": [
    "Once we have the data, we parse our summary function to our new data set."
   ]
  },
  {
   "cell_type": "code",
   "execution_count": 14,
   "metadata": {},
   "outputs": [
    {
     "data": {
      "text/html": [
       "<div>\n",
       "<style scoped>\n",
       "    .dataframe tbody tr th:only-of-type {\n",
       "        vertical-align: middle;\n",
       "    }\n",
       "\n",
       "    .dataframe tbody tr th {\n",
       "        vertical-align: top;\n",
       "    }\n",
       "\n",
       "    .dataframe thead th {\n",
       "        text-align: right;\n",
       "    }\n",
       "</style>\n",
       "<table border=\"1\" class=\"dataframe\">\n",
       "  <thead>\n",
       "    <tr style=\"text-align: right;\">\n",
       "      <th></th>\n",
       "      <th>ID1</th>\n",
       "      <th>ID2</th>\n",
       "      <th>ID3</th>\n",
       "      <th>ID4</th>\n",
       "      <th>ID5</th>\n",
       "    </tr>\n",
       "  </thead>\n",
       "  <tbody>\n",
       "    <tr>\n",
       "      <th>0</th>\n",
       "      <td>3.243086</td>\n",
       "      <td>1.868058</td>\n",
       "      <td>-1.814676</td>\n",
       "      <td>-0.437028</td>\n",
       "      <td>1.309691</td>\n",
       "    </tr>\n",
       "    <tr>\n",
       "      <th>1</th>\n",
       "      <td>1.031664</td>\n",
       "      <td>3.687670</td>\n",
       "      <td>-0.182712</td>\n",
       "      <td>-3.937642</td>\n",
       "      <td>-2.591983</td>\n",
       "    </tr>\n",
       "    <tr>\n",
       "      <th>2</th>\n",
       "      <td>-6.418709</td>\n",
       "      <td>-3.156201</td>\n",
       "      <td>0.532826</td>\n",
       "      <td>-3.699299</td>\n",
       "      <td>2.147666</td>\n",
       "    </tr>\n",
       "    <tr>\n",
       "      <th>3</th>\n",
       "      <td>0.109371</td>\n",
       "      <td>-4.054311</td>\n",
       "      <td>-2.778237</td>\n",
       "      <td>1.286262</td>\n",
       "      <td>0.576953</td>\n",
       "    </tr>\n",
       "    <tr>\n",
       "      <th>4</th>\n",
       "      <td>-5.851676</td>\n",
       "      <td>7.151168</td>\n",
       "      <td>-0.496286</td>\n",
       "      <td>2.545049</td>\n",
       "      <td>0.433579</td>\n",
       "    </tr>\n",
       "    <tr>\n",
       "      <th>5</th>\n",
       "      <td>-2.145887</td>\n",
       "      <td>-3.185015</td>\n",
       "      <td>-2.043021</td>\n",
       "      <td>3.183466</td>\n",
       "      <td>-2.173641</td>\n",
       "    </tr>\n",
       "    <tr>\n",
       "      <th>6</th>\n",
       "      <td>-0.193815</td>\n",
       "      <td>-1.935382</td>\n",
       "      <td>7.488261</td>\n",
       "      <td>0.703067</td>\n",
       "      <td>-1.386136</td>\n",
       "    </tr>\n",
       "    <tr>\n",
       "      <th>7</th>\n",
       "      <td>5.575013</td>\n",
       "      <td>1.698226</td>\n",
       "      <td>2.255622</td>\n",
       "      <td>1.121709</td>\n",
       "      <td>2.129573</td>\n",
       "    </tr>\n",
       "    <tr>\n",
       "      <th>8</th>\n",
       "      <td>1.771959</td>\n",
       "      <td>-1.321110</td>\n",
       "      <td>0.079035</td>\n",
       "      <td>0.537258</td>\n",
       "      <td>0.755480</td>\n",
       "    </tr>\n",
       "    <tr>\n",
       "      <th>9</th>\n",
       "      <td>2.878993</td>\n",
       "      <td>-0.753102</td>\n",
       "      <td>-3.040812</td>\n",
       "      <td>-1.302843</td>\n",
       "      <td>-1.201182</td>\n",
       "    </tr>\n",
       "  </tbody>\n",
       "</table>\n",
       "</div>"
      ],
      "text/plain": [
       "        ID1       ID2       ID3       ID4       ID5\n",
       "0  3.243086  1.868058 -1.814676 -0.437028  1.309691\n",
       "1  1.031664  3.687670 -0.182712 -3.937642 -2.591983\n",
       "2 -6.418709 -3.156201  0.532826 -3.699299  2.147666\n",
       "3  0.109371 -4.054311 -2.778237  1.286262  0.576953\n",
       "4 -5.851676  7.151168 -0.496286  2.545049  0.433579\n",
       "5 -2.145887 -3.185015 -2.043021  3.183466 -2.173641\n",
       "6 -0.193815 -1.935382  7.488261  0.703067 -1.386136\n",
       "7  5.575013  1.698226  2.255622  1.121709  2.129573\n",
       "8  1.771959 -1.321110  0.079035  0.537258  0.755480\n",
       "9  2.878993 -0.753102 -3.040812 -1.302843 -1.201182"
      ]
     },
     "execution_count": 14,
     "metadata": {},
     "output_type": "execute_result"
    }
   ],
   "source": [
    "ex1 = principal_component_analysis(data1, 5)\n",
    "\n",
    "ex1_frame = pd.DataFrame(ex1, columns=['ID1','ID2','ID3','ID4','ID5'])\n",
    "ex1_frame"
   ]
  },
  {
   "cell_type": "markdown",
   "metadata": {},
   "source": [
    "We now build a function that will return the minimum necessary amount of components needed to explain 95% variance in a given model. \n",
    "\n",
    "In this case, 95% variance (convention) is an arbitrary selection and the parameter in the function can be altered to any desired level of variance."
   ]
  },
  {
   "cell_type": "code",
   "execution_count": 15,
   "metadata": {},
   "outputs": [
    {
     "name": "stdout",
     "output_type": "stream",
     "text": [
      "Number of components necessary to explain aproximately 95% of the variance is: 6\n"
     ]
    }
   ],
   "source": [
    "def number_components(data_set, desired_var):\n",
    "    \"\"\"\n",
    "    Uses the cumulative sum array of explained variance \n",
    "    to interpret how many components are required to meet\n",
    "    a desired level of modeling variance \n",
    "    \n",
    "    Parameters\n",
    "    ----------\n",
    "    data : np.array(ndim=n, size=m)\n",
    "        observations that were generated \n",
    "        by a model or data provided\n",
    "        \n",
    "    desired_var : int\n",
    "        the desired variance level which you would \n",
    "        like to have your model explain  \n",
    "    \n",
    "    Returns\n",
    "    -------\n",
    "    pos : int\n",
    "        Number of principal components necessary to achieve desired_var\n",
    "    \"\"\"\n",
    "    \n",
    "    #Centering the data\n",
    "    data_centered = data_set - np.mean(data_set, axis=0)\n",
    "    \n",
    "    #Get covariance matrix\n",
    "    data_centered_cov = np.cov(data_centered, rowvar=False)    \n",
    "    \n",
    "    #Get the eigenvalues and eigenvectors\n",
    "    eigen_values, eigen_vectors = np.linalg.eigh(data_centered_cov)\n",
    "    \n",
    "    #Sum the eigenvalues\n",
    "    total_values = sum(eigen_values)\n",
    "    \n",
    "    #Then use them to see how much they will explain of the variance\n",
    "    explained_var = [(i/total_values) for i in sorted(eigen_values, reverse=True)]\n",
    "    \n",
    "    #This function sees how they cumulatively explain the variance\n",
    "    sum_explained = np.cumsum(explained_var)\n",
    "    \n",
    "    #Find the number of principal components to achieve the desired_var\n",
    "    pos = bisect_left(sum_explained, desired_var)\n",
    "    \n",
    "    return pos+1\n",
    "\n",
    "print(f\"Number of components necessary to explain aproximately 95% of the variance is: {number_components(data1, .95)}\")"
   ]
  },
  {
   "cell_type": "markdown",
   "metadata": {},
   "source": [
    "Now, let's show graphically how each principal component contributes to explaining the variance.\n",
    "\n",
    "Note that the function below is a replica of the above, but ending on the \"sum_explained\" step."
   ]
  },
  {
   "cell_type": "code",
   "execution_count": 16,
   "metadata": {},
   "outputs": [
    {
     "data": {
      "text/html": [
       "<div>\n",
       "<style scoped>\n",
       "    .dataframe tbody tr th:only-of-type {\n",
       "        vertical-align: middle;\n",
       "    }\n",
       "\n",
       "    .dataframe tbody tr th {\n",
       "        vertical-align: top;\n",
       "    }\n",
       "\n",
       "    .dataframe thead th {\n",
       "        text-align: right;\n",
       "    }\n",
       "</style>\n",
       "<table border=\"1\" class=\"dataframe\">\n",
       "  <thead>\n",
       "    <tr style=\"text-align: right;\">\n",
       "      <th></th>\n",
       "      <th>explained_variance</th>\n",
       "    </tr>\n",
       "  </thead>\n",
       "  <tbody>\n",
       "    <tr>\n",
       "      <th>ID1</th>\n",
       "      <td>0.306434</td>\n",
       "    </tr>\n",
       "    <tr>\n",
       "      <th>ID2</th>\n",
       "      <td>0.566113</td>\n",
       "    </tr>\n",
       "    <tr>\n",
       "      <th>ID3</th>\n",
       "      <td>0.762879</td>\n",
       "    </tr>\n",
       "    <tr>\n",
       "      <th>ID4</th>\n",
       "      <td>0.880224</td>\n",
       "    </tr>\n",
       "    <tr>\n",
       "      <th>ID5</th>\n",
       "      <td>0.941338</td>\n",
       "    </tr>\n",
       "    <tr>\n",
       "      <th>ID6</th>\n",
       "      <td>0.968465</td>\n",
       "    </tr>\n",
       "    <tr>\n",
       "      <th>ID7</th>\n",
       "      <td>0.987657</td>\n",
       "    </tr>\n",
       "    <tr>\n",
       "      <th>ID8</th>\n",
       "      <td>1.000000</td>\n",
       "    </tr>\n",
       "  </tbody>\n",
       "</table>\n",
       "</div>"
      ],
      "text/plain": [
       "     explained_variance\n",
       "ID1            0.306434\n",
       "ID2            0.566113\n",
       "ID3            0.762879\n",
       "ID4            0.880224\n",
       "ID5            0.941338\n",
       "ID6            0.968465\n",
       "ID7            0.987657\n",
       "ID8            1.000000"
      ]
     },
     "execution_count": 16,
     "metadata": {},
     "output_type": "execute_result"
    }
   ],
   "source": [
    "def explained_variance(data_set):\n",
    "    \"\"\"\n",
    "    Find the cumulative sum array of explained variance \n",
    "    \n",
    "    Parameters\n",
    "    ----------\n",
    "    data : np.array(ndim=n, size=m)\n",
    "        observations that were generated \n",
    "        by a model or data provided\n",
    "    \n",
    "    Returns\n",
    "    -------\n",
    "    sum_explained : np.array\n",
    "        Percentage of the variance explained (how each component cumulatively explain the variance)\n",
    "    \"\"\"\n",
    "    \n",
    "    #Centering the data\n",
    "    data_centered = data_set - np.mean(data_set, axis=0)\n",
    "    \n",
    "    #Get covariance matrix\n",
    "    data_centered_cov = np.cov(data_centered, rowvar=False)    \n",
    "    \n",
    "    #Get the eigenvalues and eigenvectors\n",
    "    eigen_values, eigen_vectors = np.linalg.eigh(data_centered_cov)\n",
    "    \n",
    "    #Sum the eigenvalues\n",
    "    total_values = sum(eigen_values)\n",
    "    \n",
    "    #Then use them to see how much they will explain of the variance\n",
    "    explained_var = [(i/total_values) for i in sorted(eigen_values, reverse=True)]\n",
    "    \n",
    "    #This function sees how they cumulatively explain the variance\n",
    "    sum_explained = np.cumsum(explained_var)\n",
    "    \n",
    "    return sum_explained\n",
    "\n",
    "sum_explained2 = explained_variance(data1)\n",
    "\n",
    "#See how the explained variance look like in a dataframe\n",
    "index_components=['ID1','ID2','ID3','ID4','ID5','ID6','ID7','ID8']\n",
    "explained_frame = pd.DataFrame(sum_explained2, index_components, columns = ['explained_variance'])\n",
    "explained_frame"
   ]
  },
  {
   "cell_type": "markdown",
   "metadata": {},
   "source": [
    "Visually, the logic is the following:"
   ]
  },
  {
   "cell_type": "code",
   "execution_count": 17,
   "metadata": {},
   "outputs": [
    {
     "data": {
      "image/png": "[encoded data removed]",
      "text/plain": [
       "<Figure size 432x288 with 1 Axes>"
      ]
     },
     "metadata": {
      "needs_background": "light"
     },
     "output_type": "display_data"
    }
   ],
   "source": [
    "#Cumulative explanation of the variance for the addition of each principal component\n",
    "plt.step(index_components, explained_frame,\n",
    "where='pre', label=\"Explained Variance\")\n",
    "\n",
    "#Name labels and titles\n",
    "plt.ylabel(\"Explained Variance\")\n",
    "plt.xlabel(\"Principal Components\")\n",
    "plt.title(\"How each Principal Component explains the Variance\")\n",
    "\n",
    "#Add vertical line to show where the principal component analysis is close to reach 95% of the explained variance\n",
    "id_annotation = 'ID6'\n",
    "plt.axvline(x=id_annotation, linestyle='dashed', color='black', linewidth=1)\n",
    "plt.annotate(\"Number of IDs to 95% var.\", xy=[id_annotation, .5], horizontalalignment='right')\n",
    "\n",
    "#Show chart\n",
    "plt.tight_layout()\n",
    "plt.show()"
   ]
  },
  {
   "cell_type": "markdown",
   "metadata": {},
   "source": [
    "We can see that, at the margin, each step explains less of the variance. \n",
    "\n",
    "For example, the addition of the first component explains about 15% of the variance. The addition of the last component adds only about 5%-points of explanation of the variance.\n",
    "\n",
    "Note that the function below is a replica of the others, but ending on the \"explained_var\" step. In this case, we don't use a step chart as a line makes easier to see the marginal change."
   ]
  },
  {
   "cell_type": "code",
   "execution_count": 18,
   "metadata": {},
   "outputs": [
    {
     "data": {
      "image/png": "[encoded data removed]",
      "text/plain": [
       "<Figure size 432x288 with 1 Axes>"
      ]
     },
     "metadata": {
      "needs_background": "light"
     },
     "output_type": "display_data"
    }
   ],
   "source": [
    "def marginal_variance(data_set):\n",
    "    \"\"\"\n",
    "    Find the cumulative sum array of explained variance \n",
    "    \n",
    "    Parameters\n",
    "    ----------\n",
    "    data : np.array(ndim=n, size=m)\n",
    "        observations that were generated \n",
    "        by a model or data provided\n",
    "    \n",
    "    Returns\n",
    "    -------\n",
    "    explained_var : list\n",
    "        Percentage of the variance explained at the margin (how each component explain the variance)\n",
    "    \"\"\"\n",
    "    \n",
    "    #Centering the data\n",
    "    data_centered = data_set - np.mean(data_set, axis=0)\n",
    "    \n",
    "    #Get covariance matrix\n",
    "    data_centered_cov = np.cov(data_centered, rowvar=False)    \n",
    "    \n",
    "    #Get the eigenvalues and eigenvectors\n",
    "    eigen_values, eigen_vectors = np.linalg.eigh(data_centered_cov)\n",
    "    \n",
    "    #Sum the eigenvalues\n",
    "    total_values = sum(eigen_values)\n",
    "    \n",
    "    #Then use them to see how much they will explain of the variance\n",
    "    explained_var = [(i/total_values) for i in sorted(eigen_values, reverse=True)]\n",
    "    \n",
    "    return explained_var\n",
    "\n",
    "#Marginal explanation of variance\n",
    "explained_var2 = marginal_variance(data1)\n",
    "\n",
    "#Charting how the marginal explanation evolves by each principal component\n",
    "plt.plot(index_components, explained_var2, label=\"Marginal Explained Variance\")\n",
    "\n",
    "#Name labels and titles\n",
    "plt.ylabel(\"Marginal Explained Variance\")\n",
    "plt.xlabel(\"Principal Components\")\n",
    "plt.title(\"Marginal increase of explained variance by each component\")\n",
    "\n",
    "#Show chart\n",
    "plt.tight_layout()\n",
    "plt.show()"
   ]
  },
  {
   "cell_type": "markdown",
   "metadata": {
    "tags": []
   },
   "source": [
    "#### 6. Application: Image recognition"
   ]
  },
  {
   "cell_type": "markdown",
   "metadata": {},
   "source": [
    "Let's test the ability of our function, given a set of principal components, of replicating the QuantEcon logo.\n",
    "\n",
    "First, we will download the packages and get the image from the web."
   ]
  },
  {
   "cell_type": "code",
   "execution_count": 19,
   "metadata": {},
   "outputs": [
    {
     "name": "stdout",
     "output_type": "stream",
     "text": [
      "(163, 310, 4)\n"
     ]
    },
    {
     "data": {
      "text/plain": [
       "<matplotlib.image.AxesImage at 0x7fb6275c29a0>"
      ]
     },
     "execution_count": 19,
     "metadata": {},
     "output_type": "execute_result"
    },
    {
     "data": {
      "image/png": "[encoded data removed]",
      "text/plain": [
       "<Figure size 432x288 with 1 Axes>"
      ]
     },
     "metadata": {
      "needs_background": "light"
     },
     "output_type": "display_data"
    }
   ],
   "source": [
    "img = mpimg.imread('quantecon')\n",
    "print(img.shape)\n",
    "plt.imshow(img)"
   ]
  },
  {
   "cell_type": "markdown",
   "metadata": {},
   "source": [
    "Our image is in the form of 163 rows each containing 310 pixels which have 4 channels (RGB). We have to resize the image so that it is in the format required for PCA input. As 310*4=1240, we resize the image to (163, 1240)."
   ]
  },
  {
   "cell_type": "markdown",
   "metadata": {},
   "source": [
    "Let's use a package to see how it fits the original image of the QuantEcon logo, to see if our function works as well as the package's."
   ]
  },
  {
   "cell_type": "code",
   "execution_count": 20,
   "metadata": {},
   "outputs": [
    {
     "data": {
      "application/vnd.jupyter.widget-view+json": {
       "model_id": "e1f51441cdf64ce285138a27fca1eaef",
       "version_major": 2,
       "version_minor": 0
      },
      "text/plain": [
       "interactive(children=(FloatSlider(value=6.0, description='Factors', max=32.0, min=1.0, step=1.0), Output()), _…"
      ]
     },
     "metadata": {},
     "output_type": "display_data"
    },
    {
     "data": {
      "text/plain": [
       "<function __main__.image_recognition(Factors)>"
      ]
     },
     "execution_count": 20,
     "metadata": {},
     "output_type": "execute_result"
    }
   ],
   "source": [
    "#Define the image to be used\n",
    "image = img\n",
    "\n",
    "#Create a function to add to the interaction tool\n",
    "def image_recognition(Factors):\n",
    "    \"\"\"\n",
    "    Reconstruct an image using a PCA\n",
    "    Use the PCA package from sklearn as a function to fit into a slider\n",
    "    \n",
    "    Parameters\n",
    "    ----------\n",
    "    Factors : int\n",
    "        Number of principal components you want to use\n",
    "    \n",
    "    Returns\n",
    "    -------\n",
    "    plot : module\n",
    "        Plot reconstructing the image\n",
    "    \"\"\"    \n",
    "    \n",
    "    #Reshape image\n",
    "    img_r = np.reshape(image, (163, 310*4)) \n",
    "    \n",
    "    #Define the model using the PCA package and the number of Principal Components (\"Factors\")\n",
    "    pca = PCA(int(Factors)).fit(img_r) \n",
    "    \n",
    "    #Apply eigenvectors to dataset\n",
    "    img_transformed = pca.transform(img_r) \n",
    "    \n",
    "    #Reconstruct the image\n",
    "    temp = pca.inverse_transform(img_transformed)\n",
    "    \n",
    "    #Reshape it back\n",
    "    temp = np.reshape(temp, (163, 310 , 4)) \n",
    "    \n",
    "    #Build the plot\n",
    "    plt.imshow(temp)\n",
    "\n",
    "#Use slider to interact and see how many components you need to reconstruct it \n",
    "interact(image_recognition, Factors=FloatSlider(value=6, min=1, max=32, step=1))"
   ]
  },
  {
   "cell_type": "markdown",
   "metadata": {},
   "source": [
    "Let's use our algorithm (function of principal component analysis) to see how it fits the original image of the QuantEcon logo.\n",
    "\n",
    "For this, we create a function that uses our PCA to decompose our image into components, and then we add an inverse transformation step to put it back together using the principal components."
   ]
  },
  {
   "cell_type": "code",
   "execution_count": 26,
   "metadata": {},
   "outputs": [
    {
     "data": {
      "application/vnd.jupyter.widget-view+json": {
       "model_id": "86d1b8ad9b18468d8af6bfd4d0a7bae2",
       "version_major": 2,
       "version_minor": 0
      },
      "text/plain": [
       "interactive(children=(FloatSlider(value=6.0, description='Factors', max=32.0, min=1.0, step=1.0), Output()), _…"
      ]
     },
     "metadata": {},
     "output_type": "display_data"
    },
    {
     "data": {
      "text/plain": [
       "<function __main__.image_recognition_va(Factors)>"
      ]
     },
     "execution_count": 26,
     "metadata": {},
     "output_type": "execute_result"
    }
   ],
   "source": [
    "#Define the image to be used\n",
    "image = img\n",
    "\n",
    "def image_recognition_va(Factors):\n",
    "    \"\"\"\n",
    "    Reconstruct an image using our own algorithm\n",
    "    Use it as a function to fit into a slider\n",
    "    \n",
    "    Parameters\n",
    "    ----------\n",
    "    Factors : int\n",
    "        Number of principal components you want to use\n",
    "    \n",
    "    Returns\n",
    "    -------\n",
    "    plot : module\n",
    "        Plot reconstructing the image\n",
    "    \"\"\"   \n",
    "\n",
    "    #Reshape image (as above)\n",
    "    img_r_va = np.reshape(img, (163, 310*4)) \n",
    "\n",
    "    #This step covers three parts (similar to transform in the sklearn package): \n",
    "    #Define the model using the PCA package and the number of Principal Components (\"Factors\")   \n",
    "    #Apply eigenvectors to dataset\n",
    "    pca_transform_va = principal_component_analysis(img_r_va, int(Factors))\n",
    "\n",
    "    #These additional steps are needed to transform the principal components back into the image \n",
    "    #Reconstruct the image using the inverse_transform package (just matrix multiplications)\n",
    "    temp_va = np.dot(pca_transform_va, np.sqrt(marginal_variance(img_r_va)) + np.mean(pca_transform_va))\n",
    "\n",
    "    #Reshape it back\n",
    "    temp_va = np.reshape(temp_va, (163, 310, 4)) \n",
    "    \n",
    "    #Build the plot\n",
    "    plt.imshow(temp_va)\n",
    "\n",
    "interact(\n",
    "    image_recognition_va, \n",
    "    Factors=FloatSlider(value=6, min=1, max=32, step=1),\n",
    ")"
   ]
  },
  {
   "cell_type": "code",
   "execution_count": 39,
   "metadata": {},
   "outputs": [
    {
     "name": "stderr",
     "output_type": "stream",
     "text": [
      "/tmp/ipykernel_850/2947177520.py:9: RuntimeWarning: invalid value encountered in sqrt\n",
      "  temp_va = np.dot(pca_transform_va, np.sqrt(marginal_variance(img_r_va)) + np.mean(pca_transform_va))\n"
     ]
    },
    {
     "ename": "ValueError",
     "evalue": "shapes (163,6) and (1240,) not aligned: 6 (dim 1) != 1240 (dim 0)",
     "output_type": "error",
     "traceback": [
      "\u001b[0;31m---------------------------------------------------------------------------\u001b[0m",
      "\u001b[0;31mValueError\u001b[0m                                Traceback (most recent call last)",
      "\u001b[0;32m/tmp/ipykernel_850/2947177520.py\u001b[0m in \u001b[0;36m<module>\u001b[0;34m\u001b[0m\n\u001b[1;32m      7\u001b[0m \u001b[0;31m#pca_transform_va.shape #163, 6\u001b[0m\u001b[0;34m\u001b[0m\u001b[0;34m\u001b[0m\u001b[0m\n\u001b[1;32m      8\u001b[0m \u001b[0;34m\u001b[0m\u001b[0m\n\u001b[0;32m----> 9\u001b[0;31m \u001b[0mtemp_va\u001b[0m \u001b[0;34m=\u001b[0m \u001b[0mnp\u001b[0m\u001b[0;34m.\u001b[0m\u001b[0mdot\u001b[0m\u001b[0;34m(\u001b[0m\u001b[0mpca_transform_va\u001b[0m\u001b[0;34m,\u001b[0m \u001b[0mnp\u001b[0m\u001b[0;34m.\u001b[0m\u001b[0msqrt\u001b[0m\u001b[0;34m(\u001b[0m\u001b[0mmarginal_variance\u001b[0m\u001b[0;34m(\u001b[0m\u001b[0mimg_r_va\u001b[0m\u001b[0;34m)\u001b[0m\u001b[0;34m)\u001b[0m \u001b[0;34m+\u001b[0m \u001b[0mnp\u001b[0m\u001b[0;34m.\u001b[0m\u001b[0mmean\u001b[0m\u001b[0;34m(\u001b[0m\u001b[0mpca_transform_va\u001b[0m\u001b[0;34m)\u001b[0m\u001b[0;34m)\u001b[0m\u001b[0;34m\u001b[0m\u001b[0;34m\u001b[0m\u001b[0m\n\u001b[0m\u001b[1;32m     10\u001b[0m \u001b[0;34m\u001b[0m\u001b[0m\n\u001b[1;32m     11\u001b[0m \u001b[0mtemp_va\u001b[0m \u001b[0;34m=\u001b[0m \u001b[0mnp\u001b[0m\u001b[0;34m.\u001b[0m\u001b[0mreshape\u001b[0m\u001b[0;34m(\u001b[0m\u001b[0mtemp_va\u001b[0m\u001b[0;34m,\u001b[0m \u001b[0;34m(\u001b[0m\u001b[0;36m163\u001b[0m\u001b[0;34m,\u001b[0m \u001b[0;36m310\u001b[0m\u001b[0;34m,\u001b[0m \u001b[0;36m4\u001b[0m\u001b[0;34m)\u001b[0m\u001b[0;34m)\u001b[0m\u001b[0;34m\u001b[0m\u001b[0;34m\u001b[0m\u001b[0m\n",
      "\u001b[0;32m<__array_function__ internals>\u001b[0m in \u001b[0;36mdot\u001b[0;34m(*args, **kwargs)\u001b[0m\n",
      "\u001b[0;31mValueError\u001b[0m: shapes (163,6) and (1240,) not aligned: 6 (dim 1) != 1240 (dim 0)"
     ]
    }
   ],
   "source": [
    "img_r_va = np.reshape(img, (163, 310*4)) \n",
    "\n",
    "pca_transform_va = principal_component_analysis(img_r_va, 6)\n",
    "\n",
    "#np.sqrt(marginal_variance(img_r_va)).shape #1240\n",
    "\n",
    "#pca_transform_va.shape #163, 6\n",
    "\n",
    "temp_va = np.dot(pca_transform_va, np.sqrt(marginal_variance(img_r_va)) + np.mean(pca_transform_va))\n",
    "\n",
    "temp_va = np.reshape(temp_va, (163, 310, 4)) "
   ]
  },
  {
   "cell_type": "markdown",
   "metadata": {
    "tags": []
   },
   "source": [
    "#### 7. References"
   ]
  },
  {
   "cell_type": "markdown",
   "metadata": {},
   "source": [
    "1. Towards Science: A One-Stop Shop for Principal Component Analysis (https://towardsdatascience.com/a-one-stop-shop-for-principal-component-analysis-5582fb7e0a9c).\n",
    "\n",
    "2. In Depth: Principal Component Analysis (https://jakevdp.github.io/PythonDataScienceHandbook/05.09-principal-component-analysis.html).\n",
    "\n",
    "3. Advanced Data Analysis from an Elementary Point of View (https://www.stat.cmu.edu/~cshalizi/uADA/15/lectures/17.pdf).\n",
    "\n",
    "4. Applications of Principal Component Analysis (PCA) (https://iq.opengenus.org/applications-of-pca/).\n",
    "\n",
    "5. SciKit Learn package (https://github.com/scikit-learn/scikit-learn/blob/0d378913be6d7e485b792ea36e9268be31ed52d0/sklearn/decomposition/_base.py#L156)"
   ]
  }
 ],
 "metadata": {
  "interpreter": {
   "hash": "167380c844cb8dab65f7a2242fcdd292fd16a45a4bab8a9de8ac74aeee39fadd"
  },
  "kernelspec": {
   "display_name": "Python 3 (ipykernel)",
   "language": "python",
   "name": "python3"
  },
  "language_info": {
   "codemirror_mode": {
    "name": "ipython",
    "version": 3
   },
   "file_extension": ".py",
   "mimetype": "text/x-python",
   "name": "python",
   "nbconvert_exporter": "python",
   "pygments_lexer": "ipython3",
   "version": "3.9.7"
  }
 },
 "nbformat": 4,
 "nbformat_minor": 4
}
