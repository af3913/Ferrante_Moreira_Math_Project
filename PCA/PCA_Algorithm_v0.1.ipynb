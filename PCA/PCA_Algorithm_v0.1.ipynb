{
 "cells": [
  {
   "cell_type": "markdown",
   "metadata": {},
   "source": [
    "This notebook was prepared by: \n",
    "\n",
    "Alex Ferrante (af3913@nyu.edu)\n",
    "\n",
    "Vinicius Moreira (vgm236@nyu.edu)\n",
    "\n",
    "Graduate School of Arts and Science (GSAS) at New York University (NYU)\n",
    "\n",
    "December 2021"
   ]
  },
  {
   "cell_type": "markdown",
   "metadata": {
    "tags": []
   },
   "source": [
    "### Principal Component Analysis (PCA)"
   ]
  },
  {
   "cell_type": "code",
   "execution_count": 1,
   "metadata": {},
   "outputs": [],
   "source": [
    "#Import all packages\n",
    "from bisect import bisect_left\n",
    "from IPython.display import Image\n",
    "import numpy as np\n",
    "import pandas as pd\n",
    "import matplotlib.pyplot as plt\n",
    "import matplotlib.image as mpimg \n",
    "from sklearn.decomposition import PCA\n",
    "from ipywidgets import interact, FloatSlider\n",
    "\n",
    "import random\n",
    "random.seed(10)\n",
    "\n",
    "%matplotlib inline"
   ]
  },
  {
   "cell_type": "markdown",
   "metadata": {
    "tags": []
   },
   "source": [
    "#### 1. What is a PCA?"
   ]
  },
  {
   "cell_type": "markdown",
   "metadata": {},
   "source": [
    "Principal component analysis is an unsupervised algorithm, based on feature correlation, used for dimensionality reduction. The premise is simple to take data of higher dimensions, and reduce to a lower dimension. \n",
    "\n",
    "Often times, in higher dimensional data, it isn't possible to create visual representations of relationships between variables. Through applying PCA, it then becomes possible to reduce the dimensions of the data and display variable relationships. This tool also allows easier visualization and noise filtering, among other applications.\n",
    "\n",
    "In other words, it allows us to drop the \"least important\" variables and retain the most important parts. In addition, each new variable (the components) will be orthogonal/independent from each other, allowing them to ensure one of the main assumptions of a linear regression."
   ]
  },
  {
   "cell_type": "markdown",
   "metadata": {},
   "source": [
    "The PCA must be used when three conditions apply:\n",
    "\n",
    "- Reduce the number of variables\n",
    "- Ensure that each variable is independent of one another\n",
    "- Assume that the interpretation of the independent variables is less important"
   ]
  },
  {
   "cell_type": "markdown",
   "metadata": {},
   "source": [
    "#### 2. How does a PCA work?"
   ]
  },
  {
   "cell_type": "markdown",
   "metadata": {},
   "source": [
    "a. Calculate a matrix that summarizes how the variables are related one another (the covariance matrix).\n",
    "\n",
    "b. Then separate it between direction (eigenvectors) and magnitude (eigenvalues)\n",
    "\n",
    "c. By projecting the data into a smaller space, we reduce dimension, but keep the original variables in our model"
   ]
  },
  {
   "cell_type": "markdown",
   "metadata": {},
   "source": [
    "Mathematically, the first principal component is the direction in space along which projections have the largest variance. The second principal component is the direction which maximizes variance among all directions orthogonal to the first. The kth component is the variance-maximizing direction orthogonal to the previous k-1 components.\n",
    "\n",
    "Once we have the principal components, we need do determine how many features to keep versus how many to drop. The most common methods are:\n",
    "\n",
    "- Arbitrarily select how many dimensions to keep.\n",
    "- Calculate the proportion of variance explained. One might also choose the proportion of variance explained by each component."
   ]
  },
  {
   "cell_type": "markdown",
   "metadata": {},
   "source": [
    "#### 3. Visual representation: Regression vs. PCA"
   ]
  },
  {
   "cell_type": "markdown",
   "metadata": {},
   "source": [
    "A regression is a straight line that best fits the data, and a PCA is a orthogonal transformation to form the principal components (or linear combinations of the variables\n",
    "\n",
    "The image below illustrates the difference:"
   ]
  },
  {
   "cell_type": "code",
   "execution_count": 2,
   "metadata": {},
   "outputs": [
    {
     "data": {
      "image/jpeg": "[encoded data removed]",
      "text/plain": [
       "<IPython.core.display.Image object>"
      ]
     },
     "execution_count": 2,
     "metadata": {
      "image/jpeg": {
       "height": 400,
       "width": 400
      }
     },
     "output_type": "execute_result"
    }
   ],
   "source": [
    "Image(filename=\"image_reg_pca.jpg\", width=400, height=400)"
   ]
  },
  {
   "cell_type": "markdown",
   "metadata": {},
   "source": [
    "#### 4. Theoretical example, step by step"
   ]
  },
  {
   "cell_type": "markdown",
   "metadata": {},
   "source": [
    "The next section will work through the steps of how a PCA algorithm works using a toy dataset."
   ]
  },
  {
   "cell_type": "markdown",
   "metadata": {},
   "source": [
    "First, we will begin by creating a random distribution of data in a higher dimensional shape (we arbitrarily, for the sake of example, choose 10 variables)."
   ]
  },
  {
   "cell_type": "code",
   "execution_count": 3,
   "metadata": {},
   "outputs": [
    {
     "data": {
      "text/html": [
       "<div>\n",
       "<style scoped>\n",
       "    .dataframe tbody tr th:only-of-type {\n",
       "        vertical-align: middle;\n",
       "    }\n",
       "\n",
       "    .dataframe tbody tr th {\n",
       "        vertical-align: top;\n",
       "    }\n",
       "\n",
       "    .dataframe thead th {\n",
       "        text-align: right;\n",
       "    }\n",
       "</style>\n",
       "<table border=\"1\" class=\"dataframe\">\n",
       "  <thead>\n",
       "    <tr style=\"text-align: right;\">\n",
       "      <th></th>\n",
       "      <th>ID1</th>\n",
       "      <th>ID2</th>\n",
       "      <th>ID3</th>\n",
       "      <th>ID4</th>\n",
       "      <th>ID5</th>\n",
       "      <th>ID6</th>\n",
       "      <th>ID7</th>\n",
       "      <th>ID8</th>\n",
       "      <th>ID9</th>\n",
       "      <th>ID10</th>\n",
       "    </tr>\n",
       "  </thead>\n",
       "  <tbody>\n",
       "    <tr>\n",
       "      <th>0</th>\n",
       "      <td>2</td>\n",
       "      <td>3</td>\n",
       "      <td>7</td>\n",
       "      <td>5</td>\n",
       "      <td>3</td>\n",
       "      <td>1</td>\n",
       "      <td>7</td>\n",
       "      <td>7</td>\n",
       "      <td>2</td>\n",
       "      <td>4</td>\n",
       "    </tr>\n",
       "    <tr>\n",
       "      <th>1</th>\n",
       "      <td>4</td>\n",
       "      <td>7</td>\n",
       "      <td>1</td>\n",
       "      <td>4</td>\n",
       "      <td>3</td>\n",
       "      <td>1</td>\n",
       "      <td>8</td>\n",
       "      <td>8</td>\n",
       "      <td>7</td>\n",
       "      <td>4</td>\n",
       "    </tr>\n",
       "    <tr>\n",
       "      <th>2</th>\n",
       "      <td>2</td>\n",
       "      <td>7</td>\n",
       "      <td>2</td>\n",
       "      <td>3</td>\n",
       "      <td>8</td>\n",
       "      <td>9</td>\n",
       "      <td>3</td>\n",
       "      <td>3</td>\n",
       "      <td>1</td>\n",
       "      <td>6</td>\n",
       "    </tr>\n",
       "    <tr>\n",
       "      <th>3</th>\n",
       "      <td>4</td>\n",
       "      <td>9</td>\n",
       "      <td>7</td>\n",
       "      <td>6</td>\n",
       "      <td>9</td>\n",
       "      <td>3</td>\n",
       "      <td>3</td>\n",
       "      <td>7</td>\n",
       "      <td>3</td>\n",
       "      <td>5</td>\n",
       "    </tr>\n",
       "    <tr>\n",
       "      <th>4</th>\n",
       "      <td>4</td>\n",
       "      <td>3</td>\n",
       "      <td>6</td>\n",
       "      <td>7</td>\n",
       "      <td>2</td>\n",
       "      <td>1</td>\n",
       "      <td>7</td>\n",
       "      <td>7</td>\n",
       "      <td>1</td>\n",
       "      <td>9</td>\n",
       "    </tr>\n",
       "  </tbody>\n",
       "</table>\n",
       "</div>"
      ],
      "text/plain": [
       "   ID1  ID2  ID3  ID4  ID5  ID6  ID7  ID8  ID9  ID10\n",
       "0    2    3    7    5    3    1    7    7    2     4\n",
       "1    4    7    1    4    3    1    8    8    7     4\n",
       "2    2    7    2    3    8    9    3    3    1     6\n",
       "3    4    9    7    6    9    3    3    7    3     5\n",
       "4    4    3    6    7    2    1    7    7    1     9"
      ]
     },
     "execution_count": 3,
     "metadata": {},
     "output_type": "execute_result"
    }
   ],
   "source": [
    "#We will use this data as numpy array (from 1 to 10)\n",
    "data = np.random.randint(1, 10, 1000).reshape(100, 10)\n",
    "\n",
    "#To make it easier to visualize, let's put into a dataframe\n",
    "data_frame = pd.DataFrame(data, columns = ['ID1','ID2','ID3','ID4','ID5','ID6','ID7','ID8','ID9','ID10'])\n",
    "data_frame.head()"
   ]
  },
  {
   "cell_type": "markdown",
   "metadata": {},
   "source": [
    "The first step in PCA implementation is to find the mean of each variable and then subtract the mean from each respective row. \n",
    "\n",
    "For example, you find the mean of the first variable by taking the mean of all the values in the first column, then subtract the values in the first row (axis=0) by the mean of this \n",
    "first variable. \n",
    "\n",
    "By subtracting the means from each of the dimensions, we will then be left with a dataset that has a mean of zero and is considered \"centered.\"\n",
    "\n",
    "This is the normalization of our variables."
   ]
  },
  {
   "cell_type": "code",
   "execution_count": 4,
   "metadata": {},
   "outputs": [
    {
     "data": {
      "text/html": [
       "<div>\n",
       "<style scoped>\n",
       "    .dataframe tbody tr th:only-of-type {\n",
       "        vertical-align: middle;\n",
       "    }\n",
       "\n",
       "    .dataframe tbody tr th {\n",
       "        vertical-align: top;\n",
       "    }\n",
       "\n",
       "    .dataframe thead th {\n",
       "        text-align: right;\n",
       "    }\n",
       "</style>\n",
       "<table border=\"1\" class=\"dataframe\">\n",
       "  <thead>\n",
       "    <tr style=\"text-align: right;\">\n",
       "      <th></th>\n",
       "      <th>ID1</th>\n",
       "      <th>ID2</th>\n",
       "      <th>ID3</th>\n",
       "      <th>ID4</th>\n",
       "      <th>ID5</th>\n",
       "      <th>ID6</th>\n",
       "      <th>ID7</th>\n",
       "      <th>ID8</th>\n",
       "      <th>ID9</th>\n",
       "      <th>ID10</th>\n",
       "    </tr>\n",
       "  </thead>\n",
       "  <tbody>\n",
       "    <tr>\n",
       "      <th>0</th>\n",
       "      <td>-3.03</td>\n",
       "      <td>-1.9</td>\n",
       "      <td>2.09</td>\n",
       "      <td>-0.15</td>\n",
       "      <td>-1.85</td>\n",
       "      <td>-3.93</td>\n",
       "      <td>2.09</td>\n",
       "      <td>1.85</td>\n",
       "      <td>-2.88</td>\n",
       "      <td>-0.8</td>\n",
       "    </tr>\n",
       "    <tr>\n",
       "      <th>1</th>\n",
       "      <td>-1.03</td>\n",
       "      <td>2.1</td>\n",
       "      <td>-3.91</td>\n",
       "      <td>-1.15</td>\n",
       "      <td>-1.85</td>\n",
       "      <td>-3.93</td>\n",
       "      <td>3.09</td>\n",
       "      <td>2.85</td>\n",
       "      <td>2.12</td>\n",
       "      <td>-0.8</td>\n",
       "    </tr>\n",
       "    <tr>\n",
       "      <th>2</th>\n",
       "      <td>-3.03</td>\n",
       "      <td>2.1</td>\n",
       "      <td>-2.91</td>\n",
       "      <td>-2.15</td>\n",
       "      <td>3.15</td>\n",
       "      <td>4.07</td>\n",
       "      <td>-1.91</td>\n",
       "      <td>-2.15</td>\n",
       "      <td>-3.88</td>\n",
       "      <td>1.2</td>\n",
       "    </tr>\n",
       "    <tr>\n",
       "      <th>3</th>\n",
       "      <td>-1.03</td>\n",
       "      <td>4.1</td>\n",
       "      <td>2.09</td>\n",
       "      <td>0.85</td>\n",
       "      <td>4.15</td>\n",
       "      <td>-1.93</td>\n",
       "      <td>-1.91</td>\n",
       "      <td>1.85</td>\n",
       "      <td>-1.88</td>\n",
       "      <td>0.2</td>\n",
       "    </tr>\n",
       "    <tr>\n",
       "      <th>4</th>\n",
       "      <td>-1.03</td>\n",
       "      <td>-1.9</td>\n",
       "      <td>1.09</td>\n",
       "      <td>1.85</td>\n",
       "      <td>-2.85</td>\n",
       "      <td>-3.93</td>\n",
       "      <td>2.09</td>\n",
       "      <td>1.85</td>\n",
       "      <td>-3.88</td>\n",
       "      <td>4.2</td>\n",
       "    </tr>\n",
       "  </tbody>\n",
       "</table>\n",
       "</div>"
      ],
      "text/plain": [
       "    ID1  ID2   ID3   ID4   ID5   ID6   ID7   ID8   ID9  ID10\n",
       "0 -3.03 -1.9  2.09 -0.15 -1.85 -3.93  2.09  1.85 -2.88  -0.8\n",
       "1 -1.03  2.1 -3.91 -1.15 -1.85 -3.93  3.09  2.85  2.12  -0.8\n",
       "2 -3.03  2.1 -2.91 -2.15  3.15  4.07 -1.91 -2.15 -3.88   1.2\n",
       "3 -1.03  4.1  2.09  0.85  4.15 -1.93 -1.91  1.85 -1.88   0.2\n",
       "4 -1.03 -1.9  1.09  1.85 -2.85 -3.93  2.09  1.85 -3.88   4.2"
      ]
     },
     "execution_count": 4,
     "metadata": {},
     "output_type": "execute_result"
    }
   ],
   "source": [
    "#This is the formula to center the data around the mean\n",
    "data_centered = data - np.mean(data, axis = 0)\n",
    "\n",
    "#Again, to make it easier to visualize, let's put into a dataframe\n",
    "centered_frame = pd.DataFrame(data_centered, columns = ['ID1','ID2','ID3','ID4','ID5','ID6','ID7','ID8','ID9','ID10'])\n",
    "centered_frame.head()"
   ]
  },
  {
   "cell_type": "markdown",
   "metadata": {},
   "source": [
    "Construct the covariance matrix."
   ]
  },
  {
   "cell_type": "code",
   "execution_count": 5,
   "metadata": {},
   "outputs": [
    {
     "data": {
      "text/html": [
       "<div>\n",
       "<style scoped>\n",
       "    .dataframe tbody tr th:only-of-type {\n",
       "        vertical-align: middle;\n",
       "    }\n",
       "\n",
       "    .dataframe tbody tr th {\n",
       "        vertical-align: top;\n",
       "    }\n",
       "\n",
       "    .dataframe thead th {\n",
       "        text-align: right;\n",
       "    }\n",
       "</style>\n",
       "<table border=\"1\" class=\"dataframe\">\n",
       "  <thead>\n",
       "    <tr style=\"text-align: right;\">\n",
       "      <th></th>\n",
       "      <th>ID1</th>\n",
       "      <th>ID2</th>\n",
       "      <th>ID3</th>\n",
       "      <th>ID4</th>\n",
       "      <th>ID5</th>\n",
       "      <th>ID6</th>\n",
       "      <th>ID7</th>\n",
       "      <th>ID8</th>\n",
       "      <th>ID9</th>\n",
       "      <th>ID10</th>\n",
       "    </tr>\n",
       "  </thead>\n",
       "  <tbody>\n",
       "    <tr>\n",
       "      <th>0</th>\n",
       "      <td>6.938485</td>\n",
       "      <td>0.104040</td>\n",
       "      <td>-0.674040</td>\n",
       "      <td>0.096465</td>\n",
       "      <td>-0.722727</td>\n",
       "      <td>0.567778</td>\n",
       "      <td>-0.239697</td>\n",
       "      <td>-0.711616</td>\n",
       "      <td>-0.794343</td>\n",
       "      <td>-0.711111</td>\n",
       "    </tr>\n",
       "    <tr>\n",
       "      <th>1</th>\n",
       "      <td>0.104040</td>\n",
       "      <td>5.929293</td>\n",
       "      <td>-1.615152</td>\n",
       "      <td>1.055556</td>\n",
       "      <td>0.641414</td>\n",
       "      <td>0.952525</td>\n",
       "      <td>-0.584848</td>\n",
       "      <td>0.479798</td>\n",
       "      <td>-0.072727</td>\n",
       "      <td>0.090909</td>\n",
       "    </tr>\n",
       "    <tr>\n",
       "      <th>2</th>\n",
       "      <td>-0.674040</td>\n",
       "      <td>-1.615152</td>\n",
       "      <td>6.991818</td>\n",
       "      <td>-0.673232</td>\n",
       "      <td>-1.791414</td>\n",
       "      <td>-0.895253</td>\n",
       "      <td>-0.392020</td>\n",
       "      <td>-0.016667</td>\n",
       "      <td>0.039596</td>\n",
       "      <td>0.587879</td>\n",
       "    </tr>\n",
       "    <tr>\n",
       "      <th>3</th>\n",
       "      <td>0.096465</td>\n",
       "      <td>1.055556</td>\n",
       "      <td>-0.673232</td>\n",
       "      <td>6.351010</td>\n",
       "      <td>-0.078283</td>\n",
       "      <td>0.535859</td>\n",
       "      <td>-0.642929</td>\n",
       "      <td>-0.396465</td>\n",
       "      <td>-0.557576</td>\n",
       "      <td>0.949495</td>\n",
       "    </tr>\n",
       "    <tr>\n",
       "      <th>4</th>\n",
       "      <td>-0.722727</td>\n",
       "      <td>0.641414</td>\n",
       "      <td>-1.791414</td>\n",
       "      <td>-0.078283</td>\n",
       "      <td>7.664141</td>\n",
       "      <td>-0.051010</td>\n",
       "      <td>0.673232</td>\n",
       "      <td>0.982323</td>\n",
       "      <td>0.365657</td>\n",
       "      <td>0.383838</td>\n",
       "    </tr>\n",
       "  </tbody>\n",
       "</table>\n",
       "</div>"
      ],
      "text/plain": [
       "        ID1       ID2       ID3       ID4       ID5       ID6       ID7  \\\n",
       "0  6.938485  0.104040 -0.674040  0.096465 -0.722727  0.567778 -0.239697   \n",
       "1  0.104040  5.929293 -1.615152  1.055556  0.641414  0.952525 -0.584848   \n",
       "2 -0.674040 -1.615152  6.991818 -0.673232 -1.791414 -0.895253 -0.392020   \n",
       "3  0.096465  1.055556 -0.673232  6.351010 -0.078283  0.535859 -0.642929   \n",
       "4 -0.722727  0.641414 -1.791414 -0.078283  7.664141 -0.051010  0.673232   \n",
       "\n",
       "        ID8       ID9      ID10  \n",
       "0 -0.711616 -0.794343 -0.711111  \n",
       "1  0.479798 -0.072727  0.090909  \n",
       "2 -0.016667  0.039596  0.587879  \n",
       "3 -0.396465 -0.557576  0.949495  \n",
       "4  0.982323  0.365657  0.383838  "
      ]
     },
     "execution_count": 5,
     "metadata": {},
     "output_type": "execute_result"
    }
   ],
   "source": [
    "#This is the formula to construct the covariance matrix\n",
    "data_centered_cov = np.cov(data_centered, rowvar=False)\n",
    "\n",
    "#Once more time, to make it easier to visualize, let's put into a dataframe\n",
    "cov_frame = pd.DataFrame(data_centered_cov, columns = ['ID1','ID2','ID3','ID4','ID5','ID6','ID7','ID8','ID9','ID10'])\n",
    "cov_frame.head()"
   ]
  },
  {
   "cell_type": "markdown",
   "metadata": {},
   "source": [
    "Find the eigenvalues and eigenvectors."
   ]
  },
  {
   "cell_type": "code",
   "execution_count": 6,
   "metadata": {},
   "outputs": [
    {
     "data": {
      "text/html": [
       "<div>\n",
       "<style scoped>\n",
       "    .dataframe tbody tr th:only-of-type {\n",
       "        vertical-align: middle;\n",
       "    }\n",
       "\n",
       "    .dataframe tbody tr th {\n",
       "        vertical-align: top;\n",
       "    }\n",
       "\n",
       "    .dataframe thead th {\n",
       "        text-align: right;\n",
       "    }\n",
       "</style>\n",
       "<table border=\"1\" class=\"dataframe\">\n",
       "  <thead>\n",
       "    <tr style=\"text-align: right;\">\n",
       "      <th></th>\n",
       "      <th>ID1</th>\n",
       "      <th>ID2</th>\n",
       "      <th>ID3</th>\n",
       "      <th>ID4</th>\n",
       "      <th>ID5</th>\n",
       "      <th>ID6</th>\n",
       "      <th>ID7</th>\n",
       "      <th>ID8</th>\n",
       "      <th>ID9</th>\n",
       "      <th>ID10</th>\n",
       "    </tr>\n",
       "  </thead>\n",
       "  <tbody>\n",
       "    <tr>\n",
       "      <th>0</th>\n",
       "      <td>-0.000194</td>\n",
       "      <td>0.101384</td>\n",
       "      <td>0.449234</td>\n",
       "      <td>0.094181</td>\n",
       "      <td>-0.387159</td>\n",
       "      <td>-0.103535</td>\n",
       "      <td>0.690550</td>\n",
       "      <td>-0.144657</td>\n",
       "      <td>-0.112689</td>\n",
       "      <td>-0.328550</td>\n",
       "    </tr>\n",
       "    <tr>\n",
       "      <th>1</th>\n",
       "      <td>-0.370494</td>\n",
       "      <td>0.612772</td>\n",
       "      <td>-0.235487</td>\n",
       "      <td>-0.243573</td>\n",
       "      <td>-0.268712</td>\n",
       "      <td>-0.274307</td>\n",
       "      <td>-0.119872</td>\n",
       "      <td>0.161646</td>\n",
       "      <td>0.353642</td>\n",
       "      <td>-0.243825</td>\n",
       "    </tr>\n",
       "    <tr>\n",
       "      <th>2</th>\n",
       "      <td>-0.503825</td>\n",
       "      <td>0.234061</td>\n",
       "      <td>0.396643</td>\n",
       "      <td>0.143029</td>\n",
       "      <td>-0.127171</td>\n",
       "      <td>0.132422</td>\n",
       "      <td>-0.300961</td>\n",
       "      <td>0.137394</td>\n",
       "      <td>-0.550429</td>\n",
       "      <td>0.259726</td>\n",
       "    </tr>\n",
       "    <tr>\n",
       "      <th>3</th>\n",
       "      <td>-0.251213</td>\n",
       "      <td>-0.496094</td>\n",
       "      <td>0.313838</td>\n",
       "      <td>-0.130103</td>\n",
       "      <td>0.179358</td>\n",
       "      <td>-0.367511</td>\n",
       "      <td>-0.029125</td>\n",
       "      <td>0.582293</td>\n",
       "      <td>0.138170</td>\n",
       "      <td>-0.221637</td>\n",
       "    </tr>\n",
       "    <tr>\n",
       "      <th>4</th>\n",
       "      <td>-0.165873</td>\n",
       "      <td>0.113024</td>\n",
       "      <td>0.481957</td>\n",
       "      <td>0.023952</td>\n",
       "      <td>0.225135</td>\n",
       "      <td>0.484199</td>\n",
       "      <td>0.007032</td>\n",
       "      <td>-0.100462</td>\n",
       "      <td>0.645808</td>\n",
       "      <td>0.120460</td>\n",
       "    </tr>\n",
       "  </tbody>\n",
       "</table>\n",
       "</div>"
      ],
      "text/plain": [
       "        ID1       ID2       ID3       ID4       ID5       ID6       ID7  \\\n",
       "0 -0.000194  0.101384  0.449234  0.094181 -0.387159 -0.103535  0.690550   \n",
       "1 -0.370494  0.612772 -0.235487 -0.243573 -0.268712 -0.274307 -0.119872   \n",
       "2 -0.503825  0.234061  0.396643  0.143029 -0.127171  0.132422 -0.300961   \n",
       "3 -0.251213 -0.496094  0.313838 -0.130103  0.179358 -0.367511 -0.029125   \n",
       "4 -0.165873  0.113024  0.481957  0.023952  0.225135  0.484199  0.007032   \n",
       "\n",
       "        ID8       ID9      ID10  \n",
       "0 -0.144657 -0.112689 -0.328550  \n",
       "1  0.161646  0.353642 -0.243825  \n",
       "2  0.137394 -0.550429  0.259726  \n",
       "3  0.582293  0.138170 -0.221637  \n",
       "4 -0.100462  0.645808  0.120460  "
      ]
     },
     "execution_count": 6,
     "metadata": {},
     "output_type": "execute_result"
    }
   ],
   "source": [
    "#This is the formula to extract the eigenvectors and eigenvalues\n",
    "eigen_values1, eigen_vectors1 = np.linalg.eigh(data_centered_cov)\n",
    "\n",
    "#See how the eigenvectors look like in a dataframe\n",
    "vectors_frame = pd.DataFrame(eigen_vectors1, columns = ['ID1','ID2','ID3','ID4','ID5','ID6','ID7','ID8','ID9','ID10'])\n",
    "vectors_frame.head()"
   ]
  },
  {
   "cell_type": "code",
   "execution_count": 7,
   "metadata": {},
   "outputs": [
    {
     "data": {
      "text/html": [
       "<div>\n",
       "<style scoped>\n",
       "    .dataframe tbody tr th:only-of-type {\n",
       "        vertical-align: middle;\n",
       "    }\n",
       "\n",
       "    .dataframe tbody tr th {\n",
       "        vertical-align: top;\n",
       "    }\n",
       "\n",
       "    .dataframe thead th {\n",
       "        text-align: right;\n",
       "    }\n",
       "</style>\n",
       "<table border=\"1\" class=\"dataframe\">\n",
       "  <thead>\n",
       "    <tr style=\"text-align: right;\">\n",
       "      <th></th>\n",
       "      <th>eigenvalues</th>\n",
       "    </tr>\n",
       "  </thead>\n",
       "  <tbody>\n",
       "    <tr>\n",
       "      <th>ID1</th>\n",
       "      <td>3.867608</td>\n",
       "    </tr>\n",
       "    <tr>\n",
       "      <th>ID2</th>\n",
       "      <td>4.378019</td>\n",
       "    </tr>\n",
       "    <tr>\n",
       "      <th>ID3</th>\n",
       "      <td>4.999249</td>\n",
       "    </tr>\n",
       "    <tr>\n",
       "      <th>ID4</th>\n",
       "      <td>5.432367</td>\n",
       "    </tr>\n",
       "    <tr>\n",
       "      <th>ID5</th>\n",
       "      <td>5.830146</td>\n",
       "    </tr>\n",
       "    <tr>\n",
       "      <th>ID6</th>\n",
       "      <td>6.387612</td>\n",
       "    </tr>\n",
       "    <tr>\n",
       "      <th>ID7</th>\n",
       "      <td>7.149374</td>\n",
       "    </tr>\n",
       "    <tr>\n",
       "      <th>ID8</th>\n",
       "      <td>7.815845</td>\n",
       "    </tr>\n",
       "    <tr>\n",
       "      <th>ID9</th>\n",
       "      <td>10.322419</td>\n",
       "    </tr>\n",
       "    <tr>\n",
       "      <th>ID10</th>\n",
       "      <td>11.025544</td>\n",
       "    </tr>\n",
       "  </tbody>\n",
       "</table>\n",
       "</div>"
      ],
      "text/plain": [
       "      eigenvalues\n",
       "ID1      3.867608\n",
       "ID2      4.378019\n",
       "ID3      4.999249\n",
       "ID4      5.432367\n",
       "ID5      5.830146\n",
       "ID6      6.387612\n",
       "ID7      7.149374\n",
       "ID8      7.815845\n",
       "ID9     10.322419\n",
       "ID10    11.025544"
      ]
     },
     "execution_count": 7,
     "metadata": {},
     "output_type": "execute_result"
    }
   ],
   "source": [
    "#See how the eigenvalues look like in a dataframe\n",
    "values_frame = pd.DataFrame(eigen_values1, index=['ID1','ID2','ID3','ID4','ID5','ID6','ID7','ID8','ID9','ID10'], columns = ['eigenvalues'])\n",
    "values_frame"
   ]
  },
  {
   "cell_type": "markdown",
   "metadata": {},
   "source": [
    "Now, take the eigenvalues and eigenvectors and sort them in descending order."
   ]
  },
  {
   "cell_type": "code",
   "execution_count": 8,
   "metadata": {},
   "outputs": [],
   "source": [
    "index = np.argsort(eigen_values1)[::-1]\n",
    "\n",
    "sorted_values = eigen_values1[index]\n",
    "\n",
    "sorted_vectors = eigen_vectors1[:, index]"
   ]
  },
  {
   "cell_type": "markdown",
   "metadata": {},
   "source": [
    "Note that these eigenvectors are independent of one another (very low cross-correlation). Thus every principal components are perpendicular to one another (orthogonal)."
   ]
  },
  {
   "cell_type": "code",
   "execution_count": 9,
   "metadata": {},
   "outputs": [
    {
     "data": {
      "text/html": [
       "<div>\n",
       "<style scoped>\n",
       "    .dataframe tbody tr th:only-of-type {\n",
       "        vertical-align: middle;\n",
       "    }\n",
       "\n",
       "    .dataframe tbody tr th {\n",
       "        vertical-align: top;\n",
       "    }\n",
       "\n",
       "    .dataframe thead th {\n",
       "        text-align: right;\n",
       "    }\n",
       "</style>\n",
       "<table border=\"1\" class=\"dataframe\">\n",
       "  <thead>\n",
       "    <tr style=\"text-align: right;\">\n",
       "      <th></th>\n",
       "      <th>0</th>\n",
       "      <th>1</th>\n",
       "      <th>2</th>\n",
       "      <th>3</th>\n",
       "      <th>4</th>\n",
       "      <th>5</th>\n",
       "      <th>6</th>\n",
       "      <th>7</th>\n",
       "      <th>8</th>\n",
       "      <th>9</th>\n",
       "    </tr>\n",
       "  </thead>\n",
       "  <tbody>\n",
       "    <tr>\n",
       "      <th>0</th>\n",
       "      <td>1.000000</td>\n",
       "      <td>-0.038790</td>\n",
       "      <td>-0.020242</td>\n",
       "      <td>0.001970</td>\n",
       "      <td>0.030875</td>\n",
       "      <td>0.035257</td>\n",
       "      <td>-0.050108</td>\n",
       "      <td>-0.049672</td>\n",
       "      <td>-0.012454</td>\n",
       "      <td>0.036107</td>\n",
       "    </tr>\n",
       "    <tr>\n",
       "      <th>1</th>\n",
       "      <td>-0.038790</td>\n",
       "      <td>1.000000</td>\n",
       "      <td>-0.088314</td>\n",
       "      <td>0.008594</td>\n",
       "      <td>0.134703</td>\n",
       "      <td>0.153822</td>\n",
       "      <td>-0.218614</td>\n",
       "      <td>-0.216709</td>\n",
       "      <td>-0.054334</td>\n",
       "      <td>0.157528</td>\n",
       "    </tr>\n",
       "    <tr>\n",
       "      <th>2</th>\n",
       "      <td>-0.020242</td>\n",
       "      <td>-0.088314</td>\n",
       "      <td>1.000000</td>\n",
       "      <td>0.004485</td>\n",
       "      <td>0.070293</td>\n",
       "      <td>0.080270</td>\n",
       "      <td>-0.114081</td>\n",
       "      <td>-0.113087</td>\n",
       "      <td>-0.028353</td>\n",
       "      <td>0.082205</td>\n",
       "    </tr>\n",
       "    <tr>\n",
       "      <th>3</th>\n",
       "      <td>0.001970</td>\n",
       "      <td>0.008594</td>\n",
       "      <td>0.004485</td>\n",
       "      <td>1.000000</td>\n",
       "      <td>-0.006841</td>\n",
       "      <td>-0.007812</td>\n",
       "      <td>0.011102</td>\n",
       "      <td>0.011005</td>\n",
       "      <td>0.002759</td>\n",
       "      <td>-0.008000</td>\n",
       "    </tr>\n",
       "    <tr>\n",
       "      <th>4</th>\n",
       "      <td>0.030875</td>\n",
       "      <td>0.134703</td>\n",
       "      <td>0.070293</td>\n",
       "      <td>-0.006841</td>\n",
       "      <td>1.000000</td>\n",
       "      <td>-0.122435</td>\n",
       "      <td>0.174006</td>\n",
       "      <td>0.172490</td>\n",
       "      <td>0.043247</td>\n",
       "      <td>-0.125385</td>\n",
       "    </tr>\n",
       "    <tr>\n",
       "      <th>5</th>\n",
       "      <td>0.035257</td>\n",
       "      <td>0.153822</td>\n",
       "      <td>0.080270</td>\n",
       "      <td>-0.007812</td>\n",
       "      <td>-0.122435</td>\n",
       "      <td>1.000000</td>\n",
       "      <td>0.198703</td>\n",
       "      <td>0.196972</td>\n",
       "      <td>0.049385</td>\n",
       "      <td>-0.143181</td>\n",
       "    </tr>\n",
       "    <tr>\n",
       "      <th>6</th>\n",
       "      <td>-0.050108</td>\n",
       "      <td>-0.218614</td>\n",
       "      <td>-0.114081</td>\n",
       "      <td>0.011102</td>\n",
       "      <td>0.174006</td>\n",
       "      <td>0.198703</td>\n",
       "      <td>1.000000</td>\n",
       "      <td>-0.279939</td>\n",
       "      <td>-0.070187</td>\n",
       "      <td>0.203491</td>\n",
       "    </tr>\n",
       "    <tr>\n",
       "      <th>7</th>\n",
       "      <td>-0.049672</td>\n",
       "      <td>-0.216709</td>\n",
       "      <td>-0.113087</td>\n",
       "      <td>0.011005</td>\n",
       "      <td>0.172490</td>\n",
       "      <td>0.196972</td>\n",
       "      <td>-0.279939</td>\n",
       "      <td>1.000000</td>\n",
       "      <td>-0.069575</td>\n",
       "      <td>0.201718</td>\n",
       "    </tr>\n",
       "    <tr>\n",
       "      <th>8</th>\n",
       "      <td>-0.012454</td>\n",
       "      <td>-0.054334</td>\n",
       "      <td>-0.028353</td>\n",
       "      <td>0.002759</td>\n",
       "      <td>0.043247</td>\n",
       "      <td>0.049385</td>\n",
       "      <td>-0.070187</td>\n",
       "      <td>-0.069575</td>\n",
       "      <td>1.000000</td>\n",
       "      <td>0.050575</td>\n",
       "    </tr>\n",
       "    <tr>\n",
       "      <th>9</th>\n",
       "      <td>0.036107</td>\n",
       "      <td>0.157528</td>\n",
       "      <td>0.082205</td>\n",
       "      <td>-0.008000</td>\n",
       "      <td>-0.125385</td>\n",
       "      <td>-0.143181</td>\n",
       "      <td>0.203491</td>\n",
       "      <td>0.201718</td>\n",
       "      <td>0.050575</td>\n",
       "      <td>1.000000</td>\n",
       "    </tr>\n",
       "  </tbody>\n",
       "</table>\n",
       "</div>"
      ],
      "text/plain": [
       "          0         1         2         3         4         5         6  \\\n",
       "0  1.000000 -0.038790 -0.020242  0.001970  0.030875  0.035257 -0.050108   \n",
       "1 -0.038790  1.000000 -0.088314  0.008594  0.134703  0.153822 -0.218614   \n",
       "2 -0.020242 -0.088314  1.000000  0.004485  0.070293  0.080270 -0.114081   \n",
       "3  0.001970  0.008594  0.004485  1.000000 -0.006841 -0.007812  0.011102   \n",
       "4  0.030875  0.134703  0.070293 -0.006841  1.000000 -0.122435  0.174006   \n",
       "5  0.035257  0.153822  0.080270 -0.007812 -0.122435  1.000000  0.198703   \n",
       "6 -0.050108 -0.218614 -0.114081  0.011102  0.174006  0.198703  1.000000   \n",
       "7 -0.049672 -0.216709 -0.113087  0.011005  0.172490  0.196972 -0.279939   \n",
       "8 -0.012454 -0.054334 -0.028353  0.002759  0.043247  0.049385 -0.070187   \n",
       "9  0.036107  0.157528  0.082205 -0.008000 -0.125385 -0.143181  0.203491   \n",
       "\n",
       "          7         8         9  \n",
       "0 -0.049672 -0.012454  0.036107  \n",
       "1 -0.216709 -0.054334  0.157528  \n",
       "2 -0.113087 -0.028353  0.082205  \n",
       "3  0.011005  0.002759 -0.008000  \n",
       "4  0.172490  0.043247 -0.125385  \n",
       "5  0.196972  0.049385 -0.143181  \n",
       "6 -0.279939 -0.070187  0.203491  \n",
       "7  1.000000 -0.069575  0.201718  \n",
       "8 -0.069575  1.000000  0.050575  \n",
       "9  0.201718  0.050575  1.000000  "
      ]
     },
     "execution_count": 9,
     "metadata": {},
     "output_type": "execute_result"
    }
   ],
   "source": [
    "df = pd.DataFrame(sorted_vectors)\n",
    "#Pairwise correlation\n",
    "df.corr(method ='pearson')"
   ]
  },
  {
   "cell_type": "markdown",
   "metadata": {},
   "source": [
    "Determine the amount of components you would like to return from the sorted eigenvalue matrix (we will discuss this later)"
   ]
  },
  {
   "cell_type": "code",
   "execution_count": 10,
   "metadata": {},
   "outputs": [
    {
     "data": {
      "text/html": [
       "<div>\n",
       "<style scoped>\n",
       "    .dataframe tbody tr th:only-of-type {\n",
       "        vertical-align: middle;\n",
       "    }\n",
       "\n",
       "    .dataframe tbody tr th {\n",
       "        vertical-align: top;\n",
       "    }\n",
       "\n",
       "    .dataframe thead th {\n",
       "        text-align: right;\n",
       "    }\n",
       "</style>\n",
       "<table border=\"1\" class=\"dataframe\">\n",
       "  <thead>\n",
       "    <tr style=\"text-align: right;\">\n",
       "      <th></th>\n",
       "      <th>ID1</th>\n",
       "      <th>ID2</th>\n",
       "      <th>ID3</th>\n",
       "    </tr>\n",
       "  </thead>\n",
       "  <tbody>\n",
       "    <tr>\n",
       "      <th>0</th>\n",
       "      <td>-0.328550</td>\n",
       "      <td>-0.112689</td>\n",
       "      <td>-0.144657</td>\n",
       "    </tr>\n",
       "    <tr>\n",
       "      <th>1</th>\n",
       "      <td>-0.243825</td>\n",
       "      <td>0.353642</td>\n",
       "      <td>0.161646</td>\n",
       "    </tr>\n",
       "    <tr>\n",
       "      <th>2</th>\n",
       "      <td>0.259726</td>\n",
       "      <td>-0.550429</td>\n",
       "      <td>0.137394</td>\n",
       "    </tr>\n",
       "    <tr>\n",
       "      <th>3</th>\n",
       "      <td>-0.221637</td>\n",
       "      <td>0.138170</td>\n",
       "      <td>0.582293</td>\n",
       "    </tr>\n",
       "    <tr>\n",
       "      <th>4</th>\n",
       "      <td>0.120460</td>\n",
       "      <td>0.645808</td>\n",
       "      <td>-0.100462</td>\n",
       "    </tr>\n",
       "  </tbody>\n",
       "</table>\n",
       "</div>"
      ],
      "text/plain": [
       "        ID1       ID2       ID3\n",
       "0 -0.328550 -0.112689 -0.144657\n",
       "1 -0.243825  0.353642  0.161646\n",
       "2  0.259726 -0.550429  0.137394\n",
       "3 -0.221637  0.138170  0.582293\n",
       "4  0.120460  0.645808 -0.100462"
      ]
     },
     "execution_count": 10,
     "metadata": {},
     "output_type": "execute_result"
    }
   ],
   "source": [
    "#We arbitrarily select 3 components, but you can change that\n",
    "components = 3\n",
    "\n",
    "#Sort the eigenvectors\n",
    "eigvect_subset = sorted_vectors[:, 0:components]\n",
    "\n",
    "#See how the subset look like in a dataframe\n",
    "subset_frame = pd.DataFrame(eigvect_subset, columns=['ID1','ID2','ID3'])\n",
    "subset_frame.head()"
   ]
  },
  {
   "cell_type": "markdown",
   "metadata": {},
   "source": [
    "Return the reduce form by matrix multiplying the transpose of the eigenvector subset and transpose of the normalized dataset. Then, transpose the product. See that the shape matches (length of data series, number of principal components)"
   ]
  },
  {
   "cell_type": "code",
   "execution_count": 11,
   "metadata": {},
   "outputs": [
    {
     "data": {
      "text/plain": [
       "(100, 3)"
      ]
     },
     "execution_count": 11,
     "metadata": {},
     "output_type": "execute_result"
    }
   ],
   "source": [
    "data_pca = (eigvect_subset.T @ data_centered.T).T\n",
    "#Check if the dimension reduction happened from 10 to 3\n",
    "data_pca.shape"
   ]
  },
  {
   "cell_type": "markdown",
   "metadata": {},
   "source": [
    "Finally, we build a function that summarizes the steps we did above to extract the principal components."
   ]
  },
  {
   "cell_type": "code",
   "execution_count": 12,
   "metadata": {},
   "outputs": [],
   "source": [
    "#Summary function\n",
    "def principal_component_analysis(data, components):\n",
    "    \"\"\"\n",
    "    Takes a higher dimension dataset and uses PCA to reduce \n",
    "    the data to the desired numnber of dimensions\n",
    "    \n",
    "    Parameters\n",
    "    ----------\n",
    "    data : np.array(ndim=n, size=m)\n",
    "        observations that were generated \n",
    "        by a model or data provided\n",
    "    components : int\n",
    "        number of desired components the \n",
    "        given data will be reduced to \n",
    "    \n",
    "    Returns\n",
    "    -------\n",
    "    PCA_data : np.array(ndim=n, size=components)\n",
    "        the dataset with reduced dimensions\n",
    "    \"\"\"\n",
    "    #Centering the data\n",
    "    data_centered = data - np.mean(data, axis=0)\n",
    "    \n",
    "    #Get covariance matrix\n",
    "    data_centered_cov = np.cov(data_centered, rowvar=False)\n",
    "    \n",
    "    #Get eigenvalues and eigenvectors\n",
    "    eigen_values, eigen_vectors = np.linalg.eigh(data_centered_cov)\n",
    "\n",
    "    index = np.argsort(eigen_values)[::-1]\n",
    "    sorted_values = eigen_values[index]\n",
    "    sorted_vectors = eigen_vectors[:, index]\n",
    "\n",
    "    vector_subset = sorted_vectors[:, 0:components]\n",
    "\n",
    "    PCA_data = (vector_subset.T @ data_centered.T).T #similar to .transform in the PCA package\n",
    "\n",
    "    return PCA_data"
   ]
  },
  {
   "cell_type": "markdown",
   "metadata": {},
   "source": [
    "#### 5. Testing our new function, on a new theoretical example"
   ]
  },
  {
   "cell_type": "markdown",
   "metadata": {},
   "source": [
    "At this step, we test whether our function is indeed reducing the dimensions. The transformed data should have 5 principal components from a dataset that had 8 columns and 10 values for each of those columns."
   ]
  },
  {
   "cell_type": "code",
   "execution_count": 13,
   "metadata": {},
   "outputs": [
    {
     "data": {
      "text/html": [
       "<div>\n",
       "<style scoped>\n",
       "    .dataframe tbody tr th:only-of-type {\n",
       "        vertical-align: middle;\n",
       "    }\n",
       "\n",
       "    .dataframe tbody tr th {\n",
       "        vertical-align: top;\n",
       "    }\n",
       "\n",
       "    .dataframe thead th {\n",
       "        text-align: right;\n",
       "    }\n",
       "</style>\n",
       "<table border=\"1\" class=\"dataframe\">\n",
       "  <thead>\n",
       "    <tr style=\"text-align: right;\">\n",
       "      <th></th>\n",
       "      <th>Data1</th>\n",
       "      <th>Data2</th>\n",
       "      <th>Data3</th>\n",
       "      <th>Data4</th>\n",
       "      <th>Data5</th>\n",
       "      <th>Data6</th>\n",
       "      <th>Data7</th>\n",
       "      <th>Data8</th>\n",
       "    </tr>\n",
       "  </thead>\n",
       "  <tbody>\n",
       "    <tr>\n",
       "      <th>0</th>\n",
       "      <td>9</td>\n",
       "      <td>4</td>\n",
       "      <td>5</td>\n",
       "      <td>4</td>\n",
       "      <td>4</td>\n",
       "      <td>2</td>\n",
       "      <td>7</td>\n",
       "      <td>1</td>\n",
       "    </tr>\n",
       "    <tr>\n",
       "      <th>1</th>\n",
       "      <td>2</td>\n",
       "      <td>7</td>\n",
       "      <td>9</td>\n",
       "      <td>3</td>\n",
       "      <td>8</td>\n",
       "      <td>7</td>\n",
       "      <td>9</td>\n",
       "      <td>1</td>\n",
       "    </tr>\n",
       "    <tr>\n",
       "      <th>2</th>\n",
       "      <td>7</td>\n",
       "      <td>2</td>\n",
       "      <td>9</td>\n",
       "      <td>6</td>\n",
       "      <td>1</td>\n",
       "      <td>4</td>\n",
       "      <td>8</td>\n",
       "      <td>7</td>\n",
       "    </tr>\n",
       "    <tr>\n",
       "      <th>3</th>\n",
       "      <td>6</td>\n",
       "      <td>8</td>\n",
       "      <td>2</td>\n",
       "      <td>4</td>\n",
       "      <td>5</td>\n",
       "      <td>5</td>\n",
       "      <td>2</td>\n",
       "      <td>9</td>\n",
       "    </tr>\n",
       "    <tr>\n",
       "      <th>4</th>\n",
       "      <td>2</td>\n",
       "      <td>6</td>\n",
       "      <td>4</td>\n",
       "      <td>4</td>\n",
       "      <td>6</td>\n",
       "      <td>5</td>\n",
       "      <td>7</td>\n",
       "      <td>8</td>\n",
       "    </tr>\n",
       "    <tr>\n",
       "      <th>5</th>\n",
       "      <td>9</td>\n",
       "      <td>3</td>\n",
       "      <td>7</td>\n",
       "      <td>1</td>\n",
       "      <td>8</td>\n",
       "      <td>4</td>\n",
       "      <td>7</td>\n",
       "      <td>3</td>\n",
       "    </tr>\n",
       "    <tr>\n",
       "      <th>6</th>\n",
       "      <td>4</td>\n",
       "      <td>5</td>\n",
       "      <td>6</td>\n",
       "      <td>4</td>\n",
       "      <td>1</td>\n",
       "      <td>9</td>\n",
       "      <td>3</td>\n",
       "      <td>6</td>\n",
       "    </tr>\n",
       "    <tr>\n",
       "      <th>7</th>\n",
       "      <td>3</td>\n",
       "      <td>7</td>\n",
       "      <td>9</td>\n",
       "      <td>5</td>\n",
       "      <td>8</td>\n",
       "      <td>7</td>\n",
       "      <td>3</td>\n",
       "      <td>9</td>\n",
       "    </tr>\n",
       "    <tr>\n",
       "      <th>8</th>\n",
       "      <td>3</td>\n",
       "      <td>6</td>\n",
       "      <td>3</td>\n",
       "      <td>5</td>\n",
       "      <td>7</td>\n",
       "      <td>2</td>\n",
       "      <td>5</td>\n",
       "      <td>9</td>\n",
       "    </tr>\n",
       "    <tr>\n",
       "      <th>9</th>\n",
       "      <td>2</td>\n",
       "      <td>8</td>\n",
       "      <td>4</td>\n",
       "      <td>7</td>\n",
       "      <td>2</td>\n",
       "      <td>2</td>\n",
       "      <td>9</td>\n",
       "      <td>5</td>\n",
       "    </tr>\n",
       "  </tbody>\n",
       "</table>\n",
       "</div>"
      ],
      "text/plain": [
       "   Data1  Data2  Data3  Data4  Data5  Data6  Data7  Data8\n",
       "0      9      4      5      4      4      2      7      1\n",
       "1      2      7      9      3      8      7      9      1\n",
       "2      7      2      9      6      1      4      8      7\n",
       "3      6      8      2      4      5      5      2      9\n",
       "4      2      6      4      4      6      5      7      8\n",
       "5      9      3      7      1      8      4      7      3\n",
       "6      4      5      6      4      1      9      3      6\n",
       "7      3      7      9      5      8      7      3      9\n",
       "8      3      6      3      5      7      2      5      9\n",
       "9      2      8      4      7      2      2      9      5"
      ]
     },
     "execution_count": 13,
     "metadata": {},
     "output_type": "execute_result"
    }
   ],
   "source": [
    "# Test: Creating the new data set \n",
    "data1 = np.random.randint(1, 10, 80).reshape(10, 8)\n",
    "\n",
    "#As we did above, see how the new data set look like in a dataframe\n",
    "data1_frame = pd.DataFrame(data1, columns=['Data1','Data2','Data3','Data4','Data5','Data6','Data7','Data8'])\n",
    "data1_frame"
   ]
  },
  {
   "cell_type": "markdown",
   "metadata": {},
   "source": [
    "Once we have the data, we parse our summary function to our new data set."
   ]
  },
  {
   "cell_type": "code",
   "execution_count": 14,
   "metadata": {},
   "outputs": [
    {
     "data": {
      "text/html": [
       "<div>\n",
       "<style scoped>\n",
       "    .dataframe tbody tr th:only-of-type {\n",
       "        vertical-align: middle;\n",
       "    }\n",
       "\n",
       "    .dataframe tbody tr th {\n",
       "        vertical-align: top;\n",
       "    }\n",
       "\n",
       "    .dataframe thead th {\n",
       "        text-align: right;\n",
       "    }\n",
       "</style>\n",
       "<table border=\"1\" class=\"dataframe\">\n",
       "  <thead>\n",
       "    <tr style=\"text-align: right;\">\n",
       "      <th></th>\n",
       "      <th>ID1</th>\n",
       "      <th>ID2</th>\n",
       "      <th>ID3</th>\n",
       "      <th>ID4</th>\n",
       "      <th>ID5</th>\n",
       "    </tr>\n",
       "  </thead>\n",
       "  <tbody>\n",
       "    <tr>\n",
       "      <th>0</th>\n",
       "      <td>-6.043275</td>\n",
       "      <td>3.073436</td>\n",
       "      <td>0.520675</td>\n",
       "      <td>-1.973968</td>\n",
       "      <td>-1.523213</td>\n",
       "    </tr>\n",
       "    <tr>\n",
       "      <th>1</th>\n",
       "      <td>-3.649044</td>\n",
       "      <td>-6.478586</td>\n",
       "      <td>-3.188427</td>\n",
       "      <td>0.756746</td>\n",
       "      <td>-1.205638</td>\n",
       "    </tr>\n",
       "    <tr>\n",
       "      <th>2</th>\n",
       "      <td>-2.927622</td>\n",
       "      <td>3.438814</td>\n",
       "      <td>1.309166</td>\n",
       "      <td>4.363427</td>\n",
       "      <td>3.464149</td>\n",
       "    </tr>\n",
       "    <tr>\n",
       "      <th>3</th>\n",
       "      <td>5.095957</td>\n",
       "      <td>1.935160</td>\n",
       "      <td>2.579325</td>\n",
       "      <td>-2.517064</td>\n",
       "      <td>-2.056937</td>\n",
       "    </tr>\n",
       "    <tr>\n",
       "      <th>4</th>\n",
       "      <td>2.805175</td>\n",
       "      <td>-0.668733</td>\n",
       "      <td>-1.866114</td>\n",
       "      <td>-0.729413</td>\n",
       "      <td>0.663671</td>\n",
       "    </tr>\n",
       "    <tr>\n",
       "      <th>5</th>\n",
       "      <td>-5.720767</td>\n",
       "      <td>-1.384329</td>\n",
       "      <td>3.093868</td>\n",
       "      <td>-3.211654</td>\n",
       "      <td>0.684973</td>\n",
       "    </tr>\n",
       "    <tr>\n",
       "      <th>6</th>\n",
       "      <td>1.838738</td>\n",
       "      <td>0.262858</td>\n",
       "      <td>2.779192</td>\n",
       "      <td>4.629287</td>\n",
       "      <td>-3.265101</td>\n",
       "    </tr>\n",
       "    <tr>\n",
       "      <th>7</th>\n",
       "      <td>4.042688</td>\n",
       "      <td>-4.445708</td>\n",
       "      <td>2.076125</td>\n",
       "      <td>0.988672</td>\n",
       "      <td>2.040368</td>\n",
       "    </tr>\n",
       "    <tr>\n",
       "      <th>8</th>\n",
       "      <td>3.953944</td>\n",
       "      <td>1.196096</td>\n",
       "      <td>-1.180920</td>\n",
       "      <td>-3.286563</td>\n",
       "      <td>1.823257</td>\n",
       "    </tr>\n",
       "    <tr>\n",
       "      <th>9</th>\n",
       "      <td>0.604205</td>\n",
       "      <td>3.070992</td>\n",
       "      <td>-6.122890</td>\n",
       "      <td>0.980531</td>\n",
       "      <td>-0.625529</td>\n",
       "    </tr>\n",
       "  </tbody>\n",
       "</table>\n",
       "</div>"
      ],
      "text/plain": [
       "        ID1       ID2       ID3       ID4       ID5\n",
       "0 -6.043275  3.073436  0.520675 -1.973968 -1.523213\n",
       "1 -3.649044 -6.478586 -3.188427  0.756746 -1.205638\n",
       "2 -2.927622  3.438814  1.309166  4.363427  3.464149\n",
       "3  5.095957  1.935160  2.579325 -2.517064 -2.056937\n",
       "4  2.805175 -0.668733 -1.866114 -0.729413  0.663671\n",
       "5 -5.720767 -1.384329  3.093868 -3.211654  0.684973\n",
       "6  1.838738  0.262858  2.779192  4.629287 -3.265101\n",
       "7  4.042688 -4.445708  2.076125  0.988672  2.040368\n",
       "8  3.953944  1.196096 -1.180920 -3.286563  1.823257\n",
       "9  0.604205  3.070992 -6.122890  0.980531 -0.625529"
      ]
     },
     "execution_count": 14,
     "metadata": {},
     "output_type": "execute_result"
    }
   ],
   "source": [
    "ex1 = principal_component_analysis(data1, 5)\n",
    "\n",
    "ex1_frame = pd.DataFrame(ex1, columns=['ID1','ID2','ID3','ID4','ID5'])\n",
    "ex1_frame"
   ]
  },
  {
   "cell_type": "markdown",
   "metadata": {},
   "source": [
    "We now build a function that will return the minimum necessary amount of components needed to explain 95% variance in a given model. \n",
    "\n",
    "In this case, 95% variance (convention) is an arbitrary selection and the parameter in the function can be altered to any desired level of variance."
   ]
  },
  {
   "cell_type": "code",
   "execution_count": 15,
   "metadata": {},
   "outputs": [
    {
     "name": "stdout",
     "output_type": "stream",
     "text": [
      "Number of components necessary to explain aproximately 95% of the variance is: 5\n"
     ]
    }
   ],
   "source": [
    "def number_components(data_set, desired_var):\n",
    "    \"\"\"\n",
    "    Uses the cumulative sum array of explained variance \n",
    "    to interpret how many components are required to meet\n",
    "    a desired level of modeling variance \n",
    "    \n",
    "    Parameters\n",
    "    ----------\n",
    "    data : np.array(ndim=n, size=m)\n",
    "        observations that were generated \n",
    "        by a model or data provided\n",
    "        \n",
    "    desired_var : int\n",
    "        the desired variance level which you would \n",
    "        like to have your model explain  \n",
    "    \n",
    "    Returns\n",
    "    -------\n",
    "    pos : int\n",
    "        Number of principal components necessary to achieve desired_var\n",
    "    \"\"\"\n",
    "    \n",
    "    #Centering the data\n",
    "    data_centered = data_set - np.mean(data_set, axis=0)\n",
    "    \n",
    "    #Get covariance matrix\n",
    "    data_centered_cov = np.cov(data_centered, rowvar=False)    \n",
    "    \n",
    "    #Get the eigenvalues and eigenvectors\n",
    "    eigen_values, eigen_vectors = np.linalg.eigh(data_centered_cov)\n",
    "    \n",
    "    #Sum the eigenvalues\n",
    "    total_values = sum(eigen_values)\n",
    "    \n",
    "    #Then use them to see how much they will explain of the variance\n",
    "    explained_var = [(i/total_values) for i in sorted(eigen_values, reverse=True)]\n",
    "    \n",
    "    #This function sees how they cumulatively explain the variance\n",
    "    sum_explained = np.cumsum(explained_var)\n",
    "    \n",
    "    #Find the number of principal components to achieve the desired_var\n",
    "    pos = bisect_left(sum_explained, desired_var)\n",
    "    \n",
    "    return pos+1\n",
    "\n",
    "print(f\"Number of components necessary to explain aproximately 95% of the variance is: {number_components(data1, .95)}\")"
   ]
  },
  {
   "cell_type": "markdown",
   "metadata": {},
   "source": [
    "Now, let's show graphically how each principal component contributes to explaining the variance.\n",
    "\n",
    "Note that the function below is a replica of the above, but ending on the \"sum_explained\" step."
   ]
  },
  {
   "cell_type": "code",
   "execution_count": 16,
   "metadata": {},
   "outputs": [
    {
     "data": {
      "text/html": [
       "<div>\n",
       "<style scoped>\n",
       "    .dataframe tbody tr th:only-of-type {\n",
       "        vertical-align: middle;\n",
       "    }\n",
       "\n",
       "    .dataframe tbody tr th {\n",
       "        vertical-align: top;\n",
       "    }\n",
       "\n",
       "    .dataframe thead th {\n",
       "        text-align: right;\n",
       "    }\n",
       "</style>\n",
       "<table border=\"1\" class=\"dataframe\">\n",
       "  <thead>\n",
       "    <tr style=\"text-align: right;\">\n",
       "      <th></th>\n",
       "      <th>explained_variance</th>\n",
       "    </tr>\n",
       "  </thead>\n",
       "  <tbody>\n",
       "    <tr>\n",
       "      <th>ID1</th>\n",
       "      <td>0.339092</td>\n",
       "    </tr>\n",
       "    <tr>\n",
       "      <th>ID2</th>\n",
       "      <td>0.550206</td>\n",
       "    </tr>\n",
       "    <tr>\n",
       "      <th>ID3</th>\n",
       "      <td>0.724878</td>\n",
       "    </tr>\n",
       "    <tr>\n",
       "      <th>ID4</th>\n",
       "      <td>0.882847</td>\n",
       "    </tr>\n",
       "    <tr>\n",
       "      <th>ID5</th>\n",
       "      <td>0.966102</td>\n",
       "    </tr>\n",
       "    <tr>\n",
       "      <th>ID6</th>\n",
       "      <td>0.992512</td>\n",
       "    </tr>\n",
       "    <tr>\n",
       "      <th>ID7</th>\n",
       "      <td>0.999536</td>\n",
       "    </tr>\n",
       "    <tr>\n",
       "      <th>ID8</th>\n",
       "      <td>1.000000</td>\n",
       "    </tr>\n",
       "  </tbody>\n",
       "</table>\n",
       "</div>"
      ],
      "text/plain": [
       "     explained_variance\n",
       "ID1            0.339092\n",
       "ID2            0.550206\n",
       "ID3            0.724878\n",
       "ID4            0.882847\n",
       "ID5            0.966102\n",
       "ID6            0.992512\n",
       "ID7            0.999536\n",
       "ID8            1.000000"
      ]
     },
     "execution_count": 16,
     "metadata": {},
     "output_type": "execute_result"
    }
   ],
   "source": [
    "def explained_variance(data_set):\n",
    "    \"\"\"\n",
    "    Find the cumulative sum array of explained variance \n",
    "    \n",
    "    Parameters\n",
    "    ----------\n",
    "    data : np.array(ndim=n, size=m)\n",
    "        observations that were generated \n",
    "        by a model or data provided\n",
    "    \n",
    "    Returns\n",
    "    -------\n",
    "    sum_explained : np.array\n",
    "        Percentage of the variance explained (how each component cumulatively explain the variance)\n",
    "    \"\"\"\n",
    "    \n",
    "    #Centering the data\n",
    "    data_centered = data_set - np.mean(data_set, axis=0)\n",
    "    \n",
    "    #Get covariance matrix\n",
    "    data_centered_cov = np.cov(data_centered, rowvar=False)    \n",
    "    \n",
    "    #Get the eigenvalues and eigenvectors\n",
    "    eigen_values, eigen_vectors = np.linalg.eigh(data_centered_cov)\n",
    "    \n",
    "    #Sum the eigenvalues\n",
    "    total_values = sum(eigen_values)\n",
    "    \n",
    "    #Then use them to see how much they will explain of the variance\n",
    "    explained_var = [(i/total_values) for i in sorted(eigen_values, reverse=True)]\n",
    "    \n",
    "    #This function sees how they cumulatively explain the variance\n",
    "    sum_explained = np.cumsum(explained_var)\n",
    "    \n",
    "    return sum_explained\n",
    "\n",
    "sum_explained2 = explained_variance(data1)\n",
    "\n",
    "#See how the explained variance look like in a dataframe\n",
    "index_components=['ID1','ID2','ID3','ID4','ID5','ID6','ID7','ID8']\n",
    "explained_frame = pd.DataFrame(sum_explained2, index_components, columns = ['explained_variance'])\n",
    "explained_frame"
   ]
  },
  {
   "cell_type": "markdown",
   "metadata": {},
   "source": [
    "Visually, the logic is the following:"
   ]
  },
  {
   "cell_type": "code",
   "execution_count": 17,
   "metadata": {},
   "outputs": [
    {
     "data": {
      "image/png": "[encoded data removed]",
      "text/plain": [
       "<Figure size 432x288 with 1 Axes>"
      ]
     },
     "metadata": {
      "needs_background": "light"
     },
     "output_type": "display_data"
    }
   ],
   "source": [
    "#Cumulative explanation of the variance for the addition of each principal component\n",
    "plt.step(index_components, explained_frame,\n",
    "where='pre', label=\"Explained Variance\")\n",
    "\n",
    "#Name labels and titles\n",
    "plt.ylabel(\"Explained Variance\")\n",
    "plt.xlabel(\"Principal Components\")\n",
    "plt.title(\"How each Principal Component explains the Variance\")\n",
    "\n",
    "#Add vertical line to show where the principal component analysis is close to reach 95% of the explained variance\n",
    "id_annotation = 'ID5'\n",
    "plt.axvline(x=id_annotation, linestyle='dashed', color='black', linewidth=1)\n",
    "plt.annotate(\"Number of IDs to 95% var.\", xy=[id_annotation, .5], horizontalalignment='right')\n",
    "\n",
    "#Show chart\n",
    "plt.tight_layout()\n",
    "plt.show()"
   ]
  },
  {
   "cell_type": "markdown",
   "metadata": {},
   "source": [
    "We can see that, at the margin, each step explains less of the variance. \n",
    "\n",
    "For example, the addition of the first component explains about 15% of the variance. The addition of the last component adds only about 5%-points of explanation of the variance.\n",
    "\n",
    "Note that the function below is a replica of the others, but ending on the \"explained_var\" step. In this case, we don't use a step chart as a line makes easier to see the marginal change."
   ]
  },
  {
   "cell_type": "code",
   "execution_count": 18,
   "metadata": {},
   "outputs": [
    {
     "data": {
      "image/png": "[encoded data removed]",
      "text/plain": [
       "<Figure size 432x288 with 1 Axes>"
      ]
     },
     "metadata": {
      "needs_background": "light"
     },
     "output_type": "display_data"
    }
   ],
   "source": [
    "def marginal_variance(data_set):\n",
    "    \"\"\"\n",
    "    Find the cumulative sum array of explained variance \n",
    "    \n",
    "    Parameters\n",
    "    ----------\n",
    "    data : np.array(ndim=n, size=m)\n",
    "        observations that were generated \n",
    "        by a model or data provided\n",
    "    \n",
    "    Returns\n",
    "    -------\n",
    "    explained_var : list\n",
    "        Percentage of the variance explained at the margin (how each component explain the variance)\n",
    "    \"\"\"\n",
    "    \n",
    "    #Centering the data\n",
    "    data_centered = data_set - np.mean(data_set, axis=0)\n",
    "    \n",
    "    #Get covariance matrix\n",
    "    data_centered_cov = np.cov(data_centered, rowvar=False)    \n",
    "    \n",
    "    #Get the eigenvalues and eigenvectors\n",
    "    eigen_values, eigen_vectors = np.linalg.eigh(data_centered_cov)\n",
    "    \n",
    "    #Sum the eigenvalues\n",
    "    total_values = sum(eigen_values)\n",
    "    \n",
    "    #Then use them to see how much they will explain of the variance\n",
    "    explained_var = [(i/total_values) for i in sorted(eigen_values, reverse=True)]\n",
    "    \n",
    "    return explained_var\n",
    "\n",
    "#Marginal explanation of variance\n",
    "explained_var2 = marginal_variance(data1)\n",
    "\n",
    "#Charting how the marginal explanation evolves by each principal component\n",
    "plt.plot(index_components, explained_var2, label=\"Marginal Explained Variance\")\n",
    "\n",
    "#Name labels and titles\n",
    "plt.ylabel(\"Marginal Explained Variance\")\n",
    "plt.xlabel(\"Principal Components\")\n",
    "plt.title(\"Marginal increase of explained variance by each component\")\n",
    "\n",
    "#Show chart\n",
    "plt.tight_layout()\n",
    "plt.show()"
   ]
  },
  {
   "cell_type": "markdown",
   "metadata": {
    "tags": []
   },
   "source": [
    "#### 6. Application: Image recognition"
   ]
  },
  {
   "cell_type": "markdown",
   "metadata": {},
   "source": [
    "Let's test the ability of our function, given a set of principal components, of replicating the QuantEcon logo.\n",
    "\n",
    "First, we will download the packages and get the image from the web."
   ]
  },
  {
   "cell_type": "code",
   "execution_count": 43,
   "metadata": {},
   "outputs": [
    {
     "name": "stdout",
     "output_type": "stream",
     "text": [
      "(163, 310, 4)\n"
     ]
    },
    {
     "data": {
      "text/plain": [
       "<matplotlib.image.AxesImage at 0x1af9ab06370>"
      ]
     },
     "execution_count": 43,
     "metadata": {},
     "output_type": "execute_result"
    },
    {
     "data": {
      "image/png": "[encoded data removed]",
      "text/plain": [
       "<Figure size 432x288 with 1 Axes>"
      ]
     },
     "metadata": {
      "needs_background": "light"
     },
     "output_type": "display_data"
    }
   ],
   "source": [
    "img = mpimg.imread('quantecon')\n",
    "print(img.shape)\n",
    "plt.imshow(img)"
   ]
  },
  {
   "cell_type": "markdown",
   "metadata": {},
   "source": [
    "Our image is in the form of 163 rows each containing 310 pixels which have 4 channels (RGB). We have to resize the image so that it is in the format required for PCA input. As 310*4=1240, we resize the image to (163, 1240)."
   ]
  },
  {
   "cell_type": "markdown",
   "metadata": {},
   "source": [
    "Let's use a package to see how it fits the original image of the QuantEcon logo, to see if our function works as well as the package's."
   ]
  },
  {
   "cell_type": "code",
   "execution_count": 44,
   "metadata": {},
   "outputs": [
    {
     "name": "stderr",
     "output_type": "stream",
     "text": [
      "Clipping input data to the valid range for imshow with RGB data ([0..1] for floats or [0..255] for integers).\n"
     ]
    },
    {
     "data": {
      "image/png": "[encoded data removed]",
      "text/plain": [
       "<Figure size 432x288 with 1 Axes>"
      ]
     },
     "metadata": {
      "needs_background": "light"
     },
     "output_type": "display_data"
    },
    {
     "data": {
      "text/plain": [
       "<function __main__.image_recognition(Factors)>"
      ]
     },
     "execution_count": 44,
     "metadata": {},
     "output_type": "execute_result"
    }
   ],
   "source": [
    "#Define the image to be used\n",
    "image = img\n",
    "\n",
    "#Create a function to add to the interaction tool\n",
    "def image_recognition(Factors):\n",
    "    \"\"\"\n",
    "    Reconstruct an image using a PCA\n",
    "    Use the PCA package from sklearn as a function to fit into a slider\n",
    "    \n",
    "    Parameters\n",
    "    ----------\n",
    "    Factors : int\n",
    "        Number of principal components you want to use\n",
    "    \n",
    "    Returns\n",
    "    -------\n",
    "    plot : module\n",
    "        Plot reconstructing the image\n",
    "    \"\"\"    \n",
    "    \n",
    "    #Reshape image\n",
    "    img_r = np.reshape(image, (163, 310*4)) \n",
    "    \n",
    "    #Define the model using the PCA package and the number of Principal Components (\"Factors\")\n",
    "    pca = PCA(int(Factors)).fit(img_r) \n",
    "    \n",
    "    #Apply eigenvectors to dataset\n",
    "    img_transformed = pca.transform(img_r) \n",
    "    \n",
    "    #Reconstruct the image\n",
    "    temp = pca.inverse_transform(img_transformed)\n",
    "    \n",
    "    #Reshape it back\n",
    "    temp = np.reshape(temp, (163, 310 , 4)) \n",
    "    \n",
    "    #Build the plot\n",
    "    plt.imshow(temp)\n",
    "\n",
    "#Use slider to interact and see how many components you need to reconstruct it \n",
    "interact(image_recognition, Factors=FloatSlider(value=6, min=1, max=32, step=1))"
   ]
  },
  {
   "cell_type": "markdown",
   "metadata": {},
   "source": [
    "Let's use our algorithm (function of principal component analysis) to see how it fits the original image of the QuantEcon logo."
   ]
  },
  {
   "cell_type": "code",
   "execution_count": 21,
   "metadata": {},
   "outputs": [
    {
     "name": "stderr",
     "output_type": "stream",
     "text": [
      "<ipython-input-21-d56ef65e268d>:30: RuntimeWarning: invalid value encountered in sqrt\n",
      "  temp_va = np.dot(pca_transform_va, np.sqrt(marginal_variance(img_r_va)) + np.mean(pca_transform_va))\n"
     ]
    },
    {
     "ename": "ValueError",
     "evalue": "shapes (163,6) and (1240,) not aligned: 6 (dim 1) != 1240 (dim 0)",
     "output_type": "error",
     "traceback": [
      "\u001b[1;31m---------------------------------------------------------------------------\u001b[0m",
      "\u001b[1;31mValueError\u001b[0m                                Traceback (most recent call last)",
      "\u001b[1;32m~\\anaconda3\\lib\\site-packages\\ipywidgets\\widgets\\interaction.py\u001b[0m in \u001b[0;36mupdate\u001b[1;34m(self, *args)\u001b[0m\n\u001b[0;32m    254\u001b[0m                     \u001b[0mvalue\u001b[0m \u001b[1;33m=\u001b[0m \u001b[0mwidget\u001b[0m\u001b[1;33m.\u001b[0m\u001b[0mget_interact_value\u001b[0m\u001b[1;33m(\u001b[0m\u001b[1;33m)\u001b[0m\u001b[1;33m\u001b[0m\u001b[1;33m\u001b[0m\u001b[0m\n\u001b[0;32m    255\u001b[0m                     \u001b[0mself\u001b[0m\u001b[1;33m.\u001b[0m\u001b[0mkwargs\u001b[0m\u001b[1;33m[\u001b[0m\u001b[0mwidget\u001b[0m\u001b[1;33m.\u001b[0m\u001b[0m_kwarg\u001b[0m\u001b[1;33m]\u001b[0m \u001b[1;33m=\u001b[0m \u001b[0mvalue\u001b[0m\u001b[1;33m\u001b[0m\u001b[1;33m\u001b[0m\u001b[0m\n\u001b[1;32m--> 256\u001b[1;33m                 \u001b[0mself\u001b[0m\u001b[1;33m.\u001b[0m\u001b[0mresult\u001b[0m \u001b[1;33m=\u001b[0m \u001b[0mself\u001b[0m\u001b[1;33m.\u001b[0m\u001b[0mf\u001b[0m\u001b[1;33m(\u001b[0m\u001b[1;33m**\u001b[0m\u001b[0mself\u001b[0m\u001b[1;33m.\u001b[0m\u001b[0mkwargs\u001b[0m\u001b[1;33m)\u001b[0m\u001b[1;33m\u001b[0m\u001b[1;33m\u001b[0m\u001b[0m\n\u001b[0m\u001b[0;32m    257\u001b[0m                 \u001b[0mshow_inline_matplotlib_plots\u001b[0m\u001b[1;33m(\u001b[0m\u001b[1;33m)\u001b[0m\u001b[1;33m\u001b[0m\u001b[1;33m\u001b[0m\u001b[0m\n\u001b[0;32m    258\u001b[0m                 \u001b[1;32mif\u001b[0m \u001b[0mself\u001b[0m\u001b[1;33m.\u001b[0m\u001b[0mauto_display\u001b[0m \u001b[1;32mand\u001b[0m \u001b[0mself\u001b[0m\u001b[1;33m.\u001b[0m\u001b[0mresult\u001b[0m \u001b[1;32mis\u001b[0m \u001b[1;32mnot\u001b[0m \u001b[1;32mNone\u001b[0m\u001b[1;33m:\u001b[0m\u001b[1;33m\u001b[0m\u001b[1;33m\u001b[0m\u001b[0m\n",
      "\u001b[1;32m<ipython-input-21-d56ef65e268d>\u001b[0m in \u001b[0;36mimage_recognition_va\u001b[1;34m(Factors)\u001b[0m\n\u001b[0;32m     28\u001b[0m     \u001b[1;31m#These additional steps are needed to transform the principal components back into the image\u001b[0m\u001b[1;33m\u001b[0m\u001b[1;33m\u001b[0m\u001b[1;33m\u001b[0m\u001b[0m\n\u001b[0;32m     29\u001b[0m     \u001b[1;31m#Reconstruct the image using the inverse_transform package (just matrix multiplications)\u001b[0m\u001b[1;33m\u001b[0m\u001b[1;33m\u001b[0m\u001b[1;33m\u001b[0m\u001b[0m\n\u001b[1;32m---> 30\u001b[1;33m     \u001b[0mtemp_va\u001b[0m \u001b[1;33m=\u001b[0m \u001b[0mnp\u001b[0m\u001b[1;33m.\u001b[0m\u001b[0mdot\u001b[0m\u001b[1;33m(\u001b[0m\u001b[0mpca_transform_va\u001b[0m\u001b[1;33m,\u001b[0m \u001b[0mnp\u001b[0m\u001b[1;33m.\u001b[0m\u001b[0msqrt\u001b[0m\u001b[1;33m(\u001b[0m\u001b[0mmarginal_variance\u001b[0m\u001b[1;33m(\u001b[0m\u001b[0mimg_r_va\u001b[0m\u001b[1;33m)\u001b[0m\u001b[1;33m)\u001b[0m \u001b[1;33m+\u001b[0m \u001b[0mnp\u001b[0m\u001b[1;33m.\u001b[0m\u001b[0mmean\u001b[0m\u001b[1;33m(\u001b[0m\u001b[0mpca_transform_va\u001b[0m\u001b[1;33m)\u001b[0m\u001b[1;33m)\u001b[0m\u001b[1;33m\u001b[0m\u001b[1;33m\u001b[0m\u001b[0m\n\u001b[0m\u001b[0;32m     31\u001b[0m \u001b[1;33m\u001b[0m\u001b[0m\n\u001b[0;32m     32\u001b[0m     \u001b[1;31m#Reshape it back\u001b[0m\u001b[1;33m\u001b[0m\u001b[1;33m\u001b[0m\u001b[1;33m\u001b[0m\u001b[0m\n",
      "\u001b[1;32m<__array_function__ internals>\u001b[0m in \u001b[0;36mdot\u001b[1;34m(*args, **kwargs)\u001b[0m\n",
      "\u001b[1;31mValueError\u001b[0m: shapes (163,6) and (1240,) not aligned: 6 (dim 1) != 1240 (dim 0)"
     ]
    },
    {
     "data": {
      "text/plain": [
       "<function __main__.image_recognition_va(Factors)>"
      ]
     },
     "execution_count": 21,
     "metadata": {},
     "output_type": "execute_result"
    }
   ],
   "source": [
    "#Define the image to be used\n",
    "image = img\n",
    "\n",
    "def image_recognition_va(Factors):\n",
    "    \"\"\"\n",
    "    Reconstruct an image using our own algorithm\n",
    "    Use it as a function to fit into a slider\n",
    "    \n",
    "    Parameters\n",
    "    ----------\n",
    "    Factors : int\n",
    "        Number of principal components you want to use\n",
    "    \n",
    "    Returns\n",
    "    -------\n",
    "    plot : module\n",
    "        Plot reconstructing the image\n",
    "    \"\"\"   \n",
    "\n",
    "    #Reshape image (as above)\n",
    "    img_r_va = np.reshape(img, (163, 310*4)) \n",
    "\n",
    "    #This step covers three parts (similar to transform in the sklearn package): \n",
    "    #Define the model using the PCA package and the number of Principal Components (\"Factors\")   \n",
    "    #Apply eigenvectors to dataset\n",
    "    pca_transform_va = principal_component_analysis(img_r_va, int(Factors))\n",
    "\n",
    "    #These additional steps are needed to transform the principal components back into the image \n",
    "    #Reconstruct the image using the inverse_transform package (just matrix multiplications)\n",
    "    temp_va = np.dot(pca_transform_va, np.sqrt(marginal_variance(img_r_va)) + np.mean(pca_transform_va))\n",
    "\n",
    "    #Reshape it back\n",
    "    temp_va = np.reshape(temp_va, (163, 310, 4)) \n",
    "    \n",
    "    #Build the plot\n",
    "    plt.imshow(temp_va)\n",
    "\n",
    "interact(\n",
    "    image_recognition_va, \n",
    "    Factors=FloatSlider(value=6, min=1, max=32, step=1),\n",
    ")"
   ]
  },
  {
   "cell_type": "code",
   "execution_count": 69,
   "metadata": {},
   "outputs": [
    {
     "name": "stderr",
     "output_type": "stream",
     "text": [
      "Clipping input data to the valid range for imshow with RGB data ([0..1] for floats or [0..255] for integers).\n"
     ]
    },
    {
     "data": {
      "text/plain": [
       "<matplotlib.image.AxesImage at 0x1af9d815eb0>"
      ]
     },
     "execution_count": 69,
     "metadata": {},
     "output_type": "execute_result"
    },
    {
     "data": {
      "image/png": "[encoded data removed]",
      "text/plain": [
       "<Figure size 432x288 with 1 Axes>"
      ]
     },
     "metadata": {
      "needs_background": "light"
     },
     "output_type": "display_data"
    }
   ],
   "source": [
    "# manual walk through of img \n",
    "\n",
    "# reshape\n",
    "img_ex = np.reshape(img, (163, 310*4)) \n",
    "\n",
    "# create mean array\n",
    "img_ex_mean = img_ex - np.mean(img_ex, axis=0)\n",
    "\n",
    "# create covariance\n",
    "img_ex_cov = np.cov(img_ex_mean, rowvar=False)\n",
    "\n",
    "# eigenvalues, eigenvectors \n",
    "img_evals, img_evecs = np.linalg.eigh(img_ex_cov)\n",
    "\n",
    "img_index = np.argsort(img_evals)[::-1]\n",
    "img_sorted_vals = img_evals[img_index]\n",
    "img_sorted_vecs = img_evecs[:, img_index]\n",
    "\n",
    "img_vec_subset = img_sorted_vecs[:, 0:18] # 18 is components\n",
    "\n",
    "img_pca = (img_ex_mean @ img_vec_subset) \n",
    "\n",
    "img_inverse = np.dot(img_pca, img_vec_subset.T) + np.mean(img_ex, axis=0)\n",
    "\n",
    "img_inverse_t = np.reshape(img_inverse, (163, 310, 4))\n",
    "\n",
    "plt.imshow(img_inverse_t)"
   ]
  },
  {
   "cell_type": "code",
   "execution_count": 42,
   "metadata": {},
   "outputs": [
    {
     "ename": "NameError",
     "evalue": "name 'img_r' is not defined",
     "output_type": "error",
     "traceback": [
      "\u001b[1;31m---------------------------------------------------------------------------\u001b[0m",
      "\u001b[1;31mNameError\u001b[0m                                 Traceback (most recent call last)",
      "\u001b[1;32m<ipython-input-42-a3b6626f14e0>\u001b[0m in \u001b[0;36m<module>\u001b[1;34m\u001b[0m\n\u001b[0;32m     40\u001b[0m     \u001b[1;32mreturn\u001b[0m \u001b[0mPCA_inverse_transform\u001b[0m\u001b[1;33m\u001b[0m\u001b[1;33m\u001b[0m\u001b[0m\n\u001b[0;32m     41\u001b[0m \u001b[1;33m\u001b[0m\u001b[0m\n\u001b[1;32m---> 42\u001b[1;33m \u001b[0mplt\u001b[0m\u001b[1;33m.\u001b[0m\u001b[0mimshow\u001b[0m\u001b[1;33m(\u001b[0m\u001b[0minverse_transform\u001b[0m\u001b[1;33m(\u001b[0m\u001b[0mimg_r\u001b[0m\u001b[1;33m,\u001b[0m \u001b[1;36m18\u001b[0m\u001b[1;33m)\u001b[0m\u001b[1;33m)\u001b[0m\u001b[1;33m\u001b[0m\u001b[1;33m\u001b[0m\u001b[0m\n\u001b[0m",
      "\u001b[1;31mNameError\u001b[0m: name 'img_r' is not defined"
     ]
    }
   ],
   "source": [
    "#Summary function\n",
    "def inverse_transform(data, components):\n",
    "    \"\"\"\n",
    "    Takes a higher dimension dataset and uses PCA to reduce \n",
    "    the data to the desired numnber of dimensions\n",
    "    \n",
    "    Parameters\n",
    "    ----------\n",
    "    data : np.array(ndim=n, size=m)\n",
    "        observations that were generated \n",
    "        by a model or data provided\n",
    "    components : int\n",
    "        number of desired components the \n",
    "        given data will be reduced to \n",
    "    \n",
    "    Returns\n",
    "    -------\n",
    "    PCA_data : np.array(ndim=n, size=components)\n",
    "        the dataset with reduced dimensions\n",
    "    \"\"\"\n",
    "    #Centering the data\n",
    "    data_centered = data - np.mean(data, axis=0)\n",
    "    \n",
    "    #Get covariance matrix\n",
    "    data_centered_cov = np.cov(data_centered, rowvar=False)\n",
    "    \n",
    "    #Get eigenvalues and eigenvectors\n",
    "    eigen_values, eigen_vectors = np.linalg.eigh(data_centered_cov)\n",
    "\n",
    "    index = np.argsort(eigen_values)[::-1]\n",
    "    sorted_values = eigen_values[index]\n",
    "    sorted_vectors = eigen_vectors[:, index]\n",
    "\n",
    "    vector_subset = sorted_vectors[:, 0:components]\n",
    "\n",
    "    PCA_data = (data_centered @ vector_subset) #similar to .transform in the PCA package\n",
    "\n",
    "    PCA_inverse_transform = np.dot(PCA_data, vector_subset.T)\n",
    "\n",
    "    return PCA_inverse_transform\n",
    "\n",
    "plt.imshow(inverse_transform(img_r, 18))"
   ]
  },
  {
   "cell_type": "code",
   "execution_count": 26,
   "metadata": {},
   "outputs": [
    {
     "ename": "SyntaxError",
     "evalue": "'return' outside function (<ipython-input-26-5cd7393d282e>, line 20)",
     "output_type": "error",
     "traceback": [
      "\u001b[1;36m  File \u001b[1;32m\"<ipython-input-26-5cd7393d282e>\"\u001b[1;36m, line \u001b[1;32m20\u001b[0m\n\u001b[1;33m    return PCA_inverse_transform\u001b[0m\n\u001b[1;37m    ^\u001b[0m\n\u001b[1;31mSyntaxError\u001b[0m\u001b[1;31m:\u001b[0m 'return' outside function\n"
     ]
    }
   ],
   "source": [
    "    data = img\n",
    "    \n",
    "    #Centering the data\n",
    "    data_centered = data - np.mean(data, axis=0)\n",
    "    \n",
    "    #Get covariance matrix\n",
    "    data_centered_cov = np.cov(data_centered, rowvar=False)\n",
    "    \n",
    "    #Get eigenvalues and eigenvectors\n",
    "    eigen_values, eigen_vectors = np.linalg.eigh(data_centered_cov)\n",
    "\n",
    "    index = np.argsort(eigen_values)[::-1]\n",
    "    sorted_values = eigen_values[index]\n",
    "    sorted_vectors = eigen_vectors[:, index]\n",
    "\n",
    "    vector_subset = sorted_vectors[:, 0:components]\n",
    "\n",
    "    PCA_data = (vector_subset.T @ data_centered.T).T #similar to .transform in the PCA package\n",
    "\n",
    "    PCA_inverse_transform = np.dot(PCA_data, vector_subset.T)\n",
    "\n",
    "plt.imshow(inverse_transform(img_r, 18))"
   ]
  },
  {
   "cell_type": "code",
   "execution_count": null,
   "metadata": {},
   "outputs": [],
   "source": [
    "#Find out how to inverse transform\n",
    "\n",
    "img_r_va = np.reshape(img, (163, 310*4)) \n",
    "\n",
    "pca_transform_va = principal_component_analysis(img_r_va, 6)\n",
    "\n",
    "#temp_va = pca_transform_va.inverse_transform(img_r_va)\n",
    "\n",
    "temp_va=np.dot(pca_transform_va,np.sqrt(self.explained_variance_[:, np.newaxis]) * pca_transform_va.T,) + np.mean(pca_transform_va)\n",
    "\n",
    "temp_va = np.reshape(temp_va, (163, 310 , 4)) \n",
    "\n",
    "plt.imshow(temp_va)\n"
   ]
  },
  {
   "cell_type": "code",
   "execution_count": null,
   "metadata": {},
   "outputs": [],
   "source": [
    "\n",
    "img_r = np.reshape(image, (163, 310*4)) \n",
    "    \n",
    "pca = PCA(6).fit(img_r) \n",
    "    \n",
    "img_transformed = pca.transform(img_r) \n",
    "\n",
    "temp = pca.inverse_transform(img_transformed)\n",
    "    \n",
    "temp = np.reshape(temp, (163, 310 , 4)) \n",
    "    \n",
    "plt.imshow(temp)"
   ]
  },
  {
   "cell_type": "markdown",
   "metadata": {},
   "source": [
    "Ask Chase to see if can help to debug last part. Problem: cannot adapt the inverse transformation part.\n",
    "\n",
    "https://github.com/scikit-learn/scikit-learn/blob/0d378913be6d7e485b792ea36e9268be31ed52d0/sklearn/decomposition/_base.py#L156"
   ]
  },
  {
   "cell_type": "markdown",
   "metadata": {
    "tags": []
   },
   "source": [
    "#### 7. References"
   ]
  },
  {
   "cell_type": "markdown",
   "metadata": {},
   "source": [
    "1. Towards Science: A One-Stop Shop for Principal Component Analysis (https://towardsdatascience.com/a-one-stop-shop-for-principal-component-analysis-5582fb7e0a9c).\n",
    "\n",
    "2. In Depth: Principal Component Analysis (https://jakevdp.github.io/PythonDataScienceHandbook/05.09-principal-component-analysis.html).\n",
    "\n",
    "3. Advanced Data Analysis from an Elementary Point of View (https://www.stat.cmu.edu/~cshalizi/uADA/15/lectures/17.pdf).\n",
    "\n",
    "4. Applications of Principal Component Analysis (PCA) (https://iq.opengenus.org/applications-of-pca/).\n",
    "\n",
    "5. SciKit Learn package (https://github.com/scikit-learn/scikit-learn/blob/0d378913be6d7e485b792ea36e9268be31ed52d0/sklearn/decomposition/_base.py#L156)"
   ]
  }
 ],
 "metadata": {
  "interpreter": {
   "hash": "167380c844cb8dab65f7a2242fcdd292fd16a45a4bab8a9de8ac74aeee39fadd"
  },
  "kernelspec": {
   "display_name": "Python 3",
   "language": "python",
   "name": "python3"
  },
  "language_info": {
   "codemirror_mode": {
    "name": "ipython",
    "version": 3
   },
   "file_extension": ".py",
   "mimetype": "text/x-python",
   "name": "python",
   "nbconvert_exporter": "python",
   "pygments_lexer": "ipython3",
   "version": "3.8.5"
  }
 },
 "nbformat": 4,
 "nbformat_minor": 4
}
