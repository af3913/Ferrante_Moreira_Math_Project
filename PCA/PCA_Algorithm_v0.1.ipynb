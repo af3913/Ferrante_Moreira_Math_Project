{
 "cells": [
  {
   "cell_type": "markdown",
   "metadata": {},
   "source": [
    "This notebook was prepared by: \n",
    "\n",
    "Alex Ferrante (af3913@nyu.edu)\n",
    "\n",
    "Vinicius Moreira (vgm236@nyu.edu)\n",
    "\n",
    "Graduate School of Arts and Science (GSAS) at New York University (NYU)\n",
    "\n",
    "December 2021"
   ]
  },
  {
   "cell_type": "markdown",
   "metadata": {
    "tags": []
   },
   "source": [
    "### Principal Component Analysis (PCA)"
   ]
  },
  {
   "cell_type": "code",
   "execution_count": 2,
   "metadata": {},
   "outputs": [],
   "source": [
    "#Import all packages\n",
    "from bisect import bisect_left\n",
    "from IPython.display import Image\n",
    "import numpy as np\n",
    "import pandas as pd\n",
    "import matplotlib.pyplot as plt\n",
    "import matplotlib.image as mpimg \n",
    "from sklearn.decomposition import PCA\n",
    "from ipywidgets import interact, FloatSlider\n",
    "\n",
    "import random\n",
    "random.seed(10)\n",
    "\n",
    "%matplotlib inline"
   ]
  },
  {
   "cell_type": "markdown",
   "metadata": {
    "tags": []
   },
   "source": [
    "#### 1. What is a PCA?"
   ]
  },
  {
   "cell_type": "markdown",
   "metadata": {},
   "source": [
    "Principal component analysis is an unsupervised algorithm, based on feature correlation, used for dimensionality reduction. The premise is simple to take data of higher dimensions, and reduce to a lower dimension. \n",
    "\n",
    "Often times, in higher dimensional data, it isn't possible to create visual representations of relationships between variables. Through applying PCA, it then becomes possible to reduce the dimensions of the data and display variable relationships. This tool also allows easier visualization and noise filtering, among other applications.\n",
    "\n",
    "In other words, it allows us to drop the \"least important\" variables and retain the most important parts. In addition, each new variable (the components) will be orthogonal/independent from each other, allowing them to ensure one of the main assumptions of a linear regression."
   ]
  },
  {
   "cell_type": "markdown",
   "metadata": {},
   "source": [
    "The PCA must be used when three conditions apply:\n",
    "\n",
    "- Reduce the number of variables\n",
    "- Ensure that each variable is independent of one another\n",
    "- Assume that the interpretation of the independent variables is less important"
   ]
  },
  {
   "cell_type": "markdown",
   "metadata": {},
   "source": [
    "#### 2. How does a PCA work?"
   ]
  },
  {
   "cell_type": "markdown",
   "metadata": {},
   "source": [
    "a. Calculate a matrix that summarizes how the variables are related one another (the covariance matrix).\n",
    "\n",
    "b. Then separate it between direction (eigenvectors) and magnitude (eigenvalues)\n",
    "\n",
    "c. By projecting the data into a smaller space, we reduce dimension, but keep the original variables in our model"
   ]
  },
  {
   "cell_type": "markdown",
   "metadata": {},
   "source": [
    "Mathematically, the first principal component is the direction in space along which projections have the largest variance. The second principal component is the direction which maximizes variance among all directions orthogonal to the first. The kth component is the variance-maximizing direction orthogonal to the previous k-1 components.\n",
    "\n",
    "Once we have the principal components, we need do determine how many features to keep versus how many to drop. The most common methods are:\n",
    "\n",
    "- Arbitrarily select how many dimensions to keep.\n",
    "- Calculate the proportion of variance explained. One might also choose the proportion of variance explained by each component."
   ]
  },
  {
   "cell_type": "markdown",
   "metadata": {},
   "source": [
    "#### 3. Visual representation: Regression vs. PCA"
   ]
  },
  {
   "cell_type": "markdown",
   "metadata": {},
   "source": [
    "A regression is a straight line that best fits the data, and a PCA is a orthogonal transformation to form the principal components (or linear combinations of the variables\n",
    "\n",
    "The image below illustrates the difference:"
   ]
  },
  {
   "cell_type": "code",
   "execution_count": 2,
   "metadata": {},
   "outputs": [
    {
     "data": {
      "image/jpeg": "[encoded data removed]",
      "text/plain": [
       "<IPython.core.display.Image object>"
      ]
     },
     "execution_count": 2,
     "metadata": {
      "image/jpeg": {
       "height": 400,
       "width": 400
      }
     },
     "output_type": "execute_result"
    }
   ],
   "source": [
    "Image(filename=\"image_reg_pca.jpg\", width=400, height=400)"
   ]
  },
  {
   "cell_type": "markdown",
   "metadata": {},
   "source": [
    "#### 4. Theoretical example, step by step"
   ]
  },
  {
   "cell_type": "markdown",
   "metadata": {},
   "source": [
    "The next section will work through the steps of how a PCA algorithm works using a toy dataset."
   ]
  },
  {
   "cell_type": "markdown",
   "metadata": {},
   "source": [
    "First, we will begin by creating a random distribution of data in a higher dimensional shape (we arbitrarily, for the sake of example, choose 10 variables)."
   ]
  },
  {
   "cell_type": "code",
   "execution_count": 3,
   "metadata": {},
   "outputs": [
    {
     "data": {
      "text/html": [
       "<div>\n",
       "<style scoped>\n",
       "    .dataframe tbody tr th:only-of-type {\n",
       "        vertical-align: middle;\n",
       "    }\n",
       "\n",
       "    .dataframe tbody tr th {\n",
       "        vertical-align: top;\n",
       "    }\n",
       "\n",
       "    .dataframe thead th {\n",
       "        text-align: right;\n",
       "    }\n",
       "</style>\n",
       "<table border=\"1\" class=\"dataframe\">\n",
       "  <thead>\n",
       "    <tr style=\"text-align: right;\">\n",
       "      <th></th>\n",
       "      <th>ID1</th>\n",
       "      <th>ID2</th>\n",
       "      <th>ID3</th>\n",
       "      <th>ID4</th>\n",
       "      <th>ID5</th>\n",
       "      <th>ID6</th>\n",
       "      <th>ID7</th>\n",
       "      <th>ID8</th>\n",
       "      <th>ID9</th>\n",
       "      <th>ID10</th>\n",
       "    </tr>\n",
       "  </thead>\n",
       "  <tbody>\n",
       "    <tr>\n",
       "      <th>0</th>\n",
       "      <td>1</td>\n",
       "      <td>1</td>\n",
       "      <td>9</td>\n",
       "      <td>5</td>\n",
       "      <td>9</td>\n",
       "      <td>3</td>\n",
       "      <td>9</td>\n",
       "      <td>4</td>\n",
       "      <td>8</td>\n",
       "      <td>1</td>\n",
       "    </tr>\n",
       "    <tr>\n",
       "      <th>1</th>\n",
       "      <td>4</td>\n",
       "      <td>6</td>\n",
       "      <td>6</td>\n",
       "      <td>9</td>\n",
       "      <td>8</td>\n",
       "      <td>8</td>\n",
       "      <td>6</td>\n",
       "      <td>1</td>\n",
       "      <td>4</td>\n",
       "      <td>6</td>\n",
       "    </tr>\n",
       "    <tr>\n",
       "      <th>2</th>\n",
       "      <td>5</td>\n",
       "      <td>6</td>\n",
       "      <td>3</td>\n",
       "      <td>4</td>\n",
       "      <td>3</td>\n",
       "      <td>4</td>\n",
       "      <td>6</td>\n",
       "      <td>1</td>\n",
       "      <td>3</td>\n",
       "      <td>8</td>\n",
       "    </tr>\n",
       "    <tr>\n",
       "      <th>3</th>\n",
       "      <td>8</td>\n",
       "      <td>5</td>\n",
       "      <td>8</td>\n",
       "      <td>9</td>\n",
       "      <td>2</td>\n",
       "      <td>1</td>\n",
       "      <td>1</td>\n",
       "      <td>2</td>\n",
       "      <td>6</td>\n",
       "      <td>7</td>\n",
       "    </tr>\n",
       "    <tr>\n",
       "      <th>4</th>\n",
       "      <td>3</td>\n",
       "      <td>2</td>\n",
       "      <td>5</td>\n",
       "      <td>5</td>\n",
       "      <td>6</td>\n",
       "      <td>6</td>\n",
       "      <td>7</td>\n",
       "      <td>9</td>\n",
       "      <td>2</td>\n",
       "      <td>1</td>\n",
       "    </tr>\n",
       "  </tbody>\n",
       "</table>\n",
       "</div>"
      ],
      "text/plain": [
       "   ID1  ID2  ID3  ID4  ID5  ID6  ID7  ID8  ID9  ID10\n",
       "0    1    1    9    5    9    3    9    4    8     1\n",
       "1    4    6    6    9    8    8    6    1    4     6\n",
       "2    5    6    3    4    3    4    6    1    3     8\n",
       "3    8    5    8    9    2    1    1    2    6     7\n",
       "4    3    2    5    5    6    6    7    9    2     1"
      ]
     },
     "execution_count": 3,
     "metadata": {},
     "output_type": "execute_result"
    }
   ],
   "source": [
    "#We will use this data as numpy array (from 1 to 10)\n",
    "data = np.random.randint(1, 10, 1000).reshape(100, 10)\n",
    "\n",
    "#To make it easier to visualize, let's put into a dataframe\n",
    "data_frame = pd.DataFrame(data, columns = ['ID1','ID2','ID3','ID4','ID5','ID6','ID7','ID8','ID9','ID10'])\n",
    "data_frame.head()"
   ]
  },
  {
   "cell_type": "markdown",
   "metadata": {},
   "source": [
    "The first step in PCA implementation is to find the mean of each variable and then subtract the mean from each respective row. \n",
    "\n",
    "For example, you find the mean of the first variable by taking the mean of all the values in the first column, then subtract the values in the first row (axis=0) by the mean of this \n",
    "first variable. \n",
    "\n",
    "By subtracting the means from each of the dimensions, we will then be left with a dataset that has a mean of zero and is considered \"centered.\"\n",
    "\n",
    "This is the normalization of our variables."
   ]
  },
  {
   "cell_type": "code",
   "execution_count": 4,
   "metadata": {},
   "outputs": [
    {
     "data": {
      "text/html": [
       "<div>\n",
       "<style scoped>\n",
       "    .dataframe tbody tr th:only-of-type {\n",
       "        vertical-align: middle;\n",
       "    }\n",
       "\n",
       "    .dataframe tbody tr th {\n",
       "        vertical-align: top;\n",
       "    }\n",
       "\n",
       "    .dataframe thead th {\n",
       "        text-align: right;\n",
       "    }\n",
       "</style>\n",
       "<table border=\"1\" class=\"dataframe\">\n",
       "  <thead>\n",
       "    <tr style=\"text-align: right;\">\n",
       "      <th></th>\n",
       "      <th>ID1</th>\n",
       "      <th>ID2</th>\n",
       "      <th>ID3</th>\n",
       "      <th>ID4</th>\n",
       "      <th>ID5</th>\n",
       "      <th>ID6</th>\n",
       "      <th>ID7</th>\n",
       "      <th>ID8</th>\n",
       "      <th>ID9</th>\n",
       "      <th>ID10</th>\n",
       "    </tr>\n",
       "  </thead>\n",
       "  <tbody>\n",
       "    <tr>\n",
       "      <th>0</th>\n",
       "      <td>-4.01</td>\n",
       "      <td>-3.95</td>\n",
       "      <td>4.2</td>\n",
       "      <td>-0.36</td>\n",
       "      <td>4.12</td>\n",
       "      <td>-1.58</td>\n",
       "      <td>4.14</td>\n",
       "      <td>-0.9</td>\n",
       "      <td>3.16</td>\n",
       "      <td>-3.75</td>\n",
       "    </tr>\n",
       "    <tr>\n",
       "      <th>1</th>\n",
       "      <td>-1.01</td>\n",
       "      <td>1.05</td>\n",
       "      <td>1.2</td>\n",
       "      <td>3.64</td>\n",
       "      <td>3.12</td>\n",
       "      <td>3.42</td>\n",
       "      <td>1.14</td>\n",
       "      <td>-3.9</td>\n",
       "      <td>-0.84</td>\n",
       "      <td>1.25</td>\n",
       "    </tr>\n",
       "    <tr>\n",
       "      <th>2</th>\n",
       "      <td>-0.01</td>\n",
       "      <td>1.05</td>\n",
       "      <td>-1.8</td>\n",
       "      <td>-1.36</td>\n",
       "      <td>-1.88</td>\n",
       "      <td>-0.58</td>\n",
       "      <td>1.14</td>\n",
       "      <td>-3.9</td>\n",
       "      <td>-1.84</td>\n",
       "      <td>3.25</td>\n",
       "    </tr>\n",
       "    <tr>\n",
       "      <th>3</th>\n",
       "      <td>2.99</td>\n",
       "      <td>0.05</td>\n",
       "      <td>3.2</td>\n",
       "      <td>3.64</td>\n",
       "      <td>-2.88</td>\n",
       "      <td>-3.58</td>\n",
       "      <td>-3.86</td>\n",
       "      <td>-2.9</td>\n",
       "      <td>1.16</td>\n",
       "      <td>2.25</td>\n",
       "    </tr>\n",
       "    <tr>\n",
       "      <th>4</th>\n",
       "      <td>-2.01</td>\n",
       "      <td>-2.95</td>\n",
       "      <td>0.2</td>\n",
       "      <td>-0.36</td>\n",
       "      <td>1.12</td>\n",
       "      <td>1.42</td>\n",
       "      <td>2.14</td>\n",
       "      <td>4.1</td>\n",
       "      <td>-2.84</td>\n",
       "      <td>-3.75</td>\n",
       "    </tr>\n",
       "  </tbody>\n",
       "</table>\n",
       "</div>"
      ],
      "text/plain": [
       "    ID1   ID2  ID3   ID4   ID5   ID6   ID7  ID8   ID9  ID10\n",
       "0 -4.01 -3.95  4.2 -0.36  4.12 -1.58  4.14 -0.9  3.16 -3.75\n",
       "1 -1.01  1.05  1.2  3.64  3.12  3.42  1.14 -3.9 -0.84  1.25\n",
       "2 -0.01  1.05 -1.8 -1.36 -1.88 -0.58  1.14 -3.9 -1.84  3.25\n",
       "3  2.99  0.05  3.2  3.64 -2.88 -3.58 -3.86 -2.9  1.16  2.25\n",
       "4 -2.01 -2.95  0.2 -0.36  1.12  1.42  2.14  4.1 -2.84 -3.75"
      ]
     },
     "execution_count": 4,
     "metadata": {},
     "output_type": "execute_result"
    }
   ],
   "source": [
    "#This is the formula to center the data around the mean\n",
    "data_centered = data - np.mean(data, axis = 0)\n",
    "\n",
    "#Again, to make it easier to visualize, let's put into a dataframe\n",
    "centered_frame = pd.DataFrame(data_centered, columns = ['ID1','ID2','ID3','ID4','ID5','ID6','ID7','ID8','ID9','ID10'])\n",
    "centered_frame.head()"
   ]
  },
  {
   "cell_type": "markdown",
   "metadata": {},
   "source": [
    "Construct the covariance matrix."
   ]
  },
  {
   "cell_type": "code",
   "execution_count": 5,
   "metadata": {},
   "outputs": [
    {
     "data": {
      "text/html": [
       "<div>\n",
       "<style scoped>\n",
       "    .dataframe tbody tr th:only-of-type {\n",
       "        vertical-align: middle;\n",
       "    }\n",
       "\n",
       "    .dataframe tbody tr th {\n",
       "        vertical-align: top;\n",
       "    }\n",
       "\n",
       "    .dataframe thead th {\n",
       "        text-align: right;\n",
       "    }\n",
       "</style>\n",
       "<table border=\"1\" class=\"dataframe\">\n",
       "  <thead>\n",
       "    <tr style=\"text-align: right;\">\n",
       "      <th></th>\n",
       "      <th>ID1</th>\n",
       "      <th>ID2</th>\n",
       "      <th>ID3</th>\n",
       "      <th>ID4</th>\n",
       "      <th>ID5</th>\n",
       "      <th>ID6</th>\n",
       "      <th>ID7</th>\n",
       "      <th>ID8</th>\n",
       "      <th>ID9</th>\n",
       "      <th>ID10</th>\n",
       "    </tr>\n",
       "  </thead>\n",
       "  <tbody>\n",
       "    <tr>\n",
       "      <th>0</th>\n",
       "      <td>6.636263</td>\n",
       "      <td>-0.140909</td>\n",
       "      <td>0.395960</td>\n",
       "      <td>-0.114747</td>\n",
       "      <td>-0.524040</td>\n",
       "      <td>2.064848</td>\n",
       "      <td>1.062020</td>\n",
       "      <td>0.263636</td>\n",
       "      <td>-0.988283</td>\n",
       "      <td>-0.472222</td>\n",
       "    </tr>\n",
       "    <tr>\n",
       "      <th>1</th>\n",
       "      <td>-0.140909</td>\n",
       "      <td>6.613636</td>\n",
       "      <td>0.525253</td>\n",
       "      <td>0.048485</td>\n",
       "      <td>0.105051</td>\n",
       "      <td>0.251515</td>\n",
       "      <td>-0.613131</td>\n",
       "      <td>0.156566</td>\n",
       "      <td>0.466667</td>\n",
       "      <td>0.280303</td>\n",
       "    </tr>\n",
       "    <tr>\n",
       "      <th>2</th>\n",
       "      <td>0.395960</td>\n",
       "      <td>0.525253</td>\n",
       "      <td>6.888889</td>\n",
       "      <td>-0.381818</td>\n",
       "      <td>-0.600000</td>\n",
       "      <td>-0.680808</td>\n",
       "      <td>0.335354</td>\n",
       "      <td>-0.343434</td>\n",
       "      <td>1.745455</td>\n",
       "      <td>-0.151515</td>\n",
       "    </tr>\n",
       "    <tr>\n",
       "      <th>3</th>\n",
       "      <td>-0.114747</td>\n",
       "      <td>0.048485</td>\n",
       "      <td>-0.381818</td>\n",
       "      <td>5.727677</td>\n",
       "      <td>0.174949</td>\n",
       "      <td>0.354747</td>\n",
       "      <td>-0.555152</td>\n",
       "      <td>-1.175758</td>\n",
       "      <td>-0.275152</td>\n",
       "      <td>0.454545</td>\n",
       "    </tr>\n",
       "    <tr>\n",
       "      <th>4</th>\n",
       "      <td>-0.524040</td>\n",
       "      <td>0.105051</td>\n",
       "      <td>-0.600000</td>\n",
       "      <td>0.174949</td>\n",
       "      <td>6.692525</td>\n",
       "      <td>0.969293</td>\n",
       "      <td>-0.006869</td>\n",
       "      <td>-0.507071</td>\n",
       "      <td>-0.059798</td>\n",
       "      <td>0.111111</td>\n",
       "    </tr>\n",
       "  </tbody>\n",
       "</table>\n",
       "</div>"
      ],
      "text/plain": [
       "        ID1       ID2       ID3       ID4       ID5       ID6       ID7  \\\n",
       "0  6.636263 -0.140909  0.395960 -0.114747 -0.524040  2.064848  1.062020   \n",
       "1 -0.140909  6.613636  0.525253  0.048485  0.105051  0.251515 -0.613131   \n",
       "2  0.395960  0.525253  6.888889 -0.381818 -0.600000 -0.680808  0.335354   \n",
       "3 -0.114747  0.048485 -0.381818  5.727677  0.174949  0.354747 -0.555152   \n",
       "4 -0.524040  0.105051 -0.600000  0.174949  6.692525  0.969293 -0.006869   \n",
       "\n",
       "        ID8       ID9      ID10  \n",
       "0  0.263636 -0.988283 -0.472222  \n",
       "1  0.156566  0.466667  0.280303  \n",
       "2 -0.343434  1.745455 -0.151515  \n",
       "3 -1.175758 -0.275152  0.454545  \n",
       "4 -0.507071 -0.059798  0.111111  "
      ]
     },
     "execution_count": 5,
     "metadata": {},
     "output_type": "execute_result"
    }
   ],
   "source": [
    "#This is the formula to construct the covariance matrix\n",
    "data_centered_cov = np.cov(data_centered, rowvar=False)\n",
    "\n",
    "#Once more time, to make it easier to visualize, let's put into a dataframe\n",
    "cov_frame = pd.DataFrame(data_centered_cov, columns = ['ID1','ID2','ID3','ID4','ID5','ID6','ID7','ID8','ID9','ID10'])\n",
    "cov_frame.head()"
   ]
  },
  {
   "cell_type": "markdown",
   "metadata": {},
   "source": [
    "Find the eigenvalues and eigenvectors."
   ]
  },
  {
   "cell_type": "code",
   "execution_count": 6,
   "metadata": {},
   "outputs": [
    {
     "data": {
      "text/html": [
       "<div>\n",
       "<style scoped>\n",
       "    .dataframe tbody tr th:only-of-type {\n",
       "        vertical-align: middle;\n",
       "    }\n",
       "\n",
       "    .dataframe tbody tr th {\n",
       "        vertical-align: top;\n",
       "    }\n",
       "\n",
       "    .dataframe thead th {\n",
       "        text-align: right;\n",
       "    }\n",
       "</style>\n",
       "<table border=\"1\" class=\"dataframe\">\n",
       "  <thead>\n",
       "    <tr style=\"text-align: right;\">\n",
       "      <th></th>\n",
       "      <th>ID1</th>\n",
       "      <th>ID2</th>\n",
       "      <th>ID3</th>\n",
       "      <th>ID4</th>\n",
       "      <th>ID5</th>\n",
       "      <th>ID6</th>\n",
       "      <th>ID7</th>\n",
       "      <th>ID8</th>\n",
       "      <th>ID9</th>\n",
       "      <th>ID10</th>\n",
       "    </tr>\n",
       "  </thead>\n",
       "  <tbody>\n",
       "    <tr>\n",
       "      <th>0</th>\n",
       "      <td>-0.553719</td>\n",
       "      <td>-0.276394</td>\n",
       "      <td>0.297271</td>\n",
       "      <td>-0.183672</td>\n",
       "      <td>0.107483</td>\n",
       "      <td>-0.278977</td>\n",
       "      <td>-0.242059</td>\n",
       "      <td>0.281213</td>\n",
       "      <td>0.086307</td>\n",
       "      <td>-0.510287</td>\n",
       "    </tr>\n",
       "    <tr>\n",
       "      <th>1</th>\n",
       "      <td>-0.106533</td>\n",
       "      <td>0.301525</td>\n",
       "      <td>-0.173015</td>\n",
       "      <td>-0.046859</td>\n",
       "      <td>0.303146</td>\n",
       "      <td>-0.633712</td>\n",
       "      <td>0.556926</td>\n",
       "      <td>0.209028</td>\n",
       "      <td>-0.064404</td>\n",
       "      <td>0.118780</td>\n",
       "    </tr>\n",
       "    <tr>\n",
       "      <th>2</th>\n",
       "      <td>0.400296</td>\n",
       "      <td>-0.150060</td>\n",
       "      <td>-0.022877</td>\n",
       "      <td>-0.528141</td>\n",
       "      <td>-0.128584</td>\n",
       "      <td>-0.014795</td>\n",
       "      <td>-0.105548</td>\n",
       "      <td>0.635626</td>\n",
       "      <td>0.217672</td>\n",
       "      <td>0.241857</td>\n",
       "    </tr>\n",
       "    <tr>\n",
       "      <th>3</th>\n",
       "      <td>-0.016168</td>\n",
       "      <td>-0.526129</td>\n",
       "      <td>-0.708426</td>\n",
       "      <td>-0.023311</td>\n",
       "      <td>0.192933</td>\n",
       "      <td>-0.109566</td>\n",
       "      <td>-0.200328</td>\n",
       "      <td>-0.037115</td>\n",
       "      <td>-0.360034</td>\n",
       "      <td>0.012429</td>\n",
       "    </tr>\n",
       "    <tr>\n",
       "      <th>4</th>\n",
       "      <td>-0.157527</td>\n",
       "      <td>-0.208959</td>\n",
       "      <td>0.116487</td>\n",
       "      <td>-0.460386</td>\n",
       "      <td>0.050694</td>\n",
       "      <td>0.473664</td>\n",
       "      <td>0.595730</td>\n",
       "      <td>-0.055994</td>\n",
       "      <td>-0.333113</td>\n",
       "      <td>-0.100378</td>\n",
       "    </tr>\n",
       "  </tbody>\n",
       "</table>\n",
       "</div>"
      ],
      "text/plain": [
       "        ID1       ID2       ID3       ID4       ID5       ID6       ID7  \\\n",
       "0 -0.553719 -0.276394  0.297271 -0.183672  0.107483 -0.278977 -0.242059   \n",
       "1 -0.106533  0.301525 -0.173015 -0.046859  0.303146 -0.633712  0.556926   \n",
       "2  0.400296 -0.150060 -0.022877 -0.528141 -0.128584 -0.014795 -0.105548   \n",
       "3 -0.016168 -0.526129 -0.708426 -0.023311  0.192933 -0.109566 -0.200328   \n",
       "4 -0.157527 -0.208959  0.116487 -0.460386  0.050694  0.473664  0.595730   \n",
       "\n",
       "        ID8       ID9      ID10  \n",
       "0  0.281213  0.086307 -0.510287  \n",
       "1  0.209028 -0.064404  0.118780  \n",
       "2  0.635626  0.217672  0.241857  \n",
       "3 -0.037115 -0.360034  0.012429  \n",
       "4 -0.055994 -0.333113 -0.100378  "
      ]
     },
     "execution_count": 6,
     "metadata": {},
     "output_type": "execute_result"
    }
   ],
   "source": [
    "#This is the formula to extract the eigenvectors and eigenvalues\n",
    "eigen_values1, eigen_vectors1 = np.linalg.eigh(data_centered_cov)\n",
    "\n",
    "#See how the eigenvectors look like in a dataframe\n",
    "vectors_frame = pd.DataFrame(eigen_vectors1, columns = ['ID1','ID2','ID3','ID4','ID5','ID6','ID7','ID8','ID9','ID10'])\n",
    "vectors_frame.head()"
   ]
  },
  {
   "cell_type": "code",
   "execution_count": 7,
   "metadata": {},
   "outputs": [
    {
     "data": {
      "text/html": [
       "<div>\n",
       "<style scoped>\n",
       "    .dataframe tbody tr th:only-of-type {\n",
       "        vertical-align: middle;\n",
       "    }\n",
       "\n",
       "    .dataframe tbody tr th {\n",
       "        vertical-align: top;\n",
       "    }\n",
       "\n",
       "    .dataframe thead th {\n",
       "        text-align: right;\n",
       "    }\n",
       "</style>\n",
       "<table border=\"1\" class=\"dataframe\">\n",
       "  <thead>\n",
       "    <tr style=\"text-align: right;\">\n",
       "      <th></th>\n",
       "      <th>eigenvalues</th>\n",
       "    </tr>\n",
       "  </thead>\n",
       "  <tbody>\n",
       "    <tr>\n",
       "      <th>ID1</th>\n",
       "      <td>3.798779</td>\n",
       "    </tr>\n",
       "    <tr>\n",
       "      <th>ID2</th>\n",
       "      <td>4.838935</td>\n",
       "    </tr>\n",
       "    <tr>\n",
       "      <th>ID3</th>\n",
       "      <td>5.146493</td>\n",
       "    </tr>\n",
       "    <tr>\n",
       "      <th>ID4</th>\n",
       "      <td>5.224684</td>\n",
       "    </tr>\n",
       "    <tr>\n",
       "      <th>ID5</th>\n",
       "      <td>5.357618</td>\n",
       "    </tr>\n",
       "    <tr>\n",
       "      <th>ID6</th>\n",
       "      <td>6.816467</td>\n",
       "    </tr>\n",
       "    <tr>\n",
       "      <th>ID7</th>\n",
       "      <td>7.002780</td>\n",
       "    </tr>\n",
       "    <tr>\n",
       "      <th>ID8</th>\n",
       "      <td>8.625941</td>\n",
       "    </tr>\n",
       "    <tr>\n",
       "      <th>ID9</th>\n",
       "      <td>9.456012</td>\n",
       "    </tr>\n",
       "    <tr>\n",
       "      <th>ID10</th>\n",
       "      <td>10.428552</td>\n",
       "    </tr>\n",
       "  </tbody>\n",
       "</table>\n",
       "</div>"
      ],
      "text/plain": [
       "      eigenvalues\n",
       "ID1      3.798779\n",
       "ID2      4.838935\n",
       "ID3      5.146493\n",
       "ID4      5.224684\n",
       "ID5      5.357618\n",
       "ID6      6.816467\n",
       "ID7      7.002780\n",
       "ID8      8.625941\n",
       "ID9      9.456012\n",
       "ID10    10.428552"
      ]
     },
     "execution_count": 7,
     "metadata": {},
     "output_type": "execute_result"
    }
   ],
   "source": [
    "#See how the eigenvalues look like in a dataframe\n",
    "values_frame = pd.DataFrame(eigen_values1, index=['ID1','ID2','ID3','ID4','ID5','ID6','ID7','ID8','ID9','ID10'], columns = ['eigenvalues'])\n",
    "values_frame"
   ]
  },
  {
   "cell_type": "markdown",
   "metadata": {},
   "source": [
    "Now, take the eigenvalues and eigenvectors and sort them in descending order."
   ]
  },
  {
   "cell_type": "code",
   "execution_count": 8,
   "metadata": {},
   "outputs": [],
   "source": [
    "index = np.argsort(eigen_values1)[::-1]\n",
    "\n",
    "sorted_values = eigen_values1[index]\n",
    "\n",
    "sorted_vectors = eigen_vectors1[:, index]"
   ]
  },
  {
   "cell_type": "markdown",
   "metadata": {},
   "source": [
    "Note that these eigenvectors are independent of one another (very low cross-correlation). Thus every principal components are perpendicular to one another (orthogonal)."
   ]
  },
  {
   "cell_type": "code",
   "execution_count": 9,
   "metadata": {},
   "outputs": [
    {
     "data": {
      "text/html": [
       "<div>\n",
       "<style scoped>\n",
       "    .dataframe tbody tr th:only-of-type {\n",
       "        vertical-align: middle;\n",
       "    }\n",
       "\n",
       "    .dataframe tbody tr th {\n",
       "        vertical-align: top;\n",
       "    }\n",
       "\n",
       "    .dataframe thead th {\n",
       "        text-align: right;\n",
       "    }\n",
       "</style>\n",
       "<table border=\"1\" class=\"dataframe\">\n",
       "  <thead>\n",
       "    <tr style=\"text-align: right;\">\n",
       "      <th></th>\n",
       "      <th>0</th>\n",
       "      <th>1</th>\n",
       "      <th>2</th>\n",
       "      <th>3</th>\n",
       "      <th>4</th>\n",
       "      <th>5</th>\n",
       "      <th>6</th>\n",
       "      <th>7</th>\n",
       "      <th>8</th>\n",
       "      <th>9</th>\n",
       "    </tr>\n",
       "  </thead>\n",
       "  <tbody>\n",
       "    <tr>\n",
       "      <th>0</th>\n",
       "      <td>1.000000</td>\n",
       "      <td>-0.000578</td>\n",
       "      <td>0.139815</td>\n",
       "      <td>0.086625</td>\n",
       "      <td>-0.008468</td>\n",
       "      <td>0.108535</td>\n",
       "      <td>-0.000947</td>\n",
       "      <td>-0.013470</td>\n",
       "      <td>-0.129345</td>\n",
       "      <td>0.015002</td>\n",
       "    </tr>\n",
       "    <tr>\n",
       "      <th>1</th>\n",
       "      <td>-0.000578</td>\n",
       "      <td>1.000000</td>\n",
       "      <td>0.001855</td>\n",
       "      <td>0.001150</td>\n",
       "      <td>-0.000112</td>\n",
       "      <td>0.001440</td>\n",
       "      <td>-0.000013</td>\n",
       "      <td>-0.000179</td>\n",
       "      <td>-0.001717</td>\n",
       "      <td>0.000199</td>\n",
       "    </tr>\n",
       "    <tr>\n",
       "      <th>2</th>\n",
       "      <td>0.139815</td>\n",
       "      <td>0.001855</td>\n",
       "      <td>1.000000</td>\n",
       "      <td>-0.278138</td>\n",
       "      <td>0.027188</td>\n",
       "      <td>-0.348485</td>\n",
       "      <td>0.003041</td>\n",
       "      <td>0.043249</td>\n",
       "      <td>0.415302</td>\n",
       "      <td>-0.048167</td>\n",
       "    </tr>\n",
       "    <tr>\n",
       "      <th>3</th>\n",
       "      <td>0.086625</td>\n",
       "      <td>0.001150</td>\n",
       "      <td>-0.278138</td>\n",
       "      <td>1.000000</td>\n",
       "      <td>0.016845</td>\n",
       "      <td>-0.215912</td>\n",
       "      <td>0.001884</td>\n",
       "      <td>0.026796</td>\n",
       "      <td>0.257310</td>\n",
       "      <td>-0.029843</td>\n",
       "    </tr>\n",
       "    <tr>\n",
       "      <th>4</th>\n",
       "      <td>-0.008468</td>\n",
       "      <td>-0.000112</td>\n",
       "      <td>0.027188</td>\n",
       "      <td>0.016845</td>\n",
       "      <td>1.000000</td>\n",
       "      <td>0.021106</td>\n",
       "      <td>-0.000184</td>\n",
       "      <td>-0.002619</td>\n",
       "      <td>-0.025152</td>\n",
       "      <td>0.002917</td>\n",
       "    </tr>\n",
       "    <tr>\n",
       "      <th>5</th>\n",
       "      <td>0.108535</td>\n",
       "      <td>0.001440</td>\n",
       "      <td>-0.348485</td>\n",
       "      <td>-0.215912</td>\n",
       "      <td>0.021106</td>\n",
       "      <td>1.000000</td>\n",
       "      <td>0.002360</td>\n",
       "      <td>0.033573</td>\n",
       "      <td>0.322389</td>\n",
       "      <td>-0.037391</td>\n",
       "    </tr>\n",
       "    <tr>\n",
       "      <th>6</th>\n",
       "      <td>-0.000947</td>\n",
       "      <td>-0.000013</td>\n",
       "      <td>0.003041</td>\n",
       "      <td>0.001884</td>\n",
       "      <td>-0.000184</td>\n",
       "      <td>0.002360</td>\n",
       "      <td>1.000000</td>\n",
       "      <td>-0.000293</td>\n",
       "      <td>-0.002813</td>\n",
       "      <td>0.000326</td>\n",
       "    </tr>\n",
       "    <tr>\n",
       "      <th>7</th>\n",
       "      <td>-0.013470</td>\n",
       "      <td>-0.000179</td>\n",
       "      <td>0.043249</td>\n",
       "      <td>0.026796</td>\n",
       "      <td>-0.002619</td>\n",
       "      <td>0.033573</td>\n",
       "      <td>-0.000293</td>\n",
       "      <td>1.000000</td>\n",
       "      <td>-0.040010</td>\n",
       "      <td>0.004640</td>\n",
       "    </tr>\n",
       "    <tr>\n",
       "      <th>8</th>\n",
       "      <td>-0.129345</td>\n",
       "      <td>-0.001717</td>\n",
       "      <td>0.415302</td>\n",
       "      <td>0.257310</td>\n",
       "      <td>-0.025152</td>\n",
       "      <td>0.322389</td>\n",
       "      <td>-0.002813</td>\n",
       "      <td>-0.040010</td>\n",
       "      <td>1.000000</td>\n",
       "      <td>0.044560</td>\n",
       "    </tr>\n",
       "    <tr>\n",
       "      <th>9</th>\n",
       "      <td>0.015002</td>\n",
       "      <td>0.000199</td>\n",
       "      <td>-0.048167</td>\n",
       "      <td>-0.029843</td>\n",
       "      <td>0.002917</td>\n",
       "      <td>-0.037391</td>\n",
       "      <td>0.000326</td>\n",
       "      <td>0.004640</td>\n",
       "      <td>0.044560</td>\n",
       "      <td>1.000000</td>\n",
       "    </tr>\n",
       "  </tbody>\n",
       "</table>\n",
       "</div>"
      ],
      "text/plain": [
       "          0         1         2         3         4         5         6  \\\n",
       "0  1.000000 -0.000578  0.139815  0.086625 -0.008468  0.108535 -0.000947   \n",
       "1 -0.000578  1.000000  0.001855  0.001150 -0.000112  0.001440 -0.000013   \n",
       "2  0.139815  0.001855  1.000000 -0.278138  0.027188 -0.348485  0.003041   \n",
       "3  0.086625  0.001150 -0.278138  1.000000  0.016845 -0.215912  0.001884   \n",
       "4 -0.008468 -0.000112  0.027188  0.016845  1.000000  0.021106 -0.000184   \n",
       "5  0.108535  0.001440 -0.348485 -0.215912  0.021106  1.000000  0.002360   \n",
       "6 -0.000947 -0.000013  0.003041  0.001884 -0.000184  0.002360  1.000000   \n",
       "7 -0.013470 -0.000179  0.043249  0.026796 -0.002619  0.033573 -0.000293   \n",
       "8 -0.129345 -0.001717  0.415302  0.257310 -0.025152  0.322389 -0.002813   \n",
       "9  0.015002  0.000199 -0.048167 -0.029843  0.002917 -0.037391  0.000326   \n",
       "\n",
       "          7         8         9  \n",
       "0 -0.013470 -0.129345  0.015002  \n",
       "1 -0.000179 -0.001717  0.000199  \n",
       "2  0.043249  0.415302 -0.048167  \n",
       "3  0.026796  0.257310 -0.029843  \n",
       "4 -0.002619 -0.025152  0.002917  \n",
       "5  0.033573  0.322389 -0.037391  \n",
       "6 -0.000293 -0.002813  0.000326  \n",
       "7  1.000000 -0.040010  0.004640  \n",
       "8 -0.040010  1.000000  0.044560  \n",
       "9  0.004640  0.044560  1.000000  "
      ]
     },
     "execution_count": 9,
     "metadata": {},
     "output_type": "execute_result"
    }
   ],
   "source": [
    "df = pd.DataFrame(sorted_vectors)\n",
    "#Pairwise correlation\n",
    "df.corr(method ='pearson')"
   ]
  },
  {
   "cell_type": "markdown",
   "metadata": {},
   "source": [
    "Determine the amount of components you would like to return from the sorted eigenvalue matrix (we will discuss this later)"
   ]
  },
  {
   "cell_type": "code",
   "execution_count": 85,
   "metadata": {},
   "outputs": [
    {
     "data": {
      "text/html": [
       "<div>\n",
       "<style scoped>\n",
       "    .dataframe tbody tr th:only-of-type {\n",
       "        vertical-align: middle;\n",
       "    }\n",
       "\n",
       "    .dataframe tbody tr th {\n",
       "        vertical-align: top;\n",
       "    }\n",
       "\n",
       "    .dataframe thead th {\n",
       "        text-align: right;\n",
       "    }\n",
       "</style>\n",
       "<table border=\"1\" class=\"dataframe\">\n",
       "  <thead>\n",
       "    <tr style=\"text-align: right;\">\n",
       "      <th></th>\n",
       "      <th>ID1</th>\n",
       "      <th>ID2</th>\n",
       "      <th>ID3</th>\n",
       "    </tr>\n",
       "  </thead>\n",
       "  <tbody>\n",
       "    <tr>\n",
       "      <th>0</th>\n",
       "      <td>-0.510287</td>\n",
       "      <td>0.086307</td>\n",
       "      <td>0.281213</td>\n",
       "    </tr>\n",
       "    <tr>\n",
       "      <th>1</th>\n",
       "      <td>0.118780</td>\n",
       "      <td>-0.064404</td>\n",
       "      <td>0.209028</td>\n",
       "    </tr>\n",
       "    <tr>\n",
       "      <th>2</th>\n",
       "      <td>0.241857</td>\n",
       "      <td>0.217672</td>\n",
       "      <td>0.635626</td>\n",
       "    </tr>\n",
       "    <tr>\n",
       "      <th>3</th>\n",
       "      <td>0.012429</td>\n",
       "      <td>-0.360034</td>\n",
       "      <td>-0.037115</td>\n",
       "    </tr>\n",
       "    <tr>\n",
       "      <th>4</th>\n",
       "      <td>-0.100378</td>\n",
       "      <td>-0.333113</td>\n",
       "      <td>-0.055994</td>\n",
       "    </tr>\n",
       "  </tbody>\n",
       "</table>\n",
       "</div>"
      ],
      "text/plain": [
       "        ID1       ID2       ID3\n",
       "0 -0.510287  0.086307  0.281213\n",
       "1  0.118780 -0.064404  0.209028\n",
       "2  0.241857  0.217672  0.635626\n",
       "3  0.012429 -0.360034 -0.037115\n",
       "4 -0.100378 -0.333113 -0.055994"
      ]
     },
     "execution_count": 85,
     "metadata": {},
     "output_type": "execute_result"
    }
   ],
   "source": [
    "#We arbitrarily select 3 components, but you can change that\n",
    "components = 3\n",
    "\n",
    "#Sort the eigenvectors\n",
    "eigvect_subset = sorted_vectors[:, 0:components]\n",
    "\n",
    "#See how the subset look like in a dataframe\n",
    "subset_frame = pd.DataFrame(eigvect_subset, columns=['ID1','ID2','ID3'])\n",
    "subset_frame.head()"
   ]
  },
  {
   "cell_type": "markdown",
   "metadata": {},
   "source": [
    "Return the reduce form by matrix multiplying the transpose of the eigenvector subset and transpose of the normalized dataset. Then, transpose the product. See that the shape matches (length of data series, number of principal components)"
   ]
  },
  {
   "cell_type": "code",
   "execution_count": 11,
   "metadata": {},
   "outputs": [
    {
     "data": {
      "text/plain": [
       "(100, 3)"
      ]
     },
     "execution_count": 11,
     "metadata": {},
     "output_type": "execute_result"
    }
   ],
   "source": [
    "data_pca = (eigvect_subset.T @ data_centered.T).T\n",
    "#Check if the dimension reduction happened from 10 to 3\n",
    "data_pca.shape"
   ]
  },
  {
   "cell_type": "markdown",
   "metadata": {},
   "source": [
    "Finally, we build a function that summarizes the steps we did above to extract the principal components."
   ]
  },
  {
   "cell_type": "code",
   "execution_count": 12,
   "metadata": {},
   "outputs": [],
   "source": [
    "#Summary function\n",
    "def principal_component_analysis(data, components):\n",
    "    \"\"\"\n",
    "    Takes a higher dimension dataset and uses PCA to reduce \n",
    "    the data to the desired numnber of dimensions\n",
    "    \n",
    "    Parameters\n",
    "    ----------\n",
    "    data : np.array(ndim=n, size=m)\n",
    "        observations that were generated \n",
    "        by a model or data provided\n",
    "    components : int\n",
    "        number of desired components the \n",
    "        given data will be reduced to \n",
    "    \n",
    "    Returns\n",
    "    -------\n",
    "    PCA_data : np.array(ndim=n, size=components)\n",
    "        the dataset with reduced dimensions\n",
    "    \"\"\"\n",
    "    #Centering the data\n",
    "    data_centered = data - np.mean(data, axis=0)\n",
    "    \n",
    "    #Get covariance matrix\n",
    "    data_centered_cov = np.cov(data_centered, rowvar=False)\n",
    "    \n",
    "    #Get eigenvalues and eigenvectors\n",
    "    eigen_values, eigen_vectors = np.linalg.eigh(data_centered_cov)\n",
    "\n",
    "    index = np.argsort(eigen_values)[::-1]\n",
    "    sorted_values = eigen_values[index]\n",
    "    sorted_vectors = eigen_vectors[:, index]\n",
    "\n",
    "    vector_subset = sorted_vectors[:, 0:components]\n",
    "\n",
    "    PCA_data = (vector_subset.T @ data_centered.T).T #similar to .transform in the PCA package\n",
    "\n",
    "    return PCA_data"
   ]
  },
  {
   "cell_type": "markdown",
   "metadata": {},
   "source": [
    "#### 5. Testing our new function, on a new theoretical example"
   ]
  },
  {
   "cell_type": "markdown",
   "metadata": {},
   "source": [
    "At this step, we test whether our function is indeed reducing the dimensions. The transformed data should have 5 principal components from a dataset that had 8 columns and 10 values for each of those columns."
   ]
  },
  {
   "cell_type": "code",
   "execution_count": 13,
   "metadata": {},
   "outputs": [
    {
     "data": {
      "text/html": [
       "<div>\n",
       "<style scoped>\n",
       "    .dataframe tbody tr th:only-of-type {\n",
       "        vertical-align: middle;\n",
       "    }\n",
       "\n",
       "    .dataframe tbody tr th {\n",
       "        vertical-align: top;\n",
       "    }\n",
       "\n",
       "    .dataframe thead th {\n",
       "        text-align: right;\n",
       "    }\n",
       "</style>\n",
       "<table border=\"1\" class=\"dataframe\">\n",
       "  <thead>\n",
       "    <tr style=\"text-align: right;\">\n",
       "      <th></th>\n",
       "      <th>Data1</th>\n",
       "      <th>Data2</th>\n",
       "      <th>Data3</th>\n",
       "      <th>Data4</th>\n",
       "      <th>Data5</th>\n",
       "      <th>Data6</th>\n",
       "      <th>Data7</th>\n",
       "      <th>Data8</th>\n",
       "    </tr>\n",
       "  </thead>\n",
       "  <tbody>\n",
       "    <tr>\n",
       "      <th>0</th>\n",
       "      <td>6</td>\n",
       "      <td>1</td>\n",
       "      <td>4</td>\n",
       "      <td>8</td>\n",
       "      <td>7</td>\n",
       "      <td>4</td>\n",
       "      <td>5</td>\n",
       "      <td>7</td>\n",
       "    </tr>\n",
       "    <tr>\n",
       "      <th>1</th>\n",
       "      <td>8</td>\n",
       "      <td>3</td>\n",
       "      <td>4</td>\n",
       "      <td>1</td>\n",
       "      <td>8</td>\n",
       "      <td>3</td>\n",
       "      <td>9</td>\n",
       "      <td>1</td>\n",
       "    </tr>\n",
       "    <tr>\n",
       "      <th>2</th>\n",
       "      <td>2</td>\n",
       "      <td>2</td>\n",
       "      <td>5</td>\n",
       "      <td>7</td>\n",
       "      <td>6</td>\n",
       "      <td>7</td>\n",
       "      <td>8</td>\n",
       "      <td>4</td>\n",
       "    </tr>\n",
       "    <tr>\n",
       "      <th>3</th>\n",
       "      <td>1</td>\n",
       "      <td>6</td>\n",
       "      <td>6</td>\n",
       "      <td>8</td>\n",
       "      <td>8</td>\n",
       "      <td>8</td>\n",
       "      <td>8</td>\n",
       "      <td>7</td>\n",
       "    </tr>\n",
       "    <tr>\n",
       "      <th>4</th>\n",
       "      <td>6</td>\n",
       "      <td>6</td>\n",
       "      <td>3</td>\n",
       "      <td>5</td>\n",
       "      <td>8</td>\n",
       "      <td>9</td>\n",
       "      <td>4</td>\n",
       "      <td>8</td>\n",
       "    </tr>\n",
       "    <tr>\n",
       "      <th>5</th>\n",
       "      <td>7</td>\n",
       "      <td>1</td>\n",
       "      <td>3</td>\n",
       "      <td>1</td>\n",
       "      <td>3</td>\n",
       "      <td>9</td>\n",
       "      <td>1</td>\n",
       "      <td>9</td>\n",
       "    </tr>\n",
       "    <tr>\n",
       "      <th>6</th>\n",
       "      <td>4</td>\n",
       "      <td>3</td>\n",
       "      <td>9</td>\n",
       "      <td>3</td>\n",
       "      <td>7</td>\n",
       "      <td>9</td>\n",
       "      <td>7</td>\n",
       "      <td>1</td>\n",
       "    </tr>\n",
       "    <tr>\n",
       "      <th>7</th>\n",
       "      <td>9</td>\n",
       "      <td>5</td>\n",
       "      <td>7</td>\n",
       "      <td>4</td>\n",
       "      <td>7</td>\n",
       "      <td>6</td>\n",
       "      <td>5</td>\n",
       "      <td>1</td>\n",
       "    </tr>\n",
       "    <tr>\n",
       "      <th>8</th>\n",
       "      <td>8</td>\n",
       "      <td>4</td>\n",
       "      <td>4</td>\n",
       "      <td>9</td>\n",
       "      <td>5</td>\n",
       "      <td>6</td>\n",
       "      <td>8</td>\n",
       "      <td>8</td>\n",
       "    </tr>\n",
       "    <tr>\n",
       "      <th>9</th>\n",
       "      <td>9</td>\n",
       "      <td>5</td>\n",
       "      <td>9</td>\n",
       "      <td>3</td>\n",
       "      <td>4</td>\n",
       "      <td>1</td>\n",
       "      <td>4</td>\n",
       "      <td>1</td>\n",
       "    </tr>\n",
       "  </tbody>\n",
       "</table>\n",
       "</div>"
      ],
      "text/plain": [
       "   Data1  Data2  Data3  Data4  Data5  Data6  Data7  Data8\n",
       "0      6      1      4      8      7      4      5      7\n",
       "1      8      3      4      1      8      3      9      1\n",
       "2      2      2      5      7      6      7      8      4\n",
       "3      1      6      6      8      8      8      8      7\n",
       "4      6      6      3      5      8      9      4      8\n",
       "5      7      1      3      1      3      9      1      9\n",
       "6      4      3      9      3      7      9      7      1\n",
       "7      9      5      7      4      7      6      5      1\n",
       "8      8      4      4      9      5      6      8      8\n",
       "9      9      5      9      3      4      1      4      1"
      ]
     },
     "execution_count": 13,
     "metadata": {},
     "output_type": "execute_result"
    }
   ],
   "source": [
    "# Test: Creating the new data set \n",
    "data1 = np.random.randint(1, 10, 80).reshape(10, 8)\n",
    "\n",
    "#As we did above, see how the new data set look like in a dataframe\n",
    "data1_frame = pd.DataFrame(data1, columns=['Data1','Data2','Data3','Data4','Data5','Data6','Data7','Data8'])\n",
    "data1_frame"
   ]
  },
  {
   "cell_type": "markdown",
   "metadata": {},
   "source": [
    "Once we have the data, we parse our summary function to our new data set."
   ]
  },
  {
   "cell_type": "code",
   "execution_count": 14,
   "metadata": {},
   "outputs": [
    {
     "data": {
      "text/html": [
       "<div>\n",
       "<style scoped>\n",
       "    .dataframe tbody tr th:only-of-type {\n",
       "        vertical-align: middle;\n",
       "    }\n",
       "\n",
       "    .dataframe tbody tr th {\n",
       "        vertical-align: top;\n",
       "    }\n",
       "\n",
       "    .dataframe thead th {\n",
       "        text-align: right;\n",
       "    }\n",
       "</style>\n",
       "<table border=\"1\" class=\"dataframe\">\n",
       "  <thead>\n",
       "    <tr style=\"text-align: right;\">\n",
       "      <th></th>\n",
       "      <th>ID1</th>\n",
       "      <th>ID2</th>\n",
       "      <th>ID3</th>\n",
       "      <th>ID4</th>\n",
       "      <th>ID5</th>\n",
       "    </tr>\n",
       "  </thead>\n",
       "  <tbody>\n",
       "    <tr>\n",
       "      <th>0</th>\n",
       "      <td>2.483827</td>\n",
       "      <td>0.637150</td>\n",
       "      <td>3.609431</td>\n",
       "      <td>1.072402</td>\n",
       "      <td>1.843780</td>\n",
       "    </tr>\n",
       "    <tr>\n",
       "      <th>1</th>\n",
       "      <td>-5.604331</td>\n",
       "      <td>-0.688543</td>\n",
       "      <td>0.813836</td>\n",
       "      <td>4.434749</td>\n",
       "      <td>-2.222884</td>\n",
       "    </tr>\n",
       "    <tr>\n",
       "      <th>2</th>\n",
       "      <td>2.215310</td>\n",
       "      <td>-3.667967</td>\n",
       "      <td>-0.733367</td>\n",
       "      <td>1.659214</td>\n",
       "      <td>2.395915</td>\n",
       "    </tr>\n",
       "    <tr>\n",
       "      <th>3</th>\n",
       "      <td>5.006478</td>\n",
       "      <td>-5.017073</td>\n",
       "      <td>-0.869495</td>\n",
       "      <td>-1.460308</td>\n",
       "      <td>-0.455019</td>\n",
       "    </tr>\n",
       "    <tr>\n",
       "      <th>4</th>\n",
       "      <td>4.144760</td>\n",
       "      <td>1.891236</td>\n",
       "      <td>-1.034875</td>\n",
       "      <td>-1.168887</td>\n",
       "      <td>-3.530188</td>\n",
       "    </tr>\n",
       "    <tr>\n",
       "      <th>5</th>\n",
       "      <td>2.955301</td>\n",
       "      <td>8.332539</td>\n",
       "      <td>-2.961055</td>\n",
       "      <td>0.846228</td>\n",
       "      <td>1.355600</td>\n",
       "    </tr>\n",
       "    <tr>\n",
       "      <th>6</th>\n",
       "      <td>-2.552061</td>\n",
       "      <td>-3.071945</td>\n",
       "      <td>-4.977582</td>\n",
       "      <td>-0.271772</td>\n",
       "      <td>1.003752</td>\n",
       "    </tr>\n",
       "    <tr>\n",
       "      <th>7</th>\n",
       "      <td>-4.502476</td>\n",
       "      <td>0.168454</td>\n",
       "      <td>-0.355057</td>\n",
       "      <td>-1.704110</td>\n",
       "      <td>-1.600022</td>\n",
       "    </tr>\n",
       "    <tr>\n",
       "      <th>8</th>\n",
       "      <td>3.438962</td>\n",
       "      <td>-0.090748</td>\n",
       "      <td>4.506357</td>\n",
       "      <td>-0.548362</td>\n",
       "      <td>-0.445563</td>\n",
       "    </tr>\n",
       "    <tr>\n",
       "      <th>9</th>\n",
       "      <td>-7.585770</td>\n",
       "      <td>1.506899</td>\n",
       "      <td>2.001807</td>\n",
       "      <td>-2.859152</td>\n",
       "      <td>1.654629</td>\n",
       "    </tr>\n",
       "  </tbody>\n",
       "</table>\n",
       "</div>"
      ],
      "text/plain": [
       "        ID1       ID2       ID3       ID4       ID5\n",
       "0  2.483827  0.637150  3.609431  1.072402  1.843780\n",
       "1 -5.604331 -0.688543  0.813836  4.434749 -2.222884\n",
       "2  2.215310 -3.667967 -0.733367  1.659214  2.395915\n",
       "3  5.006478 -5.017073 -0.869495 -1.460308 -0.455019\n",
       "4  4.144760  1.891236 -1.034875 -1.168887 -3.530188\n",
       "5  2.955301  8.332539 -2.961055  0.846228  1.355600\n",
       "6 -2.552061 -3.071945 -4.977582 -0.271772  1.003752\n",
       "7 -4.502476  0.168454 -0.355057 -1.704110 -1.600022\n",
       "8  3.438962 -0.090748  4.506357 -0.548362 -0.445563\n",
       "9 -7.585770  1.506899  2.001807 -2.859152  1.654629"
      ]
     },
     "execution_count": 14,
     "metadata": {},
     "output_type": "execute_result"
    }
   ],
   "source": [
    "ex1 = principal_component_analysis(data1, 5)\n",
    "\n",
    "ex1_frame = pd.DataFrame(ex1, columns=['ID1','ID2','ID3','ID4','ID5'])\n",
    "ex1_frame"
   ]
  },
  {
   "cell_type": "markdown",
   "metadata": {},
   "source": [
    "We now build a function that will return the minimum necessary amount of components needed to explain 95% variance in a given model. \n",
    "\n",
    "In this case, 95% variance (convention) is an arbitrary selection and the parameter in the function can be altered to any desired level of variance."
   ]
  },
  {
   "cell_type": "code",
   "execution_count": 15,
   "metadata": {},
   "outputs": [
    {
     "name": "stdout",
     "output_type": "stream",
     "text": [
      "Number of components necessary to explain aproximately 95% of the variance is: 6\n"
     ]
    }
   ],
   "source": [
    "def number_components(data_set, desired_var):\n",
    "    \"\"\"\n",
    "    Uses the cumulative sum array of explained variance \n",
    "    to interpret how many components are required to meet\n",
    "    a desired level of modeling variance \n",
    "    \n",
    "    Parameters\n",
    "    ----------\n",
    "    data : np.array(ndim=n, size=m)\n",
    "        observations that were generated \n",
    "        by a model or data provided\n",
    "        \n",
    "    desired_var : int\n",
    "        the desired variance level which you would \n",
    "        like to have your model explain  \n",
    "    \n",
    "    Returns\n",
    "    -------\n",
    "    pos : int\n",
    "        Number of principal components necessary to achieve desired_var\n",
    "    \"\"\"\n",
    "    \n",
    "    #Centering the data\n",
    "    data_centered = data_set - np.mean(data_set, axis=0)\n",
    "    \n",
    "    #Get covariance matrix\n",
    "    data_centered_cov = np.cov(data_centered, rowvar=False)    \n",
    "    \n",
    "    #Get the eigenvalues and eigenvectors\n",
    "    eigen_values, eigen_vectors = np.linalg.eigh(data_centered_cov)\n",
    "    \n",
    "    #Sum the eigenvalues\n",
    "    total_values = sum(eigen_values)\n",
    "    \n",
    "    #Then use them to see how much they will explain of the variance\n",
    "    explained_var = [(i/total_values) for i in sorted(eigen_values, reverse=True)]\n",
    "    \n",
    "    #This function sees how they cumulatively explain the variance\n",
    "    sum_explained = np.cumsum(explained_var)\n",
    "    \n",
    "    #Find the number of principal components to achieve the desired_var\n",
    "    pos = bisect_left(sum_explained, desired_var)\n",
    "    \n",
    "    return pos+1\n",
    "\n",
    "print(f\"Number of components necessary to explain aproximately 95% of the variance is: {number_components(data1, .95)}\")"
   ]
  },
  {
   "cell_type": "markdown",
   "metadata": {},
   "source": [
    "Now, let's show graphically how each principal component contributes to explaining the variance.\n",
    "\n",
    "Note that the function below is a replica of the above, but ending on the \"sum_explained\" step."
   ]
  },
  {
   "cell_type": "code",
   "execution_count": 16,
   "metadata": {},
   "outputs": [
    {
     "data": {
      "text/html": [
       "<div>\n",
       "<style scoped>\n",
       "    .dataframe tbody tr th:only-of-type {\n",
       "        vertical-align: middle;\n",
       "    }\n",
       "\n",
       "    .dataframe tbody tr th {\n",
       "        vertical-align: top;\n",
       "    }\n",
       "\n",
       "    .dataframe thead th {\n",
       "        text-align: right;\n",
       "    }\n",
       "</style>\n",
       "<table border=\"1\" class=\"dataframe\">\n",
       "  <thead>\n",
       "    <tr style=\"text-align: right;\">\n",
       "      <th></th>\n",
       "      <th>explained_variance</th>\n",
       "    </tr>\n",
       "  </thead>\n",
       "  <tbody>\n",
       "    <tr>\n",
       "      <th>ID1</th>\n",
       "      <td>0.386662</td>\n",
       "    </tr>\n",
       "    <tr>\n",
       "      <th>ID2</th>\n",
       "      <td>0.640041</td>\n",
       "    </tr>\n",
       "    <tr>\n",
       "      <th>ID3</th>\n",
       "      <td>0.791019</td>\n",
       "    </tr>\n",
       "    <tr>\n",
       "      <th>ID4</th>\n",
       "      <td>0.871032</td>\n",
       "    </tr>\n",
       "    <tr>\n",
       "      <th>ID5</th>\n",
       "      <td>0.942590</td>\n",
       "    </tr>\n",
       "    <tr>\n",
       "      <th>ID6</th>\n",
       "      <td>0.972304</td>\n",
       "    </tr>\n",
       "    <tr>\n",
       "      <th>ID7</th>\n",
       "      <td>0.994539</td>\n",
       "    </tr>\n",
       "    <tr>\n",
       "      <th>ID8</th>\n",
       "      <td>1.000000</td>\n",
       "    </tr>\n",
       "  </tbody>\n",
       "</table>\n",
       "</div>"
      ],
      "text/plain": [
       "     explained_variance\n",
       "ID1            0.386662\n",
       "ID2            0.640041\n",
       "ID3            0.791019\n",
       "ID4            0.871032\n",
       "ID5            0.942590\n",
       "ID6            0.972304\n",
       "ID7            0.994539\n",
       "ID8            1.000000"
      ]
     },
     "execution_count": 16,
     "metadata": {},
     "output_type": "execute_result"
    }
   ],
   "source": [
    "def explained_variance(data_set):\n",
    "    \"\"\"\n",
    "    Find the cumulative sum array of explained variance \n",
    "    \n",
    "    Parameters\n",
    "    ----------\n",
    "    data : np.array(ndim=n, size=m)\n",
    "        observations that were generated \n",
    "        by a model or data provided\n",
    "    \n",
    "    Returns\n",
    "    -------\n",
    "    sum_explained : np.array\n",
    "        Percentage of the variance explained (how each component cumulatively explain the variance)\n",
    "    \"\"\"\n",
    "    \n",
    "    #Centering the data\n",
    "    data_centered = data_set - np.mean(data_set, axis=0)\n",
    "    \n",
    "    #Get covariance matrix\n",
    "    data_centered_cov = np.cov(data_centered, rowvar=False)    \n",
    "    \n",
    "    #Get the eigenvalues and eigenvectors\n",
    "    eigen_values, eigen_vectors = np.linalg.eigh(data_centered_cov)\n",
    "    \n",
    "    #Sum the eigenvalues\n",
    "    total_values = sum(eigen_values)\n",
    "    \n",
    "    #Then use them to see how much they will explain of the variance\n",
    "    explained_var = [(i/total_values) for i in sorted(eigen_values, reverse=True)]\n",
    "    \n",
    "    #This function sees how they cumulatively explain the variance\n",
    "    sum_explained = np.cumsum(explained_var)\n",
    "    \n",
    "    return sum_explained\n",
    "\n",
    "sum_explained2 = explained_variance(data1)\n",
    "\n",
    "#See how the explained variance look like in a dataframe\n",
    "index_components=['ID1','ID2','ID3','ID4','ID5','ID6','ID7','ID8']\n",
    "explained_frame = pd.DataFrame(sum_explained2, index_components, columns = ['explained_variance'])\n",
    "explained_frame"
   ]
  },
  {
   "cell_type": "markdown",
   "metadata": {},
   "source": [
    "Visually, the logic is the following:"
   ]
  },
  {
   "cell_type": "code",
   "execution_count": 17,
   "metadata": {},
   "outputs": [
    {
     "data": {
      "image/png": "[encoded data removed]",
      "text/plain": [
       "<Figure size 432x288 with 1 Axes>"
      ]
     },
     "metadata": {
      "needs_background": "light"
     },
     "output_type": "display_data"
    }
   ],
   "source": [
    "#Cumulative explanation of the variance for the addition of each principal component\n",
    "plt.step(index_components, explained_frame,\n",
    "where='pre', label=\"Explained Variance\")\n",
    "\n",
    "#Name labels and titles\n",
    "plt.ylabel(\"Explained Variance\")\n",
    "plt.xlabel(\"Principal Components\")\n",
    "plt.title(\"How each Principal Component explains the Variance\")\n",
    "\n",
    "#Add vertical line to show where the principal component analysis is close to reach 95% of the explained variance\n",
    "id_annotation = 'ID5'\n",
    "plt.axvline(x=id_annotation, linestyle='dashed', color='black', linewidth=1)\n",
    "plt.annotate(\"Number of IDs to 95% var.\", xy=[id_annotation, .5], horizontalalignment='right')\n",
    "\n",
    "#Show chart\n",
    "plt.tight_layout()\n",
    "plt.show()"
   ]
  },
  {
   "cell_type": "markdown",
   "metadata": {},
   "source": [
    "We can see that, at the margin, each step explains less of the variance. \n",
    "\n",
    "For example, the addition of the first component explains about 15% of the variance. The addition of the last component adds only about 5%-points of explanation of the variance.\n",
    "\n",
    "Note that the function below is a replica of the others, but ending on the \"explained_var\" step. In this case, we don't use a step chart as a line makes easier to see the marginal change."
   ]
  },
  {
   "cell_type": "code",
   "execution_count": 18,
   "metadata": {},
   "outputs": [
    {
     "data": {
      "image/png": "[encoded data removed]",
      "text/plain": [
       "<Figure size 432x288 with 1 Axes>"
      ]
     },
     "metadata": {
      "needs_background": "light"
     },
     "output_type": "display_data"
    }
   ],
   "source": [
    "def marginal_variance(data_set):\n",
    "    \"\"\"\n",
    "    Find the cumulative sum array of explained variance \n",
    "    \n",
    "    Parameters\n",
    "    ----------\n",
    "    data : np.array(ndim=n, size=m)\n",
    "        observations that were generated \n",
    "        by a model or data provided\n",
    "    \n",
    "    Returns\n",
    "    -------\n",
    "    explained_var : list\n",
    "        Percentage of the variance explained at the margin (how each component explain the variance)\n",
    "    \"\"\"\n",
    "    \n",
    "    #Centering the data\n",
    "    data_centered = data_set - np.mean(data_set, axis=0)\n",
    "    \n",
    "    #Get covariance matrix\n",
    "    data_centered_cov = np.cov(data_centered, rowvar=False)    \n",
    "    \n",
    "    #Get the eigenvalues and eigenvectors\n",
    "    eigen_values, eigen_vectors = np.linalg.eigh(data_centered_cov)\n",
    "    \n",
    "    #Sum the eigenvalues\n",
    "    total_values = sum(eigen_values)\n",
    "    \n",
    "    #Then use them to see how much they will explain of the variance\n",
    "    explained_var = [(i/total_values) for i in sorted(eigen_values, reverse=True)]\n",
    "    \n",
    "    return explained_var\n",
    "\n",
    "#Marginal explanation of variance\n",
    "explained_var2 = marginal_variance(data1)\n",
    "\n",
    "#Charting how the marginal explanation evolves by each principal component\n",
    "plt.plot(index_components, explained_var2, label=\"Marginal Explained Variance\")\n",
    "\n",
    "#Name labels and titles\n",
    "plt.ylabel(\"Marginal Explained Variance\")\n",
    "plt.xlabel(\"Principal Components\")\n",
    "plt.title(\"Marginal increase of explained variance by each component\")\n",
    "\n",
    "#Show chart\n",
    "plt.tight_layout()\n",
    "plt.show()"
   ]
  },
  {
   "cell_type": "markdown",
   "metadata": {
    "tags": []
   },
   "source": [
    "#### 6. Application: Image recognition"
   ]
  },
  {
   "cell_type": "markdown",
   "metadata": {},
   "source": [
    "Let's test the ability of our function, given a set of principal components, of replicating the QuantEcon logo.\n",
    "\n",
    "First, we will download the packages and get the image from the web."
   ]
  },
  {
   "cell_type": "code",
   "execution_count": 19,
   "metadata": {},
   "outputs": [
    {
     "name": "stdout",
     "output_type": "stream",
     "text": [
      "(163, 310, 4)\n"
     ]
    },
    {
     "data": {
      "text/plain": [
       "<matplotlib.image.AxesImage at 0x227f43d68e0>"
      ]
     },
     "execution_count": 19,
     "metadata": {},
     "output_type": "execute_result"
    },
    {
     "data": {
      "image/png": "[encoded data removed]",
      "text/plain": [
       "<Figure size 432x288 with 1 Axes>"
      ]
     },
     "metadata": {
      "needs_background": "light"
     },
     "output_type": "display_data"
    }
   ],
   "source": [
    "img = mpimg.imread('quantecon')\n",
    "print(img.shape)\n",
    "plt.imshow(img)"
   ]
  },
  {
   "cell_type": "markdown",
   "metadata": {},
   "source": [
    "Our image is in the form of 163 rows each containing 310 pixels which have 4 channels (RGB). We have to resize the image so that it is in the format required for PCA input. As 310*4=1240, we resize the image to (163, 1240)."
   ]
  },
  {
   "cell_type": "markdown",
   "metadata": {},
   "source": [
    "Let's use a package to see how it fits the original image of the QuantEcon logo, to see if our function works as well as the package's."
   ]
  },
  {
   "cell_type": "code",
   "execution_count": 158,
   "metadata": {},
   "outputs": [
    {
     "data": {
      "application/vnd.jupyter.widget-view+json": {
       "model_id": "c018198eab96422eb57cb7fc0b4d32fd",
       "version_major": 2,
       "version_minor": 0
      },
      "text/plain": [
       "interactive(children=(FloatSlider(value=6.0, description='Factors', max=32.0, min=1.0, step=1.0), Output()), _…"
      ]
     },
     "metadata": {},
     "output_type": "display_data"
    },
    {
     "data": {
      "text/plain": [
       "<function __main__.image_recognition(Factors)>"
      ]
     },
     "execution_count": 158,
     "metadata": {},
     "output_type": "execute_result"
    }
   ],
   "source": [
    "#Define the image to be used\n",
    "image = img\n",
    "\n",
    "#Create a function to add to the interaction tool\n",
    "def image_recognition(Factors):\n",
    "    \"\"\"\n",
    "    Reconstruct an image using a PCA\n",
    "    Use the PCA package from sklearn as a function to fit into a slider\n",
    "    \n",
    "    Parameters\n",
    "    ----------\n",
    "    Factors : int\n",
    "        Number of principal components you want to use\n",
    "    \n",
    "    Returns\n",
    "    -------\n",
    "    plot : module\n",
    "        Plot reconstructing the image\n",
    "    \"\"\"    \n",
    "    \n",
    "    #Reshape image\n",
    "    img_r = np.reshape(image, (163, 310*4)) \n",
    "    \n",
    "    #Define the model using the PCA package and the number of Principal Components (\"Factors\")\n",
    "    pca = PCA(int(Factors)).fit(img_r) \n",
    "    \n",
    "    #Apply eigenvectors to dataset\n",
    "    img_transformed = pca.transform(img_r) \n",
    "    \n",
    "    #Reconstruct the image\n",
    "    temp = pca.inverse_transform(img_transformed)\n",
    "    \n",
    "    #Reshape it back\n",
    "    temp = np.reshape(temp, (163, 310 , 4)) \n",
    "    \n",
    "    #Build the plot\n",
    "    plt.imshow(temp)\n",
    "\n",
    "#Use slider to interact and see how many components you need to reconstruct it \n",
    "interact(image_recognition, Factors=FloatSlider(value=6, min=1, max=32, step=1))"
   ]
  },
  {
   "cell_type": "markdown",
   "metadata": {},
   "source": [
    "Let's use our algorithm (function of principal component analysis) to see how it fits the original image of the QuantEcon logo."
   ]
  },
  {
   "cell_type": "code",
   "execution_count": 40,
   "metadata": {},
   "outputs": [
    {
     "data": {
      "application/vnd.jupyter.widget-view+json": {
       "model_id": "0a8de69e0c764880a9bb5624697edb64",
       "version_major": 2,
       "version_minor": 0
      },
      "text/plain": [
       "interactive(children=(FloatSlider(value=6.0, description='Factors', max=32.0, min=1.0, step=1.0), Output()), _…"
      ]
     },
     "metadata": {},
     "output_type": "display_data"
    },
    {
     "data": {
      "text/plain": [
       "<function __main__.image_recognition_va(Factors)>"
      ]
     },
     "execution_count": 40,
     "metadata": {},
     "output_type": "execute_result"
    }
   ],
   "source": [
    "#Define the image to be used\n",
    "image = img\n",
    "\n",
    "def image_recognition_va(Factors):\n",
    "    \"\"\"\n",
    "    Reconstruct an image using our own algorithm\n",
    "    Use it as a function to fit into a slider\n",
    "    \n",
    "    Parameters\n",
    "    ----------\n",
    "    Factors : int\n",
    "        Number of principal components you want to use\n",
    "    \n",
    "    Returns\n",
    "    -------\n",
    "    plot : module\n",
    "        Plot reconstructing the image\n",
    "    \"\"\"   \n",
    "\n",
    "    #Reshape image (as above)\n",
    "    img_r_va = np.reshape(img, (163, 310*4)) \n",
    "\n",
    "    #This step covers three parts (similar to transform in the sklearn package): \n",
    "    #Define the model using the PCA package and the number of Principal Components (\"Factors\")   \n",
    "    #Apply eigenvectors to dataset\n",
    "    pca_transform_va = principal_component_analysis(img_r_va, int(Factors))\n",
    "\n",
    "    #These additional steps are needed to transform the principal components back into the image \n",
    "    #Reconstruct the image using the inverse_transform package (just matrix multiplications)\n",
    "    temp_va = np.dot(pca_transform_va, np.sqrt(marginal_variance(img_r_va)) + np.mean(pca_transform_va))\n",
    "\n",
    "    #Reshape it back\n",
    "    temp_va = np.reshape(temp_va, (163, 310, 4)) \n",
    "    \n",
    "    #Build the plot\n",
    "    plt.imshow(temp_va)\n",
    "\n",
    "interact(\n",
    "    image_recognition_va, \n",
    "    Factors=FloatSlider(value=6, min=1, max=32, step=1),\n",
    ")"
   ]
  },
  {
   "cell_type": "code",
   "execution_count": 138,
   "metadata": {},
   "outputs": [],
   "source": [
    "# manual walk through of img \n",
    "\n",
    "# reshape\n",
    "img_ex = np.reshape(img, (163, 310*4)) \n",
    "\n",
    "# create mean array\n",
    "img_ex_mean = img_ex - np.mean(img_ex, axis=0)\n",
    "\n",
    "# create covariance\n",
    "img_ex_cov = np.cov(img_ex_mean, rowvar=False)\n",
    "\n",
    "# eigenvalues, eigenvectors \n",
    "img_evals, img_evecs = np.linalg.eigh(img_ex_cov)\n",
    "\n",
    "img_index = np.argsort(img_evals)[::-1]\n",
    "img_sorted_vals = img_evals[img_index]\n",
    "img_sorted_vecs = img_evecs[:, img_index]\n",
    "\n",
    "img_vec_subset = img_sorted_vecs[:, 0:18] # 18 is components\n",
    "\n",
    "img_pca = (img_vec_subset.T @ img_ex_mean.T).T\n",
    "\n",
    "img_inverse = np.dot(img_pca, img_vec_subset.T)\n",
    "\n",
    "img_inverse_t = np.reshape(img_inverse, (163, 310, 4))"
   ]
  },
  {
   "cell_type": "code",
   "execution_count": 160,
   "metadata": {},
   "outputs": [
    {
     "data": {
      "text/plain": [
       "<matplotlib.image.AxesImage at 0x22787f1f700>"
      ]
     },
     "execution_count": 160,
     "metadata": {},
     "output_type": "execute_result"
    },
    {
     "data": {
      "image/png": "[encoded data removed]",
      "text/plain": [
       "<Figure size 432x288 with 1 Axes>"
      ]
     },
     "metadata": {
      "needs_background": "light"
     },
     "output_type": "display_data"
    }
   ],
   "source": [
    "#Summary function\n",
    "def inverse_transform(data, components):\n",
    "    \"\"\"\n",
    "    Takes a higher dimension dataset and uses PCA to reduce \n",
    "    the data to the desired numnber of dimensions\n",
    "    \n",
    "    Parameters\n",
    "    ----------\n",
    "    data : np.array(ndim=n, size=m)\n",
    "        observations that were generated \n",
    "        by a model or data provided\n",
    "    components : int\n",
    "        number of desired components the \n",
    "        given data will be reduced to \n",
    "    \n",
    "    Returns\n",
    "    -------\n",
    "    PCA_data : np.array(ndim=n, size=components)\n",
    "        the dataset with reduced dimensions\n",
    "    \"\"\"\n",
    "    #Centering the data\n",
    "    data_centered = data - np.mean(data, axis=0)\n",
    "    \n",
    "    #Get covariance matrix\n",
    "    data_centered_cov = np.cov(data_centered, rowvar=False)\n",
    "    \n",
    "    #Get eigenvalues and eigenvectors\n",
    "    eigen_values, eigen_vectors = np.linalg.eigh(data_centered_cov)\n",
    "\n",
    "    index = np.argsort(eigen_values)[::-1]\n",
    "    sorted_values = eigen_values[index]\n",
    "    sorted_vectors = eigen_vectors[:, index]\n",
    "\n",
    "    vector_subset = sorted_vectors[:, 0:components]\n",
    "\n",
    "    PCA_data = (vector_subset.T @ data_centered.T).T #similar to .transform in the PCA package\n",
    "\n",
    "    PCA_inverse_transform = np.dot(PCA_data, vector_subset.T)\n",
    "\n",
    "    return PCA_inverse_transform\n",
    "\n",
    "\n",
    "plt.imshow(inverse_transform(img_r, 18))"
   ]
  },
  {
   "cell_type": "code",
   "execution_count": 90,
   "metadata": {},
   "outputs": [
    {
     "name": "stderr",
     "output_type": "stream",
     "text": [
      "C:\\Users\\alexa\\AppData\\Local\\Temp/ipykernel_67844/423992515.py:9: RuntimeWarning: invalid value encountered in sqrt\n",
      "  temp_va = np.dot(pca_transform_va, np.sqrt(marginal_variance(img_r_va)) * 6 * np.sqrt(marginal_variance[:, np.newaxis]) + np.mean(pca_transform_va))\n"
     ]
    },
    {
     "ename": "TypeError",
     "evalue": "'function' object is not subscriptable",
     "output_type": "error",
     "traceback": [
      "\u001b[1;31m---------------------------------------------------------------------------\u001b[0m",
      "\u001b[1;31mTypeError\u001b[0m                                 Traceback (most recent call last)",
      "\u001b[1;32m~\\AppData\\Local\\Temp/ipykernel_67844/423992515.py\u001b[0m in \u001b[0;36m<module>\u001b[1;34m\u001b[0m\n\u001b[0;32m      7\u001b[0m \u001b[1;31m#temp_va = pca_transform_va.inverse_transform(img_r_va)\u001b[0m\u001b[1;33m\u001b[0m\u001b[1;33m\u001b[0m\u001b[1;33m\u001b[0m\u001b[0m\n\u001b[0;32m      8\u001b[0m \u001b[1;33m\u001b[0m\u001b[0m\n\u001b[1;32m----> 9\u001b[1;33m \u001b[0mtemp_va\u001b[0m \u001b[1;33m=\u001b[0m \u001b[0mnp\u001b[0m\u001b[1;33m.\u001b[0m\u001b[0mdot\u001b[0m\u001b[1;33m(\u001b[0m\u001b[0mpca_transform_va\u001b[0m\u001b[1;33m,\u001b[0m \u001b[0mnp\u001b[0m\u001b[1;33m.\u001b[0m\u001b[0msqrt\u001b[0m\u001b[1;33m(\u001b[0m\u001b[0mmarginal_variance\u001b[0m\u001b[1;33m(\u001b[0m\u001b[0mimg_r_va\u001b[0m\u001b[1;33m)\u001b[0m\u001b[1;33m)\u001b[0m \u001b[1;33m*\u001b[0m \u001b[1;36m6\u001b[0m \u001b[1;33m*\u001b[0m \u001b[0mnp\u001b[0m\u001b[1;33m.\u001b[0m\u001b[0msqrt\u001b[0m\u001b[1;33m(\u001b[0m\u001b[0mmarginal_variance\u001b[0m\u001b[1;33m[\u001b[0m\u001b[1;33m:\u001b[0m\u001b[1;33m,\u001b[0m \u001b[0mnp\u001b[0m\u001b[1;33m.\u001b[0m\u001b[0mnewaxis\u001b[0m\u001b[1;33m]\u001b[0m\u001b[1;33m)\u001b[0m \u001b[1;33m+\u001b[0m \u001b[0mnp\u001b[0m\u001b[1;33m.\u001b[0m\u001b[0mmean\u001b[0m\u001b[1;33m(\u001b[0m\u001b[0mpca_transform_va\u001b[0m\u001b[1;33m)\u001b[0m\u001b[1;33m)\u001b[0m\u001b[1;33m\u001b[0m\u001b[1;33m\u001b[0m\u001b[0m\n\u001b[0m\u001b[0;32m     10\u001b[0m \u001b[1;33m\u001b[0m\u001b[0m\n\u001b[0;32m     11\u001b[0m \u001b[0mtemp_va\u001b[0m \u001b[1;33m=\u001b[0m \u001b[0mnp\u001b[0m\u001b[1;33m.\u001b[0m\u001b[0mreshape\u001b[0m\u001b[1;33m(\u001b[0m\u001b[0mtemp_va\u001b[0m\u001b[1;33m,\u001b[0m \u001b[1;33m(\u001b[0m\u001b[1;36m163\u001b[0m\u001b[1;33m,\u001b[0m \u001b[1;36m310\u001b[0m \u001b[1;33m,\u001b[0m \u001b[1;36m4\u001b[0m\u001b[1;33m)\u001b[0m\u001b[1;33m)\u001b[0m\u001b[1;33m\u001b[0m\u001b[1;33m\u001b[0m\u001b[0m\n",
      "\u001b[1;31mTypeError\u001b[0m: 'function' object is not subscriptable"
     ]
    }
   ],
   "source": [
    "#Find out how to inverse transform\n",
    "\n",
    "img_r_va = np.reshape(img, (163, 310*4)) \n",
    "\n",
    "pca_transform_va = principal_component_analysis(img_r_va, 6)\n",
    "\n",
    "#temp_va = pca_transform_va.inverse_transform(img_r_va)\n",
    "\n",
    "temp_va=np.dot(pca_transform_va,np.sqrt(self.explained_variance_[:, np.newaxis]) * pca_transform_va.T,) + np.mean(pca_transform_va)\n",
    "\n",
    "temp_va = np.reshape(temp_va, (163, 310 , 4)) \n",
    "\n",
    "plt.imshow(temp_va)\n"
   ]
  },
  {
   "cell_type": "code",
   "execution_count": 23,
   "metadata": {},
   "outputs": [
    {
     "name": "stderr",
     "output_type": "stream",
     "text": [
      "Clipping input data to the valid range for imshow with RGB data ([0..1] for floats or [0..255] for integers).\n"
     ]
    },
    {
     "data": {
      "text/plain": [
       "<matplotlib.image.AxesImage at 0x227f7711b50>"
      ]
     },
     "execution_count": 23,
     "metadata": {},
     "output_type": "execute_result"
    },
    {
     "data": {
      "image/png": "[encoded data removed]",
      "text/plain": [
       "<Figure size 432x288 with 1 Axes>"
      ]
     },
     "metadata": {
      "needs_background": "light"
     },
     "output_type": "display_data"
    }
   ],
   "source": [
    "\n",
    "img_r = np.reshape(image, (163, 310*4)) \n",
    "    \n",
    "pca = PCA(6).fit(img_r) \n",
    "    \n",
    "img_transformed = pca.transform(img_r) \n",
    "\n",
    "temp = pca.inverse_transform(img_transformed)\n",
    "    \n",
    "temp = np.reshape(temp, (163, 310 , 4)) \n",
    "    \n",
    "plt.imshow(temp)"
   ]
  },
  {
   "cell_type": "markdown",
   "metadata": {},
   "source": [
    "Ask Chase to see if can help to debug last part. Problem: cannot adapt the inverse transformation part.\n",
    "\n",
    "https://github.com/scikit-learn/scikit-learn/blob/0d378913be6d7e485b792ea36e9268be31ed52d0/sklearn/decomposition/_base.py#L156"
   ]
  },
  {
   "cell_type": "markdown",
   "metadata": {
    "tags": []
   },
   "source": [
    "#### 7. References"
   ]
  },
  {
   "cell_type": "markdown",
   "metadata": {},
   "source": [
    "1. Towards Science: A One-Stop Shop for Principal Component Analysis (https://towardsdatascience.com/a-one-stop-shop-for-principal-component-analysis-5582fb7e0a9c).\n",
    "\n",
    "2. In Depth: Principal Component Analysis (https://jakevdp.github.io/PythonDataScienceHandbook/05.09-principal-component-analysis.html).\n",
    "\n",
    "3. Advanced Data Analysis from an Elementary Point of View (https://www.stat.cmu.edu/~cshalizi/uADA/15/lectures/17.pdf).\n",
    "\n",
    "4. Applications of Principal Component Analysis (PCA) (https://iq.opengenus.org/applications-of-pca/).\n",
    "\n",
    "5. SciKit Learn package (https://github.com/scikit-learn/scikit-learn/blob/0d378913be6d7e485b792ea36e9268be31ed52d0/sklearn/decomposition/_base.py#L156)"
   ]
  }
 ],
 "metadata": {
  "interpreter": {
   "hash": "167380c844cb8dab65f7a2242fcdd292fd16a45a4bab8a9de8ac74aeee39fadd"
  },
  "kernelspec": {
   "display_name": "Python 3 (ipykernel)",
   "language": "python",
   "name": "python3"
  },
  "language_info": {
   "codemirror_mode": {
    "name": "ipython",
    "version": 3
   },
   "file_extension": ".py",
   "mimetype": "text/x-python",
   "name": "python",
   "nbconvert_exporter": "python",
   "pygments_lexer": "ipython3",
   "version": "3.9.6"
  }
 },
 "nbformat": 4,
 "nbformat_minor": 4
}
