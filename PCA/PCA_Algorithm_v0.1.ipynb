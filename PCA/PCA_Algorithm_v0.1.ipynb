{
 "cells": [
  {
   "cell_type": "markdown",
   "metadata": {},
   "source": [
    "This notebook was prepared by: \n",
    "\n",
    "Alex Ferrante (af3913@nyu.edu)\n",
    "\n",
    "Vinicius Moreira (vgm236@nyu.edu)\n",
    "\n",
    "Graduate School of Arts and Science (GSAS) at New York University (NYU)\n",
    "\n",
    "December 2021"
   ]
  },
  {
   "cell_type": "markdown",
   "metadata": {
    "tags": []
   },
   "source": [
    "### Principal Component Analysis (PCA)"
   ]
  },
  {
   "cell_type": "code",
   "execution_count": 1,
   "metadata": {},
   "outputs": [],
   "source": [
    "#Import all packages\n",
    "from bisect import bisect_left\n",
    "from IPython.display import Image\n",
    "import numpy as np\n",
    "import pandas as pd\n",
    "import matplotlib.pyplot as plt\n",
    "import matplotlib.image as mpimg \n",
    "import matplotlib.pyplot as plt\n",
    "import numpy as np\n",
    "from sklearn.decomposition import PCA\n",
    "from ipywidgets import interact, FloatSlider\n",
    "\n",
    "import random\n",
    "random.seed(10)\n",
    "\n",
    "%matplotlib inline"
   ]
  },
  {
   "cell_type": "markdown",
   "metadata": {
    "tags": []
   },
   "source": [
    "#### 1. What is a PCA?"
   ]
  },
  {
   "cell_type": "markdown",
   "metadata": {},
   "source": [
    "Principal component analysis is an unsupervised algorithm, based on feature correlation, used for dimensionality reduction. The premise is simple to take data of higher dimensions, and reduce to a lower dimension. \n",
    "\n",
    "Often times, in higher dimensional data, it isn't possible to create visual representations of relationships between variables. Through applying PCA, it then becomes possible to reduce the dimensions of the data and display variable relationships. This tool also allows easier visualization and noise filtering, among other applications.\n",
    "\n",
    "In other words, it allows us to drop the \"least important\" variables and retain the most important parts. In addition, each new variable (the components) will be orthogonal/independent from each other, allowing them to ensure one of the main assumptions of a linear regression."
   ]
  },
  {
   "cell_type": "markdown",
   "metadata": {},
   "source": [
    "The PCA must be used when three conditions apply:\n",
    "\n",
    "- Reduce the number of variables\n",
    "- Ensure that each variable is independent of one another\n",
    "- Assume that the interpretation of the independent variables is less important"
   ]
  },
  {
   "cell_type": "markdown",
   "metadata": {},
   "source": [
    "#### 2. How does a PCA work?"
   ]
  },
  {
   "cell_type": "markdown",
   "metadata": {},
   "source": [
    "a. Calculate a matrix that summarizes how the variables are related one another (the covariance matrix).\n",
    "\n",
    "b. Then separate it between direction (eigenvectors) and magnitude (eigenvalues)\n",
    "\n",
    "c. By projecting the data into a smaller space, we reduce dimension, but keep the original variables in our model"
   ]
  },
  {
   "cell_type": "markdown",
   "metadata": {},
   "source": [
    "Mathematically, the first principal component is the direction in space along which projections have the largest variance. The second principal component is the direction which maximizes variance among all directions orthogonal to the first. The kth component is the variance-maximizing direction orthogonal to the previous k-1 components.\n",
    "\n",
    "Once we have the principal components, we need do determine how many features to keep versus how many to drop. The most common methods are:\n",
    "\n",
    "- Arbitrarily select how many dimensions to keep.\n",
    "- Calculate the proportion of variance explained. One might also choose the proportion of variance explained by each component."
   ]
  },
  {
   "cell_type": "markdown",
   "metadata": {},
   "source": [
    "#### 3. Visual representation: Regression vs. PCA"
   ]
  },
  {
   "cell_type": "markdown",
   "metadata": {},
   "source": [
    "A regression is a straight line that best fits the data, and a PCA is a orthogonal transformation to form the principal components (or linear combinations of the variables\n",
    "\n",
    "The image below illustrates the difference:"
   ]
  },
  {
   "cell_type": "code",
   "execution_count": 2,
   "metadata": {},
   "outputs": [
    {
     "data": {
      "image/jpeg": "[encoded data removed]",
      "text/plain": [
       "<IPython.core.display.Image object>"
      ]
     },
     "execution_count": 2,
     "metadata": {
      "image/jpeg": {
       "height": 400,
       "width": 400
      }
     },
     "output_type": "execute_result"
    }
   ],
   "source": [
    "Image(filename=\"image_reg_pca.jpg\", width=400, height=400)"
   ]
  },
  {
   "cell_type": "markdown",
   "metadata": {},
   "source": [
    "#### 4. Theoretical example, step by step"
   ]
  },
  {
   "cell_type": "markdown",
   "metadata": {},
   "source": [
    "The next section will work through the steps of how a PCA algorithm works using a toy dataset."
   ]
  },
  {
   "cell_type": "markdown",
   "metadata": {},
   "source": [
    "First, we will begin by creating a random distribution of data in a higher dimensional shape (we arbitrarily, for the sake of example, choose 10 variables)."
   ]
  },
  {
   "cell_type": "code",
   "execution_count": 3,
   "metadata": {},
   "outputs": [
    {
     "data": {
      "text/html": [
       "<div>\n",
       "<style scoped>\n",
       "    .dataframe tbody tr th:only-of-type {\n",
       "        vertical-align: middle;\n",
       "    }\n",
       "\n",
       "    .dataframe tbody tr th {\n",
       "        vertical-align: top;\n",
       "    }\n",
       "\n",
       "    .dataframe thead th {\n",
       "        text-align: right;\n",
       "    }\n",
       "</style>\n",
       "<table border=\"1\" class=\"dataframe\">\n",
       "  <thead>\n",
       "    <tr style=\"text-align: right;\">\n",
       "      <th></th>\n",
       "      <th>ID1</th>\n",
       "      <th>ID2</th>\n",
       "      <th>ID3</th>\n",
       "      <th>ID4</th>\n",
       "      <th>ID5</th>\n",
       "      <th>ID6</th>\n",
       "      <th>ID7</th>\n",
       "      <th>ID8</th>\n",
       "      <th>ID9</th>\n",
       "      <th>ID10</th>\n",
       "    </tr>\n",
       "  </thead>\n",
       "  <tbody>\n",
       "    <tr>\n",
       "      <th>0</th>\n",
       "      <td>7</td>\n",
       "      <td>6</td>\n",
       "      <td>7</td>\n",
       "      <td>4</td>\n",
       "      <td>7</td>\n",
       "      <td>3</td>\n",
       "      <td>8</td>\n",
       "      <td>7</td>\n",
       "      <td>3</td>\n",
       "      <td>8</td>\n",
       "    </tr>\n",
       "    <tr>\n",
       "      <th>1</th>\n",
       "      <td>8</td>\n",
       "      <td>9</td>\n",
       "      <td>5</td>\n",
       "      <td>9</td>\n",
       "      <td>1</td>\n",
       "      <td>3</td>\n",
       "      <td>6</td>\n",
       "      <td>2</td>\n",
       "      <td>1</td>\n",
       "      <td>4</td>\n",
       "    </tr>\n",
       "    <tr>\n",
       "      <th>2</th>\n",
       "      <td>3</td>\n",
       "      <td>5</td>\n",
       "      <td>3</td>\n",
       "      <td>9</td>\n",
       "      <td>5</td>\n",
       "      <td>1</td>\n",
       "      <td>6</td>\n",
       "      <td>5</td>\n",
       "      <td>5</td>\n",
       "      <td>4</td>\n",
       "    </tr>\n",
       "    <tr>\n",
       "      <th>3</th>\n",
       "      <td>2</td>\n",
       "      <td>6</td>\n",
       "      <td>2</td>\n",
       "      <td>8</td>\n",
       "      <td>2</td>\n",
       "      <td>3</td>\n",
       "      <td>3</td>\n",
       "      <td>9</td>\n",
       "      <td>7</td>\n",
       "      <td>2</td>\n",
       "    </tr>\n",
       "    <tr>\n",
       "      <th>4</th>\n",
       "      <td>3</td>\n",
       "      <td>9</td>\n",
       "      <td>9</td>\n",
       "      <td>2</td>\n",
       "      <td>8</td>\n",
       "      <td>2</td>\n",
       "      <td>2</td>\n",
       "      <td>2</td>\n",
       "      <td>3</td>\n",
       "      <td>9</td>\n",
       "    </tr>\n",
       "  </tbody>\n",
       "</table>\n",
       "</div>"
      ],
      "text/plain": [
       "   ID1  ID2  ID3  ID4  ID5  ID6  ID7  ID8  ID9  ID10\n",
       "0    7    6    7    4    7    3    8    7    3     8\n",
       "1    8    9    5    9    1    3    6    2    1     4\n",
       "2    3    5    3    9    5    1    6    5    5     4\n",
       "3    2    6    2    8    2    3    3    9    7     2\n",
       "4    3    9    9    2    8    2    2    2    3     9"
      ]
     },
     "execution_count": 3,
     "metadata": {},
     "output_type": "execute_result"
    }
   ],
   "source": [
    "#We will use this data as numpy array (from 1 to 10)\n",
    "data = np.random.randint(1, 10, 1000).reshape(100, 10)\n",
    "\n",
    "#To make it easier to visualize, let's put into a dataframe\n",
    "data_frame = pd.DataFrame(data, columns = ['ID1','ID2','ID3','ID4','ID5','ID6','ID7','ID8','ID9','ID10'])\n",
    "data_frame.head()"
   ]
  },
  {
   "cell_type": "markdown",
   "metadata": {},
   "source": [
    "The first step in PCA implementation is to find the mean of each variable and then subtract the mean from each respective row. \n",
    "\n",
    "For example, you find the mean of the first variable by taking the mean of all the values in the first column, then subtract the values in the first row (axis=0) by the mean of this \n",
    "first variable. \n",
    "\n",
    "By subtracting the means from each of the dimensions, we will then be left with a dataset that has a mean of zero and is considered \"centered.\"\n",
    "\n",
    "This is the normalization of our variables."
   ]
  },
  {
   "cell_type": "code",
   "execution_count": 4,
   "metadata": {},
   "outputs": [
    {
     "data": {
      "text/html": [
       "<div>\n",
       "<style scoped>\n",
       "    .dataframe tbody tr th:only-of-type {\n",
       "        vertical-align: middle;\n",
       "    }\n",
       "\n",
       "    .dataframe tbody tr th {\n",
       "        vertical-align: top;\n",
       "    }\n",
       "\n",
       "    .dataframe thead th {\n",
       "        text-align: right;\n",
       "    }\n",
       "</style>\n",
       "<table border=\"1\" class=\"dataframe\">\n",
       "  <thead>\n",
       "    <tr style=\"text-align: right;\">\n",
       "      <th></th>\n",
       "      <th>ID1</th>\n",
       "      <th>ID2</th>\n",
       "      <th>ID3</th>\n",
       "      <th>ID4</th>\n",
       "      <th>ID5</th>\n",
       "      <th>ID6</th>\n",
       "      <th>ID7</th>\n",
       "      <th>ID8</th>\n",
       "      <th>ID9</th>\n",
       "      <th>ID10</th>\n",
       "    </tr>\n",
       "  </thead>\n",
       "  <tbody>\n",
       "    <tr>\n",
       "      <th>0</th>\n",
       "      <td>2.3</td>\n",
       "      <td>0.71</td>\n",
       "      <td>1.92</td>\n",
       "      <td>-1.28</td>\n",
       "      <td>1.74</td>\n",
       "      <td>-2.18</td>\n",
       "      <td>2.68</td>\n",
       "      <td>2.12</td>\n",
       "      <td>-1.61</td>\n",
       "      <td>2.35</td>\n",
       "    </tr>\n",
       "    <tr>\n",
       "      <th>1</th>\n",
       "      <td>3.3</td>\n",
       "      <td>3.71</td>\n",
       "      <td>-0.08</td>\n",
       "      <td>3.72</td>\n",
       "      <td>-4.26</td>\n",
       "      <td>-2.18</td>\n",
       "      <td>0.68</td>\n",
       "      <td>-2.88</td>\n",
       "      <td>-3.61</td>\n",
       "      <td>-1.65</td>\n",
       "    </tr>\n",
       "    <tr>\n",
       "      <th>2</th>\n",
       "      <td>-1.7</td>\n",
       "      <td>-0.29</td>\n",
       "      <td>-2.08</td>\n",
       "      <td>3.72</td>\n",
       "      <td>-0.26</td>\n",
       "      <td>-4.18</td>\n",
       "      <td>0.68</td>\n",
       "      <td>0.12</td>\n",
       "      <td>0.39</td>\n",
       "      <td>-1.65</td>\n",
       "    </tr>\n",
       "    <tr>\n",
       "      <th>3</th>\n",
       "      <td>-2.7</td>\n",
       "      <td>0.71</td>\n",
       "      <td>-3.08</td>\n",
       "      <td>2.72</td>\n",
       "      <td>-3.26</td>\n",
       "      <td>-2.18</td>\n",
       "      <td>-2.32</td>\n",
       "      <td>4.12</td>\n",
       "      <td>2.39</td>\n",
       "      <td>-3.65</td>\n",
       "    </tr>\n",
       "    <tr>\n",
       "      <th>4</th>\n",
       "      <td>-1.7</td>\n",
       "      <td>3.71</td>\n",
       "      <td>3.92</td>\n",
       "      <td>-3.28</td>\n",
       "      <td>2.74</td>\n",
       "      <td>-3.18</td>\n",
       "      <td>-3.32</td>\n",
       "      <td>-2.88</td>\n",
       "      <td>-1.61</td>\n",
       "      <td>3.35</td>\n",
       "    </tr>\n",
       "  </tbody>\n",
       "</table>\n",
       "</div>"
      ],
      "text/plain": [
       "   ID1   ID2   ID3   ID4   ID5   ID6   ID7   ID8   ID9  ID10\n",
       "0  2.3  0.71  1.92 -1.28  1.74 -2.18  2.68  2.12 -1.61  2.35\n",
       "1  3.3  3.71 -0.08  3.72 -4.26 -2.18  0.68 -2.88 -3.61 -1.65\n",
       "2 -1.7 -0.29 -2.08  3.72 -0.26 -4.18  0.68  0.12  0.39 -1.65\n",
       "3 -2.7  0.71 -3.08  2.72 -3.26 -2.18 -2.32  4.12  2.39 -3.65\n",
       "4 -1.7  3.71  3.92 -3.28  2.74 -3.18 -3.32 -2.88 -1.61  3.35"
      ]
     },
     "execution_count": 4,
     "metadata": {},
     "output_type": "execute_result"
    }
   ],
   "source": [
    "#This is the formula to center the data around the mean\n",
    "data_centered = data - np.mean(data, axis = 0)\n",
    "\n",
    "#Again, to make it easier to visualize, let's put into a dataframe\n",
    "centered_frame = pd.DataFrame(data_centered, columns = ['ID1','ID2','ID3','ID4','ID5','ID6','ID7','ID8','ID9','ID10'])\n",
    "centered_frame.head()"
   ]
  },
  {
   "cell_type": "markdown",
   "metadata": {},
   "source": [
    "Construct the covariance matrix."
   ]
  },
  {
   "cell_type": "code",
   "execution_count": 5,
   "metadata": {},
   "outputs": [
    {
     "data": {
      "text/html": [
       "<div>\n",
       "<style scoped>\n",
       "    .dataframe tbody tr th:only-of-type {\n",
       "        vertical-align: middle;\n",
       "    }\n",
       "\n",
       "    .dataframe tbody tr th {\n",
       "        vertical-align: top;\n",
       "    }\n",
       "\n",
       "    .dataframe thead th {\n",
       "        text-align: right;\n",
       "    }\n",
       "</style>\n",
       "<table border=\"1\" class=\"dataframe\">\n",
       "  <thead>\n",
       "    <tr style=\"text-align: right;\">\n",
       "      <th></th>\n",
       "      <th>ID1</th>\n",
       "      <th>ID2</th>\n",
       "      <th>ID3</th>\n",
       "      <th>ID4</th>\n",
       "      <th>ID5</th>\n",
       "      <th>ID6</th>\n",
       "      <th>ID7</th>\n",
       "      <th>ID8</th>\n",
       "      <th>ID9</th>\n",
       "      <th>ID10</th>\n",
       "    </tr>\n",
       "  </thead>\n",
       "  <tbody>\n",
       "    <tr>\n",
       "      <th>0</th>\n",
       "      <td>6.737374</td>\n",
       "      <td>-0.407071</td>\n",
       "      <td>-0.096970</td>\n",
       "      <td>-0.783838</td>\n",
       "      <td>0.038384</td>\n",
       "      <td>0.256566</td>\n",
       "      <td>1.834343</td>\n",
       "      <td>-0.400000</td>\n",
       "      <td>0.902020</td>\n",
       "      <td>0.429293</td>\n",
       "    </tr>\n",
       "    <tr>\n",
       "      <th>1</th>\n",
       "      <td>-0.407071</td>\n",
       "      <td>6.854444</td>\n",
       "      <td>0.532121</td>\n",
       "      <td>-0.304242</td>\n",
       "      <td>0.287475</td>\n",
       "      <td>-1.537576</td>\n",
       "      <td>-0.689697</td>\n",
       "      <td>-0.086061</td>\n",
       "      <td>-1.198889</td>\n",
       "      <td>-0.251010</td>\n",
       "    </tr>\n",
       "    <tr>\n",
       "      <th>2</th>\n",
       "      <td>-0.096970</td>\n",
       "      <td>0.532121</td>\n",
       "      <td>6.316768</td>\n",
       "      <td>1.159192</td>\n",
       "      <td>0.090101</td>\n",
       "      <td>0.338990</td>\n",
       "      <td>1.317576</td>\n",
       "      <td>-0.162020</td>\n",
       "      <td>-0.534141</td>\n",
       "      <td>-0.810101</td>\n",
       "    </tr>\n",
       "    <tr>\n",
       "      <th>3</th>\n",
       "      <td>-0.783838</td>\n",
       "      <td>-0.304242</td>\n",
       "      <td>1.159192</td>\n",
       "      <td>6.425859</td>\n",
       "      <td>-0.346263</td>\n",
       "      <td>-0.606465</td>\n",
       "      <td>-0.161212</td>\n",
       "      <td>-0.157980</td>\n",
       "      <td>-0.556364</td>\n",
       "      <td>-0.749495</td>\n",
       "    </tr>\n",
       "    <tr>\n",
       "      <th>4</th>\n",
       "      <td>0.038384</td>\n",
       "      <td>0.287475</td>\n",
       "      <td>0.090101</td>\n",
       "      <td>-0.346263</td>\n",
       "      <td>5.729697</td>\n",
       "      <td>0.659798</td>\n",
       "      <td>-1.427475</td>\n",
       "      <td>-0.877576</td>\n",
       "      <td>-0.079394</td>\n",
       "      <td>0.001010</td>\n",
       "    </tr>\n",
       "  </tbody>\n",
       "</table>\n",
       "</div>"
      ],
      "text/plain": [
       "        ID1       ID2       ID3       ID4       ID5       ID6       ID7  \\\n",
       "0  6.737374 -0.407071 -0.096970 -0.783838  0.038384  0.256566  1.834343   \n",
       "1 -0.407071  6.854444  0.532121 -0.304242  0.287475 -1.537576 -0.689697   \n",
       "2 -0.096970  0.532121  6.316768  1.159192  0.090101  0.338990  1.317576   \n",
       "3 -0.783838 -0.304242  1.159192  6.425859 -0.346263 -0.606465 -0.161212   \n",
       "4  0.038384  0.287475  0.090101 -0.346263  5.729697  0.659798 -1.427475   \n",
       "\n",
       "        ID8       ID9      ID10  \n",
       "0 -0.400000  0.902020  0.429293  \n",
       "1 -0.086061 -1.198889 -0.251010  \n",
       "2 -0.162020 -0.534141 -0.810101  \n",
       "3 -0.157980 -0.556364 -0.749495  \n",
       "4 -0.877576 -0.079394  0.001010  "
      ]
     },
     "execution_count": 5,
     "metadata": {},
     "output_type": "execute_result"
    }
   ],
   "source": [
    "#This is the formula to construct the covariance matrix\n",
    "data_centered_cov = np.cov(data_centered, rowvar=False)\n",
    "\n",
    "#Once more time, to make it easier to visualize, let's put into a dataframe\n",
    "cov_frame = pd.DataFrame(data_centered_cov, columns = ['ID1','ID2','ID3','ID4','ID5','ID6','ID7','ID8','ID9','ID10'])\n",
    "cov_frame.head()"
   ]
  },
  {
   "cell_type": "markdown",
   "metadata": {},
   "source": [
    "Find the eigenvalues and eigenvectors."
   ]
  },
  {
   "cell_type": "code",
   "execution_count": 6,
   "metadata": {},
   "outputs": [
    {
     "data": {
      "text/html": [
       "<div>\n",
       "<style scoped>\n",
       "    .dataframe tbody tr th:only-of-type {\n",
       "        vertical-align: middle;\n",
       "    }\n",
       "\n",
       "    .dataframe tbody tr th {\n",
       "        vertical-align: top;\n",
       "    }\n",
       "\n",
       "    .dataframe thead th {\n",
       "        text-align: right;\n",
       "    }\n",
       "</style>\n",
       "<table border=\"1\" class=\"dataframe\">\n",
       "  <thead>\n",
       "    <tr style=\"text-align: right;\">\n",
       "      <th></th>\n",
       "      <th>ID1</th>\n",
       "      <th>ID2</th>\n",
       "      <th>ID3</th>\n",
       "      <th>ID4</th>\n",
       "      <th>ID5</th>\n",
       "      <th>ID6</th>\n",
       "      <th>ID7</th>\n",
       "      <th>ID8</th>\n",
       "      <th>ID9</th>\n",
       "      <th>ID10</th>\n",
       "    </tr>\n",
       "  </thead>\n",
       "  <tbody>\n",
       "    <tr>\n",
       "      <th>0</th>\n",
       "      <td>-0.352038</td>\n",
       "      <td>-0.179722</td>\n",
       "      <td>-0.082834</td>\n",
       "      <td>-0.502897</td>\n",
       "      <td>-0.079466</td>\n",
       "      <td>-0.041336</td>\n",
       "      <td>0.507749</td>\n",
       "      <td>-0.162635</td>\n",
       "      <td>-0.240869</td>\n",
       "      <td>0.483427</td>\n",
       "    </tr>\n",
       "    <tr>\n",
       "      <th>1</th>\n",
       "      <td>0.278172</td>\n",
       "      <td>-0.341004</td>\n",
       "      <td>0.254016</td>\n",
       "      <td>-0.154284</td>\n",
       "      <td>-0.157870</td>\n",
       "      <td>0.470974</td>\n",
       "      <td>0.367211</td>\n",
       "      <td>-0.277707</td>\n",
       "      <td>-0.006437</td>\n",
       "      <td>-0.509179</td>\n",
       "    </tr>\n",
       "    <tr>\n",
       "      <th>2</th>\n",
       "      <td>-0.347898</td>\n",
       "      <td>0.260374</td>\n",
       "      <td>0.339478</td>\n",
       "      <td>0.206214</td>\n",
       "      <td>-0.386808</td>\n",
       "      <td>0.156961</td>\n",
       "      <td>0.142892</td>\n",
       "      <td>0.482616</td>\n",
       "      <td>-0.451916</td>\n",
       "      <td>-0.146907</td>\n",
       "    </tr>\n",
       "    <tr>\n",
       "      <th>3</th>\n",
       "      <td>0.208146</td>\n",
       "      <td>-0.131186</td>\n",
       "      <td>0.092962</td>\n",
       "      <td>-0.625476</td>\n",
       "      <td>0.197319</td>\n",
       "      <td>-0.336872</td>\n",
       "      <td>-0.234482</td>\n",
       "      <td>0.379101</td>\n",
       "      <td>-0.306686</td>\n",
       "      <td>-0.307294</td>\n",
       "    </tr>\n",
       "    <tr>\n",
       "      <th>4</th>\n",
       "      <td>0.293099</td>\n",
       "      <td>0.408979</td>\n",
       "      <td>-0.311912</td>\n",
       "      <td>-0.257984</td>\n",
       "      <td>-0.543374</td>\n",
       "      <td>-0.150905</td>\n",
       "      <td>0.266511</td>\n",
       "      <td>0.193258</td>\n",
       "      <td>0.387445</td>\n",
       "      <td>-0.080418</td>\n",
       "    </tr>\n",
       "  </tbody>\n",
       "</table>\n",
       "</div>"
      ],
      "text/plain": [
       "        ID1       ID2       ID3       ID4       ID5       ID6       ID7  \\\n",
       "0 -0.352038 -0.179722 -0.082834 -0.502897 -0.079466 -0.041336  0.507749   \n",
       "1  0.278172 -0.341004  0.254016 -0.154284 -0.157870  0.470974  0.367211   \n",
       "2 -0.347898  0.260374  0.339478  0.206214 -0.386808  0.156961  0.142892   \n",
       "3  0.208146 -0.131186  0.092962 -0.625476  0.197319 -0.336872 -0.234482   \n",
       "4  0.293099  0.408979 -0.311912 -0.257984 -0.543374 -0.150905  0.266511   \n",
       "\n",
       "        ID8       ID9      ID10  \n",
       "0 -0.162635 -0.240869  0.483427  \n",
       "1 -0.277707 -0.006437 -0.509179  \n",
       "2  0.482616 -0.451916 -0.146907  \n",
       "3  0.379101 -0.306686 -0.307294  \n",
       "4  0.193258  0.387445 -0.080418  "
      ]
     },
     "execution_count": 6,
     "metadata": {},
     "output_type": "execute_result"
    }
   ],
   "source": [
    "#This is the formula to extract the eigenvectors and eigenvalues\n",
    "eigen_values1, eigen_vectors1 = np.linalg.eigh(data_centered_cov)\n",
    "\n",
    "#See how the eigenvectors look like in a dataframe\n",
    "vectors_frame = pd.DataFrame(eigen_vectors1, columns = ['ID1','ID2','ID3','ID4','ID5','ID6','ID7','ID8','ID9','ID10'])\n",
    "vectors_frame.head()"
   ]
  },
  {
   "cell_type": "code",
   "execution_count": 7,
   "metadata": {},
   "outputs": [
    {
     "data": {
      "text/html": [
       "<div>\n",
       "<style scoped>\n",
       "    .dataframe tbody tr th:only-of-type {\n",
       "        vertical-align: middle;\n",
       "    }\n",
       "\n",
       "    .dataframe tbody tr th {\n",
       "        vertical-align: top;\n",
       "    }\n",
       "\n",
       "    .dataframe thead th {\n",
       "        text-align: right;\n",
       "    }\n",
       "</style>\n",
       "<table border=\"1\" class=\"dataframe\">\n",
       "  <thead>\n",
       "    <tr style=\"text-align: right;\">\n",
       "      <th></th>\n",
       "      <th>eigenvalues</th>\n",
       "    </tr>\n",
       "  </thead>\n",
       "  <tbody>\n",
       "    <tr>\n",
       "      <th>ID1</th>\n",
       "      <td>2.956902</td>\n",
       "    </tr>\n",
       "    <tr>\n",
       "      <th>ID2</th>\n",
       "      <td>3.889872</td>\n",
       "    </tr>\n",
       "    <tr>\n",
       "      <th>ID3</th>\n",
       "      <td>4.081045</td>\n",
       "    </tr>\n",
       "    <tr>\n",
       "      <th>ID4</th>\n",
       "      <td>4.898526</td>\n",
       "    </tr>\n",
       "    <tr>\n",
       "      <th>ID5</th>\n",
       "      <td>5.882958</td>\n",
       "    </tr>\n",
       "    <tr>\n",
       "      <th>ID6</th>\n",
       "      <td>6.849243</td>\n",
       "    </tr>\n",
       "    <tr>\n",
       "      <th>ID7</th>\n",
       "      <td>7.606299</td>\n",
       "    </tr>\n",
       "    <tr>\n",
       "      <th>ID8</th>\n",
       "      <td>7.790179</td>\n",
       "    </tr>\n",
       "    <tr>\n",
       "      <th>ID9</th>\n",
       "      <td>8.762992</td>\n",
       "    </tr>\n",
       "    <tr>\n",
       "      <th>ID10</th>\n",
       "      <td>9.645319</td>\n",
       "    </tr>\n",
       "  </tbody>\n",
       "</table>\n",
       "</div>"
      ],
      "text/plain": [
       "      eigenvalues\n",
       "ID1      2.956902\n",
       "ID2      3.889872\n",
       "ID3      4.081045\n",
       "ID4      4.898526\n",
       "ID5      5.882958\n",
       "ID6      6.849243\n",
       "ID7      7.606299\n",
       "ID8      7.790179\n",
       "ID9      8.762992\n",
       "ID10     9.645319"
      ]
     },
     "execution_count": 7,
     "metadata": {},
     "output_type": "execute_result"
    }
   ],
   "source": [
    "#See how the eigenvalues look like in a dataframe\n",
    "values_frame = pd.DataFrame(eigen_values1, index=['ID1','ID2','ID3','ID4','ID5','ID6','ID7','ID8','ID9','ID10'], columns = ['eigenvalues'])\n",
    "values_frame"
   ]
  },
  {
   "cell_type": "markdown",
   "metadata": {},
   "source": [
    "Now, take the eigenvalues and eigenvectors and sort them in descending order."
   ]
  },
  {
   "cell_type": "code",
   "execution_count": 8,
   "metadata": {},
   "outputs": [],
   "source": [
    "index = np.argsort(eigen_values1)[::-1]\n",
    "\n",
    "sorted_values = eigen_values1[index]\n",
    "\n",
    "sorted_vectors = eigen_vectors1[:, index]"
   ]
  },
  {
   "cell_type": "markdown",
   "metadata": {},
   "source": [
    "Note that these eigenvectors are independent of one another (very low cross-correlation). Thus every principal components are perpendicular to one another (orthogonal)."
   ]
  },
  {
   "cell_type": "code",
   "execution_count": 9,
   "metadata": {},
   "outputs": [
    {
     "data": {
      "text/html": [
       "<div>\n",
       "<style scoped>\n",
       "    .dataframe tbody tr th:only-of-type {\n",
       "        vertical-align: middle;\n",
       "    }\n",
       "\n",
       "    .dataframe tbody tr th {\n",
       "        vertical-align: top;\n",
       "    }\n",
       "\n",
       "    .dataframe thead th {\n",
       "        text-align: right;\n",
       "    }\n",
       "</style>\n",
       "<table border=\"1\" class=\"dataframe\">\n",
       "  <thead>\n",
       "    <tr style=\"text-align: right;\">\n",
       "      <th></th>\n",
       "      <th>0</th>\n",
       "      <th>1</th>\n",
       "      <th>2</th>\n",
       "      <th>3</th>\n",
       "      <th>4</th>\n",
       "      <th>5</th>\n",
       "      <th>6</th>\n",
       "      <th>7</th>\n",
       "      <th>8</th>\n",
       "      <th>9</th>\n",
       "    </tr>\n",
       "  </thead>\n",
       "  <tbody>\n",
       "    <tr>\n",
       "      <th>0</th>\n",
       "      <td>1.000000</td>\n",
       "      <td>0.062777</td>\n",
       "      <td>-0.056583</td>\n",
       "      <td>-0.030821</td>\n",
       "      <td>-0.071798</td>\n",
       "      <td>0.112219</td>\n",
       "      <td>0.151420</td>\n",
       "      <td>-0.090607</td>\n",
       "      <td>-0.018500</td>\n",
       "      <td>-0.096967</td>\n",
       "    </tr>\n",
       "    <tr>\n",
       "      <th>1</th>\n",
       "      <td>0.062777</td>\n",
       "      <td>1.000000</td>\n",
       "      <td>0.061280</td>\n",
       "      <td>0.033380</td>\n",
       "      <td>0.077759</td>\n",
       "      <td>-0.121535</td>\n",
       "      <td>-0.163991</td>\n",
       "      <td>0.098129</td>\n",
       "      <td>0.020036</td>\n",
       "      <td>0.105017</td>\n",
       "    </tr>\n",
       "    <tr>\n",
       "      <th>2</th>\n",
       "      <td>-0.056583</td>\n",
       "      <td>0.061280</td>\n",
       "      <td>1.000000</td>\n",
       "      <td>-0.030086</td>\n",
       "      <td>-0.070086</td>\n",
       "      <td>0.109543</td>\n",
       "      <td>0.147809</td>\n",
       "      <td>-0.088446</td>\n",
       "      <td>-0.018059</td>\n",
       "      <td>-0.094654</td>\n",
       "    </tr>\n",
       "    <tr>\n",
       "      <th>3</th>\n",
       "      <td>-0.030821</td>\n",
       "      <td>0.033380</td>\n",
       "      <td>-0.030086</td>\n",
       "      <td>1.000000</td>\n",
       "      <td>-0.038177</td>\n",
       "      <td>0.059670</td>\n",
       "      <td>0.080514</td>\n",
       "      <td>-0.048178</td>\n",
       "      <td>-0.009837</td>\n",
       "      <td>-0.051560</td>\n",
       "    </tr>\n",
       "    <tr>\n",
       "      <th>4</th>\n",
       "      <td>-0.071798</td>\n",
       "      <td>0.077759</td>\n",
       "      <td>-0.070086</td>\n",
       "      <td>-0.038177</td>\n",
       "      <td>1.000000</td>\n",
       "      <td>0.138999</td>\n",
       "      <td>0.187555</td>\n",
       "      <td>-0.112229</td>\n",
       "      <td>-0.022915</td>\n",
       "      <td>-0.120107</td>\n",
       "    </tr>\n",
       "    <tr>\n",
       "      <th>5</th>\n",
       "      <td>0.112219</td>\n",
       "      <td>-0.121535</td>\n",
       "      <td>0.109543</td>\n",
       "      <td>0.059670</td>\n",
       "      <td>0.138999</td>\n",
       "      <td>1.000000</td>\n",
       "      <td>-0.293146</td>\n",
       "      <td>0.175412</td>\n",
       "      <td>0.035816</td>\n",
       "      <td>0.187725</td>\n",
       "    </tr>\n",
       "    <tr>\n",
       "      <th>6</th>\n",
       "      <td>0.151420</td>\n",
       "      <td>-0.163991</td>\n",
       "      <td>0.147809</td>\n",
       "      <td>0.080514</td>\n",
       "      <td>0.187555</td>\n",
       "      <td>-0.293146</td>\n",
       "      <td>1.000000</td>\n",
       "      <td>0.236689</td>\n",
       "      <td>0.048328</td>\n",
       "      <td>0.253303</td>\n",
       "    </tr>\n",
       "    <tr>\n",
       "      <th>7</th>\n",
       "      <td>-0.090607</td>\n",
       "      <td>0.098129</td>\n",
       "      <td>-0.088446</td>\n",
       "      <td>-0.048178</td>\n",
       "      <td>-0.112229</td>\n",
       "      <td>0.175412</td>\n",
       "      <td>0.236689</td>\n",
       "      <td>1.000000</td>\n",
       "      <td>-0.028918</td>\n",
       "      <td>-0.151571</td>\n",
       "    </tr>\n",
       "    <tr>\n",
       "      <th>8</th>\n",
       "      <td>-0.018500</td>\n",
       "      <td>0.020036</td>\n",
       "      <td>-0.018059</td>\n",
       "      <td>-0.009837</td>\n",
       "      <td>-0.022915</td>\n",
       "      <td>0.035816</td>\n",
       "      <td>0.048328</td>\n",
       "      <td>-0.028918</td>\n",
       "      <td>1.000000</td>\n",
       "      <td>-0.030948</td>\n",
       "    </tr>\n",
       "    <tr>\n",
       "      <th>9</th>\n",
       "      <td>-0.096967</td>\n",
       "      <td>0.105017</td>\n",
       "      <td>-0.094654</td>\n",
       "      <td>-0.051560</td>\n",
       "      <td>-0.120107</td>\n",
       "      <td>0.187725</td>\n",
       "      <td>0.253303</td>\n",
       "      <td>-0.151571</td>\n",
       "      <td>-0.030948</td>\n",
       "      <td>1.000000</td>\n",
       "    </tr>\n",
       "  </tbody>\n",
       "</table>\n",
       "</div>"
      ],
      "text/plain": [
       "          0         1         2         3         4         5         6  \\\n",
       "0  1.000000  0.062777 -0.056583 -0.030821 -0.071798  0.112219  0.151420   \n",
       "1  0.062777  1.000000  0.061280  0.033380  0.077759 -0.121535 -0.163991   \n",
       "2 -0.056583  0.061280  1.000000 -0.030086 -0.070086  0.109543  0.147809   \n",
       "3 -0.030821  0.033380 -0.030086  1.000000 -0.038177  0.059670  0.080514   \n",
       "4 -0.071798  0.077759 -0.070086 -0.038177  1.000000  0.138999  0.187555   \n",
       "5  0.112219 -0.121535  0.109543  0.059670  0.138999  1.000000 -0.293146   \n",
       "6  0.151420 -0.163991  0.147809  0.080514  0.187555 -0.293146  1.000000   \n",
       "7 -0.090607  0.098129 -0.088446 -0.048178 -0.112229  0.175412  0.236689   \n",
       "8 -0.018500  0.020036 -0.018059 -0.009837 -0.022915  0.035816  0.048328   \n",
       "9 -0.096967  0.105017 -0.094654 -0.051560 -0.120107  0.187725  0.253303   \n",
       "\n",
       "          7         8         9  \n",
       "0 -0.090607 -0.018500 -0.096967  \n",
       "1  0.098129  0.020036  0.105017  \n",
       "2 -0.088446 -0.018059 -0.094654  \n",
       "3 -0.048178 -0.009837 -0.051560  \n",
       "4 -0.112229 -0.022915 -0.120107  \n",
       "5  0.175412  0.035816  0.187725  \n",
       "6  0.236689  0.048328  0.253303  \n",
       "7  1.000000 -0.028918 -0.151571  \n",
       "8 -0.028918  1.000000 -0.030948  \n",
       "9 -0.151571 -0.030948  1.000000  "
      ]
     },
     "execution_count": 9,
     "metadata": {},
     "output_type": "execute_result"
    }
   ],
   "source": [
    "df = pd.DataFrame(sorted_vectors)\n",
    "#Pairwise correlation\n",
    "df.corr(method ='pearson')"
   ]
  },
  {
   "cell_type": "markdown",
   "metadata": {},
   "source": [
    "Determine the amount of components you would like to return from the sorted eigenvalue matrix (we will discuss this later)"
   ]
  },
  {
   "cell_type": "code",
   "execution_count": 10,
   "metadata": {},
   "outputs": [
    {
     "data": {
      "text/html": [
       "<div>\n",
       "<style scoped>\n",
       "    .dataframe tbody tr th:only-of-type {\n",
       "        vertical-align: middle;\n",
       "    }\n",
       "\n",
       "    .dataframe tbody tr th {\n",
       "        vertical-align: top;\n",
       "    }\n",
       "\n",
       "    .dataframe thead th {\n",
       "        text-align: right;\n",
       "    }\n",
       "</style>\n",
       "<table border=\"1\" class=\"dataframe\">\n",
       "  <thead>\n",
       "    <tr style=\"text-align: right;\">\n",
       "      <th></th>\n",
       "      <th>ID1</th>\n",
       "      <th>ID2</th>\n",
       "      <th>ID3</th>\n",
       "    </tr>\n",
       "  </thead>\n",
       "  <tbody>\n",
       "    <tr>\n",
       "      <th>0</th>\n",
       "      <td>0.483427</td>\n",
       "      <td>-0.240869</td>\n",
       "      <td>-0.162635</td>\n",
       "    </tr>\n",
       "    <tr>\n",
       "      <th>1</th>\n",
       "      <td>-0.509179</td>\n",
       "      <td>-0.006437</td>\n",
       "      <td>-0.277707</td>\n",
       "    </tr>\n",
       "    <tr>\n",
       "      <th>2</th>\n",
       "      <td>-0.146907</td>\n",
       "      <td>-0.451916</td>\n",
       "      <td>0.482616</td>\n",
       "    </tr>\n",
       "    <tr>\n",
       "      <th>3</th>\n",
       "      <td>-0.307294</td>\n",
       "      <td>-0.306686</td>\n",
       "      <td>0.379101</td>\n",
       "    </tr>\n",
       "    <tr>\n",
       "      <th>4</th>\n",
       "      <td>-0.080418</td>\n",
       "      <td>0.387445</td>\n",
       "      <td>0.193258</td>\n",
       "    </tr>\n",
       "  </tbody>\n",
       "</table>\n",
       "</div>"
      ],
      "text/plain": [
       "        ID1       ID2       ID3\n",
       "0  0.483427 -0.240869 -0.162635\n",
       "1 -0.509179 -0.006437 -0.277707\n",
       "2 -0.146907 -0.451916  0.482616\n",
       "3 -0.307294 -0.306686  0.379101\n",
       "4 -0.080418  0.387445  0.193258"
      ]
     },
     "execution_count": 10,
     "metadata": {},
     "output_type": "execute_result"
    }
   ],
   "source": [
    "#We arbitrarily select 3 components, but you can change that\n",
    "components = 3\n",
    "\n",
    "#Sort the eigenvectors\n",
    "eigvect_subset = sorted_vectors[:, 0:components]\n",
    "\n",
    "#See how the subset look like in a dataframe\n",
    "subset_frame = pd.DataFrame(eigvect_subset, columns=['ID1','ID2','ID3'])\n",
    "subset_frame.head()"
   ]
  },
  {
   "cell_type": "markdown",
   "metadata": {},
   "source": [
    "Return the reduce form by matrix multiplying the transpose of the eigenvector subset and transpose of the normalized dataset. Then, transpose the product. See that the shape matches (length of data series, number of principal components)"
   ]
  },
  {
   "cell_type": "code",
   "execution_count": 11,
   "metadata": {},
   "outputs": [
    {
     "data": {
      "text/plain": [
       "(100, 3)"
      ]
     },
     "execution_count": 11,
     "metadata": {},
     "output_type": "execute_result"
    }
   ],
   "source": [
    "data_pca = (eigvect_subset.T @ data_centered.T).T\n",
    "#Check if the dimension reduction happened from 10 to 3\n",
    "data_pca.shape"
   ]
  },
  {
   "cell_type": "markdown",
   "metadata": {},
   "source": [
    "Finally, we build a function that summarizes the steps we did above to extract the principal components."
   ]
  },
  {
   "cell_type": "code",
   "execution_count": 12,
   "metadata": {},
   "outputs": [],
   "source": [
    "#Summary function\n",
    "def principal_component_analysis(data, components):\n",
    "    \"\"\"\n",
    "    Takes a higher dimension dataset and uses PCA to reduce \n",
    "    the data to the desired numnber of dimensions\n",
    "    \n",
    "    Parameters\n",
    "    ----------\n",
    "    data : np.array(ndim=n, size=m)\n",
    "        observations that were generated \n",
    "        by a model or data provided\n",
    "    components : int\n",
    "        number of desired components the \n",
    "        given data will be reduced to \n",
    "    \n",
    "    Returns\n",
    "    -------\n",
    "    PCA_data : np.array(ndim=n, size=components)\n",
    "        the dataset with reduced dimensions\n",
    "    \"\"\"\n",
    "    #Centering the data\n",
    "    data_centered = data - np.mean(data, axis=0)\n",
    "    \n",
    "    #Get covariance matrix\n",
    "    data_centered_cov = np.cov(data_centered, rowvar=False)\n",
    "    \n",
    "    #Get eigenvalues and eigenvectors\n",
    "    eigen_values, eigen_vectors = np.linalg.eigh(data_centered_cov)\n",
    "\n",
    "    index = np.argsort(eigen_values)[::-1]\n",
    "    sorted_values = eigen_values[index]\n",
    "    sorted_vectors = eigen_vectors[:, index]\n",
    "\n",
    "    vector_subset = sorted_vectors[:, 0:components]\n",
    "\n",
    "    PCA_data = (vector_subset.T @ data_centered.T).T #similar to .transform in the PCA package\n",
    "\n",
    "    return PCA_data"
   ]
  },
  {
   "cell_type": "markdown",
   "metadata": {},
   "source": [
    "#### 5. Testing our new function, on a new theoretical example"
   ]
  },
  {
   "cell_type": "markdown",
   "metadata": {},
   "source": [
    "At this step, we test whether our function is indeed reducing the dimensions. The transformed data should have 5 principal components from a dataset that had 8 columns and 10 values for each of those columns."
   ]
  },
  {
   "cell_type": "code",
   "execution_count": 13,
   "metadata": {},
   "outputs": [
    {
     "data": {
      "text/html": [
       "<div>\n",
       "<style scoped>\n",
       "    .dataframe tbody tr th:only-of-type {\n",
       "        vertical-align: middle;\n",
       "    }\n",
       "\n",
       "    .dataframe tbody tr th {\n",
       "        vertical-align: top;\n",
       "    }\n",
       "\n",
       "    .dataframe thead th {\n",
       "        text-align: right;\n",
       "    }\n",
       "</style>\n",
       "<table border=\"1\" class=\"dataframe\">\n",
       "  <thead>\n",
       "    <tr style=\"text-align: right;\">\n",
       "      <th></th>\n",
       "      <th>Data1</th>\n",
       "      <th>Data2</th>\n",
       "      <th>Data3</th>\n",
       "      <th>Data4</th>\n",
       "      <th>Data5</th>\n",
       "      <th>Data6</th>\n",
       "      <th>Data7</th>\n",
       "      <th>Data8</th>\n",
       "    </tr>\n",
       "  </thead>\n",
       "  <tbody>\n",
       "    <tr>\n",
       "      <th>0</th>\n",
       "      <td>7</td>\n",
       "      <td>4</td>\n",
       "      <td>5</td>\n",
       "      <td>3</td>\n",
       "      <td>8</td>\n",
       "      <td>5</td>\n",
       "      <td>6</td>\n",
       "      <td>6</td>\n",
       "    </tr>\n",
       "    <tr>\n",
       "      <th>1</th>\n",
       "      <td>9</td>\n",
       "      <td>2</td>\n",
       "      <td>2</td>\n",
       "      <td>5</td>\n",
       "      <td>6</td>\n",
       "      <td>2</td>\n",
       "      <td>7</td>\n",
       "      <td>9</td>\n",
       "    </tr>\n",
       "    <tr>\n",
       "      <th>2</th>\n",
       "      <td>8</td>\n",
       "      <td>3</td>\n",
       "      <td>7</td>\n",
       "      <td>3</td>\n",
       "      <td>6</td>\n",
       "      <td>2</td>\n",
       "      <td>2</td>\n",
       "      <td>9</td>\n",
       "    </tr>\n",
       "    <tr>\n",
       "      <th>3</th>\n",
       "      <td>3</td>\n",
       "      <td>6</td>\n",
       "      <td>7</td>\n",
       "      <td>3</td>\n",
       "      <td>7</td>\n",
       "      <td>2</td>\n",
       "      <td>8</td>\n",
       "      <td>3</td>\n",
       "    </tr>\n",
       "    <tr>\n",
       "      <th>4</th>\n",
       "      <td>7</td>\n",
       "      <td>1</td>\n",
       "      <td>2</td>\n",
       "      <td>3</td>\n",
       "      <td>8</td>\n",
       "      <td>4</td>\n",
       "      <td>7</td>\n",
       "      <td>4</td>\n",
       "    </tr>\n",
       "    <tr>\n",
       "      <th>5</th>\n",
       "      <td>6</td>\n",
       "      <td>3</td>\n",
       "      <td>4</td>\n",
       "      <td>5</td>\n",
       "      <td>9</td>\n",
       "      <td>2</td>\n",
       "      <td>4</td>\n",
       "      <td>5</td>\n",
       "    </tr>\n",
       "    <tr>\n",
       "      <th>6</th>\n",
       "      <td>9</td>\n",
       "      <td>1</td>\n",
       "      <td>6</td>\n",
       "      <td>4</td>\n",
       "      <td>4</td>\n",
       "      <td>2</td>\n",
       "      <td>4</td>\n",
       "      <td>1</td>\n",
       "    </tr>\n",
       "    <tr>\n",
       "      <th>7</th>\n",
       "      <td>9</td>\n",
       "      <td>9</td>\n",
       "      <td>6</td>\n",
       "      <td>5</td>\n",
       "      <td>4</td>\n",
       "      <td>8</td>\n",
       "      <td>2</td>\n",
       "      <td>1</td>\n",
       "    </tr>\n",
       "    <tr>\n",
       "      <th>8</th>\n",
       "      <td>8</td>\n",
       "      <td>7</td>\n",
       "      <td>3</td>\n",
       "      <td>2</td>\n",
       "      <td>2</td>\n",
       "      <td>6</td>\n",
       "      <td>7</td>\n",
       "      <td>1</td>\n",
       "    </tr>\n",
       "    <tr>\n",
       "      <th>9</th>\n",
       "      <td>5</td>\n",
       "      <td>4</td>\n",
       "      <td>7</td>\n",
       "      <td>4</td>\n",
       "      <td>8</td>\n",
       "      <td>2</td>\n",
       "      <td>6</td>\n",
       "      <td>1</td>\n",
       "    </tr>\n",
       "  </tbody>\n",
       "</table>\n",
       "</div>"
      ],
      "text/plain": [
       "   Data1  Data2  Data3  Data4  Data5  Data6  Data7  Data8\n",
       "0      7      4      5      3      8      5      6      6\n",
       "1      9      2      2      5      6      2      7      9\n",
       "2      8      3      7      3      6      2      2      9\n",
       "3      3      6      7      3      7      2      8      3\n",
       "4      7      1      2      3      8      4      7      4\n",
       "5      6      3      4      5      9      2      4      5\n",
       "6      9      1      6      4      4      2      4      1\n",
       "7      9      9      6      5      4      8      2      1\n",
       "8      8      7      3      2      2      6      7      1\n",
       "9      5      4      7      4      8      2      6      1"
      ]
     },
     "execution_count": 13,
     "metadata": {},
     "output_type": "execute_result"
    }
   ],
   "source": [
    "# Test: Creating the new data set \n",
    "data1 = np.random.randint(1, 10, 80).reshape(10, 8)\n",
    "\n",
    "#As we did above, see how the new data set look like in a dataframe\n",
    "data1_frame = pd.DataFrame(data1, columns=['Data1','Data2','Data3','Data4','Data5','Data6','Data7','Data8'])\n",
    "data1_frame"
   ]
  },
  {
   "cell_type": "markdown",
   "metadata": {},
   "source": [
    "Once we have the data, we parse our summary function to our new data set."
   ]
  },
  {
   "cell_type": "code",
   "execution_count": 14,
   "metadata": {},
   "outputs": [
    {
     "data": {
      "text/html": [
       "<div>\n",
       "<style scoped>\n",
       "    .dataframe tbody tr th:only-of-type {\n",
       "        vertical-align: middle;\n",
       "    }\n",
       "\n",
       "    .dataframe tbody tr th {\n",
       "        vertical-align: top;\n",
       "    }\n",
       "\n",
       "    .dataframe thead th {\n",
       "        text-align: right;\n",
       "    }\n",
       "</style>\n",
       "<table border=\"1\" class=\"dataframe\">\n",
       "  <thead>\n",
       "    <tr style=\"text-align: right;\">\n",
       "      <th></th>\n",
       "      <th>ID1</th>\n",
       "      <th>ID2</th>\n",
       "      <th>ID3</th>\n",
       "      <th>ID4</th>\n",
       "      <th>ID5</th>\n",
       "    </tr>\n",
       "  </thead>\n",
       "  <tbody>\n",
       "    <tr>\n",
       "      <th>0</th>\n",
       "      <td>1.361117</td>\n",
       "      <td>0.242068</td>\n",
       "      <td>0.108450</td>\n",
       "      <td>2.190851</td>\n",
       "      <td>0.905606</td>\n",
       "    </tr>\n",
       "    <tr>\n",
       "      <th>1</th>\n",
       "      <td>5.229601</td>\n",
       "      <td>3.095392</td>\n",
       "      <td>2.494218</td>\n",
       "      <td>0.824432</td>\n",
       "      <td>-0.852759</td>\n",
       "    </tr>\n",
       "    <tr>\n",
       "      <th>2</th>\n",
       "      <td>3.641003</td>\n",
       "      <td>3.168194</td>\n",
       "      <td>-4.121842</td>\n",
       "      <td>0.443184</td>\n",
       "      <td>-1.768532</td>\n",
       "    </tr>\n",
       "    <tr>\n",
       "      <th>3</th>\n",
       "      <td>-0.666341</td>\n",
       "      <td>-5.241730</td>\n",
       "      <td>-0.577355</td>\n",
       "      <td>2.150786</td>\n",
       "      <td>-1.954828</td>\n",
       "    </tr>\n",
       "    <tr>\n",
       "      <th>4</th>\n",
       "      <td>2.513500</td>\n",
       "      <td>-0.661097</td>\n",
       "      <td>3.408928</td>\n",
       "      <td>-0.708762</td>\n",
       "      <td>1.958047</td>\n",
       "    </tr>\n",
       "    <tr>\n",
       "      <th>5</th>\n",
       "      <td>2.876496</td>\n",
       "      <td>-0.900430</td>\n",
       "      <td>-1.192793</td>\n",
       "      <td>0.020786</td>\n",
       "      <td>2.145060</td>\n",
       "    </tr>\n",
       "    <tr>\n",
       "      <th>6</th>\n",
       "      <td>-0.871780</td>\n",
       "      <td>0.467286</td>\n",
       "      <td>-0.361105</td>\n",
       "      <td>-5.451141</td>\n",
       "      <td>-0.852236</td>\n",
       "    </tr>\n",
       "    <tr>\n",
       "      <th>7</th>\n",
       "      <td>-7.590072</td>\n",
       "      <td>3.104449</td>\n",
       "      <td>-2.147425</td>\n",
       "      <td>1.072989</td>\n",
       "      <td>1.733622</td>\n",
       "    </tr>\n",
       "    <tr>\n",
       "      <th>8</th>\n",
       "      <td>-5.730253</td>\n",
       "      <td>1.172194</td>\n",
       "      <td>3.723841</td>\n",
       "      <td>0.558676</td>\n",
       "      <td>-1.748391</td>\n",
       "    </tr>\n",
       "    <tr>\n",
       "      <th>9</th>\n",
       "      <td>-0.763272</td>\n",
       "      <td>-4.446326</td>\n",
       "      <td>-1.334917</td>\n",
       "      <td>-1.101799</td>\n",
       "      <td>0.434412</td>\n",
       "    </tr>\n",
       "  </tbody>\n",
       "</table>\n",
       "</div>"
      ],
      "text/plain": [
       "        ID1       ID2       ID3       ID4       ID5\n",
       "0  1.361117  0.242068  0.108450  2.190851  0.905606\n",
       "1  5.229601  3.095392  2.494218  0.824432 -0.852759\n",
       "2  3.641003  3.168194 -4.121842  0.443184 -1.768532\n",
       "3 -0.666341 -5.241730 -0.577355  2.150786 -1.954828\n",
       "4  2.513500 -0.661097  3.408928 -0.708762  1.958047\n",
       "5  2.876496 -0.900430 -1.192793  0.020786  2.145060\n",
       "6 -0.871780  0.467286 -0.361105 -5.451141 -0.852236\n",
       "7 -7.590072  3.104449 -2.147425  1.072989  1.733622\n",
       "8 -5.730253  1.172194  3.723841  0.558676 -1.748391\n",
       "9 -0.763272 -4.446326 -1.334917 -1.101799  0.434412"
      ]
     },
     "execution_count": 14,
     "metadata": {},
     "output_type": "execute_result"
    }
   ],
   "source": [
    "ex1 = principal_component_analysis(data1, 5)\n",
    "\n",
    "ex1_frame = pd.DataFrame(ex1, columns=['ID1','ID2','ID3','ID4','ID5'])\n",
    "ex1_frame"
   ]
  },
  {
   "cell_type": "markdown",
   "metadata": {},
   "source": [
    "We now build a function that will return the minimum necessary amount of components needed to explain 95% variance in a given model. \n",
    "\n",
    "In this case, 95% variance (convention) is an arbitrary selection and the parameter in the function can be altered to any desired level of variance."
   ]
  },
  {
   "cell_type": "code",
   "execution_count": 15,
   "metadata": {},
   "outputs": [
    {
     "name": "stdout",
     "output_type": "stream",
     "text": [
      "Number of components necessary to explain aproximately 95% of the variance is: 5\n"
     ]
    }
   ],
   "source": [
    "def number_components(data_set, desired_var):\n",
    "    \"\"\"\n",
    "    Uses the cumulative sum array of explained variance \n",
    "    to interpret how many components are required to meet\n",
    "    a desired level of modeling variance \n",
    "    \n",
    "    Parameters\n",
    "    ----------\n",
    "    data : np.array(ndim=n, size=m)\n",
    "        observations that were generated \n",
    "        by a model or data provided\n",
    "        \n",
    "    desired_var : int\n",
    "        the desired variance level which you would \n",
    "        like to have your model explain  \n",
    "    \n",
    "    Returns\n",
    "    -------\n",
    "    pos : int\n",
    "        Number of principal components necessary to achieve desired_var\n",
    "    \"\"\"\n",
    "    \n",
    "    #Centering the data\n",
    "    data_centered = data_set - np.mean(data_set, axis=0)\n",
    "    \n",
    "    #Get covariance matrix\n",
    "    data_centered_cov = np.cov(data_centered, rowvar=False)    \n",
    "    \n",
    "    #Get the eigenvalues and eigenvectors\n",
    "    eigen_values, eigen_vectors = np.linalg.eigh(data_centered_cov)\n",
    "    \n",
    "    #Sum the eigenvalues\n",
    "    total_values = sum(eigen_values)\n",
    "    \n",
    "    #Then use them to see how much they will explain of the variance\n",
    "    explained_var = [(i/total_values) for i in sorted(eigen_values, reverse=True)]\n",
    "    \n",
    "    #This function sees how they cumulatively explain the variance\n",
    "    sum_explained = np.cumsum(explained_var)\n",
    "    \n",
    "    #Find the number of principal components to achieve the desired_var\n",
    "    pos = bisect_left(sum_explained, desired_var)\n",
    "    \n",
    "    return pos+1\n",
    "\n",
    "print(f\"Number of components necessary to explain aproximately 95% of the variance is: {number_components(data1, .95)}\")"
   ]
  },
  {
   "cell_type": "markdown",
   "metadata": {},
   "source": [
    "Now, let's show graphically how each principal component contributes to explaining the variance.\n",
    "\n",
    "Note that the function below is a replica of the above, but ending on the \"sum_explained\" step."
   ]
  },
  {
   "cell_type": "code",
   "execution_count": 16,
   "metadata": {},
   "outputs": [
    {
     "data": {
      "text/html": [
       "<div>\n",
       "<style scoped>\n",
       "    .dataframe tbody tr th:only-of-type {\n",
       "        vertical-align: middle;\n",
       "    }\n",
       "\n",
       "    .dataframe tbody tr th {\n",
       "        vertical-align: top;\n",
       "    }\n",
       "\n",
       "    .dataframe thead th {\n",
       "        text-align: right;\n",
       "    }\n",
       "</style>\n",
       "<table border=\"1\" class=\"dataframe\">\n",
       "  <thead>\n",
       "    <tr style=\"text-align: right;\">\n",
       "      <th></th>\n",
       "      <th>explained_variance</th>\n",
       "    </tr>\n",
       "  </thead>\n",
       "  <tbody>\n",
       "    <tr>\n",
       "      <th>ID1</th>\n",
       "      <td>0.407762</td>\n",
       "    </tr>\n",
       "    <tr>\n",
       "      <th>ID2</th>\n",
       "      <td>0.624645</td>\n",
       "    </tr>\n",
       "    <tr>\n",
       "      <th>ID3</th>\n",
       "      <td>0.780314</td>\n",
       "    </tr>\n",
       "    <tr>\n",
       "      <th>ID4</th>\n",
       "      <td>0.898306</td>\n",
       "    </tr>\n",
       "    <tr>\n",
       "      <th>ID5</th>\n",
       "      <td>0.963613</td>\n",
       "    </tr>\n",
       "    <tr>\n",
       "      <th>ID6</th>\n",
       "      <td>0.989475</td>\n",
       "    </tr>\n",
       "    <tr>\n",
       "      <th>ID7</th>\n",
       "      <td>0.999268</td>\n",
       "    </tr>\n",
       "    <tr>\n",
       "      <th>ID8</th>\n",
       "      <td>1.000000</td>\n",
       "    </tr>\n",
       "  </tbody>\n",
       "</table>\n",
       "</div>"
      ],
      "text/plain": [
       "     explained_variance\n",
       "ID1            0.407762\n",
       "ID2            0.624645\n",
       "ID3            0.780314\n",
       "ID4            0.898306\n",
       "ID5            0.963613\n",
       "ID6            0.989475\n",
       "ID7            0.999268\n",
       "ID8            1.000000"
      ]
     },
     "execution_count": 16,
     "metadata": {},
     "output_type": "execute_result"
    }
   ],
   "source": [
    "def explained_variance(data_set):\n",
    "    \"\"\"\n",
    "    Find the cumulative sum array of explained variance \n",
    "    \n",
    "    Parameters\n",
    "    ----------\n",
    "    data : np.array(ndim=n, size=m)\n",
    "        observations that were generated \n",
    "        by a model or data provided\n",
    "    \n",
    "    Returns\n",
    "    -------\n",
    "    sum_explained : np.array\n",
    "        Percentage of the variance explained (how each component cumulatively explain the variance)\n",
    "    \"\"\"\n",
    "    \n",
    "    #Centering the data\n",
    "    data_centered = data_set - np.mean(data_set, axis=0)\n",
    "    \n",
    "    #Get covariance matrix\n",
    "    data_centered_cov = np.cov(data_centered, rowvar=False)    \n",
    "    \n",
    "    #Get the eigenvalues and eigenvectors\n",
    "    eigen_values, eigen_vectors = np.linalg.eigh(data_centered_cov)\n",
    "    \n",
    "    #Sum the eigenvalues\n",
    "    total_values = sum(eigen_values)\n",
    "    \n",
    "    #Then use them to see how much they will explain of the variance\n",
    "    explained_var = [(i/total_values) for i in sorted(eigen_values, reverse=True)]\n",
    "    \n",
    "    #This function sees how they cumulatively explain the variance\n",
    "    sum_explained = np.cumsum(explained_var)\n",
    "    \n",
    "    return sum_explained\n",
    "\n",
    "sum_explained2 = explained_variance(data1)\n",
    "\n",
    "#See how the explained variance look like in a dataframe\n",
    "index_components=['ID1','ID2','ID3','ID4','ID5','ID6','ID7','ID8']\n",
    "explained_frame = pd.DataFrame(sum_explained2, index_components, columns = ['explained_variance'])\n",
    "explained_frame"
   ]
  },
  {
   "cell_type": "markdown",
   "metadata": {},
   "source": [
    "Visually, the logic is the following:"
   ]
  },
  {
   "cell_type": "code",
   "execution_count": 17,
   "metadata": {},
   "outputs": [
    {
     "data": {
      "image/png": "[encoded data removed]",
      "text/plain": [
       "<Figure size 432x288 with 1 Axes>"
      ]
     },
     "metadata": {
      "needs_background": "light"
     },
     "output_type": "display_data"
    }
   ],
   "source": [
    "#Cumulative explanation of the variance for the addition of each principal component\n",
    "plt.step(index_components, explained_frame,\n",
    "where='pre', label=\"Explained Variance\")\n",
    "\n",
    "#Name labels and titles\n",
    "plt.ylabel(\"Explained Variance\")\n",
    "plt.xlabel(\"Principal Components\")\n",
    "plt.title(\"How each Principal Component explains the Variance\")\n",
    "\n",
    "#Add vertical line to show where the principal component analysis is close to reach 95% of the explained variance\n",
    "id_annotation = 'ID5'\n",
    "plt.axvline(x=id_annotation, linestyle='dashed', color='black', linewidth=1)\n",
    "plt.annotate(\"Number of IDs to 95% var.\", xy=[id_annotation, .5], horizontalalignment='right')\n",
    "\n",
    "#Show chart\n",
    "plt.tight_layout()\n",
    "plt.show()"
   ]
  },
  {
   "cell_type": "markdown",
   "metadata": {},
   "source": [
    "We can see that, at the margin, each step explains less of the variance. \n",
    "\n",
    "For example, the addition of the first component explains about 15% of the variance. The addition of the last component adds only about 5%-points of explanation of the variance.\n",
    "\n",
    "Note that the function below is a replica of the others, but ending on the \"explained_var\" step. In this case, we don't use a step chart as a line makes easier to see the marginal change."
   ]
  },
  {
   "cell_type": "code",
   "execution_count": 18,
   "metadata": {},
   "outputs": [
    {
     "data": {
      "image/png": "[encoded data removed]",
      "text/plain": [
       "<Figure size 432x288 with 1 Axes>"
      ]
     },
     "metadata": {
      "needs_background": "light"
     },
     "output_type": "display_data"
    }
   ],
   "source": [
    "def marginal_variance(data_set):\n",
    "    \"\"\"\n",
    "    Find the cumulative sum array of explained variance \n",
    "    \n",
    "    Parameters\n",
    "    ----------\n",
    "    data : np.array(ndim=n, size=m)\n",
    "        observations that were generated \n",
    "        by a model or data provided\n",
    "    \n",
    "    Returns\n",
    "    -------\n",
    "    explained_var : list\n",
    "        Percentage of the variance explained at the margin (how each component explain the variance)\n",
    "    \"\"\"\n",
    "    \n",
    "    #Centering the data\n",
    "    data_centered = data_set - np.mean(data_set, axis=0)\n",
    "    \n",
    "    #Get covariance matrix\n",
    "    data_centered_cov = np.cov(data_centered, rowvar=False)    \n",
    "    \n",
    "    #Get the eigenvalues and eigenvectors\n",
    "    eigen_values, eigen_vectors = np.linalg.eigh(data_centered_cov)\n",
    "    \n",
    "    #Sum the eigenvalues\n",
    "    total_values = sum(eigen_values)\n",
    "    \n",
    "    #Then use them to see how much they will explain of the variance\n",
    "    explained_var = [(i/total_values) for i in sorted(eigen_values, reverse=True)]\n",
    "    \n",
    "    return explained_var\n",
    "\n",
    "#Marginal explanation of variance\n",
    "explained_var2 = marginal_variance(data1)\n",
    "\n",
    "#Charting how the marginal explanation evolves by each principal component\n",
    "plt.plot(index_components, explained_var2, label=\"Marginal Explained Variance\")\n",
    "\n",
    "#Name labels and titles\n",
    "plt.ylabel(\"Marginal Explained Variance\")\n",
    "plt.xlabel(\"Principal Components\")\n",
    "plt.title(\"Marginal increase of explained variance by each component\")\n",
    "\n",
    "#Show chart\n",
    "plt.tight_layout()\n",
    "plt.show()"
   ]
  },
  {
   "cell_type": "markdown",
   "metadata": {
    "tags": []
   },
   "source": [
    "#### 6. Application: Image recognition"
   ]
  },
  {
   "cell_type": "markdown",
   "metadata": {},
   "source": [
    "Let's test the ability of our function, given a set of principal components, of replicating the QuantEcon logo.\n",
    "\n",
    "First, we will download the packages and get the image from the web."
   ]
  },
  {
   "cell_type": "code",
   "execution_count": 19,
   "metadata": {},
   "outputs": [
    {
     "name": "stdout",
     "output_type": "stream",
     "text": [
      "(163, 310, 4)\n"
     ]
    },
    {
     "data": {
      "text/plain": [
       "<matplotlib.image.AxesImage at 0x7fcc75b6d5b0>"
      ]
     },
     "execution_count": 19,
     "metadata": {},
     "output_type": "execute_result"
    },
    {
     "data": {
      "image/png": "[encoded data removed]",
      "text/plain": [
       "<Figure size 432x288 with 1 Axes>"
      ]
     },
     "metadata": {
      "needs_background": "light"
     },
     "output_type": "display_data"
    }
   ],
   "source": [
    "img = mpimg.imread('quantecon')\n",
    "print(img.shape)\n",
    "plt.imshow(img)"
   ]
  },
  {
   "cell_type": "markdown",
   "metadata": {},
   "source": [
    "Our image is in the form of 163 rows each containing 310 pixels which have 4 channels (RGB). We have to resize the image so that it is in the format required for PCA input. As 310*4=1240, we resize the image to (163, 1240)."
   ]
  },
  {
   "cell_type": "markdown",
   "metadata": {},
   "source": [
    "Let's use a package to see how it fits the original image of the QuantEcon logo, to see if our function works as well as the package's."
   ]
  },
  {
   "cell_type": "code",
   "execution_count": 20,
   "metadata": {},
   "outputs": [
    {
     "data": {
      "application/vnd.jupyter.widget-view+json": {
       "model_id": "45f6b163055e406a8d6f980ebf41eb52",
       "version_major": 2,
       "version_minor": 0
      },
      "text/plain": [
       "interactive(children=(FloatSlider(value=6.0, description='Factors', max=32.0, min=1.0, step=1.0), Output()), _…"
      ]
     },
     "metadata": {},
     "output_type": "display_data"
    },
    {
     "data": {
      "text/plain": [
       "<function __main__.image_recognition(Factors)>"
      ]
     },
     "execution_count": 20,
     "metadata": {},
     "output_type": "execute_result"
    }
   ],
   "source": [
    "#Define the image to be used\n",
    "image = img\n",
    "\n",
    "#Create a function to add to the interaction tool\n",
    "def image_recognition(Factors):\n",
    "    \"\"\"\n",
    "    Reconstruct an image using a PCA\n",
    "    Use the PCA package from sklearn as a function to fit into a slider\n",
    "    \n",
    "    Parameters\n",
    "    ----------\n",
    "    Factors : int\n",
    "        Number of principal components you want to use\n",
    "    \n",
    "    Returns\n",
    "    -------\n",
    "    plot : module\n",
    "        Plot reconstructing the image\n",
    "    \"\"\"    \n",
    "    \n",
    "    #Reshape image\n",
    "    img_r = np.reshape(image, (163, 310*4)) \n",
    "    \n",
    "    #Define the model using the PCA package and the number of Principal Components (\"Factors\")\n",
    "    pca = PCA(int(Factors)).fit(img_r) \n",
    "    \n",
    "    #Apply eigenvectors to dataset\n",
    "    img_transformed = pca.transform(img_r) \n",
    "    \n",
    "    #Reconstruct the image\n",
    "    temp = pca.inverse_transform(img_transformed)\n",
    "    \n",
    "    #Reshape it back\n",
    "    temp = np.reshape(temp, (163, 310 , 4)) \n",
    "    \n",
    "    #Build the plot\n",
    "    plt.imshow(temp)\n",
    "\n",
    "#Use slider to interact and see how many components you need to reconstruct it \n",
    "interact(image_recognition, Factors=FloatSlider(value=6, min=1, max=32, step=1))"
   ]
  },
  {
   "cell_type": "markdown",
   "metadata": {},
   "source": [
    "Let's use our algorithm (function of principal component analysis) to see how it fits the original image of the QuantEcon logo."
   ]
  },
  {
   "cell_type": "code",
   "execution_count": 21,
   "metadata": {},
   "outputs": [
    {
     "data": {
      "application/vnd.jupyter.widget-view+json": {
       "model_id": "8482c4f80bf440599cbee153eaa63f88",
       "version_major": 2,
       "version_minor": 0
      },
      "text/plain": [
       "interactive(children=(FloatSlider(value=6.0, description='Factors', max=32.0, min=1.0, step=1.0), Output()), _…"
      ]
     },
     "metadata": {},
     "output_type": "display_data"
    },
    {
     "data": {
      "text/plain": [
       "<function __main__.image_recognition_va(Factors)>"
      ]
     },
     "execution_count": 21,
     "metadata": {},
     "output_type": "execute_result"
    }
   ],
   "source": [
    "#Define the image to be used\n",
    "image = img\n",
    "\n",
    "def image_recognition_va(Factors):\n",
    "    \"\"\"\n",
    "    Reconstruct an image using our own algorithm\n",
    "    Use it as a function to fit into a slider\n",
    "    \n",
    "    Parameters\n",
    "    ----------\n",
    "    Factors : int\n",
    "        Number of principal components you want to use\n",
    "    \n",
    "    Returns\n",
    "    -------\n",
    "    plot : module\n",
    "        Plot reconstructing the image\n",
    "    \"\"\"   \n",
    "\n",
    "    #Reshape image (as above)\n",
    "    img_r_va = np.reshape(img, (163, 310*4)) \n",
    "\n",
    "    #This step covers three parts (similar to transform in the sklearn package): \n",
    "    #Define the model using the PCA package and the number of Principal Components (\"Factors\")   \n",
    "    #Apply eigenvectors to dataset\n",
    "    pca_transform_va = principal_component_analysis(img_r_va, int(Factors))\n",
    "\n",
    "    #These additional steps are needed to transform the principal components back into the image \n",
    "    #Reconstruct the image using the inverse_transform package (just matrix multiplications)\n",
    "    temp_va = pca_transform_va.inverse_transform(img_r_va)\n",
    "\n",
    "    #Reshape it back\n",
    "    temp_va = np.reshape(temp_va, (163, 310 , 4)) \n",
    "    \n",
    "    #Build the plot\n",
    "    plt.imshow(temp_va)\n",
    "\n",
    "interact(\n",
    "    image_recognition_va, \n",
    "    Factors=FloatSlider(value=6, min=1, max=32, step=1),\n",
    ")"
   ]
  },
  {
   "cell_type": "code",
   "execution_count": 22,
   "metadata": {},
   "outputs": [
    {
     "ename": "NameError",
     "evalue": "name 'self' is not defined",
     "output_type": "error",
     "traceback": [
      "\u001b[0;31m---------------------------------------------------------------------------\u001b[0m",
      "\u001b[0;31mNameError\u001b[0m                                 Traceback (most recent call last)",
      "\u001b[0;32m/tmp/ipykernel_387/2875626111.py\u001b[0m in \u001b[0;36m<module>\u001b[0;34m\u001b[0m\n\u001b[1;32m      7\u001b[0m \u001b[0;31m#temp_va = pca_transform_va.inverse_transform(img_r_va)\u001b[0m\u001b[0;34m\u001b[0m\u001b[0;34m\u001b[0m\u001b[0m\n\u001b[1;32m      8\u001b[0m \u001b[0;34m\u001b[0m\u001b[0m\n\u001b[0;32m----> 9\u001b[0;31m \u001b[0mtemp_va\u001b[0m\u001b[0;34m=\u001b[0m\u001b[0mnp\u001b[0m\u001b[0;34m.\u001b[0m\u001b[0mdot\u001b[0m\u001b[0;34m(\u001b[0m\u001b[0mpca_transform_va\u001b[0m\u001b[0;34m,\u001b[0m\u001b[0mnp\u001b[0m\u001b[0;34m.\u001b[0m\u001b[0msqrt\u001b[0m\u001b[0;34m(\u001b[0m\u001b[0mself\u001b[0m\u001b[0;34m.\u001b[0m\u001b[0mexplained_variance_\u001b[0m\u001b[0;34m[\u001b[0m\u001b[0;34m:\u001b[0m\u001b[0;34m,\u001b[0m \u001b[0mnp\u001b[0m\u001b[0;34m.\u001b[0m\u001b[0mnewaxis\u001b[0m\u001b[0;34m]\u001b[0m\u001b[0;34m)\u001b[0m \u001b[0;34m*\u001b[0m \u001b[0mpca_transform_va\u001b[0m\u001b[0;34m.\u001b[0m\u001b[0mT\u001b[0m\u001b[0;34m,\u001b[0m\u001b[0;34m)\u001b[0m \u001b[0;34m+\u001b[0m \u001b[0mnp\u001b[0m\u001b[0;34m.\u001b[0m\u001b[0mmean\u001b[0m\u001b[0;34m(\u001b[0m\u001b[0mpca_transform_va\u001b[0m\u001b[0;34m)\u001b[0m\u001b[0;34m\u001b[0m\u001b[0;34m\u001b[0m\u001b[0m\n\u001b[0m\u001b[1;32m     10\u001b[0m \u001b[0;34m\u001b[0m\u001b[0m\n\u001b[1;32m     11\u001b[0m \u001b[0mtemp_va\u001b[0m \u001b[0;34m=\u001b[0m \u001b[0mnp\u001b[0m\u001b[0;34m.\u001b[0m\u001b[0mreshape\u001b[0m\u001b[0;34m(\u001b[0m\u001b[0mtemp_va\u001b[0m\u001b[0;34m,\u001b[0m \u001b[0;34m(\u001b[0m\u001b[0;36m163\u001b[0m\u001b[0;34m,\u001b[0m \u001b[0;36m310\u001b[0m \u001b[0;34m,\u001b[0m \u001b[0;36m4\u001b[0m\u001b[0;34m)\u001b[0m\u001b[0;34m)\u001b[0m\u001b[0;34m\u001b[0m\u001b[0;34m\u001b[0m\u001b[0m\n",
      "\u001b[0;31mNameError\u001b[0m: name 'self' is not defined"
     ]
    }
   ],
   "source": [
    "#Find out how to inverse transform\n",
    "\n",
    "img_r_va = np.reshape(img, (163, 310*4)) \n",
    "\n",
    "pca_transform_va = principal_component_analysis(img_r_va, 6)\n",
    "\n",
    "#temp_va = pca_transform_va.inverse_transform(img_r_va)\n",
    "\n",
    "temp_va=np.dot(pca_transform_va,np.sqrt(self.explained_variance_[:, np.newaxis]) * pca_transform_va.T,) + np.mean(pca_transform_va)\n",
    "\n",
    "temp_va = np.reshape(temp_va, (163, 310 , 4)) \n",
    "\n",
    "plt.imshow(temp_va)\n",
    "\n"
   ]
  },
  {
   "cell_type": "code",
   "execution_count": null,
   "metadata": {},
   "outputs": [],
   "source": [
    "\n",
    "img_r = np.reshape(image, (163, 310*4)) \n",
    "    \n",
    "pca = PCA(6).fit(img_r) \n",
    "    \n",
    "img_transformed = pca.transform(img_r) \n",
    "\n",
    "temp = pca.inverse_transform(img_transformed)\n",
    "    \n",
    "temp = np.reshape(temp, (163, 310 , 4)) \n",
    "    \n",
    "plt.imshow(temp)"
   ]
  },
  {
   "cell_type": "markdown",
   "metadata": {},
   "source": [
    "Ask Chase to see if can help to debug last part. Problem: cannot adapt the inverse transformation part.\n",
    "\n",
    "https://github.com/scikit-learn/scikit-learn/blob/0d378913be6d7e485b792ea36e9268be31ed52d0/sklearn/decomposition/_base.py#L156"
   ]
  },
  {
   "cell_type": "markdown",
   "metadata": {
    "tags": []
   },
   "source": [
    "#### 7. References"
   ]
  },
  {
   "cell_type": "markdown",
   "metadata": {},
   "source": [
    "1. Towards Science: A One-Stop Shop for Principal Component Analysis (https://towardsdatascience.com/a-one-stop-shop-for-principal-component-analysis-5582fb7e0a9c).\n",
    "\n",
    "2. In Depth: Principal Component Analysis (https://jakevdp.github.io/PythonDataScienceHandbook/05.09-principal-component-analysis.html).\n",
    "\n",
    "3. Advanced Data Analysis from an Elementary Point of View (https://www.stat.cmu.edu/~cshalizi/uADA/15/lectures/17.pdf).\n",
    "\n",
    "4. Applications of Principal Component Analysis (PCA) (https://iq.opengenus.org/applications-of-pca/).\n",
    "\n",
    "5. SciKit Learn package (https://github.com/scikit-learn/scikit-learn/blob/0d378913be6d7e485b792ea36e9268be31ed52d0/sklearn/decomposition/_base.py#L156)"
   ]
  }
 ],
 "metadata": {
  "interpreter": {
   "hash": "167380c844cb8dab65f7a2242fcdd292fd16a45a4bab8a9de8ac74aeee39fadd"
  },
  "kernelspec": {
   "display_name": "Python 3 (ipykernel)",
   "language": "python",
   "name": "python3"
  },
  "language_info": {
   "codemirror_mode": {
    "name": "ipython",
    "version": 3
   },
   "file_extension": ".py",
   "mimetype": "text/x-python",
   "name": "python",
   "nbconvert_exporter": "python",
   "pygments_lexer": "ipython3",
   "version": "3.9.7"
  }
 },
 "nbformat": 4,
 "nbformat_minor": 4
}
