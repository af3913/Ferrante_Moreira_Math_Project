{
 "cells": [
  {
   "cell_type": "markdown",
   "metadata": {
    "tags": []
   },
   "source": [
    "### Principal Component Analysis (PCA)"
   ]
  },
  {
   "cell_type": "markdown",
   "metadata": {},
   "source": [
    "#### 1. What is a PCA?"
   ]
  },
  {
   "cell_type": "markdown",
   "metadata": {},
   "source": [
    "Principal component analysis is an unsupervised algorithm, based on feature correlation, used for dimensionality reduction. The premise is simple to take data of higher dimensions, and reduce to a lower dimension. \n",
    "\n",
    "Often times, in higher dimensional data, it isn't possible to create visual representations of relationships between variables. Through applying PCA, it then becomes possible to reduce the dimensions of the data and display variable relationships. This tool also allows easier visualization and noise filtering, among other applications.\n",
    "\n",
    "In other words, it allows us to drop the \"least important\" variables and retain the most important parts. In addition, each new variable (the components) will be orthogonal/independent from each other, allowing them to ensure one of the main assumptions of a linear regression."
   ]
  },
  {
   "cell_type": "markdown",
   "metadata": {},
   "source": [
    "The PCA must be used when three conditions apply:\n",
    "\n",
    "- Reduce the number of variables\n",
    "- Ensure that each variable is independent of one another\n",
    "- Assume that the interpretation of the independent variables is less important"
   ]
  },
  {
   "cell_type": "markdown",
   "metadata": {},
   "source": [
    "#### 2. How does a PCA work?"
   ]
  },
  {
   "cell_type": "markdown",
   "metadata": {},
   "source": [
    "a. Calculate a matrix that summarizes how the variables are related one another (the covariance matrix).\n",
    "\n",
    "b. Then separate it between direction (eigenvectors) and magnitude (eigenvalues)\n",
    "\n",
    "c. By projecting the data into a smaller space, we reduce dimension, but keep the original variables in our model"
   ]
  },
  {
   "cell_type": "markdown",
   "metadata": {},
   "source": [
    "Mathematically, the first principal component is the direction in space along which projections have the largest variance. The second principal component is the direction which maximizes variance among all directions orthogonal to the first. The kth component is the variance-maximizing direction orthogonal to the previous k-1 components.\n",
    "\n",
    "Once we have the principal components, we need do determine how many features to keep versus how many to drop. The most common methods are:\n",
    "\n",
    "- Arbitrarily select how many dimensions to keep.\n",
    "- Calculate the proportion of variance explained. One might also choose the proportion of variance explained by each component."
   ]
  },
  {
   "cell_type": "markdown",
   "metadata": {},
   "source": [
    "#### 3. Visual representation: Regression vs. PCA"
   ]
  },
  {
   "cell_type": "markdown",
   "metadata": {},
   "source": [
    "A regression is a straight line that best fits the data, and a PCA is a orthogonal transformation to form the principal components (or linear combinations of the variables\n",
    "\n",
    "The image below illustrates the difference:"
   ]
  },
  {
   "cell_type": "code",
   "execution_count": 1,
   "metadata": {},
   "outputs": [
    {
     "data": {
      "image/jpeg": "[encoded data removed]",
      "text/plain": [
       "<IPython.core.display.Image object>"
      ]
     },
     "execution_count": 1,
     "metadata": {
      "image/jpeg": {
       "height": 400,
       "width": 400
      }
     },
     "output_type": "execute_result"
    }
   ],
   "source": [
    "from IPython.display import Image\n",
    "Image(filename=\"image_reg_pca.jpg\", width=400, height=400)"
   ]
  },
  {
   "cell_type": "markdown",
   "metadata": {},
   "source": [
    "#### 4. Theoretical example"
   ]
  },
  {
   "cell_type": "markdown",
   "metadata": {},
   "source": [
    "The next section will work through the steps of how a PCA algorithm works using a toy dataset."
   ]
  },
  {
   "cell_type": "code",
   "execution_count": 2,
   "metadata": {},
   "outputs": [],
   "source": [
    "import numpy as np\n",
    "import pandas as pd\n",
    "import matplotlib.pyplot as plt\n",
    "\n",
    "%matplotlib inline"
   ]
  },
  {
   "cell_type": "markdown",
   "metadata": {},
   "source": [
    "First, we will begin by creating a random distribution of data in a higher dimensional shape (we arbitrarily, for the sake of example, choose 10 variables)."
   ]
  },
  {
   "cell_type": "code",
   "execution_count": 3,
   "metadata": {},
   "outputs": [],
   "source": [
    "data = np.random.randint(1, 10, 1000).reshape(100, 10)"
   ]
  },
  {
   "cell_type": "markdown",
   "metadata": {},
   "source": [
    "The first step in PCA implementation is to find the mean of each variable and then subtract the mean from each respective row. \n",
    "\n",
    "For example, you find the mean of the first variable by taking the mean of all the values in the first column, then subtract the values in the first row (axis=0) by the mean of this \n",
    "first variable. \n",
    "\n",
    "By subtracting the means from each of the dimensions, we will then be left with a dataset that has a mean of zero and is considered \"centered.\"\n",
    "\n",
    "This is the normalization of our variables."
   ]
  },
  {
   "cell_type": "code",
   "execution_count": 4,
   "metadata": {},
   "outputs": [],
   "source": [
    "data_centered = data - np.mean(data, axis = 0)"
   ]
  },
  {
   "cell_type": "markdown",
   "metadata": {},
   "source": [
    "Construct the covariance matrix."
   ]
  },
  {
   "cell_type": "code",
   "execution_count": 5,
   "metadata": {},
   "outputs": [],
   "source": [
    "data_centered_cov = np.cov(data_centered, rowvar=False)"
   ]
  },
  {
   "cell_type": "markdown",
   "metadata": {},
   "source": [
    "Find the eigenvalues and eigenvectors."
   ]
  },
  {
   "cell_type": "code",
   "execution_count": 6,
   "metadata": {},
   "outputs": [],
   "source": [
    "eigen_values, eigen_vectors = np.linalg.eigh(data_centered_cov)"
   ]
  },
  {
   "cell_type": "markdown",
   "metadata": {},
   "source": [
    "Take the eigenvalues and eigenvectors and sort them in descending order."
   ]
  },
  {
   "cell_type": "code",
   "execution_count": 7,
   "metadata": {},
   "outputs": [],
   "source": [
    "index = np.argsort(eigen_values)[::-1]\n",
    "\n",
    "sorted_values = eigen_values[index]\n",
    "\n",
    "sorted_vectors = eigen_vectors[:, index]"
   ]
  },
  {
   "cell_type": "markdown",
   "metadata": {},
   "source": [
    "Note that these eigenvectors are independent of one another (very low cross-correlation). Thus every principal components are perpendicular to one another (orthogonal)."
   ]
  },
  {
   "cell_type": "code",
   "execution_count": 8,
   "metadata": {},
   "outputs": [
    {
     "data": {
      "text/html": [
       "<div>\n",
       "<style scoped>\n",
       "    .dataframe tbody tr th:only-of-type {\n",
       "        vertical-align: middle;\n",
       "    }\n",
       "\n",
       "    .dataframe tbody tr th {\n",
       "        vertical-align: top;\n",
       "    }\n",
       "\n",
       "    .dataframe thead th {\n",
       "        text-align: right;\n",
       "    }\n",
       "</style>\n",
       "<table border=\"1\" class=\"dataframe\">\n",
       "  <thead>\n",
       "    <tr style=\"text-align: right;\">\n",
       "      <th></th>\n",
       "      <th>0</th>\n",
       "      <th>1</th>\n",
       "      <th>2</th>\n",
       "      <th>3</th>\n",
       "      <th>4</th>\n",
       "      <th>5</th>\n",
       "      <th>6</th>\n",
       "      <th>7</th>\n",
       "      <th>8</th>\n",
       "      <th>9</th>\n",
       "    </tr>\n",
       "  </thead>\n",
       "  <tbody>\n",
       "    <tr>\n",
       "      <th>0</th>\n",
       "      <td>1.000000</td>\n",
       "      <td>0.063173</td>\n",
       "      <td>-0.029532</td>\n",
       "      <td>0.040164</td>\n",
       "      <td>0.216715</td>\n",
       "      <td>0.106829</td>\n",
       "      <td>0.135215</td>\n",
       "      <td>-0.041406</td>\n",
       "      <td>0.130633</td>\n",
       "      <td>-0.181307</td>\n",
       "    </tr>\n",
       "    <tr>\n",
       "      <th>1</th>\n",
       "      <td>0.063173</td>\n",
       "      <td>1.000000</td>\n",
       "      <td>0.015215</td>\n",
       "      <td>-0.020692</td>\n",
       "      <td>-0.111649</td>\n",
       "      <td>-0.055037</td>\n",
       "      <td>-0.069661</td>\n",
       "      <td>0.021332</td>\n",
       "      <td>-0.067300</td>\n",
       "      <td>0.093407</td>\n",
       "    </tr>\n",
       "    <tr>\n",
       "      <th>2</th>\n",
       "      <td>-0.029532</td>\n",
       "      <td>0.015215</td>\n",
       "      <td>1.000000</td>\n",
       "      <td>0.009673</td>\n",
       "      <td>0.052194</td>\n",
       "      <td>0.025729</td>\n",
       "      <td>0.032565</td>\n",
       "      <td>-0.009972</td>\n",
       "      <td>0.031462</td>\n",
       "      <td>-0.043667</td>\n",
       "    </tr>\n",
       "    <tr>\n",
       "      <th>3</th>\n",
       "      <td>0.040164</td>\n",
       "      <td>-0.020692</td>\n",
       "      <td>0.009673</td>\n",
       "      <td>1.000000</td>\n",
       "      <td>-0.070985</td>\n",
       "      <td>-0.034992</td>\n",
       "      <td>-0.044290</td>\n",
       "      <td>0.013563</td>\n",
       "      <td>-0.042789</td>\n",
       "      <td>0.059387</td>\n",
       "    </tr>\n",
       "    <tr>\n",
       "      <th>4</th>\n",
       "      <td>0.216715</td>\n",
       "      <td>-0.111649</td>\n",
       "      <td>0.052194</td>\n",
       "      <td>-0.070985</td>\n",
       "      <td>1.000000</td>\n",
       "      <td>-0.188805</td>\n",
       "      <td>-0.238973</td>\n",
       "      <td>0.073180</td>\n",
       "      <td>-0.230875</td>\n",
       "      <td>0.320435</td>\n",
       "    </tr>\n",
       "    <tr>\n",
       "      <th>5</th>\n",
       "      <td>0.106829</td>\n",
       "      <td>-0.055037</td>\n",
       "      <td>0.025729</td>\n",
       "      <td>-0.034992</td>\n",
       "      <td>-0.188805</td>\n",
       "      <td>1.000000</td>\n",
       "      <td>-0.117801</td>\n",
       "      <td>0.036074</td>\n",
       "      <td>-0.113809</td>\n",
       "      <td>0.157958</td>\n",
       "    </tr>\n",
       "    <tr>\n",
       "      <th>6</th>\n",
       "      <td>0.135215</td>\n",
       "      <td>-0.069661</td>\n",
       "      <td>0.032565</td>\n",
       "      <td>-0.044290</td>\n",
       "      <td>-0.238973</td>\n",
       "      <td>-0.117801</td>\n",
       "      <td>1.000000</td>\n",
       "      <td>0.045659</td>\n",
       "      <td>-0.144050</td>\n",
       "      <td>0.199929</td>\n",
       "    </tr>\n",
       "    <tr>\n",
       "      <th>7</th>\n",
       "      <td>-0.041406</td>\n",
       "      <td>0.021332</td>\n",
       "      <td>-0.009972</td>\n",
       "      <td>0.013563</td>\n",
       "      <td>0.073180</td>\n",
       "      <td>0.036074</td>\n",
       "      <td>0.045659</td>\n",
       "      <td>1.000000</td>\n",
       "      <td>0.044112</td>\n",
       "      <td>-0.061224</td>\n",
       "    </tr>\n",
       "    <tr>\n",
       "      <th>8</th>\n",
       "      <td>0.130633</td>\n",
       "      <td>-0.067300</td>\n",
       "      <td>0.031462</td>\n",
       "      <td>-0.042789</td>\n",
       "      <td>-0.230875</td>\n",
       "      <td>-0.113809</td>\n",
       "      <td>-0.144050</td>\n",
       "      <td>0.044112</td>\n",
       "      <td>1.000000</td>\n",
       "      <td>0.193154</td>\n",
       "    </tr>\n",
       "    <tr>\n",
       "      <th>9</th>\n",
       "      <td>-0.181307</td>\n",
       "      <td>0.093407</td>\n",
       "      <td>-0.043667</td>\n",
       "      <td>0.059387</td>\n",
       "      <td>0.320435</td>\n",
       "      <td>0.157958</td>\n",
       "      <td>0.199929</td>\n",
       "      <td>-0.061224</td>\n",
       "      <td>0.193154</td>\n",
       "      <td>1.000000</td>\n",
       "    </tr>\n",
       "  </tbody>\n",
       "</table>\n",
       "</div>"
      ],
      "text/plain": [
       "          0         1         2         3         4         5         6  \\\n",
       "0  1.000000  0.063173 -0.029532  0.040164  0.216715  0.106829  0.135215   \n",
       "1  0.063173  1.000000  0.015215 -0.020692 -0.111649 -0.055037 -0.069661   \n",
       "2 -0.029532  0.015215  1.000000  0.009673  0.052194  0.025729  0.032565   \n",
       "3  0.040164 -0.020692  0.009673  1.000000 -0.070985 -0.034992 -0.044290   \n",
       "4  0.216715 -0.111649  0.052194 -0.070985  1.000000 -0.188805 -0.238973   \n",
       "5  0.106829 -0.055037  0.025729 -0.034992 -0.188805  1.000000 -0.117801   \n",
       "6  0.135215 -0.069661  0.032565 -0.044290 -0.238973 -0.117801  1.000000   \n",
       "7 -0.041406  0.021332 -0.009972  0.013563  0.073180  0.036074  0.045659   \n",
       "8  0.130633 -0.067300  0.031462 -0.042789 -0.230875 -0.113809 -0.144050   \n",
       "9 -0.181307  0.093407 -0.043667  0.059387  0.320435  0.157958  0.199929   \n",
       "\n",
       "          7         8         9  \n",
       "0 -0.041406  0.130633 -0.181307  \n",
       "1  0.021332 -0.067300  0.093407  \n",
       "2 -0.009972  0.031462 -0.043667  \n",
       "3  0.013563 -0.042789  0.059387  \n",
       "4  0.073180 -0.230875  0.320435  \n",
       "5  0.036074 -0.113809  0.157958  \n",
       "6  0.045659 -0.144050  0.199929  \n",
       "7  1.000000  0.044112 -0.061224  \n",
       "8  0.044112  1.000000  0.193154  \n",
       "9 -0.061224  0.193154  1.000000  "
      ]
     },
     "execution_count": 8,
     "metadata": {},
     "output_type": "execute_result"
    }
   ],
   "source": [
    "df = pd.DataFrame(sorted_vectors)\n",
    "#Pairwise correlation\n",
    "df.corr(method ='pearson')"
   ]
  },
  {
   "cell_type": "markdown",
   "metadata": {},
   "source": [
    "Determine the amount of components you would like to return from the sorted eigenvalue matrix (we will discuss this later)"
   ]
  },
  {
   "cell_type": "code",
   "execution_count": 9,
   "metadata": {},
   "outputs": [],
   "source": [
    "#We arbitrarily select 3 components, but you can change that\n",
    "components = 3\n",
    "\n",
    "eigvect_subset = sorted_vectors[:, 0:components]"
   ]
  },
  {
   "cell_type": "markdown",
   "metadata": {},
   "source": [
    "Return the reduce form by matrix multiplying the transpose of the eigenvector subset and transpose of the normalized dataset. Then, transpose the product."
   ]
  },
  {
   "cell_type": "code",
   "execution_count": 10,
   "metadata": {},
   "outputs": [
    {
     "data": {
      "text/plain": [
       "(100, 3)"
      ]
     },
     "execution_count": 10,
     "metadata": {},
     "output_type": "execute_result"
    }
   ],
   "source": [
    "data_pca = (eigvect_subset.T @ data_centered.T).T\n",
    "#Check if the dimension reduction happened\n",
    "data_pca.shape"
   ]
  },
  {
   "cell_type": "code",
   "execution_count": 11,
   "metadata": {},
   "outputs": [],
   "source": [
    "#Summary function\n",
    "def principal_component_analysis(data, components):\n",
    "    \"\"\"\n",
    "    Takes a higher dimension dataset and uses PCA to reduce \n",
    "    the data to the desired numnber of dimensions\n",
    "    \n",
    "    Parameters\n",
    "    ----------\n",
    "    data : np.array(ndim=n, size=m)\n",
    "        observations that were generated \n",
    "        by a model or data provided\n",
    "    components : int\n",
    "        number of desired components the \n",
    "        given data will be reduced to \n",
    "    \n",
    "    Returns\n",
    "    -------\n",
    "    PCA_data : np.array(ndim=n, size=components)\n",
    "        the dataset with reduced dimensions\n",
    "    \"\"\"\n",
    "    data_centered = data - np.mean(data, axis=0)\n",
    "\n",
    "    data_centered_cov = np.cov(data_centered, rowvar=False)\n",
    "\n",
    "    eigen_values, eigen_vectors = np.linalg.eigh(data_centered_cov)\n",
    "\n",
    "    index = np.argsort(eigen_values)[::-1]\n",
    "    sorted_values = eigen_values[index]\n",
    "    sorted_vectors = eigen_vectors[:, index]\n",
    "\n",
    "    vector_subset = sorted_vectors[:, 0:components]\n",
    "\n",
    "    PCA_data = (vector_subset.T @ data_centered.T).T\n",
    "\n",
    "    return PCA_data"
   ]
  },
  {
   "cell_type": "markdown",
   "metadata": {},
   "source": [
    "At this step, we test whether our function is indeed reducing the dimensions."
   ]
  },
  {
   "cell_type": "code",
   "execution_count": 12,
   "metadata": {},
   "outputs": [
    {
     "data": {
      "text/plain": [
       "(10, 3)"
      ]
     },
     "execution_count": 12,
     "metadata": {},
     "output_type": "execute_result"
    }
   ],
   "source": [
    "# test \n",
    "data1 = np.random.randint(1, 10, 50).reshape(10, 5)\n",
    "\n",
    "ex1 = principal_component_analysis(data1, 3)\n",
    "\n",
    "ex1.shape"
   ]
  },
  {
   "cell_type": "markdown",
   "metadata": {},
   "source": [
    "We now build a function that will return the minimum necessary amount of components needed to explain 95% variance in a given model. \n",
    "\n",
    "In this case, 95% variance is an arbitrary selection and the parameter in the function can be altered to any desired level of variance.\n",
    "\n",
    "However, convention suggests that well fit models explain 95% variance."
   ]
  },
  {
   "cell_type": "code",
   "execution_count": 13,
   "metadata": {},
   "outputs": [
    {
     "data": {
      "text/plain": [
       "8"
      ]
     },
     "execution_count": 13,
     "metadata": {},
     "output_type": "execute_result"
    }
   ],
   "source": [
    "total_values = sum(eigen_values)\n",
    "\n",
    "explained_var = [(i/total_values) for i in sorted(eigen_values,\n",
    "reverse=True)]\n",
    "\n",
    "sum_explained = np.cumsum(explained_var)\n",
    "\n",
    "from bisect import bisect_left\n",
    "\n",
    "def number_components(sum_explained, desired_var):\n",
    "    \"\"\"\n",
    "    Uses the cumulative sum array of explained variance \n",
    "    to interpret how many components are required to meet\n",
    "    a desired level of modeling variance \n",
    "    \n",
    "    Parameters\n",
    "    ----------\n",
    "    sum_explained : np.array()\n",
    "        uses the sum of all eigen values, takes\n",
    "        each individual eigenvalue and divides it by \n",
    "        a sorted list of eigenvalues to get an \n",
    "        array with explained variances, then takes\n",
    "        the cumulitive sum and returns an array \n",
    "\n",
    "    desired_var : int\n",
    "        the desired variance level which you would \n",
    "        like to have your model explain  \n",
    "    \"\"\"\n",
    "    pos = bisect_left(sum_explained, desired_var)\n",
    "    \n",
    "    return pos\n",
    "\n",
    "number_components(sum_explained, .95)"
   ]
  },
  {
   "cell_type": "markdown",
   "metadata": {},
   "source": [
    "Now, let's show graphically how each principal component contributes to explaining the variance."
   ]
  },
  {
   "cell_type": "code",
   "execution_count": 14,
   "metadata": {},
   "outputs": [
    {
     "data": {
      "image/png": "[encoded data removed]",
      "text/plain": [
       "<Figure size 432x288 with 1 Axes>"
      ]
     },
     "metadata": {
      "needs_background": "light"
     },
     "output_type": "display_data"
    }
   ],
   "source": [
    "#Cumulative explanation of the variance for the addition of each principal componenet\n",
    "plt.step(range(1, len(sum_explained)+1), sum_explained,\n",
    "where='mid', label=\"Explained Variance\")\n",
    "plt.ylabel(\"Explained Variance\")\n",
    "plt.xlabel(\"Principal Components\")\n",
    "plt.title(\"How each Principal Component explains the Variance\")\n",
    "plt.tight_layout()\n",
    "plt.show()"
   ]
  },
  {
   "cell_type": "markdown",
   "metadata": {},
   "source": [
    "We can see that, at the margin, each step explains less of the variance. \n",
    "\n",
    "For example, the addition of the first component explains about 15% of the variance. The addition of the last component adds only about 5%-points of explanation of the variance."
   ]
  },
  {
   "cell_type": "code",
   "execution_count": 15,
   "metadata": {},
   "outputs": [
    {
     "data": {
      "image/png": "[encoded data removed]",
      "text/plain": [
       "<Figure size 432x288 with 1 Axes>"
      ]
     },
     "metadata": {
      "needs_background": "light"
     },
     "output_type": "display_data"
    }
   ],
   "source": [
    "#Marginal explanation of the variance for the addition of each principal componenet\n",
    "plt.step(range(1, len(explained_var)+1), explained_var,\n",
    "where='mid', label=\"Marginal Explained Variance\")\n",
    "plt.ylabel(\"Marginal Explained Variance\")\n",
    "plt.xlabel(\"Principal Components\")\n",
    "plt.title(\"Marginal increase of explained variance by each component\")\n",
    "plt.tight_layout()\n",
    "plt.show()"
   ]
  },
  {
   "cell_type": "markdown",
   "metadata": {
    "tags": []
   },
   "source": [
    "#### 5. Application: Image recognition"
   ]
  },
  {
   "cell_type": "markdown",
   "metadata": {},
   "source": [
    "Let's test the ability of our function, given a set of principal components, of replicating the QuantEcon logo.\n",
    "\n",
    "First, we will download the packages and get the image from the web."
   ]
  },
  {
   "cell_type": "code",
   "execution_count": 16,
   "metadata": {},
   "outputs": [
    {
     "name": "stdout",
     "output_type": "stream",
     "text": [
      "(163, 310, 4)\n"
     ]
    },
    {
     "data": {
      "text/plain": [
       "<matplotlib.image.AxesImage at 0x7f2230e7ac40>"
      ]
     },
     "execution_count": 16,
     "metadata": {},
     "output_type": "execute_result"
    },
    {
     "data": {
      "image/png": "[encoded data removed]",
      "text/plain": [
       "<Figure size 432x288 with 1 Axes>"
      ]
     },
     "metadata": {
      "needs_background": "light"
     },
     "output_type": "display_data"
    }
   ],
   "source": [
    "import matplotlib.image as mpimg \n",
    "import matplotlib.pyplot as plt\n",
    "import numpy as np\n",
    "\n",
    "img = mpimg.imread('quantecon')\n",
    "print(img.shape)\n",
    "plt.imshow(img)"
   ]
  },
  {
   "cell_type": "markdown",
   "metadata": {},
   "source": [
    "Our image is in the form of 163 rows each containing 310 pixels which have 4 channels(RGB). We have to resize the image so that it is in the format required for PCA input. As 310*4=1240, we resize the image to (163, 1240).\n",
    "\n",
    "Let's use our algorithm (function of principal component analysis) to see how it fits the original image of the QuantEcon logo."
   ]
  },
  {
   "cell_type": "code",
   "execution_count": 24,
   "metadata": {},
   "outputs": [
    {
     "ename": "ValueError",
     "evalue": "cannot reshape array of size 978 into shape (163,1240,4)",
     "output_type": "error",
     "traceback": [
      "\u001b[0;31m---------------------------------------------------------------------------\u001b[0m",
      "\u001b[0;31mValueError\u001b[0m                                Traceback (most recent call last)",
      "\u001b[0;32m/tmp/ipykernel_501/1019574545.py\u001b[0m in \u001b[0;36m<module>\u001b[0;34m\u001b[0m\n\u001b[1;32m      2\u001b[0m \u001b[0mpca\u001b[0m \u001b[0;34m=\u001b[0m \u001b[0mprincipal_component_analysis\u001b[0m\u001b[0;34m(\u001b[0m\u001b[0mimg_r\u001b[0m\u001b[0;34m,\u001b[0m \u001b[0;36m6\u001b[0m\u001b[0;34m)\u001b[0m\u001b[0;34m\u001b[0m\u001b[0;34m\u001b[0m\u001b[0m\n\u001b[1;32m      3\u001b[0m \u001b[0;34m\u001b[0m\u001b[0m\n\u001b[0;32m----> 4\u001b[0;31m \u001b[0mpca\u001b[0m \u001b[0;34m=\u001b[0m \u001b[0mnp\u001b[0m\u001b[0;34m.\u001b[0m\u001b[0mreshape\u001b[0m\u001b[0;34m(\u001b[0m\u001b[0mpca\u001b[0m\u001b[0;34m,\u001b[0m \u001b[0;34m(\u001b[0m\u001b[0;36m163\u001b[0m\u001b[0;34m,\u001b[0m \u001b[0;36m310\u001b[0m\u001b[0;34m*\u001b[0m\u001b[0;36m4\u001b[0m \u001b[0;34m,\u001b[0m \u001b[0;36m4\u001b[0m\u001b[0;34m)\u001b[0m\u001b[0;34m)\u001b[0m\u001b[0;34m\u001b[0m\u001b[0;34m\u001b[0m\u001b[0m\n\u001b[0m\u001b[1;32m      5\u001b[0m \u001b[0mplt\u001b[0m\u001b[0;34m.\u001b[0m\u001b[0mimshow\u001b[0m\u001b[0;34m(\u001b[0m\u001b[0mpca\u001b[0m\u001b[0;34m)\u001b[0m\u001b[0;34m\u001b[0m\u001b[0;34m\u001b[0m\u001b[0m\n\u001b[1;32m      6\u001b[0m \u001b[0;34m\u001b[0m\u001b[0m\n",
      "\u001b[0;32m<__array_function__ internals>\u001b[0m in \u001b[0;36mreshape\u001b[0;34m(*args, **kwargs)\u001b[0m\n",
      "\u001b[0;32m/opt/conda/lib/python3.9/site-packages/numpy/core/fromnumeric.py\u001b[0m in \u001b[0;36mreshape\u001b[0;34m(a, newshape, order)\u001b[0m\n\u001b[1;32m    297\u001b[0m            [5, 6]])\n\u001b[1;32m    298\u001b[0m     \"\"\"\n\u001b[0;32m--> 299\u001b[0;31m     \u001b[0;32mreturn\u001b[0m \u001b[0m_wrapfunc\u001b[0m\u001b[0;34m(\u001b[0m\u001b[0ma\u001b[0m\u001b[0;34m,\u001b[0m \u001b[0;34m'reshape'\u001b[0m\u001b[0;34m,\u001b[0m \u001b[0mnewshape\u001b[0m\u001b[0;34m,\u001b[0m \u001b[0morder\u001b[0m\u001b[0;34m=\u001b[0m\u001b[0morder\u001b[0m\u001b[0;34m)\u001b[0m\u001b[0;34m\u001b[0m\u001b[0;34m\u001b[0m\u001b[0m\n\u001b[0m\u001b[1;32m    300\u001b[0m \u001b[0;34m\u001b[0m\u001b[0m\n\u001b[1;32m    301\u001b[0m \u001b[0;34m\u001b[0m\u001b[0m\n",
      "\u001b[0;32m/opt/conda/lib/python3.9/site-packages/numpy/core/fromnumeric.py\u001b[0m in \u001b[0;36m_wrapfunc\u001b[0;34m(obj, method, *args, **kwds)\u001b[0m\n\u001b[1;32m     56\u001b[0m \u001b[0;34m\u001b[0m\u001b[0m\n\u001b[1;32m     57\u001b[0m     \u001b[0;32mtry\u001b[0m\u001b[0;34m:\u001b[0m\u001b[0;34m\u001b[0m\u001b[0;34m\u001b[0m\u001b[0m\n\u001b[0;32m---> 58\u001b[0;31m         \u001b[0;32mreturn\u001b[0m \u001b[0mbound\u001b[0m\u001b[0;34m(\u001b[0m\u001b[0;34m*\u001b[0m\u001b[0margs\u001b[0m\u001b[0;34m,\u001b[0m \u001b[0;34m**\u001b[0m\u001b[0mkwds\u001b[0m\u001b[0;34m)\u001b[0m\u001b[0;34m\u001b[0m\u001b[0;34m\u001b[0m\u001b[0m\n\u001b[0m\u001b[1;32m     59\u001b[0m     \u001b[0;32mexcept\u001b[0m \u001b[0mTypeError\u001b[0m\u001b[0;34m:\u001b[0m\u001b[0;34m\u001b[0m\u001b[0;34m\u001b[0m\u001b[0m\n\u001b[1;32m     60\u001b[0m         \u001b[0;31m# A TypeError occurs if the object does have such a method in its\u001b[0m\u001b[0;34m\u001b[0m\u001b[0;34m\u001b[0m\u001b[0m\n",
      "\u001b[0;31mValueError\u001b[0m: cannot reshape array of size 978 into shape (163,1240,4)"
     ]
    }
   ],
   "source": [
    "##TODO: THIS IS STILL NEEDS TO BE WORKED ON\n",
    "\n",
    "img_r = np.reshape(img, (163, 310*4)) \n",
    "pca = principal_component_analysis(img_r, 6)\n",
    "img_transformed = pca.transform(img_r) \n",
    "temp = pca.inverse_transform(img_transformed) \n",
    "temp = np.reshape(temp, (163, 310 , 4)) \n",
    "plt.imshow(temp)\n",
    "\n",
    "\n",
    "#interact(\n",
    "#    image_recognition, \n",
    "#    Factors=FloatSlider(value=6, min=1, max=32, step=1),\n",
    "#)\n",
    "\n",
    "#Transform np array into sklearn.decomposition._pca.PCA"
   ]
  },
  {
   "cell_type": "markdown",
   "metadata": {},
   "source": [
    "Let's use a package to see how it fits the original image of the QuantEcon logo, to see if our function works as well as the package's."
   ]
  },
  {
   "cell_type": "code",
   "execution_count": 28,
   "metadata": {},
   "outputs": [
    {
     "data": {
      "application/vnd.jupyter.widget-view+json": {
       "model_id": "3961d25dbea146978ddfd681b9f444f0",
       "version_major": 2,
       "version_minor": 0
      },
      "text/plain": [
       "interactive(children=(FloatSlider(value=6.0, description='Factors', max=32.0, min=1.0, step=1.0), Output()), _…"
      ]
     },
     "metadata": {},
     "output_type": "display_data"
    },
    {
     "data": {
      "text/plain": [
       "<function __main__.image_recognition(Factors)>"
      ]
     },
     "execution_count": 28,
     "metadata": {},
     "output_type": "execute_result"
    }
   ],
   "source": [
    "from sklearn.decomposition import PCA\n",
    "from ipywidgets import interact, FloatSlider\n",
    "\n",
    "image = img\n",
    "\n",
    "def image_recognition(Factors):\n",
    "    img_r = np.reshape(image, (163, 310*4)) \n",
    "    pca = PCA(int(Factors)).fit(img_r) \n",
    "    img_transformed = pca.transform(img_r) \n",
    "    temp = pca.inverse_transform(img_transformed) \n",
    "    temp = np.reshape(temp, (163, 310 , 4)) \n",
    "    plt.imshow(temp)\n",
    "    \n",
    "interact(\n",
    "    image_recognition, \n",
    "    Factors=FloatSlider(value=6, min=1, max=32, step=1),\n",
    ")"
   ]
  },
  {
   "cell_type": "markdown",
   "metadata": {},
   "source": [
    "#### 6. References"
   ]
  },
  {
   "cell_type": "markdown",
   "metadata": {},
   "source": [
    "1. Towards Science: A One-Stop Shop for Principal Component Analysis (https://towardsdatascience.com/a-one-stop-shop-for-principal-component-analysis-5582fb7e0a9c).\n",
    "\n",
    "2. In Depth: Principal Component Analysis (https://jakevdp.github.io/PythonDataScienceHandbook/05.09-principal-component-analysis.html).\n",
    "\n",
    "3. Advanced Data Analysis from an Elementary Point of View (https://www.stat.cmu.edu/~cshalizi/uADA/15/lectures/17.pdf).\n",
    "\n",
    "4. Applications of Principal Component Analysis (PCA) (https://iq.opengenus.org/applications-of-pca/)."
   ]
  }
 ],
 "metadata": {
  "interpreter": {
   "hash": "167380c844cb8dab65f7a2242fcdd292fd16a45a4bab8a9de8ac74aeee39fadd"
  },
  "kernelspec": {
   "display_name": "Python 3 (ipykernel)",
   "language": "python",
   "name": "python3"
  },
  "language_info": {
   "codemirror_mode": {
    "name": "ipython",
    "version": 3
   },
   "file_extension": ".py",
   "mimetype": "text/x-python",
   "name": "python",
   "nbconvert_exporter": "python",
   "pygments_lexer": "ipython3",
   "version": "3.9.7"
  }
 },
 "nbformat": 4,
 "nbformat_minor": 4
}
